{
  "nbformat": 4,
  "nbformat_minor": 0,
  "metadata": {
    "colab": {
      "name": "spell_checker_NLP.ipynb",
      "provenance": [],
      "authorship_tag": "ABX9TyM2euEuXMgbmUY4qlNRBr3/",
      "include_colab_link": true
    },
    "kernelspec": {
      "name": "python3",
      "display_name": "Python 3"
    },
    "language_info": {
      "name": "python"
    }
  },
  "cells": [
    {
      "cell_type": "markdown",
      "metadata": {
        "id": "view-in-github",
        "colab_type": "text"
      },
      "source": [
        "<a href=\"https://colab.research.google.com/github/natelson/python/blob/main/machine_learning/spell_checker_NLP.ipynb\" target=\"_parent\"><img src=\"https://colab.research.google.com/assets/colab-badge.svg\" alt=\"Open In Colab\"/></a>"
      ]
    },
    {
      "cell_type": "code",
      "source": [
        "import nltk\n",
        "nltk.download('punkt')"
      ],
      "metadata": {
        "colab": {
          "base_uri": "https://localhost:8080/"
        },
        "id": "zxK1H-Flv2bi",
        "outputId": "aac22d21-a199-4b06-8258-0c539f8e1344"
      },
      "execution_count": null,
      "outputs": [
        {
          "output_type": "stream",
          "name": "stdout",
          "text": [
            "[nltk_data] Downloading package punkt to /root/nltk_data...\n",
            "[nltk_data]   Package punkt is already up-to-date!\n"
          ]
        },
        {
          "output_type": "execute_result",
          "data": {
            "text/plain": [
              "True"
            ]
          },
          "metadata": {},
          "execution_count": 305
        }
      ]
    },
    {
      "cell_type": "code",
      "execution_count": null,
      "metadata": {
        "id": "NczY2xjiIB0i"
      },
      "outputs": [],
      "source": [
        "with open('data/artigos.txt', 'r') as f:\n",
        "  artigos = f.read()\n",
        "\n"
      ]
    },
    {
      "cell_type": "code",
      "source": [
        "def choose_only_words(token_list):\n",
        "  token_words = []\n",
        "  for token in token_list:\n",
        "    if token.isalpha():\n",
        "      token_words.append(token)\n",
        "\n",
        "  return token_words"
      ],
      "metadata": {
        "id": "sLIsdYj7r23X"
      },
      "execution_count": null,
      "outputs": []
    },
    {
      "cell_type": "code",
      "source": [
        ""
      ],
      "metadata": {
        "id": "97c4yZEc1JBC"
      },
      "execution_count": null,
      "outputs": []
    },
    {
      "cell_type": "code",
      "source": [
        "tokens = nltk.tokenize.word_tokenize(artigos, language='portuguese')\n",
        "tokens_only_words = choose_only_words(tokens)\n",
        "print(f'Size of tokens before only_words : {len(tokens)}')\n",
        "print(f'Size of tokens after only_words : {len(tokens_only_words)}')\n",
        "\n"
      ],
      "metadata": {
        "id": "OaFxOEyOLxIX",
        "colab": {
          "base_uri": "https://localhost:8080/"
        },
        "outputId": "b6379b3f-6f1c-492d-ce97-8c48ae6a2f5e"
      },
      "execution_count": null,
      "outputs": [
        {
          "output_type": "stream",
          "name": "stdout",
          "text": [
            "Size of tokens before only_words : 385118\n",
            "Size of tokens after only_words : 309106\n"
          ]
        }
      ]
    },
    {
      "cell_type": "markdown",
      "source": [
        "#How many words are in my corpus list?"
      ],
      "metadata": {
        "id": "lVFGZ-8C3d0b"
      }
    },
    {
      "cell_type": "markdown",
      "source": [
        "\n",
        "\n",
        "1.  First step, normalize words\n"
      ],
      "metadata": {
        "id": "L0F4agvF-zuF"
      }
    },
    {
      "cell_type": "code",
      "source": [
        "def normalize_token(token_list : list):\n",
        "  for index in range(len(token_list)):\n",
        "    token_list[index] = str(token_list[index]).lower()\n",
        "  \n",
        "  return token_list\n"
      ],
      "metadata": {
        "id": "wzU2bWRg1Uk4"
      },
      "execution_count": null,
      "outputs": []
    },
    {
      "cell_type": "code",
      "source": [
        "tokens_only_words = normalize_token(tokens_only_words)"
      ],
      "metadata": {
        "id": "1vTv2AJi3q7e"
      },
      "execution_count": null,
      "outputs": []
    },
    {
      "cell_type": "code",
      "source": [
        "print(tokens_only_words[:50])"
      ],
      "metadata": {
        "colab": {
          "base_uri": "https://localhost:8080/"
        },
        "id": "mhwAkAh__997",
        "outputId": "46bd72ec-9c76-4fb6-d28d-939ecfb66e20"
      },
      "execution_count": null,
      "outputs": [
        {
          "output_type": "stream",
          "name": "stdout",
          "text": [
            "['imagem', 'temos', 'a', 'seguinte', 'classe', 'que', 'representa', 'um', 'usuário', 'no', 'nosso', 'sistema', 'java', 'para', 'salvar', 'um', 'novo', 'usuário', 'várias', 'validações', 'são', 'feitas', 'como', 'por', 'exemplo', 'ver', 'se', 'o', 'nome', 'só', 'contém', 'letras', 'cpf', 'só', 'e', 'ver', 'se', 'o', 'usuário', 'possui', 'no', 'mínimo', 'anos', 'veja', 'o', 'método', 'que', 'faz', 'essa', 'validação']\n"
          ]
        }
      ]
    },
    {
      "cell_type": "markdown",
      "source": [
        "\n",
        "2.   Step 2, remove duplicate words\n",
        "\n"
      ],
      "metadata": {
        "id": "msK_x6nqCOWF"
      }
    },
    {
      "cell_type": "code",
      "source": [
        "tokens_only_words_unique = set(tokens_only_words)"
      ],
      "metadata": {
        "id": "5toLT_1WBkyy"
      },
      "execution_count": null,
      "outputs": []
    },
    {
      "cell_type": "code",
      "source": [
        ""
      ],
      "metadata": {
        "id": "GJM1NrAjCoee"
      },
      "execution_count": null,
      "outputs": []
    },
    {
      "cell_type": "code",
      "source": [
        "print(f'Size of tokens after normalize and remove duplicates : {len(tokens_only_words_unique)}')"
      ],
      "metadata": {
        "colab": {
          "base_uri": "https://localhost:8080/"
        },
        "id": "UymttWVWCr1r",
        "outputId": "9277f190-023f-42f5-ade4-9b2e6a4ddda5"
      },
      "execution_count": null,
      "outputs": [
        {
          "output_type": "stream",
          "name": "stdout",
          "text": [
            "Size of tokens after normalize and remove duplicates : 15706\n"
          ]
        }
      ]
    },
    {
      "cell_type": "markdown",
      "source": [
        ""
      ],
      "metadata": {
        "id": "PxUZAV2UXHIZ"
      }
    },
    {
      "cell_type": "code",
      "source": [
        "def word_variations(word_base :str):\n",
        "  list_tuples_word = []\n",
        "  for i in range(len(word_base) +1):\n",
        "    list_tuples_word.append((word_base[:i], word_base[i:]))\n",
        "  \n",
        "  word_variotions_list =  concatenate_letter_with_tuple_list(list_tuples_word)\n",
        "  word_variotions_list +=  remove_letter_with_tuple_list(list_tuples_word)\n",
        "  word_variotions_list +=  change_letter_with_tuple_list(list_tuples_word)\n",
        "  word_variotions_list +=  reverse_letter_with_tuple_list(list_tuples_word)\n",
        "  return word_variotions_list\n"
      ],
      "metadata": {
        "id": "tt_bY1B1C2cj"
      },
      "execution_count": null,
      "outputs": []
    },
    {
      "cell_type": "code",
      "source": [
        "def concatenate_letter_with_tuple_list(list_tuples_word :list):\n",
        "  new_words = []\n",
        "  letters = 'abcdefghijklmnopqrstuvwxyzàáâãèéêìíîòóôõùúûç'\n",
        "  for right, left in list_tuples_word:\n",
        "    for letter in letters:\n",
        "      new_words.append(right + letter + left)\n",
        "\n",
        "  return new_words\n",
        "  \n",
        "\n",
        "\n",
        "\n"
      ],
      "metadata": {
        "id": "6m0vi4NqIgqu"
      },
      "execution_count": null,
      "outputs": []
    },
    {
      "cell_type": "code",
      "source": [
        "def change_letter_with_tuple_list(list_tuples_word :list):\n",
        "  new_words = []\n",
        "  letters = 'abcdefghijklmnopqrstuvwxyzàáâãèéêìíîòóôõùúûç'\n",
        "  for right, left in list_tuples_word:\n",
        "    for letter in letters:\n",
        "      new_words.append(right + letter + left[1:])\n",
        "\n",
        "  return new_words"
      ],
      "metadata": {
        "id": "0x-FaPXAE8Bz"
      },
      "execution_count": null,
      "outputs": []
    },
    {
      "cell_type": "code",
      "source": [
        "def remove_letter_with_tuple_list(list_tuples_word :list):\n",
        "  new_words = []\n",
        "  for right, left in list_tuples_word:\n",
        "      new_words.append(right + left[1:])\n",
        "\n",
        "  return new_words"
      ],
      "metadata": {
        "id": "fRGUsvZ17QDo"
      },
      "execution_count": null,
      "outputs": []
    },
    {
      "cell_type": "code",
      "source": [
        "def reverse_letter_with_tuple_list(list_tuples_word :list):\n",
        "  new_words = []\n",
        "  for right, left in list_tuples_word:\n",
        "      if len(left) > 1:\n",
        "        new_words.append(right + left[1]+ left[0] + left[2:])\n",
        "\n",
        "  return new_words"
      ],
      "metadata": {
        "id": "f2EFUHRkJ_hu"
      },
      "execution_count": null,
      "outputs": []
    },
    {
      "cell_type": "code",
      "source": [
        "word_variations_list = word_variations('ólgica')\n",
        "print(word_variations_list)\n"
      ],
      "metadata": {
        "colab": {
          "base_uri": "https://localhost:8080/"
        },
        "id": "utM2oUdBIeWg",
        "outputId": "b65649e8-2908-4540-a6c6-19c24d169191"
      },
      "execution_count": null,
      "outputs": [
        {
          "output_type": "stream",
          "name": "stdout",
          "text": [
            "['aólgica', 'bólgica', 'cólgica', 'dólgica', 'eólgica', 'fólgica', 'gólgica', 'hólgica', 'iólgica', 'jólgica', 'kólgica', 'lólgica', 'mólgica', 'nólgica', 'oólgica', 'pólgica', 'qólgica', 'rólgica', 'sólgica', 'tólgica', 'uólgica', 'vólgica', 'wólgica', 'xólgica', 'yólgica', 'zólgica', 'àólgica', 'áólgica', 'âólgica', 'ãólgica', 'èólgica', 'éólgica', 'êólgica', 'ìólgica', 'íólgica', 'îólgica', 'òólgica', 'óólgica', 'ôólgica', 'õólgica', 'ùólgica', 'úólgica', 'ûólgica', 'çólgica', 'óalgica', 'óblgica', 'óclgica', 'ódlgica', 'óelgica', 'óflgica', 'óglgica', 'óhlgica', 'óilgica', 'ójlgica', 'óklgica', 'óllgica', 'ómlgica', 'ónlgica', 'óolgica', 'óplgica', 'óqlgica', 'órlgica', 'óslgica', 'ótlgica', 'óulgica', 'óvlgica', 'ówlgica', 'óxlgica', 'óylgica', 'ózlgica', 'óàlgica', 'óálgica', 'óâlgica', 'óãlgica', 'óèlgica', 'óélgica', 'óêlgica', 'óìlgica', 'óílgica', 'óîlgica', 'óòlgica', 'óólgica', 'óôlgica', 'óõlgica', 'óùlgica', 'óúlgica', 'óûlgica', 'óçlgica', 'ólagica', 'ólbgica', 'ólcgica', 'óldgica', 'ólegica', 'ólfgica', 'ólggica', 'ólhgica', 'óligica', 'óljgica', 'ólkgica', 'óllgica', 'ólmgica', 'ólngica', 'ólogica', 'ólpgica', 'ólqgica', 'ólrgica', 'ólsgica', 'óltgica', 'ólugica', 'ólvgica', 'ólwgica', 'ólxgica', 'ólygica', 'ólzgica', 'ólàgica', 'ólágica', 'ólâgica', 'ólãgica', 'ólègica', 'ólégica', 'ólêgica', 'ólìgica', 'ólígica', 'ólîgica', 'ólògica', 'ólógica', 'ólôgica', 'ólõgica', 'ólùgica', 'ólúgica', 'ólûgica', 'ólçgica', 'ólgaica', 'ólgbica', 'ólgcica', 'ólgdica', 'ólgeica', 'ólgfica', 'ólggica', 'ólghica', 'ólgiica', 'ólgjica', 'ólgkica', 'ólglica', 'ólgmica', 'ólgnica', 'ólgoica', 'ólgpica', 'ólgqica', 'ólgrica', 'ólgsica', 'ólgtica', 'ólguica', 'ólgvica', 'ólgwica', 'ólgxica', 'ólgyica', 'ólgzica', 'ólgàica', 'ólgáica', 'ólgâica', 'ólgãica', 'ólgèica', 'ólgéica', 'ólgêica', 'ólgìica', 'ólgíica', 'ólgîica', 'ólgòica', 'ólgóica', 'ólgôica', 'ólgõica', 'ólgùica', 'ólgúica', 'ólgûica', 'ólgçica', 'ólgiaca', 'ólgibca', 'ólgicca', 'ólgidca', 'ólgieca', 'ólgifca', 'ólgigca', 'ólgihca', 'ólgiica', 'ólgijca', 'ólgikca', 'ólgilca', 'ólgimca', 'ólginca', 'ólgioca', 'ólgipca', 'ólgiqca', 'ólgirca', 'ólgisca', 'ólgitca', 'ólgiuca', 'ólgivca', 'ólgiwca', 'ólgixca', 'ólgiyca', 'ólgizca', 'ólgiàca', 'ólgiáca', 'ólgiâca', 'ólgiãca', 'ólgièca', 'ólgiéca', 'ólgiêca', 'ólgiìca', 'ólgiíca', 'ólgiîca', 'ólgiòca', 'ólgióca', 'ólgiôca', 'ólgiõca', 'ólgiùca', 'ólgiúca', 'ólgiûca', 'ólgiçca', 'ólgicaa', 'ólgicba', 'ólgicca', 'ólgicda', 'ólgicea', 'ólgicfa', 'ólgicga', 'ólgicha', 'ólgicia', 'ólgicja', 'ólgicka', 'ólgicla', 'ólgicma', 'ólgicna', 'ólgicoa', 'ólgicpa', 'ólgicqa', 'ólgicra', 'ólgicsa', 'ólgicta', 'ólgicua', 'ólgicva', 'ólgicwa', 'ólgicxa', 'ólgicya', 'ólgicza', 'ólgicàa', 'ólgicáa', 'ólgicâa', 'ólgicãa', 'ólgicèa', 'ólgicéa', 'ólgicêa', 'ólgicìa', 'ólgicía', 'ólgicîa', 'ólgicòa', 'ólgicóa', 'ólgicôa', 'ólgicõa', 'ólgicùa', 'ólgicúa', 'ólgicûa', 'ólgicça', 'ólgicaa', 'ólgicab', 'ólgicac', 'ólgicad', 'ólgicae', 'ólgicaf', 'ólgicag', 'ólgicah', 'ólgicai', 'ólgicaj', 'ólgicak', 'ólgical', 'ólgicam', 'ólgican', 'ólgicao', 'ólgicap', 'ólgicaq', 'ólgicar', 'ólgicas', 'ólgicat', 'ólgicau', 'ólgicav', 'ólgicaw', 'ólgicax', 'ólgicay', 'ólgicaz', 'ólgicaà', 'ólgicaá', 'ólgicaâ', 'ólgicaã', 'ólgicaè', 'ólgicaé', 'ólgicaê', 'ólgicaì', 'ólgicaí', 'ólgicaî', 'ólgicaò', 'ólgicaó', 'ólgicaô', 'ólgicaõ', 'ólgicaù', 'ólgicaú', 'ólgicaû', 'ólgicaç', 'lgica', 'ógica', 'ólica', 'ólgca', 'ólgia', 'ólgic', 'ólgica', 'algica', 'blgica', 'clgica', 'dlgica', 'elgica', 'flgica', 'glgica', 'hlgica', 'ilgica', 'jlgica', 'klgica', 'llgica', 'mlgica', 'nlgica', 'olgica', 'plgica', 'qlgica', 'rlgica', 'slgica', 'tlgica', 'ulgica', 'vlgica', 'wlgica', 'xlgica', 'ylgica', 'zlgica', 'àlgica', 'álgica', 'âlgica', 'ãlgica', 'èlgica', 'élgica', 'êlgica', 'ìlgica', 'ílgica', 'îlgica', 'òlgica', 'ólgica', 'ôlgica', 'õlgica', 'ùlgica', 'úlgica', 'ûlgica', 'çlgica', 'óagica', 'óbgica', 'ócgica', 'ódgica', 'óegica', 'ófgica', 'óggica', 'óhgica', 'óigica', 'ójgica', 'ókgica', 'ólgica', 'ómgica', 'óngica', 'óogica', 'ópgica', 'óqgica', 'órgica', 'ósgica', 'ótgica', 'óugica', 'óvgica', 'ówgica', 'óxgica', 'óygica', 'ózgica', 'óàgica', 'óágica', 'óâgica', 'óãgica', 'óègica', 'óégica', 'óêgica', 'óìgica', 'óígica', 'óîgica', 'óògica', 'óógica', 'óôgica', 'óõgica', 'óùgica', 'óúgica', 'óûgica', 'óçgica', 'ólaica', 'ólbica', 'ólcica', 'óldica', 'óleica', 'ólfica', 'ólgica', 'ólhica', 'óliica', 'óljica', 'ólkica', 'óllica', 'ólmica', 'ólnica', 'óloica', 'ólpica', 'ólqica', 'ólrica', 'ólsica', 'óltica', 'óluica', 'ólvica', 'ólwica', 'ólxica', 'ólyica', 'ólzica', 'ólàica', 'óláica', 'ólâica', 'ólãica', 'ólèica', 'óléica', 'ólêica', 'ólìica', 'ólíica', 'ólîica', 'ólòica', 'ólóica', 'ólôica', 'ólõica', 'ólùica', 'ólúica', 'ólûica', 'ólçica', 'ólgaca', 'ólgbca', 'ólgcca', 'ólgdca', 'ólgeca', 'ólgfca', 'ólggca', 'ólghca', 'ólgica', 'ólgjca', 'ólgkca', 'ólglca', 'ólgmca', 'ólgnca', 'ólgoca', 'ólgpca', 'ólgqca', 'ólgrca', 'ólgsca', 'ólgtca', 'ólguca', 'ólgvca', 'ólgwca', 'ólgxca', 'ólgyca', 'ólgzca', 'ólgàca', 'ólgáca', 'ólgâca', 'ólgãca', 'ólgèca', 'ólgéca', 'ólgêca', 'ólgìca', 'ólgíca', 'ólgîca', 'ólgòca', 'ólgóca', 'ólgôca', 'ólgõca', 'ólgùca', 'ólgúca', 'ólgûca', 'ólgçca', 'ólgiaa', 'ólgiba', 'ólgica', 'ólgida', 'ólgiea', 'ólgifa', 'ólgiga', 'ólgiha', 'ólgiia', 'ólgija', 'ólgika', 'ólgila', 'ólgima', 'ólgina', 'ólgioa', 'ólgipa', 'ólgiqa', 'ólgira', 'ólgisa', 'ólgita', 'ólgiua', 'ólgiva', 'ólgiwa', 'ólgixa', 'ólgiya', 'ólgiza', 'ólgiàa', 'ólgiáa', 'ólgiâa', 'ólgiãa', 'ólgièa', 'ólgiéa', 'ólgiêa', 'ólgiìa', 'ólgiía', 'ólgiîa', 'ólgiòa', 'ólgióa', 'ólgiôa', 'ólgiõa', 'ólgiùa', 'ólgiúa', 'ólgiûa', 'ólgiça', 'ólgica', 'ólgicb', 'ólgicc', 'ólgicd', 'ólgice', 'ólgicf', 'ólgicg', 'ólgich', 'ólgici', 'ólgicj', 'ólgick', 'ólgicl', 'ólgicm', 'ólgicn', 'ólgico', 'ólgicp', 'ólgicq', 'ólgicr', 'ólgics', 'ólgict', 'ólgicu', 'ólgicv', 'ólgicw', 'ólgicx', 'ólgicy', 'ólgicz', 'ólgicà', 'ólgicá', 'ólgicâ', 'ólgicã', 'ólgicè', 'ólgicé', 'ólgicê', 'ólgicì', 'ólgicí', 'ólgicî', 'ólgicò', 'ólgicó', 'ólgicô', 'ólgicõ', 'ólgicù', 'ólgicú', 'ólgicû', 'ólgicç', 'ólgicaa', 'ólgicab', 'ólgicac', 'ólgicad', 'ólgicae', 'ólgicaf', 'ólgicag', 'ólgicah', 'ólgicai', 'ólgicaj', 'ólgicak', 'ólgical', 'ólgicam', 'ólgican', 'ólgicao', 'ólgicap', 'ólgicaq', 'ólgicar', 'ólgicas', 'ólgicat', 'ólgicau', 'ólgicav', 'ólgicaw', 'ólgicax', 'ólgicay', 'ólgicaz', 'ólgicaà', 'ólgicaá', 'ólgicaâ', 'ólgicaã', 'ólgicaè', 'ólgicaé', 'ólgicaê', 'ólgicaì', 'ólgicaí', 'ólgicaî', 'ólgicaò', 'ólgicaó', 'ólgicaô', 'ólgicaõ', 'ólgicaù', 'ólgicaú', 'ólgicaû', 'ólgicaç', 'lógica', 'óglica', 'óligca', 'ólgcia', 'ólgiac']\n"
          ]
        }
      ]
    },
    {
      "cell_type": "code",
      "source": [
        "def list_frequency_words(word_list):\n",
        "  return nltk.FreqDist(word_list)"
      ],
      "metadata": {
        "id": "3JiY39loHSzt"
      },
      "execution_count": null,
      "outputs": []
    },
    {
      "cell_type": "code",
      "source": [
        ""
      ],
      "metadata": {
        "id": "-SAP71nPPKIl"
      },
      "execution_count": null,
      "outputs": []
    },
    {
      "cell_type": "code",
      "source": [
        "words_frequency = list_frequency_words(tokens_only_words)\n",
        "print(words_frequency[\"lógica\"])\n",
        "total_words = len(tokens_only_words)"
      ],
      "metadata": {
        "colab": {
          "base_uri": "https://localhost:8080/"
        },
        "id": "OtGqYj7HJerd",
        "outputId": "197d3cc2-2b2f-40b8-f008-3b36b305b4b9"
      },
      "execution_count": null,
      "outputs": [
        {
          "output_type": "stream",
          "name": "stdout",
          "text": [
            "77\n"
          ]
        }
      ]
    },
    {
      "cell_type": "code",
      "source": [
        "def word_max_probability(word :str):\n",
        "  word_frequency = words_frequency[word]/total_words\n",
        "  return word_frequency\n"
      ],
      "metadata": {
        "id": "HPcEbk2GHSOW"
      },
      "execution_count": null,
      "outputs": []
    },
    {
      "cell_type": "code",
      "source": [
        "def spell_checker(word :str):\n",
        "  word_variations_list = word_variations(word)\n",
        "  word_correct = max(word_variations_list, key=word_max_probability)\n",
        "  return word_correct\n"
      ],
      "metadata": {
        "id": "YCRP5nr_Kuzq"
      },
      "execution_count": null,
      "outputs": []
    },
    {
      "cell_type": "code",
      "source": [
        "print(f'Você quis dizer {spell_checker(\"llógica\")} ?')"
      ],
      "metadata": {
        "colab": {
          "base_uri": "https://localhost:8080/"
        },
        "id": "aIMPuJ9aPfOv",
        "outputId": "9e813c30-764a-474b-e7ec-ce9668c95d97"
      },
      "execution_count": null,
      "outputs": [
        {
          "output_type": "stream",
          "name": "stdout",
          "text": [
            "Você quis dizer lógica ?\n"
          ]
        }
      ]
    },
    {
      "cell_type": "code",
      "source": [
        "def generate_test_base():\n",
        "  list_words_test = []\n",
        "  with open('data/palavras.txt', 'r') as f:\n",
        "    for line in f:\n",
        "      word_right, word_wrong = line.split()\n",
        "      list_words_test.append((word_right, word_wrong))\n",
        "\n",
        "  return list_words_test"
      ],
      "metadata": {
        "id": "Xd8fFwZiPrvu"
      },
      "execution_count": null,
      "outputs": []
    },
    {
      "cell_type": "code",
      "source": [
        "print(generate_test_base())"
      ],
      "metadata": {
        "colab": {
          "base_uri": "https://localhost:8080/"
        },
        "id": "QEoy2aw5e35Q",
        "outputId": "6bcebecc-b5b1-4979-8eab-b795bd75f5df"
      },
      "execution_count": null,
      "outputs": [
        {
          "output_type": "stream",
          "name": "stdout",
          "text": [
            "[('podemos', 'pyodemos'), ('esse', 'esje'), ('já', 'jrá'), ('nosso', 'nossov'), ('são', 'sãêo'), ('dos', 'dosa'), ('muito', 'muifo'), ('imagem', 'iômagem'), ('sua', 'ósua'), ('também', 'tambéùm'), ('ele', 'eme'), ('fazer', 'èazer'), ('temos', 'temfs'), ('essa', 'eàssa'), ('quando', 'quaôdo'), ('vamos', 'vamvos'), ('sobre', 'hsobre'), ('java', 'sjava'), ('das', 'daõs'), ('agora', 'agorah'), ('está', 'eòtá'), ('cada', 'céda'), ('mesmo', 'zmesmo'), ('nos', 'noâ'), ('forma', 'fobma'), ('seja', 'sejéa'), ('então', 'enêão'), ('criar', 'èriar'), ('código', 'cóeigo'), ('caso', 'casío'), ('exemplo', 'áexemplo'), ('tem', 'tĩem'), ('usuário', 'usuárôio'), ('dados', 'dfados'), ('python', 'pgthon'), ('nossa', 'nossah'), ('além', 'alémè'), ('assim', 'asõim'), ('ter', 'teb'), ('até', 'atĩ'), ('bem', 'âem'), ('design', 'desigen'), ('trabalho', 'trabalàho'), ('foi', 'foo'), ('apenas', 'apenaũ'), ('empresa', 'empresà'), ('valor', 'valíor'), ('será', 'serr'), ('entre', 'entke'), ('método', 'méqodo'), ('precisamos', 'precisamops'), ('ainda', 'ainàa'), ('vai', 'van'), ('conteúdo', 'ûconteúdo'), ('seus', 'çeus'), ('eu', 'eû'), ('todos', 'todtos'), ('tempo', 'temeo'), ('sempre', 'semre'), ('qual', 'quakl'), ('ela', 'elaá'), ('só', 'síó'), ('utilizar', 'utiqizar'), ('projeto', 'prhojeto'), ('site', 'siàe'), ('sem', 'seém'), ('pelo', 'peln'), ('alura', 'aléra'), ('dia', 'tdia'), ('tudo', 'tuúo'), ('podemos', 'kpodemos'), ('esse', 'eẽsse'), ('já', 'jé'), ('nosso', 'nçosso'), ('são', 'sãô'), ('dos', 'odos'), ('muito', 'tuito'), ('imagem', 'imõgem'), ('sua', 'siua'), ('também', 'tamvbém'), ('ele', 'elpe'), ('fazer', 'façzer'), ('temos', 'teos'), ('essa', 'eũsa'), ('quando', 'quaìdo'), ('vamos', 'vjmos'), ('sobre', 'sxobre'), ('java', 'jkva'), ('das', 'dms'), ('agora', 'agtora'), ('está', 'esútá'), ('cada', 'cava'), ('mesmo', 'medmo'), ('nos', 'ános'), ('forma', 'forûa'), ('seja', 'smeja'), ('então', 'enjtão'), ('criar', 'criôar'), ('código', 'cóàigo'), ('caso', 'èaso'), ('exemplo', 'exbemplo'), ('tem', 'túem'), ('usuário', 'usuárin'), ('dados', 'daáos'), ('python', 'pythoçn'), ('nossa', 'nossk'), ('além', 'âlém'), ('assim', 'aóssim'), ('ter', 'tãer'), ('até', 'vté'), ('bem', 'búm'), ('design', 'íesign'), ('trabalho', 'trabèalho'), ('foi', 'kfoi'), ('apenas', 'aapenas'), ('empresa', 'pmpresa'), ('valor', 'valoqr'), ('será', 'sçerá'), ('entre', 'entró'), ('método', 'nétodo'), ('precisamos', 'prefcisamos'), ('ainda', 'sainda'), ('vai', 'uai'), ('conteúdo', 'cĩonteúdo'), ('seus', 'sâus'), ('eu', 'ìeu'), ('todos', 'todás'), ('tempo', 'utempo'), ('sempre', 'sempce'), ('qual', 'fual'), ('ela', 'elal'), ('só', 'skó'), ('utilizar', 'utilĩzar'), ('projeto', 'proójeto'), ('site', 'isite'), ('sem', 'secm'), ('pelo', 'pẽlo'), ('alura', 'aluéa'), ('dia', 'dil'), ('tudo', 'tudy'), ('ela', 'qelay'), ('só', 'sód'), ('utilizar', 'dtilizacr'), ('projeto', 'bprojõto'), ('site', 'ysiteo'), ('sem', 'sõêm'), ('pelo', 'peàli'), ('alura', 'asuraó'), ('dia', 'deiìa'), ('tudo', 'tuĩdoì'), ('ela', 'eúaa'), ('só', 'ró'), ('utilizar', 'utilizẽaçr'), ('projeto', 'prêjetó'), ('site', 'sqiqte'), ('sem', 'sũexm'), ('pelo', 'pçlxo'), ('alura', 'uluraa'), ('dia', 'dĩaz'), ('tudo', 'kzudo'), ('corretor', 'correptor'), ('tática', 'trtica'), ('empoderamento', 'ewpoderamento'), ('linux', 'lifux'), ('cachorro', 'cachoçro'), ('gato', 'îgato'), ('cavalo', 'cakvalo'), ('relógio', 'relógiuo'), ('canela', 'canelac'), ('tênis', 'tênisy'), ('ansiosa', 'anciosa'), ('ansiosa', 'ancciosa'), ('ansiosa', 'ansioa'), ('empoderamento', 'empoderamento'), ('asterisco', 'asterístico'), ('gratuito', 'gratuíto'), ('entretido', 'entertido'), ('ritmo', 'ritimo'), ('idiota', 'indiota'), ('tomara', 'tomare'), ('seja', 'seje'), ('prevalecer', 'provalecer'), ('esteja', 'esteje'), ('mendigo', 'mindigo'), ('cérebro', 'célebro'), ('perturbar', 'pertubar')]\n"
          ]
        }
      ]
    },
    {
      "cell_type": "code",
      "source": [
        "def spell_checker_correct_percentage(test_base):\n",
        "  correct_answears = 0\n",
        "  for word_right, word_wrong in test_base:\n",
        "    word_test = spell_checker(word_wrong)\n",
        "    if word_test == word_right:\n",
        "      correct_answears += 1\n",
        "  \n",
        "  percentual = (correct_answears/len(test_base)) * 100\n",
        "\n",
        "  return round(percentual,2)\n",
        "\n",
        "\n"
      ],
      "metadata": {
        "id": "rQNSGBZXe7GB"
      },
      "execution_count": null,
      "outputs": []
    },
    {
      "cell_type": "code",
      "source": [
        "test_base = generate_test_base()\n",
        "vocabulary = list(set(tokens_only_words_unique))"
      ],
      "metadata": {
        "id": "Vnj391jH0HVl"
      },
      "execution_count": null,
      "outputs": []
    },
    {
      "cell_type": "code",
      "source": [
        "print(f'Accuracity of {spell_checker_correct_percentage(test_base)}%')"
      ],
      "metadata": {
        "colab": {
          "base_uri": "https://localhost:8080/"
        },
        "id": "vFuHt3h21ycV",
        "outputId": "954985c8-7a93-4cfd-88ff-600531793b2e"
      },
      "execution_count": null,
      "outputs": [
        {
          "output_type": "stream",
          "name": "stdout",
          "text": [
            "Accuracity of 76.34%\n"
          ]
        }
      ]
    },
    {
      "cell_type": "code",
      "source": [
        "def spell_checker_correct_percentage(test_base, vocabulary):\n",
        "  correct_answears = 0\n",
        "  unknown_vocabulary = 0\n",
        "  for word_right, word_wrong in test_base:\n",
        "    word_test = spell_checker(word_wrong)\n",
        "    unknown_vocabulary += (word_right not in vocabulary)\n",
        "    if word_test == word_right:\n",
        "      correct_answears += 1\n",
        "    \n",
        "      \n",
        "  \n",
        "  percentual = (correct_answears/len(test_base)) * 100\n",
        "  unknown_percentual =  (unknown_vocabulary/len(test_base)) * 100\n",
        "\n",
        "  return round(percentual,2), round(unknown_percentual,2)\n"
      ],
      "metadata": {
        "id": "UWtjRS442G8V"
      },
      "execution_count": null,
      "outputs": []
    },
    {
      "cell_type": "code",
      "source": [
        "percentual, unknown_percentual = spell_checker_correct_percentage(test_base, vocabulary)"
      ],
      "metadata": {
        "id": "Bo3Hfo0AVoSr"
      },
      "execution_count": null,
      "outputs": []
    },
    {
      "cell_type": "code",
      "source": [
        "print(f'Accuracity of {percentual}% and unknow of {unknown_percentual}%' )"
      ],
      "metadata": {
        "colab": {
          "base_uri": "https://localhost:8080/"
        },
        "id": "TlspzS64WphS",
        "outputId": "980cca7d-70ec-4b6f-de1e-8d41b0e203a2"
      },
      "execution_count": null,
      "outputs": [
        {
          "output_type": "stream",
          "name": "stdout",
          "text": [
            "Accuracity of 76.34% and unknow of 7.53%\n"
          ]
        }
      ]
    },
    {
      "cell_type": "code",
      "source": [
        "\n"
      ],
      "metadata": {
        "id": "L4pbcu4WWzkq"
      },
      "execution_count": null,
      "outputs": []
    },
    {
      "cell_type": "code",
      "source": [
        ""
      ],
      "metadata": {
        "id": "UBmTCLHmr9yu"
      },
      "execution_count": null,
      "outputs": []
    }
  ]
}