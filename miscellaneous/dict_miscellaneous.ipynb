{
  "nbformat": 4,
  "nbformat_minor": 0,
  "metadata": {
    "colab": {
      "name": "dict_miscellaneous.ipynb",
      "provenance": [],
      "authorship_tag": "ABX9TyPwgW41AINZZKRhYjRV5b0h",
      "include_colab_link": true
    },
    "kernelspec": {
      "name": "python3",
      "display_name": "Python 3"
    },
    "language_info": {
      "name": "python"
    }
  },
  "cells": [
    {
      "cell_type": "markdown",
      "metadata": {
        "id": "view-in-github",
        "colab_type": "text"
      },
      "source": [
        "<a href=\"https://colab.research.google.com/github/natelson/python/blob/main/miscellaneous/dict_miscellaneous.ipynb\" target=\"_parent\"><img src=\"https://colab.research.google.com/assets/colab-badge.svg\" alt=\"Open In Colab\"/></a>"
      ]
    },
    {
      "cell_type": "markdown",
      "source": [
        "# Miscellaneous about dictionaries in Python\n",
        "\n",
        ">> Dictionary : {}\n",
        "\n",
        "Dictionary is group of pairs of data values each pair have two parts\n",
        "\n",
        "Dictionary key and data value {key1:value1, key2:value 2, etc….}\n",
        "\n",
        ">>> Example:\n",
        "\n",
        "User_name_and_car_color = { “David”:”red”, “John”:”green”, ”Sara”: “yellow”}\n",
        "\n",
        "In order to declare a dictionary we use dict() method\n",
        "\n",
        ">>> User_name_and_car_color = dict(David = red, John = green, Sara = yellow)\n",
        "\n",
        "{“David”:”red”, “John”:”green”, ”Sara”: “yellow”}\n"
      ],
      "metadata": {
        "id": "tQB17vVJgOrr"
      }
    },
    {
      "cell_type": "code",
      "execution_count": null,
      "metadata": {
        "id": "enUF9lZuf0hj"
      },
      "outputs": [],
      "source": [
        ""
      ]
    },
    {
      "cell_type": "markdown",
      "source": [
        "## Get value by key"
      ],
      "metadata": {
        "id": "bWhRJfJagYeq"
      }
    },
    {
      "cell_type": "code",
      "source": [
        "def get_value_by_key(key):\n",
        "  pack_definition = {'Bread' : 'bag', 'Beer' : 'bottle', 'Candy': 'plastic'}\n",
        "  if key not in pack_definition:\n",
        "    return 'None'\n",
        "  \n",
        "  return pack_definition[key]\n",
        "\n",
        "\n",
        "def get_value_by_key_python_solution(key):\n",
        "  pack_definition = {'Bread' : 'bag', 'Beer' : 'bottle', 'Candy': 'plastic'}\n",
        "  return pack_definition.get(key)\n",
        "\n",
        "\n",
        "print(get_value_by_key('Bread'))\n",
        "print(get_value_by_key('Beer'))\n",
        "print(get_value_by_key('Candy'))\n",
        "print(get_value_by_key('Cheese'))\n",
        "\n",
        "print(get_value_by_key_python_solution('Bread'))\n",
        "print(get_value_by_key_python_solution('Beer'))\n",
        "print(get_value_by_key_python_solution('Candy'))\n",
        "print(get_value_by_key_python_solution('Cheese'))"
      ],
      "metadata": {
        "colab": {
          "base_uri": "https://localhost:8080/"
        },
        "id": "QtvVKH6pgbFh",
        "outputId": "a1738217-a00e-48fe-fd16-a95876362120"
      },
      "execution_count": null,
      "outputs": [
        {
          "output_type": "stream",
          "name": "stdout",
          "text": [
            "bag\n",
            "bottle\n",
            "plastic\n",
            "None\n",
            "bag\n",
            "bottle\n",
            "plastic\n",
            "None\n"
          ]
        }
      ]
    },
    {
      "cell_type": "markdown",
      "source": [
        "# Dict is empty?"
      ],
      "metadata": {
        "id": "VdG2jJu6h52j"
      }
    },
    {
      "cell_type": "code",
      "source": [
        "def dict_is_empty(dic_to_analyse):\n",
        "  if len(dic_to_analyse) == 0 :\n",
        "    return True\n",
        "  \n",
        "  return False\n",
        "\n",
        "def dict_is_empty_python_solution(dic_to_analyse):\n",
        "  return not dic_to_analyse\n",
        "\n",
        "dict_empty = {}\n",
        "print(dict_is_empty(dict_empty))\n",
        "print(dict_is_empty_python_solution(dict_empty))\n",
        "\n",
        "dict_with_elements = {'apple': 'red', 'avocato': 'green'}\n",
        "print(dict_is_empty(dict_with_elements))\n",
        "print(dict_is_empty_python_solution(dict_with_elements))"
      ],
      "metadata": {
        "colab": {
          "base_uri": "https://localhost:8080/"
        },
        "id": "KbJH_rtqg-kT",
        "outputId": "db424bb1-70ec-437b-db3f-fcd0d08a9da0"
      },
      "execution_count": null,
      "outputs": [
        {
          "output_type": "stream",
          "name": "stdout",
          "text": [
            "True\n",
            "True\n",
            "False\n",
            "False\n"
          ]
        }
      ]
    },
    {
      "cell_type": "markdown",
      "source": [
        "# Define the volume of the box"
      ],
      "metadata": {
        "id": "tDEZRrV_jQM8"
      }
    },
    {
      "cell_type": "code",
      "source": [
        "def volume_of_box(dict_dimensions):\n",
        "  return dict_dimensions['width'] * dict_dimensions['length'] * dict_dimensions['height']\n",
        "\n",
        "def volume_of_box_python_solution(dict_dimensions):\n",
        "  w, l, h = dict_dimensions.values()\n",
        "  return w * l * h\n",
        "\n",
        "box = {'width': 10, 'length': 5, 'height': 8}\n",
        "print(volume_of_box(box))\n",
        "print(volume_of_box_python_solution(box))"
      ],
      "metadata": {
        "colab": {
          "base_uri": "https://localhost:8080/"
        },
        "id": "cXEMYBXmigf6",
        "outputId": "4ee0bfa5-5140-4a1a-bbca-030855a2ca75"
      },
      "execution_count": null,
      "outputs": [
        {
          "output_type": "stream",
          "name": "stdout",
          "text": [
            "400\n",
            "400\n"
          ]
        }
      ]
    },
    {
      "cell_type": "code",
      "source": [
        ""
      ],
      "metadata": {
        "id": "YTVRJKAKjmzT"
      },
      "execution_count": null,
      "outputs": []
    },
    {
      "cell_type": "markdown",
      "source": [
        "# number within the giver range?"
      ],
      "metadata": {
        "id": "Qbpyncwckb5T"
      }
    },
    {
      "cell_type": "code",
      "source": [
        "def number_within_range(number, dict_min_max):\n",
        "  min, max = dict_min_max.values()\n",
        "  return  min <= number <= max\n",
        "\n",
        "number_within_range(5, {'min': 6, 'max': 7})\n"
      ],
      "metadata": {
        "colab": {
          "base_uri": "https://localhost:8080/"
        },
        "id": "r55X8jwOkfig",
        "outputId": "7fbade67-7097-457f-c79f-dc316357124e"
      },
      "execution_count": null,
      "outputs": [
        {
          "output_type": "execute_result",
          "data": {
            "text/plain": [
              "False"
            ]
          },
          "metadata": {},
          "execution_count": 4
        }
      ]
    },
    {
      "cell_type": "markdown",
      "source": [
        "## Facts about the city"
      ],
      "metadata": {
        "id": "LR8GKuRIlkWD"
      }
    },
    {
      "cell_type": "code",
      "source": [
        "def return_facts(dict_about_city):\n",
        "  return '{} has a population of {} and is situated in {}'.format(dict_about_city.get('name'), dict_about_city.get('population'), dict_about_city.get('continent'))\n",
        "\n",
        "\n",
        "city = {'name': 'New York', 'population': '8,419 millions', 'continent': 'North America'}\n",
        "\n",
        "print(return_facts(city))   \n",
        "\n",
        "city = {'name': 'Sao Paulo', 'population': '11 millions', 'continent': 'South America'}\n",
        "\n",
        "print(return_facts(city)) "
      ],
      "metadata": {
        "colab": {
          "base_uri": "https://localhost:8080/"
        },
        "id": "45dqcdk-k3HC",
        "outputId": "ab541e27-064e-422f-ddf2-6aced827eb82"
      },
      "execution_count": null,
      "outputs": [
        {
          "output_type": "stream",
          "name": "stdout",
          "text": [
            "New York has a population of 8,419 millions and is situated in North America\n",
            "Sao Paulo has a population of 11 millions and is situated in South America\n"
          ]
        }
      ]
    },
    {
      "cell_type": "markdown",
      "source": [
        "## Lower and upper case dict"
      ],
      "metadata": {
        "id": "dr-kkJ0snB6E"
      }
    },
    {
      "cell_type": "code",
      "source": [
        "def dict_of_string(word):\n",
        "  dict_lower_upper_case = {}\n",
        "  for letter in word:\n",
        "    dict_lower_upper_case[letter.lower()] = letter.upper()\n",
        "  \n",
        "  return dict_lower_upper_case\n",
        "\n",
        "print(dict_of_string('Python'))\n",
        "\n",
        "\n",
        "\n"
      ],
      "metadata": {
        "colab": {
          "base_uri": "https://localhost:8080/"
        },
        "id": "d999uRDXlivi",
        "outputId": "8812010b-70c7-4753-fd70-a4f603dd50d0"
      },
      "execution_count": null,
      "outputs": [
        {
          "output_type": "stream",
          "name": "stdout",
          "text": [
            "{'p': 'P', 'y': 'Y', 't': 'T', 'h': 'H', 'o': 'O', 'n': 'N'}\n"
          ]
        }
      ]
    },
    {
      "cell_type": "markdown",
      "source": [
        "# Sum of budgeting of my clients"
      ],
      "metadata": {
        "id": "GHaeOVOPG9dQ"
      }
    },
    {
      "cell_type": "code",
      "source": [
        "def sum_of_budgeting(list_dict_clients):\n",
        "  total_budget = 0\n",
        "  for client in list_dict_clients:\n",
        "    total_budget+= client.get('budgeting')\n",
        "  \n",
        "  return total_budget\n",
        "\n",
        "def sum_of_budgeting_python_solution(list_dict_clients):\n",
        "  return sum(client['budgeting'] for client in list_dict_clients)\n",
        "\n",
        "clients = [{'client': 'Uncle Scrooge', 'budgeting' : 50000}, {'client': 'Thomas Wayne', 'budgeting' : 500000}, {'client': 'Lex Luthor', 'budgeting' : 800000}]\n",
        "print(sum_of_budgeting(clients))\n",
        "print(sum_of_budgeting_python_solution(clients))\n"
      ],
      "metadata": {
        "id": "7DlxpzIBnk1a",
        "colab": {
          "base_uri": "https://localhost:8080/"
        },
        "outputId": "8263253e-8709-42e5-aa9e-5cc26dc5553e"
      },
      "execution_count": null,
      "outputs": [
        {
          "output_type": "stream",
          "name": "stdout",
          "text": [
            "1350000\n",
            "1350000\n"
          ]
        }
      ]
    },
    {
      "cell_type": "markdown",
      "source": [
        "## Order a dictionary of students"
      ],
      "metadata": {
        "id": "JYlEK6KEKLlY"
      }
    },
    {
      "cell_type": "code",
      "source": [
        "def order_students(dict_of_students):\n",
        "  return sorted(dict_of_students.values())\n",
        "\n",
        "students = {'Student1': 'John', 'Student2': 'Abdu', 'Student3': 'Katy', 'Student4': 'Stuart' }\n",
        "\n",
        "print(order_students(students))\n"
      ],
      "metadata": {
        "colab": {
          "base_uri": "https://localhost:8080/"
        },
        "id": "uL8LuqjEJB_v",
        "outputId": "8d5b3cce-640f-494b-e283-6efe2689e80c"
      },
      "execution_count": null,
      "outputs": [
        {
          "output_type": "stream",
          "name": "stdout",
          "text": [
            "['Abdu', 'John', 'Katy', 'Stuart']\n"
          ]
        }
      ]
    },
    {
      "cell_type": "markdown",
      "source": [
        "## How many points I have?"
      ],
      "metadata": {
        "id": "ecG4tJ-eSdtx"
      }
    },
    {
      "cell_type": "code",
      "source": [
        "def maximum_points_in_hand(list_dict_tile):\n",
        "  return sum(hand['score'] for hand in list_dict_tile)\n",
        "\n",
        "\n",
        "my_hand = [ { \"tile\": \"N\", \"score\": 1 },\n",
        "  { \"tile\": \"K\", \"score\": 5 },\n",
        "  { \"tile\": \"Z\", \"score\": 10 },\n",
        "  { \"tile\": \"X\", \"score\": 8 },\n",
        "  { \"tile\": \"D\", \"score\": 2 },\n",
        "  { \"tile\": \"A\", \"score\": 1 },\n",
        "  { \"tile\": \"E\", \"score\": 1 }]\n",
        "\n",
        "\n",
        "print(maximum_points_in_hand(my_hand))\n"
      ],
      "metadata": {
        "colab": {
          "base_uri": "https://localhost:8080/"
        },
        "id": "Vqt5Ke45LsNR",
        "outputId": "a76de720-5bb1-4c4c-b578-8dc02410f9f3"
      },
      "execution_count": null,
      "outputs": [
        {
          "output_type": "stream",
          "name": "stdout",
          "text": [
            "28\n"
          ]
        }
      ]
    },
    {
      "cell_type": "markdown",
      "source": [
        "## How many letters and digits "
      ],
      "metadata": {
        "id": "Vcc-jojaStgo"
      }
    },
    {
      "cell_type": "code",
      "source": [
        "def count_letters_and_digits(phrase):\n",
        "  digits = 0\n",
        "  letters = 0\n",
        "  for character in phrase:\n",
        "    if str(character).isdigit():\n",
        "      digits += 1\n",
        "    elif str(character).isalpha():\n",
        "      letters +=1\n",
        "  \n",
        "  return {'digits': digits, 'letters': letters}\n",
        "\n",
        "\n",
        "def count_letters_and_digits_python_solution(phrase):\n",
        "  return {'digits': sum(1 for character in phrase if character.isdigit()), \n",
        "          'letters': sum(1 for character in phrase if character.isalpha())}\n",
        "\n",
        "\n",
        "phrase = \"Python is the number 1 modern language from 4 programming languages\"\n",
        "print(count_letters_and_digits(phrase))\n",
        "print(count_letters_and_digits_python_solution(phrase))\n"
      ],
      "metadata": {
        "colab": {
          "base_uri": "https://localhost:8080/"
        },
        "id": "6DY809oeRrrp",
        "outputId": "9c4135a0-37b8-415f-aa0a-0366932f000c"
      },
      "execution_count": null,
      "outputs": [
        {
          "output_type": "stream",
          "name": "stdout",
          "text": [
            "{'digits': 2, 'letters': 55}\n",
            "{'digits': 2, 'letters': 55}\n"
          ]
        }
      ]
    },
    {
      "cell_type": "markdown",
      "source": [
        "## Frequency of a list"
      ],
      "metadata": {
        "id": "1q4-SM6qVLny"
      }
    },
    {
      "cell_type": "code",
      "source": [
        "def get_frequencies(list_of_values):\n",
        "  unique_list = list(set(list_of_values))\n",
        "  print(unique_list)\n",
        "  dict_frequency = {unique_list[i] : 0 for i in range(len(unique_list))}\n",
        "\n",
        "  for i in list_of_values:\n",
        "    dict_frequency[i] += 1\n",
        "\n",
        "  return dict_frequency\n",
        "\n",
        "\n",
        "def get_frequencies_python_solution(list_of_values):\n",
        "  return {x:list_of_values.count(x) for x in list_of_values}\n",
        "\n",
        "print(get_frequencies([\"A\", \"B\", \"A\", \"A\", \"A\"]))\n"
      ],
      "metadata": {
        "colab": {
          "base_uri": "https://localhost:8080/"
        },
        "id": "VyyJoXGTSpvA",
        "outputId": "391b3496-3683-44f3-f1ca-ad48597e9dd6"
      },
      "execution_count": null,
      "outputs": [
        {
          "output_type": "stream",
          "name": "stdout",
          "text": [
            "['B', 'A']\n",
            "{'B': 1, 'A': 4}\n"
          ]
        }
      ]
    },
    {
      "cell_type": "markdown",
      "source": [
        "## Round of total values"
      ],
      "metadata": {
        "id": "vTwQtJFuZTAr"
      }
    },
    {
      "cell_type": "code",
      "source": [
        "def total_profit(dict_of_products):\n",
        "  total_profit = (dict_of_products['inventory'] * (dict_of_products['sell_price'] - dict_of_products['cost_price'])) \n",
        "  return int(round(total_profit,0))\n",
        "\n",
        "profit = { \"cost_price\": 32.67, \"sell_price\": 45.00, \"inventory\": 1200}\n",
        "\n",
        "print(total_profit(profit))\n"
      ],
      "metadata": {
        "colab": {
          "base_uri": "https://localhost:8080/"
        },
        "id": "Cl5cUxLHV49B",
        "outputId": "ac8c5d8f-7356-4509-e8f7-94b6fd1ca933"
      },
      "execution_count": null,
      "outputs": [
        {
          "output_type": "stream",
          "name": "stdout",
          "text": [
            "14796\n"
          ]
        }
      ]
    },
    {
      "cell_type": "markdown",
      "source": [
        "## Exist key?"
      ],
      "metadata": {
        "id": "bGd4ZFs3beCc"
      }
    },
    {
      "cell_type": "code",
      "source": [
        "def exist_key(dict_of_elements, key):\n",
        "  return key in dict_of_elements\n",
        "\n",
        "profit = { \"cost_price\": 32.67, \"sell_price\": 45.00, \"inventory\": 1200}\n",
        "\n",
        "print(exist_key(profit, 'value'))\n",
        "print(exist_key(profit, 'cost_price'))\n"
      ],
      "metadata": {
        "colab": {
          "base_uri": "https://localhost:8080/"
        },
        "id": "sVp-AtYTZtv6",
        "outputId": "323906c3-9a23-48a1-f401-444a9bc0be5c"
      },
      "execution_count": null,
      "outputs": [
        {
          "output_type": "stream",
          "name": "stdout",
          "text": [
            "False\n",
            "True\n"
          ]
        }
      ]
    },
    {
      "cell_type": "markdown",
      "source": [
        "## Greetings"
      ],
      "metadata": {
        "id": "mih41td6FM0p"
      }
    },
    {
      "cell_type": "code",
      "source": [
        "def say_hi(list_of_guests, name_of_guest):\n",
        "  return \"Hi! I'm {}, and I'm from {}.\".format(name_of_guest, list_of_guests.get(name_of_guest))\n",
        "\n",
        "\n",
        "guest_list = { \"Emmma\": \"Germany\", \"Adalene\": \"France\", \"shushin\": \"Japan\", \"Robert\": \"England\", \"Tamer\": \"Egypt\"}\n",
        "\n",
        "print(say_hi(guest_list, \"Emmma\"))\n",
        "print(say_hi(guest_list, \"Adalene\"))"
      ],
      "metadata": {
        "id": "H3IEthKMb3ea",
        "outputId": "ae6bba6a-0000-44bd-ac86-76a1ac6ff3bc",
        "colab": {
          "base_uri": "https://localhost:8080/"
        }
      },
      "execution_count": 5,
      "outputs": [
        {
          "output_type": "stream",
          "name": "stdout",
          "text": [
            "Hi! I'm Emmma, and I'm from Germany.\n",
            "Hi! I'm Adalene, and I'm from France.\n"
          ]
        }
      ]
    },
    {
      "cell_type": "markdown",
      "source": [
        "## Filter by rating"
      ],
      "metadata": {
        "id": "bgu4WVOxGw6p"
      }
    },
    {
      "cell_type": "code",
      "source": [
        "def filter_by_rating(dict_of_ratings, rating):\n",
        "  return {k:v for k,v in dict_of_ratings.items() if v ==rating } or 'No results found'\n",
        "\n",
        "\n",
        "dict_of_ratings = {\n",
        "  \"Watermelon\" : \"*****\",\n",
        "  \"Apple\" : \"****\",\n",
        "  \"Grapes\" : \"*****\",\n",
        "  \"Tomato\" : \"***\"}\n",
        "\n",
        "print(filter_by_rating(dict_of_ratings,\"*****\" ))\n"
      ],
      "metadata": {
        "id": "-mKD49mAG0yv",
        "outputId": "fa0c6d0e-e343-42f6-f1c0-58245bee66cf",
        "colab": {
          "base_uri": "https://localhost:8080/"
        }
      },
      "execution_count": 10,
      "outputs": [
        {
          "output_type": "stream",
          "name": "stdout",
          "text": [
            "{'Watermelon': '*****', 'Grapes': '*****'}\n"
          ]
        }
      ]
    },
    {
      "cell_type": "markdown",
      "source": [
        "# Value of my grosserie"
      ],
      "metadata": {
        "id": "TmkzKBAjHx7I"
      }
    },
    {
      "cell_type": "code",
      "source": [
        "def total_value_grosserie(list_dict_of_products):\n",
        "  total = 0\n",
        "  for dict_item in list_dict_of_products:\n",
        "    total += dict_item['quantity'] * dict_item['price']\n",
        "  return total\n",
        "\n",
        "\n",
        "def total_value_grosserie_python_solution(list_dict_of_products):\n",
        "  return round(sum([i['price'] * i['quantity'] for i in list_dict_of_products]), 1)\n",
        "\n",
        "\n",
        "\n",
        "my_products = [\n",
        "               {\n",
        "  \"product\": \"Milk\",\n",
        "  \"quantity\": 1,\n",
        "  \"price\": 2\n",
        "},\n",
        "{\n",
        "  \"product\": \"Rice\",\n",
        "  \"quantity\": 1,\n",
        "  \"price\": 8\n",
        "}\n",
        "]\n",
        "\n",
        "print(total_value_grosserie(my_products))\n",
        "print(total_value_grosserie_python_solution(my_products))"
      ],
      "metadata": {
        "id": "JbyE1YMTIS0o",
        "outputId": "2a87f3c3-cc87-4760-9035-193c48e184f1",
        "colab": {
          "base_uri": "https://localhost:8080/"
        }
      },
      "execution_count": 13,
      "outputs": [
        {
          "output_type": "stream",
          "name": "stdout",
          "text": [
            "10\n",
            "10\n"
          ]
        }
      ]
    },
    {
      "cell_type": "markdown",
      "source": [
        "## One Dict --> Two Lists"
      ],
      "metadata": {
        "id": "Mt1dPwUxcSWD"
      }
    },
    {
      "cell_type": "code",
      "source": [
        "def change_dict_to_list(original_dict):\n",
        "  return list(original_dict.keys()), list(original_dict.values())\n",
        "\n",
        "guest_list = { \"Emmma\": \"Germany\", \"Adalene\": \"France\", \"shushin\": \"Japan\", \"Robert\": \"England\", \"Tamer\": \"Egypt\"}\n",
        "\n",
        "print(change_dict_to_list(guest_list))"
      ],
      "metadata": {
        "id": "MMyK7OEANN3e",
        "outputId": "f60c47d7-0cd3-4e44-eb0b-6c1e6b318f53",
        "colab": {
          "base_uri": "https://localhost:8080/"
        }
      },
      "execution_count": 16,
      "outputs": [
        {
          "output_type": "stream",
          "name": "stdout",
          "text": [
            "(['Emmma', 'Adalene', 'shushin', 'Robert', 'Tamer'], ['Germany', 'France', 'Japan', 'England', 'Egypt'])\n"
          ]
        }
      ]
    },
    {
      "cell_type": "code",
      "source": [
        ""
      ],
      "metadata": {
        "id": "rVBz4TrkNjHo"
      },
      "execution_count": null,
      "outputs": []
    }
  ]
}