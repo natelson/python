{
  "nbformat": 4,
  "nbformat_minor": 0,
  "metadata": {
    "colab": {
      "name": "python_miscellaneous.ipynb",
      "provenance": [],
      "authorship_tag": "ABX9TyOadiuPWjq29l1/NfSpxIDe",
      "include_colab_link": true
    },
    "kernelspec": {
      "name": "python3",
      "display_name": "Python 3"
    },
    "language_info": {
      "name": "python"
    }
  },
  "cells": [
    {
      "cell_type": "markdown",
      "metadata": {
        "id": "view-in-github",
        "colab_type": "text"
      },
      "source": [
        "<a href=\"https://colab.research.google.com/github/natelson/python/blob/main/miscellaneous/python_miscellaneous.ipynb\" target=\"_parent\"><img src=\"https://colab.research.google.com/assets/colab-badge.svg\" alt=\"Open In Colab\"/></a>"
      ]
    },
    {
      "cell_type": "markdown",
      "source": [
        "# Miscellaneous about python\n",
        "\n",
        "The idea here, is show some common functions are solved with common approaches and how solve these same questions in python functions"
      ],
      "metadata": {
        "id": "1YoI7Dh47Cdx"
      }
    },
    {
      "cell_type": "markdown",
      "source": [
        "## String is empyt?"
      ],
      "metadata": {
        "id": "WoXamJGc_f8A"
      }
    },
    {
      "cell_type": "code",
      "source": [
        "def string_isempty(string):\n",
        "  if len(string.rstrip()) == 0:\n",
        "    return True\n",
        "  return False\n",
        "  \n",
        "\n",
        "def string_isempty_python_solution(string):\n",
        "  return not string\n",
        "\n",
        "\n",
        "\n",
        "print(string_isempty(''))\n",
        "print(string_isempty_python_solution('   5gh'))\n",
        "\n",
        "\n",
        "print(string_isempty_python_solution(''))\n",
        "print(string_isempty_python_solution('   5gh'))\n"
      ],
      "metadata": {
        "colab": {
          "base_uri": "https://localhost:8080/"
        },
        "id": "9wvKxRL7z4eu",
        "outputId": "594d0fd8-6cc3-485c-af81-28aa272bb762"
      },
      "execution_count": null,
      "outputs": [
        {
          "output_type": "stream",
          "name": "stdout",
          "text": [
            "True\n",
            "False\n",
            "True\n",
            "False\n"
          ]
        }
      ]
    },
    {
      "cell_type": "markdown",
      "source": [
        "## Remove extra spaces"
      ],
      "metadata": {
        "id": "Y_xrsvzl_n7n"
      }
    },
    {
      "cell_type": "code",
      "source": [
        "def remove_extra_spaces(phrase):\n",
        "  list_of_words = phrase.split(' ')\n",
        "  new_phrase = ''\n",
        "  for word in list_of_words:\n",
        "    if word:\n",
        "      if not new_phrase:\n",
        "        new_phrase = word.rstrip()\n",
        "      else:\n",
        "        new_phrase += ' ' + word.rstrip()\n",
        "\n",
        "  return new_phrase\n",
        "  \n",
        "def remove_extra_spaces_python_solution(phrase):\n",
        "  return ' '.join(phrase.split())\n",
        "\n",
        "print(remove_extra_spaces(' I am        learning Python      object        oriented     programming'))\n",
        "\n",
        "print(remove_extra_spaces_python_solution(' I am        learning Python      object        oriented     programming'))\n"
      ],
      "metadata": {
        "colab": {
          "base_uri": "https://localhost:8080/"
        },
        "id": "ztzHPMhr0w5l",
        "outputId": "05b7ef82-9db2-4280-ddae-d158493efa63"
      },
      "execution_count": null,
      "outputs": [
        {
          "output_type": "stream",
          "name": "stdout",
          "text": [
            "I am learning Python object oriented programming\n",
            "I am learning Python object oriented programming\n"
          ]
        }
      ]
    },
    {
      "cell_type": "markdown",
      "source": [
        "## Reverse the case of string"
      ],
      "metadata": {
        "id": "aujvKw8kANi5"
      }
    },
    {
      "cell_type": "code",
      "source": [
        "def reverse_case_string(phrase):\n",
        "  new_string = []\n",
        "  for letter in phrase:\n",
        "    if letter.lower() == letter:\n",
        "      new_string.append(letter.upper())\n",
        "    else:\n",
        "      new_string.append(letter.lower())\n",
        "  \n",
        "  return ''.join(new_string)\n",
        "\n",
        "\n",
        "def reverse_case_string_python_solution(phrase):\n",
        "  return phrase.swapcase()\n",
        "\n",
        "\n",
        "print(reverse_case_string('I am a python developer'))\n",
        "print(reverse_case_string_python_solution('I am a python developer'))\n"
      ],
      "metadata": {
        "colab": {
          "base_uri": "https://localhost:8080/"
        },
        "id": "v2nF9RADAQXn",
        "outputId": "f3c38c30-9120-48c3-860a-ebbf58b92702"
      },
      "execution_count": null,
      "outputs": [
        {
          "output_type": "stream",
          "name": "stdout",
          "text": [
            "i AM A PYTHON DEVELOPER\n",
            "i AM A PYTHON DEVELOPER\n"
          ]
        }
      ]
    },
    {
      "cell_type": "markdown",
      "source": [
        "## Number of letter in the string"
      ],
      "metadata": {
        "id": "iaesg7pUCt4r"
      }
    },
    {
      "cell_type": "code",
      "source": [
        "def number_of_letter(phrase):\n",
        "  count = 0\n",
        "  for letter in phrase:\n",
        "    count += 1 if letter.isalpha() else 0\n",
        "  return count\n",
        "\n",
        "\n",
        "def number_of_letter_python_solution(phrase):\n",
        "  return len([letter for letter in phrase if letter.isalpha()])\n",
        "\n",
        "print(number_of_letter('Python is wonderful'))\n",
        "print(number_of_letter_python_solution('Python is wonderful'))\n"
      ],
      "metadata": {
        "colab": {
          "base_uri": "https://localhost:8080/"
        },
        "id": "pMd-TDN7B8eo",
        "outputId": "87d02e1b-e304-4e2c-eb07-4bfc41fe6882"
      },
      "execution_count": null,
      "outputs": [
        {
          "output_type": "stream",
          "name": "stdout",
          "text": [
            "17\n",
            "17\n"
          ]
        }
      ]
    },
    {
      "cell_type": "markdown",
      "source": [
        "## Replace one string\n",
        "\n"
      ],
      "metadata": {
        "id": "7OwjpbBiJTR6"
      }
    },
    {
      "cell_type": "code",
      "source": [
        "phrase = \"Somebody said something to Sara.\"\n",
        "\n",
        "print(phrase.replace('s','x'))\n",
        "\n"
      ],
      "metadata": {
        "colab": {
          "base_uri": "https://localhost:8080/"
        },
        "id": "wuL_DhqZKe9Z",
        "outputId": "2e36453d-594c-4ad0-be8e-2639b5fb7b67"
      },
      "execution_count": null,
      "outputs": [
        {
          "output_type": "stream",
          "name": "stdout",
          "text": [
            "Somebody xaid xomething to Sara.\n"
          ]
        }
      ]
    },
    {
      "cell_type": "code",
      "source": [
        ""
      ],
      "metadata": {
        "id": "wZ3HTKPrKpvg"
      },
      "execution_count": null,
      "outputs": []
    },
    {
      "cell_type": "markdown",
      "source": [
        "## Number of cup of coffee\n",
        "\n",
        "In one of  Famous Coffee Mixer shops chain every 6 days with every day one cup of coffee customer buys, customer gets a 7th cup free in the weekend (Sunday)!\n",
        "The script bellow receive the numbers of day on month and show de number of cups bought for one client recived and the number of free cups that this client received\n",
        "\n",
        "   "
      ],
      "metadata": {
        "id": "urNdgw2ELd_y"
      }
    },
    {
      "cell_type": "code",
      "source": [
        "number_of_days = 30\n",
        "\n",
        "#return the total cups\n",
        "def total_cups_cust(n):\n",
        "  return n//6 + n\n",
        "\n",
        "total_cups = total_cups_cust(number_of_days)\n",
        "\n",
        "def total_cups_gets_free(total_cups):\n",
        "        return round(total_cups/6, 0)\n",
        "\n",
        "print(('Total cups for 30 days = ') + str(total_cups_cust(number_of_days)))\n",
        "print(('Free cups in 30 days = ') + str(total_cups_gets_free(total_cups)))\n",
        "     \n",
        "number_of_days = 31\n",
        "print(('Total cups for 31 days = ') + str(total_cups_cust(number_of_days)))\n",
        "print(('Free cups in 31 days = ') + str(total_cups_gets_free(total_cups)))"
      ],
      "metadata": {
        "colab": {
          "base_uri": "https://localhost:8080/"
        },
        "id": "QPIph8Y-LkZx",
        "outputId": "549a29aa-0835-4af5-8659-7fe1c1a7fa79"
      },
      "execution_count": null,
      "outputs": [
        {
          "output_type": "stream",
          "name": "stdout",
          "text": [
            "Total cups for 30 days = 35\n",
            "Free cups in 30 days = 6.0\n",
            "Total cups for 31 days = 36\n",
            "Free cups in 31 days = 6.0\n"
          ]
        }
      ]
    },
    {
      "cell_type": "code",
      "source": [
        "31//6"
      ],
      "metadata": {
        "colab": {
          "base_uri": "https://localhost:8080/"
        },
        "id": "OD_i-Os1Mqwh",
        "outputId": "c2d8ccef-f3e9-4e9a-e9f8-b56df0809c56"
      },
      "execution_count": null,
      "outputs": [
        {
          "output_type": "execute_result",
          "data": {
            "text/plain": [
              "5"
            ]
          },
          "metadata": {},
          "execution_count": 43
        }
      ]
    },
    {
      "cell_type": "code",
      "source": [
        ""
      ],
      "metadata": {
        "id": "OzeW1YOpTbVD"
      },
      "execution_count": null,
      "outputs": []
    }
  ]
}