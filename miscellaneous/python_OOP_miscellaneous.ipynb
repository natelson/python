{
  "nbformat": 4,
  "nbformat_minor": 0,
  "metadata": {
    "colab": {
      "name": "python_OOP_miscellaneous.ipynb",
      "provenance": [],
      "authorship_tag": "ABX9TyPKCfVElWx8SVmZ/E6+QoY/",
      "include_colab_link": true
    },
    "kernelspec": {
      "name": "python3",
      "display_name": "Python 3"
    },
    "language_info": {
      "name": "python"
    }
  },
  "cells": [
    {
      "cell_type": "markdown",
      "metadata": {
        "id": "view-in-github",
        "colab_type": "text"
      },
      "source": [
        "<a href=\"https://colab.research.google.com/github/natelson/python/blob/main/miscellaneous/python_OOP_miscellaneous.ipynb\" target=\"_parent\"><img src=\"https://colab.research.google.com/assets/colab-badge.svg\" alt=\"Open In Colab\"/></a>"
      ]
    },
    {
      "cell_type": "markdown",
      "source": [
        "# OOP Miscellaneous"
      ],
      "metadata": {
        "id": "0KoxtnmitjEm"
      }
    },
    {
      "cell_type": "markdown",
      "source": [
        "## E-mail and Full name of employee"
      ],
      "metadata": {
        "id": "7F5_SjhXto-2"
      }
    },
    {
      "cell_type": "code",
      "execution_count": 3,
      "metadata": {
        "colab": {
          "base_uri": "https://localhost:8080/"
        },
        "id": "M1G0rjGHsQCM",
        "outputId": "e2767691-2386-462c-d31a-25da4b0484c5"
      },
      "outputs": [
        {
          "output_type": "stream",
          "name": "stdout",
          "text": [
            "John William\n",
            "john.william@company.com\n",
            "Sara Michel\n",
            "sara.michel@company.com\n",
            "Suzy David\n",
            "suzy.david@company.com\n"
          ]
        }
      ],
      "source": [
        "class Employee:\n",
        "  def __init__(self, firstname, lastname):\n",
        "      self.firstname = firstname\n",
        "      self.lastname = lastname\n",
        "      self.fullname = firstname + ' ' + lastname\n",
        "      self.email = '{}.{}@company.com'.format(firstname, lastname).lower()\n",
        "  \n",
        "\n",
        "empl_1 = Employee(\"John\", \"William\")\n",
        "print(empl_1.fullname)\n",
        "print(empl_1.email)\n",
        "empl_2 = Employee(\"Sara\",  \"Michel\")\n",
        "print(empl_2.fullname)\n",
        "print(empl_2.email)\n",
        "empl_3 = Employee(\"Suzy\", \"David\")\n",
        "print(empl_3.fullname)\n",
        "print(empl_3.email)\n",
        "\n"
      ]
    },
    {
      "cell_type": "markdown",
      "source": [
        "## The sweetness value of the sweetest iceCream"
      ],
      "metadata": {
        "id": "KsYK5RqZ0Qg_"
      }
    },
    {
      "cell_type": "code",
      "source": [
        "class IceCream:\n",
        "  def __init__(self, flavor, num_sprinkles):\n",
        "    self.flavor = flavor\n",
        "    self.num_sprinkles = num_sprinkles\n",
        "\n",
        "  \n",
        "  def getSweetnessValue(self):\n",
        "    switch = {\n",
        "        'Plain': 0,\n",
        "        'Vanilla' : 5,\n",
        "        'ChocolateChip': 5,\n",
        "        'Strawberry': 10,\n",
        "        'Chocolate': 10\n",
        "      }\n",
        "    return switch.get(self.flavor) + self.num_sprinkles"
      ],
      "metadata": {
        "id": "vFHv8z45u7L-"
      },
      "execution_count": 8,
      "outputs": []
    },
    {
      "cell_type": "code",
      "source": [
        "def theMostSweetness(list_of_IceCream):\n",
        "  the_best_ice_cream = list_of_IceCream[0]\n",
        "  for ice_cream in list_of_IceCream:\n",
        "    if the_best_ice_cream.getSweetnessValue() < ice_cream.getSweetnessValue():\n",
        "      the_best_ice_cream = ice_cream\n",
        "\n",
        "  return the_best_ice_cream"
      ],
      "metadata": {
        "id": "AAkf9yjbKqZt"
      },
      "execution_count": 10,
      "outputs": []
    },
    {
      "cell_type": "code",
      "source": [
        "ice1 = IceCream(\"Chocolate\", 13)\n",
        "ice2 = IceCream(\"Vanilla\", 0) \n",
        "ice3 = IceCream(\"Strawberry\", 7)\n",
        "ice4 = IceCream(\"Plain\", 18)\n",
        "ice5 = IceCream(\"ChocolateChip\", 3)\n",
        "list_of_ice_creams = [ice1, ice2,ice3,ice4,ice5]\n",
        "the_best = theMostSweetness(list_of_ice_creams)\n",
        "print('The most theMostSweetness is {} with value {}'.format(the_best.flavor, the_best.getSweetnessValue()))\n"
      ],
      "metadata": {
        "colab": {
          "base_uri": "https://localhost:8080/"
        },
        "id": "8J24AE_qReUt",
        "outputId": "40b59b1d-06ac-460e-9680-5b5b07ae79d5"
      },
      "execution_count": 11,
      "outputs": [
        {
          "output_type": "stream",
          "name": "stdout",
          "text": [
            "The most theMostSweetness is Chocolate with value 23\n"
          ]
        }
      ]
    },
    {
      "cell_type": "code",
      "source": [
        ""
      ],
      "metadata": {
        "id": "BZ_yx9pnRglT"
      },
      "execution_count": null,
      "outputs": []
    }
  ]
}