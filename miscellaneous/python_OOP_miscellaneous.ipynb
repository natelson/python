{
  "nbformat": 4,
  "nbformat_minor": 0,
  "metadata": {
    "colab": {
      "name": "python_OOP_miscellaneous.ipynb",
      "provenance": [],
      "authorship_tag": "ABX9TyMQZt2mTEC43LCQXNA/v/8s",
      "include_colab_link": true
    },
    "kernelspec": {
      "name": "python3",
      "display_name": "Python 3"
    },
    "language_info": {
      "name": "python"
    }
  },
  "cells": [
    {
      "cell_type": "markdown",
      "metadata": {
        "id": "view-in-github",
        "colab_type": "text"
      },
      "source": [
        "<a href=\"https://colab.research.google.com/github/natelson/python/blob/main/miscellaneous/python_OOP_miscellaneous.ipynb\" target=\"_parent\"><img src=\"https://colab.research.google.com/assets/colab-badge.svg\" alt=\"Open In Colab\"/></a>"
      ]
    },
    {
      "cell_type": "markdown",
      "source": [
        "# OOP Miscellaneous"
      ],
      "metadata": {
        "id": "0KoxtnmitjEm"
      }
    },
    {
      "cell_type": "markdown",
      "source": [
        "## E-mail and Full name of employee"
      ],
      "metadata": {
        "id": "7F5_SjhXto-2"
      }
    },
    {
      "cell_type": "code",
      "execution_count": null,
      "metadata": {
        "colab": {
          "base_uri": "https://localhost:8080/"
        },
        "id": "M1G0rjGHsQCM",
        "outputId": "e2767691-2386-462c-d31a-25da4b0484c5"
      },
      "outputs": [
        {
          "output_type": "stream",
          "name": "stdout",
          "text": [
            "John William\n",
            "john.william@company.com\n",
            "Sara Michel\n",
            "sara.michel@company.com\n",
            "Suzy David\n",
            "suzy.david@company.com\n"
          ]
        }
      ],
      "source": [
        "class Employee:\n",
        "  def __init__(self, firstname, lastname):\n",
        "      self.firstname = firstname\n",
        "      self.lastname = lastname\n",
        "      self.fullname = firstname + ' ' + lastname\n",
        "      self.email = '{}.{}@company.com'.format(firstname, lastname).lower()\n",
        "  \n",
        "\n",
        "empl_1 = Employee(\"John\", \"William\")\n",
        "print(empl_1.fullname)\n",
        "print(empl_1.email)\n",
        "empl_2 = Employee(\"Sara\",  \"Michel\")\n",
        "print(empl_2.fullname)\n",
        "print(empl_2.email)\n",
        "empl_3 = Employee(\"Suzy\", \"David\")\n",
        "print(empl_3.fullname)\n",
        "print(empl_3.email)\n",
        "\n"
      ]
    },
    {
      "cell_type": "markdown",
      "source": [
        "## The sweetness value of the sweetest iceCream"
      ],
      "metadata": {
        "id": "KsYK5RqZ0Qg_"
      }
    },
    {
      "cell_type": "code",
      "source": [
        "class IceCream:\n",
        "  def __init__(self, flavor, num_sprinkles):\n",
        "    self.flavor = flavor\n",
        "    self.num_sprinkles = num_sprinkles\n",
        "\n",
        "  \n",
        "  def getSweetnessValue(self):\n",
        "    switch = {\n",
        "        'Plain': 0,\n",
        "        'Vanilla' : 5,\n",
        "        'ChocolateChip': 5,\n",
        "        'Strawberry': 10,\n",
        "        'Chocolate': 10\n",
        "      }\n",
        "    return switch.get(self.flavor) + self.num_sprinkles"
      ],
      "metadata": {
        "id": "vFHv8z45u7L-"
      },
      "execution_count": null,
      "outputs": []
    },
    {
      "cell_type": "code",
      "source": [
        "def theMostSweetness(list_of_IceCream):\n",
        "  the_best_ice_cream = list_of_IceCream[0]\n",
        "  for ice_cream in list_of_IceCream:\n",
        "    if the_best_ice_cream.getSweetnessValue() < ice_cream.getSweetnessValue():\n",
        "      the_best_ice_cream = ice_cream\n",
        "\n",
        "  return the_best_ice_cream"
      ],
      "metadata": {
        "id": "AAkf9yjbKqZt"
      },
      "execution_count": null,
      "outputs": []
    },
    {
      "cell_type": "code",
      "source": [
        "ice1 = IceCream(\"Chocolate\", 13)\n",
        "ice2 = IceCream(\"Vanilla\", 0) \n",
        "ice3 = IceCream(\"Strawberry\", 7)\n",
        "ice4 = IceCream(\"Plain\", 18)\n",
        "ice5 = IceCream(\"ChocolateChip\", 3)\n",
        "list_of_ice_creams = [ice1, ice2,ice3,ice4,ice5]\n",
        "the_best = theMostSweetness(list_of_ice_creams)\n",
        "print('The most theMostSweetness is {} with value {}'.format(the_best.flavor, the_best.getSweetnessValue()))\n"
      ],
      "metadata": {
        "colab": {
          "base_uri": "https://localhost:8080/"
        },
        "id": "8J24AE_qReUt",
        "outputId": "40b59b1d-06ac-460e-9680-5b5b07ae79d5"
      },
      "execution_count": null,
      "outputs": [
        {
          "output_type": "stream",
          "name": "stdout",
          "text": [
            "The most theMostSweetness is Chocolate with value 23\n"
          ]
        }
      ]
    },
    {
      "cell_type": "markdown",
      "source": [
        "## Win a game_set\n",
        "\n",
        "> In the game Set, three cards form a set if each of the cards are identical or completely different for each of the four properties. All three cards must:\n",
        "* Have the same color or different colors.\n",
        "* Have the same number or different numbers.\n",
        "* Have the same shades or different shades.\n",
        "* Have the same shape or different shapes.\n",
        "\n",
        "> The four properties are:\n",
        "* Colors: red, purple, green\n",
        "* Numbers: 1, 2, 3\n",
        "* Shades: empty, lined, full\n",
        "* Shapes: squiggle, oval, diamond"
      ],
      "metadata": {
        "id": "0L89r63VbZrQ"
      }
    },
    {
      "cell_type": "code",
      "source": [
        "class Card:\n",
        "  def __init__(self,color, number, shade, shape):\n",
        "    self.color = color\n",
        "    self.number = number\n",
        "    self.shade = shade\n",
        "    self.shape = shape\n",
        "\n",
        "  def get_unique_value(self):\n",
        "    return '{}-{}-{}-{}'.format(self.color, self.number, self.shade, self.shape)\n",
        "\n",
        "\n",
        "def is_as_game_set(list_of_cards):\n",
        "  is_a_set = False\n",
        "  \n",
        "  if len(list_of_cards) < 3:\n",
        "    return False\n",
        "\n",
        "  values = [card.get_unique_value() for card in list_of_cards]\n",
        "  \n",
        "  if len(set(values)) == 1 or len(set(values)) == 3:\n",
        "    is_a_set = True\n",
        "\n",
        "  return is_a_set\n",
        "  \n",
        "card1 = Card('blue',2,'green','diamond')\n",
        "card2 = Card('blue',2,'green','diamond')\n",
        "card3 = Card('blue',2,'green','diamond')\n",
        "\n",
        "print(is_as_game_set([card1,card2,card3]))\n",
        "\n",
        "card3 = Card('blue',2,'green','oval')\n",
        "\n",
        "print(is_as_game_set([card1,card2,card3]))"
      ],
      "metadata": {
        "id": "BZ_yx9pnRglT",
        "outputId": "b45c2124-9e49-43bc-dfd1-f3e10360ab0a",
        "colab": {
          "base_uri": "https://localhost:8080/"
        }
      },
      "execution_count": 10,
      "outputs": [
        {
          "output_type": "stream",
          "name": "stdout",
          "text": [
            "True\n",
            "False\n"
          ]
        }
      ]
    },
    {
      "cell_type": "markdown",
      "source": [
        "## Make the smoothie"
      ],
      "metadata": {
        "id": "0oScllYNncx_"
      }
    },
    {
      "cell_type": "code",
      "source": [
        "prices = {\"Strawberries\" : 2.5, \"Banana\" : 1.5, \"Mango\" : 3.5,\n",
        "\"Blueberries\" : 2, \"Raspberries\" : 3, \"Apple\" : 2.75,\n",
        "\"Pineapple\" : 4.5}\n",
        "class Smoothie:\n",
        "  def __init__(self,ingredients):\n",
        "    self.ingredients = ingredients\n",
        "    self.cost = sum(prices[fruit] for fruit in self.ingredients)\n",
        "    self.price = self.cost * 2.5\n",
        "\n",
        "  def get_cost(self):\n",
        "    return '${:.2f}'.format(self.cost)\n",
        "\n",
        "  def get_price(self):\n",
        "    return '${:.2f}'.format(self.price)\n",
        "\n",
        "  def get_name(self):\n",
        "    lst = sorted(i.replace('ies','y') for i in self.ingredients)\n",
        "    return '{} {}'.format(' '.join(lst), 'Fusion' if len(lst)>1 else 'Smoothie')\n",
        "\n",
        "\n",
        "\n",
        "smothie = Smoothie(prices)\n",
        "print('The ingredients: ' +  smothie.get_name())\n",
        "print('The Cost: ' +  smothie.get_cost())\n",
        "print('The Price: ' +  smothie.get_price())\n"
      ],
      "metadata": {
        "id": "pJfbYgQKnlRs",
        "outputId": "027e4f05-3508-44dc-c573-8518dd50df63",
        "colab": {
          "base_uri": "https://localhost:8080/"
        }
      },
      "execution_count": 15,
      "outputs": [
        {
          "output_type": "stream",
          "name": "stdout",
          "text": [
            "The ingredients: Apple Banana Blueberry Mango Pineapple Raspberry Strawberry Fusion\n",
            "The Cost: $19.75\n",
            "The Price: $49.38\n"
          ]
        }
      ]
    },
    {
      "cell_type": "code",
      "source": [
        ""
      ],
      "metadata": {
        "id": "G-An1SqZn7jU"
      },
      "execution_count": null,
      "outputs": []
    }
  ]
}