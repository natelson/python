{
  "nbformat": 4,
  "nbformat_minor": 0,
  "metadata": {
    "colab": {
      "name": "python_list_miscellaneous.ipynb",
      "provenance": [],
      "authorship_tag": "ABX9TyMhB9UvsBCTkicXxQ68Ndiq",
      "include_colab_link": true
    },
    "kernelspec": {
      "name": "python3",
      "display_name": "Python 3"
    },
    "language_info": {
      "name": "python"
    }
  },
  "cells": [
    {
      "cell_type": "markdown",
      "metadata": {
        "id": "view-in-github",
        "colab_type": "text"
      },
      "source": [
        "<a href=\"https://colab.research.google.com/github/natelson/python/blob/main/miscellaneous/python_list_miscellaneous.ipynb\" target=\"_parent\"><img src=\"https://colab.research.google.com/assets/colab-badge.svg\" alt=\"Open In Colab\"/></a>"
      ]
    },
    {
      "cell_type": "markdown",
      "source": [
        "# Miscellaneous about Python List\n",
        "\n",
        "A ideia aqui é mostrar como resolver dúvidas comuns sobre listas com funções python"
      ],
      "metadata": {
        "id": "8RSqiViTUcBk"
      }
    },
    {
      "cell_type": "markdown",
      "source": [
        "## Last item of list"
      ],
      "metadata": {
        "id": "kUkHc8vQVXuj"
      }
    },
    {
      "cell_type": "code",
      "execution_count": null,
      "metadata": {
        "colab": {
          "base_uri": "https://localhost:8080/"
        },
        "id": "03nt21C3T1qr",
        "outputId": "4204d3c9-0175-4b7c-e36b-d9ce96b335e9"
      },
      "outputs": [
        {
          "output_type": "stream",
          "name": "stdout",
          "text": [
            "10 100 990\n"
          ]
        }
      ],
      "source": [
        "def last_item_list(list_of_values):\n",
        "  return list_of_values[-1]\n",
        "\n",
        "x = [1,2,3,4,5,6,7,8,9,10]\n",
        "y = [10,20,30,40,50,60,70,80,90,100]\n",
        "z = [110,220,330,440,550,660,770,880,990]\n",
        "print(last_item_list(x), last_item_list(y), last_item_list(z))"
      ]
    },
    {
      "cell_type": "markdown",
      "source": [
        "## Reverse a list"
      ],
      "metadata": {
        "id": "FwJ6Nu4fVgDb"
      }
    },
    {
      "cell_type": "code",
      "source": [
        "def reverse_a_list(list_of_values):\n",
        "  new_list = []\n",
        "  for index in range(len(list_of_values)-1, -1,-1):\n",
        "    new_list.append(list_of_values[index])\n",
        "  return new_list\n",
        "\n",
        "\n",
        "def reverse_a_list_python_solution(list_of_values):\n",
        "  return list(reversed(list_of_values))\n",
        "\n",
        "\n",
        "def reverse_a_list_python_solution_2(list_of_values):\n",
        "  return list_of_values[::-1]\n",
        "\n",
        "x = [1,2,3,4,5,6,7,8,9,10]\n",
        "print(reverse_a_list(x))\n",
        "print(reverse_a_list_python_solution(x))\n",
        "print(reverse_a_list_python_solution_2(x))\n"
      ],
      "metadata": {
        "colab": {
          "base_uri": "https://localhost:8080/"
        },
        "id": "M1HXXXXzULcr",
        "outputId": "ba0a959f-3c72-4a6e-fb2d-bf4430709ead"
      },
      "execution_count": null,
      "outputs": [
        {
          "output_type": "stream",
          "name": "stdout",
          "text": [
            "[10, 9, 8, 7, 6, 5, 4, 3, 2, 1]\n",
            "[10, 9, 8, 7, 6, 5, 4, 3, 2, 1]\n",
            "[10, 9, 8, 7, 6, 5, 4, 3, 2, 1]\n"
          ]
        }
      ]
    },
    {
      "cell_type": "markdown",
      "source": [
        "#Difference between the last and the first element of list"
      ],
      "metadata": {
        "id": "qHM6nwHKY24t"
      }
    },
    {
      "cell_type": "code",
      "source": [
        "def difference_first_and_list(list_of_values):\n",
        "  return list_of_values[-1] - list_of_values[0]\n",
        "\n",
        "\n",
        "a = [110,140,170,200,230,260,290,320,350,380,410,440,470,500]\n",
        "print(difference_first_and_list(a))"
      ],
      "metadata": {
        "colab": {
          "base_uri": "https://localhost:8080/"
        },
        "id": "GUrLwNmfVSy7",
        "outputId": "46399779-cdf6-4a60-ff54-d6da8dccd794"
      },
      "execution_count": null,
      "outputs": [
        {
          "output_type": "stream",
          "name": "stdout",
          "text": [
            "390\n"
          ]
        }
      ]
    },
    {
      "cell_type": "markdown",
      "source": [
        "# The sum of all elements of list"
      ],
      "metadata": {
        "id": "Zk4zashyZd-E"
      }
    },
    {
      "cell_type": "code",
      "source": [
        "def sum_elements_of_list(list_of_values):\n",
        "  total = 0\n",
        "  for i in list_of_values:\n",
        "    total += i\n",
        "  \n",
        "  return total\n",
        "\n",
        "def sum_elements_of_list_python_solution(list_of_values):\n",
        "  return sum(map(abs,list_of_values))\n",
        "\n",
        "x = [10,20,30,40,50]\n",
        "print(sum_elements_of_list(x))\n",
        "print(sum_elements_of_list_python_solution(x))"
      ],
      "metadata": {
        "colab": {
          "base_uri": "https://localhost:8080/"
        },
        "id": "p55Z42m3ZMxr",
        "outputId": "b5f47022-d64d-48f5-e689-f0229806d940"
      },
      "execution_count": null,
      "outputs": [
        {
          "output_type": "stream",
          "name": "stdout",
          "text": [
            "150\n",
            "150\n"
          ]
        }
      ]
    },
    {
      "cell_type": "markdown",
      "source": [
        "##  the largest number in the list"
      ],
      "metadata": {
        "id": "p8t15KqaaeBF"
      }
    },
    {
      "cell_type": "code",
      "source": [
        "def max_value_of_list_python_solution(list_of_values):\n",
        "  return max(list_of_values)\n",
        "\n",
        "\n",
        "def max_value_of_list(list_of_values):\n",
        "  max_value = list_of_values[0]\n",
        "  for i in list_of_values:\n",
        "    if i > max_value:\n",
        "      max_value = i\n",
        "  \n",
        "  return max_value\n",
        "\n",
        "\n",
        "\n",
        "x = [10,20,30,40,50,60,100,80,90,70]\n",
        "\n",
        "print(max_value_of_list(x))\n",
        "print(max_value_of_list_python_solution(x))"
      ],
      "metadata": {
        "colab": {
          "base_uri": "https://localhost:8080/"
        },
        "id": "8r8wmGJnZtaj",
        "outputId": "281b282c-a3ec-47ad-9f72-b44c83a0c566"
      },
      "execution_count": null,
      "outputs": [
        {
          "output_type": "stream",
          "name": "stdout",
          "text": [
            "100\n",
            "100\n"
          ]
        }
      ]
    },
    {
      "cell_type": "markdown",
      "source": [
        "## Sort a list in ascending order"
      ],
      "metadata": {
        "id": "_oU9szddbp8u"
      }
    },
    {
      "cell_type": "code",
      "source": [
        "def sorting_list(list_of_values):\n",
        "  new_list = []\n",
        "  swap = 0\n",
        "  for index in range(len(list_of_values)):\n",
        "    new_position = -1\n",
        "    for index_new in range(len(new_list)-1, -1,-1):\n",
        "      if list_of_values[index] <  new_list[index_new]:\n",
        "        new_position = index_new\n",
        "        swap += 1\n",
        "\n",
        "    if new_position == -1:  \n",
        "      new_list.append(list_of_values[index])\n",
        "    else:\n",
        "      new_list.insert(new_position, list_of_values[index])\n",
        "\n",
        "  print(swap)\n",
        "  return new_list\n",
        "\n",
        "def sorting_list_python_solution(list_of_values):\n",
        "    return sorted(list_of_values)\n",
        "    \n",
        "\n",
        "\n",
        "x = [5,100,20,15,150,80,210,30]\n",
        "print(sorting_list(x))\n",
        "print(sorting_list_python_solution(x))\n",
        "\n",
        "\n",
        "\n",
        "    "
      ],
      "metadata": {
        "colab": {
          "base_uri": "https://localhost:8080/"
        },
        "id": "aXiN1YNWalYM",
        "outputId": "86494363-693c-493a-a79a-51765b3d3b0b"
      },
      "execution_count": null,
      "outputs": [
        {
          "output_type": "stream",
          "name": "stdout",
          "text": [
            "9\n",
            "[5, 15, 20, 30, 80, 100, 150, 210]\n",
            "[5, 15, 20, 30, 80, 100, 150, 210]\n"
          ]
        }
      ]
    },
    {
      "cell_type": "markdown",
      "source": [
        "## Return a list of min e max number of number list"
      ],
      "metadata": {
        "id": "368TKZ7Fpk0R"
      }
    },
    {
      "cell_type": "code",
      "source": [
        "def min_max(list_of_values):\n",
        "  return [min(list_of_values), max(list_of_values)]\n",
        "\n",
        "x = [5,100,20,15,150,80,210,30]\n",
        "print(min_max(x))"
      ],
      "metadata": {
        "colab": {
          "base_uri": "https://localhost:8080/"
        },
        "id": "83VN8EyAfa6W",
        "outputId": "47983137-adf9-4e36-f821-bf19088d649b"
      },
      "execution_count": null,
      "outputs": [
        {
          "output_type": "stream",
          "name": "stdout",
          "text": [
            "[5, 210]\n"
          ]
        }
      ]
    },
    {
      "cell_type": "code",
      "source": [
        ""
      ],
      "metadata": {
        "id": "gG2ZrW6Dpwo_"
      },
      "execution_count": null,
      "outputs": []
    },
    {
      "cell_type": "markdown",
      "source": [
        "## generate array with random numbers"
      ],
      "metadata": {
        "id": "TpxjCrsGbBQr"
      }
    },
    {
      "cell_type": "code",
      "source": [
        "from random import randint\n",
        "\n",
        "def random_array(number_of_elements):\n",
        "  number_of_elements\n",
        "  array =[]\n",
        "  for i in range(number_of_elements):\n",
        "    array.append(randint(1,99))\n",
        "\n",
        "  return array\n",
        "\n",
        "print(random_array(10))"
      ],
      "metadata": {
        "colab": {
          "base_uri": "https://localhost:8080/"
        },
        "id": "2CXp1m2obEfQ",
        "outputId": "34bb6e80-0906-4f37-928e-89d5fc2b1df2"
      },
      "execution_count": null,
      "outputs": [
        {
          "output_type": "stream",
          "name": "stdout",
          "text": [
            "[21, 57, 88, 5, 30, 70, 61, 16, 76, 92]\n"
          ]
        }
      ]
    },
    {
      "cell_type": "markdown",
      "source": [
        "## Reverse order of number"
      ],
      "metadata": {
        "id": "1DHKsZ2GdZMy"
      }
    },
    {
      "cell_type": "code",
      "source": [
        "def reverse_digit_of_number(number):\n",
        "  list_of_digits = []\n",
        "  for digit in reversed(str(number)):\n",
        "    list_of_digits.append(int(digit))\n",
        "\n",
        "  return list_of_digits\n",
        "\n",
        "def reverse_digit_of_number_python_solution(number):\n",
        "  return [int(i) for i in str(number)[::-1]]\n",
        "\n",
        "\n",
        "\n",
        "print(reverse_digit_of_number(1024))\n",
        "print(reverse_digit_of_number_python_solution(1024))"
      ],
      "metadata": {
        "colab": {
          "base_uri": "https://localhost:8080/"
        },
        "id": "2O0M_n6mb3sQ",
        "outputId": "e0da08c1-c428-4294-f8ba-4eae96b6a157"
      },
      "execution_count": null,
      "outputs": [
        {
          "output_type": "stream",
          "name": "stdout",
          "text": [
            "[4, 2, 0, 1]\n",
            "[4, 2, 0, 1]\n"
          ]
        }
      ]
    },
    {
      "cell_type": "markdown",
      "source": [
        "## Selects all words that have all the same vowels "
      ],
      "metadata": {
        "id": "jauJwLOJwKqO"
      }
    },
    {
      "cell_type": "code",
      "source": [
        "def get_list_same_voewel(list_of_words):\n",
        "  dict_words = {}\n",
        "  for word in list_of_words:\n",
        "    dict_words[word] = sorted(set([letter for letter in word if letter in 'aeiou']))\n",
        "\n",
        "  words_equals_voewl = []\n",
        "  for k, v in dict_words.items():\n",
        "    for x, y in dict_words.items():\n",
        "      if v == y and k != x:\n",
        "        words_equals_voewl.append(k)\n",
        "        words_equals_voewl.append(x)\n",
        "\n",
        "  if len(words_equals_voewl) == 0:\n",
        "    return [list_of_words[0]]\n",
        "  else:\n",
        "    return set(words_equals_voewl)\n",
        "\n",
        "\n",
        "def get_list_same_voewel_python_solution(w):\n",
        "  first = set(w[0]) & set('aeiou')\n",
        "  return [i for i in w if set(i) & set('aeiou') == first]\n",
        "\n",
        "\n",
        "list1 = [\"toe\", \"ocelot\", \"maniac\"]\n",
        "list2 = [\"many\", \"carriage\", \"emit\", \"apricot\", \"animal\"]\n",
        "list3 = [\"hoops\", \"chuff\", \"bot\", \"bottom\"]\n",
        "\n",
        "print(get_list_same_voewel(list1))\n",
        "print(get_list_same_voewel(list2))\n",
        "print(get_list_same_voewel(list3))\n",
        "\n",
        "\n",
        "print(get_list_same_voewel_python_solution(list1))\n",
        "print(get_list_same_voewel_python_solution(list2))\n",
        "print(get_list_same_voewel_python_solution(list3))\n",
        "\n",
        "\n",
        "\n",
        "\n",
        "\n"
      ],
      "metadata": {
        "id": "1OKhREnRdpcx",
        "outputId": "06bbfea4-8793-4b8a-c8f9-7dcb35bfc690",
        "colab": {
          "base_uri": "https://localhost:8080/"
        }
      },
      "execution_count": 27,
      "outputs": [
        {
          "output_type": "stream",
          "name": "stdout",
          "text": [
            "{'ocelot', 'toe'}\n",
            "['many']\n",
            "{'bottom', 'bot', 'hoops'}\n",
            "['toe', 'ocelot']\n",
            "['many']\n",
            "['hoops', 'bot', 'bottom']\n"
          ]
        }
      ]
    },
    {
      "cell_type": "code",
      "source": [
        ""
      ],
      "metadata": {
        "id": "lOCxxXzLw_h4"
      },
      "execution_count": null,
      "outputs": []
    }
  ]
}