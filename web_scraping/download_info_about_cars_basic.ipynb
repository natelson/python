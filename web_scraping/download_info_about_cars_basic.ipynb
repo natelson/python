{
  "cells": [
    {
      "cell_type": "markdown",
      "metadata": {
        "id": "view-in-github",
        "colab_type": "text"
      },
      "source": [
        "<a href=\"https://colab.research.google.com/github/natelson/python/blob/main/web_scraping/download_info_about_cars_basic.ipynb\" target=\"_parent\"><img src=\"https://colab.research.google.com/assets/colab-badge.svg\" alt=\"Open In Colab\"/></a>"
      ]
    },
    {
      "cell_type": "markdown",
      "metadata": {
        "id": "PgvWwVj1q8WN"
      },
      "source": [
        "# <font color=green>1. WEB SCRAPING FOR BEGINNERS"
      ]
    },
    {
      "cell_type": "markdown",
      "metadata": {
        "id": "ucIZtRuqq8WR"
      },
      "source": [
        "# 1.1. What is web scraping?"
      ]
    },
    {
      "cell_type": "markdown",
      "metadata": {
        "id": "D-csdoZEq8WS"
      },
      "source": [
        "> *Web scraping* is the term used to extract data from web sites, there are numerous reasons to do this.\n",
        "\n",
        "> For example, suppose you want to build a machine learning model that recognizes in a photo whether or not it has a car, to train your model you will need hundreds of photos of cars to train the model.\n",
        "\n",
        "> Then you can create a bot that accesses car sales websites and downloads these photos to train your model later.\n",
        "\n",
        "> The idea here is to show you how to do this in python using some libraries for this, BeatifulSoup to work with the html we are analyzing. Urlib to request and download the content of pages and images and Pandas to transform this information into structured data so that we can store and work with them."
      ]
    },
    {
      "cell_type": "markdown",
      "metadata": {
        "id": "sO6KZzcPq8WT"
      },
      "source": [
        "# 1.2. Importing the libraries\n",
        "\n",
        "> For this example of web scraping, I used one fake website about cars, and the goal is download images of cars and extract some information about them.\n",
        "\n",
        "> The first step is importing the libraries, like the code below.\n"
      ]
    },
    {
      "cell_type": "code",
      "execution_count": 539,
      "metadata": {
        "colab": {
          "base_uri": "https://localhost:8080/"
        },
        "id": "e9pXIMIWByAp",
        "outputId": "583b376c-b8f0-49f0-aeb5-23583162eee4"
      },
      "outputs": [
        {
          "output_type": "stream",
          "name": "stdout",
          "text": [
            "BeautifulSoup -> 4.6.3\n",
            "urllib -> 3.7\n",
            "pandas -> 1.3.5\n"
          ]
        }
      ],
      "source": [
        "import bs4\n",
        "import urllib.request as urllib_request\n",
        "import pandas\n",
        "\n",
        "print(\"BeautifulSoup ->\", bs4.__version__)\n",
        "print(\"urllib ->\", urllib_request.__version__)\n",
        "print(\"pandas ->\", pandas.__version__)"
      ]
    },
    {
      "cell_type": "markdown",
      "metadata": {
        "id": "mFUmKGiYq8WW"
      },
      "source": [
        "---\n",
        "# <font color=green>2. Working with requests"
      ]
    },
    {
      "cell_type": "markdown",
      "metadata": {
        "id": "28GOJE-Qq8WX"
      },
      "source": [
        "## 2.1. Getting the HTML content of a website\n",
        "\n",
        "> For the download of code html of a page web, I used the library urlib.request, the link to documentation and the sample of use is below."
      ]
    },
    {
      "cell_type": "markdown",
      "metadata": {
        "id": "bYq5COesq8WY"
      },
      "source": [
        "# urllib.request\n",
        "## https://docs.python.org/3/library/urllib.html"
      ]
    },
    {
      "cell_type": "code",
      "source": [
        "from urllib.request import urlopen\n",
        "\n",
        "url = 'https://alura-site-scraping.herokuapp.com/hello-world.php'\n",
        "\n",
        "response = urlopen(url)\n",
        "html = response.read()\n",
        "print(html[:500])"
      ],
      "metadata": {
        "id": "VHjh-906svjK",
        "outputId": "1de104b0-4a86-47d5-bb4c-f78ceaa54bb5",
        "colab": {
          "base_uri": "https://localhost:8080/"
        }
      },
      "execution_count": 540,
      "outputs": [
        {
          "output_type": "stream",
          "name": "stdout",
          "text": [
            "b'<!DOCTYPE html>\\r\\n<html lang=\"pt-br\">\\r\\n<head>\\r\\n    <meta charset=\"utf-8\">\\r\\n    <meta name=\"viewport\" content=\"width=device-width, initial-scale=1, shrink-to-fit=no\">\\r\\n\\r\\n    <title>Alura Motors</title>\\r\\n\\t<link rel=\"stylesheet\" href=\"https://maxcdn.bootstrapcdn.com/bootstrap/3.3.7/css/bootstrap.min.css\" integrity=\"sha384-BVYiiSIFeK1dGmJRAkycuHAHRg32OmUcww7on3RYdg4Va+PmSTsz/K68vbdEjh4u\" crossorigin=\"anonymous\">\\r\\n\\t<link rel=\"stylesheet\" href=\"css/styles.css\" media=\"all\">\\r\\n\\r\\n\\t<script src=\"https://code'\n"
          ]
        }
      ]
    },
    {
      "cell_type": "markdown",
      "source": [
        "## 2.2. Some sites not allow bots, what you do?\n",
        "\n",
        "> Some sites, not allow bots, in this case for “lie” to website is necessary to send information about the user-agent in header of request. The information about user-agent sends the server of website of type of browser is visiting.\n",
        "> When our working with bots the web scraping is important create a behavior similar a user browsing in a web browser like the chrome. The user-agent have an important role this case."
      ],
      "metadata": {
        "id": "6Vqsp0oEwamM"
      }
    },
    {
      "cell_type": "code",
      "source": [
        "from urllib.request import Request, urlopen\n",
        "url = 'https://alura-site-scraping.herokuapp.com'\n",
        "headers = {'User-Agent': 'Mozilla/5.0 (Windows NT 10.0; Win64; x64) AppleWebKit/537.36 (KHTML, like Gecko) Chrome/76.0.3809.100 Safari/537.36'}\n",
        "\n",
        "req = Request(url, headers = headers)"
      ],
      "metadata": {
        "id": "TRnbM10VyYA7"
      },
      "execution_count": 541,
      "outputs": []
    },
    {
      "cell_type": "markdown",
      "metadata": {
        "id": "Z5v_pBMkq8Wa"
      },
      "source": [
        "## 2.3. If it's possible to fail, it will fail\n",
        "> When us to working with request a website, a large number of possible of error is possible. The website is down, is slow, the domain change, the access was blocked and the other situations.\n",
        "\n",
        "> In this case it is important to deal with possible errors. The code below was created to deal with 3 different errors:"
      ]
    },
    {
      "cell_type": "markdown",
      "source": [
        "### 2.3.1 HTTP Status Code <> 2xxx\n",
        "\n",
        "> Some times one website is not allowing the direct access and return some status code that raise errors in your application.\n",
        "> For example, the website of a company of course is not allowed access without header, return the HTTP Code 403, the code below handle HTTPError type errors.\n",
        "Note: For more information about http code visit https://developer.mozilla.org/en-US/docs/Web/HTTP/Status\n"
      ],
      "metadata": {
        "id": "FuAfG0VAziq0"
      }
    },
    {
      "cell_type": "code",
      "source": [
        "from urllib.request import Request, urlopen\n",
        "from urllib.error import URLError, HTTPError\n",
        "url = 'https://alura.com.br/'\n",
        "try:\n",
        "    req = Request(url)\n",
        "    response = urlopen(req)\n",
        "    print(response.read())\n",
        "\n",
        "except HTTPError as e:\n",
        "    print(e.status, e.reason)\n"
      ],
      "metadata": {
        "id": "fhEXp90t2Xef",
        "outputId": "49c2cd9c-c3d2-4896-890a-e451d676743f",
        "colab": {
          "base_uri": "https://localhost:8080/"
        }
      },
      "execution_count": 542,
      "outputs": [
        {
          "output_type": "stream",
          "name": "stdout",
          "text": [
            "403 Forbidden\n"
          ]
        }
      ]
    },
    {
      "cell_type": "markdown",
      "source": [
        "### 2.3.2 URL Errors\n",
        "\n",
        "Some times one website is down or the domain is changed, in this case your request returns one URLError.\n",
        "\n",
        "For this example, I change the url https://twitter.com for https://twitter.comx , such this domain not exist, the urlopen will return one urlerror"
      ],
      "metadata": {
        "id": "vy4znnr96EWO"
      }
    },
    {
      "cell_type": "code",
      "source": [
        "from urllib.request import Request, urlopen\n",
        "from urllib.error import URLError, HTTPError\n",
        "url = 'https://twitter.comx/'\n",
        "try:\n",
        "    req = Request(url)\n",
        "    response = urlopen(req)\n",
        "    html = response.read()\n",
        "\n",
        "except HTTPError as e:\n",
        "    print(e.status, e.reason)\n",
        "\n",
        "except URLError as e:\n",
        "  print(e.reason)"
      ],
      "metadata": {
        "id": "pkqAfabT6pdY",
        "outputId": "87e1e0e6-f79d-4f90-a64f-b2df80381ed7",
        "colab": {
          "base_uri": "https://localhost:8080/"
        }
      },
      "execution_count": 543,
      "outputs": [
        {
          "output_type": "stream",
          "name": "stdout",
          "text": [
            "[Errno -2] Name or service not known\n"
          ]
        }
      ]
    },
    {
      "cell_type": "markdown",
      "metadata": {
        "id": "TJCvFVnNq8Wb"
      },
      "source": [
        "#### For more information about the library request visit https://docs.python.org/3/library/urllib.request.html#urllib.request.Request"
      ]
    },
    {
      "cell_type": "markdown",
      "metadata": {
        "id": "2OKsytCXq8Wc"
      },
      "source": [
        "## 2.4 String handling\n",
        "\n",
        "> When working with web scraping is important transform the code html in some text more friendly for work with him.\n",
        "> Below have some examples to convert the html code a text more friendly for work. \n",
        "\n",
        "> **The BeatifulSoup library will be working without these treatments, but sometimes some errors is solved with this approach.**"
      ]
    },
    {
      "cell_type": "markdown",
      "metadata": {
        "id": "hxaHaoVoq8Wc"
      },
      "source": [
        "### Converting type bytes to string"
      ]
    },
    {
      "cell_type": "code",
      "execution_count": 544,
      "metadata": {
        "id": "iLmhqKTsq8Wc",
        "colab": {
          "base_uri": "https://localhost:8080/"
        },
        "outputId": "4007627a-0f48-4e9f-9e9f-55ea2d99fee1"
      },
      "outputs": [
        {
          "output_type": "execute_result",
          "data": {
            "text/plain": [
              "b'<!DOCTYPE html>\\r\\n<html lang=\"pt-br\">\\r\\n<head>\\r\\n    <meta charset=\"utf-8\">\\r\\n    <meta name=\"viewport\" content=\"width=device-width, initial-scale=1, shrink-to-fit=no\">\\r\\n\\r\\n    <title>Alura Motors</title>\\r\\n\\r\\n\\t<style>\\r\\n\\t\\t/*Regra para a animacao*/\\r\\n\\t\\t@keyframes spin {\\r\\n\\t\\t\\t0% { transform: rotate(0deg); }\\r\\n\\t\\t\\t100% { transform: rotate(360deg); }\\r\\n\\t\\t}\\r\\n\\t\\t/*Mudando o tamanho do icone de resposta*/\\r\\n\\t\\tdiv.glyphicon {\\r\\n\\t\\t\\tcolor:#6B8E23;\\r\\n\\t\\t\\tfont-size: 38px;\\r\\n\\t\\t}\\r\\n\\t\\t/*Classe que mostra a animacao \\'spin\\'*/\\r\\n\\t\\t.'"
            ]
          },
          "metadata": {},
          "execution_count": 544
        }
      ],
      "source": [
        "from urllib.request import urlopen\n",
        "\n",
        "url = 'https://alura-site-scraping.herokuapp.com/index.php'\n",
        "\n",
        "response = urlopen(url)\n",
        "html = response.read()\n",
        "html[:500]"
      ]
    },
    {
      "cell_type": "code",
      "execution_count": 545,
      "metadata": {
        "id": "q2wYWYKxq8Wd",
        "colab": {
          "base_uri": "https://localhost:8080/"
        },
        "outputId": "a8ca4dc9-84d7-41c6-8f0a-6f38d46612b6"
      },
      "outputs": [
        {
          "output_type": "execute_result",
          "data": {
            "text/plain": [
              "bytes"
            ]
          },
          "metadata": {},
          "execution_count": 545
        }
      ],
      "source": [
        "type(html)"
      ]
    },
    {
      "cell_type": "code",
      "execution_count": 546,
      "metadata": {
        "id": "b7Hxb5Bgq8Wd"
      },
      "outputs": [],
      "source": [
        "html_text = html.decode('utf-8')"
      ]
    },
    {
      "cell_type": "code",
      "execution_count": 547,
      "metadata": {
        "id": "eEsUVVbGq8Wd",
        "colab": {
          "base_uri": "https://localhost:8080/"
        },
        "outputId": "b5828180-b654-43ff-ed1f-25fe5b1daace"
      },
      "outputs": [
        {
          "output_type": "execute_result",
          "data": {
            "text/plain": [
              "str"
            ]
          },
          "metadata": {},
          "execution_count": 547
        }
      ],
      "source": [
        "type(html_text)"
      ]
    },
    {
      "cell_type": "markdown",
      "metadata": {
        "id": "HLfeSVbGq8Wd"
      },
      "source": [
        "### Remove tab characters, line breaks, etc."
      ]
    },
    {
      "cell_type": "code",
      "execution_count": 548,
      "metadata": {
        "id": "sTIeMDQtq8We",
        "colab": {
          "base_uri": "https://localhost:8080/"
        },
        "outputId": "459e3527-0225-4166-805a-c722de0904b5"
      },
      "outputs": [
        {
          "output_type": "execute_result",
          "data": {
            "text/plain": [
              "['<!DOCTYPE',\n",
              " 'html>',\n",
              " '<html',\n",
              " 'lang=\"pt-br\">',\n",
              " '<head>',\n",
              " '<meta',\n",
              " 'charset=\"utf-8\">',\n",
              " '<meta',\n",
              " 'name=\"viewport\"',\n",
              " 'content=\"width=device-width,',\n",
              " 'initial-scale=1,',\n",
              " 'shrink-to-fit=no\">',\n",
              " '<title>Alura',\n",
              " 'Motors</title>',\n",
              " '<style>',\n",
              " '/*Regra',\n",
              " 'para',\n",
              " 'a',\n",
              " 'animacao*/',\n",
              " '@keyframes',\n",
              " 'spin',\n",
              " '{',\n",
              " '0%',\n",
              " '{',\n",
              " 'transform:',\n",
              " 'rotate(0deg);',\n",
              " '}',\n",
              " '100%',\n",
              " '{',\n",
              " 'transform:',\n",
              " 'rotate(360deg);',\n",
              " '}',\n",
              " '}',\n",
              " '/*Mudando',\n",
              " 'o',\n",
              " 'tamanho',\n",
              " 'do',\n",
              " 'icone',\n",
              " 'de',\n",
              " 'resposta*/',\n",
              " 'div.glyphicon',\n",
              " '{',\n",
              " 'color:#6B8E23;',\n",
              " 'font-size:',\n",
              " '38px;',\n",
              " '}',\n",
              " '/*Classe',\n",
              " 'que',\n",
              " 'mostra',\n",
              " 'a']"
            ]
          },
          "metadata": {},
          "execution_count": 548
        }
      ],
      "source": [
        "html_text.split()[:50]"
      ]
    },
    {
      "cell_type": "code",
      "execution_count": 549,
      "metadata": {
        "scrolled": true,
        "id": "acDaZ3W6q8We",
        "colab": {
          "base_uri": "https://localhost:8080/",
          "height": 0
        },
        "outputId": "2002ef91-91c6-4903-f36f-9250405b6b72"
      },
      "outputs": [
        {
          "output_type": "execute_result",
          "data": {
            "text/plain": [
              "'<!DOCTYPE html> <html lang=\"pt-br\"> <head> <meta charset=\"utf-8\"> <meta name=\"viewport\" content=\"width=device-width, initial-scale=1, shrink-to-fit=no\"> <title>Alura Motors</title> <style> /*Regra para a animacao*/ @keyframes spin { 0% { transform: rotate(0deg); } 100% { transform: rotate(360deg); } } /*Mudando o tamanho do icone de resposta*/ div.glyphicon { color:#6B8E23; font-size: 38px; } /*Classe que mostra a animacao \\'spin\\'*/ .loader { border: 16px solid #f3f3f3; border-radius: 50%; border'"
            ],
            "application/vnd.google.colaboratory.intrinsic+json": {
              "type": "string"
            }
          },
          "metadata": {},
          "execution_count": 549
        }
      ],
      "source": [
        "\" \".join(html_text.split())[:500]"
      ]
    },
    {
      "cell_type": "markdown",
      "metadata": {
        "id": "97i_wnYMq8We"
      },
      "source": [
        "### Eliminating white spaces between TAGS"
      ]
    },
    {
      "cell_type": "code",
      "execution_count": 550,
      "metadata": {
        "scrolled": true,
        "id": "GIsQP6qIq8We",
        "colab": {
          "base_uri": "https://localhost:8080/",
          "height": 0
        },
        "outputId": "46dd024b-f21a-461e-8794-c8589ea55c3f"
      },
      "outputs": [
        {
          "output_type": "execute_result",
          "data": {
            "text/plain": [
              "'<!DOCTYPE html><html lang=\"pt-br\"><head><meta charset=\"utf-8\"><meta name=\"viewport\" content=\"width=device-width, initial-scale=1, shrink-to-fit=no\"><title>Alura Motors</title><style> /*Regra para a animacao*/ @keyframes spin { 0% { transform: rotate(0deg); } 100% { transform: rotate(360deg); } } /*Mudando o tamanho do icone de resposta*/ div.glyphicon { color:#6B8E23; font-size: 38px; } /*Classe que mostra a animacao \\'spin\\'*/ .loader { border: 16px solid #f3f3f3; border-radius: 50%; border-top: '"
            ],
            "application/vnd.google.colaboratory.intrinsic+json": {
              "type": "string"
            }
          },
          "metadata": {},
          "execution_count": 550
        }
      ],
      "source": [
        "\" \".join(html_text.split()).replace('> <', '><')[:500]"
      ]
    },
    {
      "cell_type": "markdown",
      "metadata": {
        "id": "etf0E7HWq8We"
      },
      "source": [
        "### String handling function"
      ]
    },
    {
      "cell_type": "code",
      "execution_count": 551,
      "metadata": {
        "id": "lqNZ1mCJq8We"
      },
      "outputs": [],
      "source": [
        "def change_html_byte_to_text(html_byte):\n",
        "    html_text = html_byte.decode('utf-8')\n",
        "    html_text =  \" \".join(html_text.split()).replace('> <', '><')\n",
        "    return html_text"
      ]
    },
    {
      "cell_type": "code",
      "execution_count": 552,
      "metadata": {
        "id": "m0_ywrjQq8Wf"
      },
      "outputs": [],
      "source": [
        "html = change_html_byte_to_text(html)"
      ]
    },
    {
      "cell_type": "code",
      "execution_count": 553,
      "metadata": {
        "scrolled": true,
        "id": "3WukFkGsq8Wf",
        "colab": {
          "base_uri": "https://localhost:8080/",
          "height": 0
        },
        "outputId": "ab48c528-5451-4bf1-c397-3d7a451021dd"
      },
      "outputs": [
        {
          "output_type": "execute_result",
          "data": {
            "text/plain": [
              "'<!DOCTYPE html><html lang=\"pt-br\"><head><meta charset=\"utf-8\"><meta name=\"viewport\" content=\"width=device-width, initial-scale=1, shrink-to-fit=no\"><title>Alura Motors</title><style> /*Regra para a animacao*/ @keyframes spin { 0% { transform: rotate(0deg); } 100% { transform: rotate(360deg); } } /*Mudando o tamanho do icone de resposta*/ div.glyphicon { color:#6B8E23; font-size: 38px; } /*Classe que mostra a animacao \\'spin\\'*/ .loader { border: 16px solid #f3f3f3; border-radius: 50%; border-top: '"
            ],
            "application/vnd.google.colaboratory.intrinsic+json": {
              "type": "string"
            }
          },
          "metadata": {},
          "execution_count": 553
        }
      ],
      "source": [
        "html[:500]"
      ]
    },
    {
      "cell_type": "markdown",
      "source": [
        "# <font color=green>3. Extracting information with BeautifulSoup"
      ],
      "metadata": {
        "id": "vRJBwSQIrM85"
      }
    },
    {
      "cell_type": "markdown",
      "source": [
        "# 3.1. Understand the format of an HTML code"
      ],
      "metadata": {
        "id": "d1-xwg7wrchp"
      }
    },
    {
      "cell_type": "markdown",
      "metadata": {
        "id": "ULcCZrmeq8Wf"
      },
      "source": [
        "**HTML** (*HyperText Markup Language*) is a markup language made up of **tags** that determine the role that each part of the document will assume. The **tags** are formed by your name and attributes. Attributes are used to configure and also modify the default characteristics of a **tag**.\n",
        "\n",
        "## Basic Structure\n",
        "\n",
        "```html\n",
        "<html>\n",
        "    <head>\n",
        "        <meta charset=\"utf-8\" />\n",
        "        <title>Alura Motors</title>\n",
        "    </head>\n",
        "    <body>\n",
        "        <div id=\"container\">\n",
        "            <h1>Alura</h1>\n",
        "            <h2 class=\"formato\">Cursos de Tecnologia</h2>\n",
        "            <p>Você vai estudar, praticar, discutir e aprender.</p>\n",
        "            <a href=\"https://www.alura.com.br/\">Clique aqui</a>\n",
        "        </div>\n",
        "    </body>\n",
        "</html>\n",
        "```\n",
        "\n",
        "```<html>``` - determines the beginning of the document.\n",
        "\n",
        "```<head>``` - header. Contains document information and settings.\n",
        "\n",
        "```<body>``` - is the body of the document, where all the content is placed. This is the part visible in a browser.\n",
        "\n",
        "## Most common tags\n",
        "\n",
        "```<div>``` - Defines a division of the page. Can be formatted in different ways.\n",
        "\n",
        "```<h1>, <h2>, <h3>, <h4>, <h5>, <h6>``` - Title markerss.\n",
        "\n",
        "```<p>``` - Paragraph marker.\n",
        "\n",
        "```<a>``` - hiperlink.\n",
        "\n",
        "```<img>``` - image display.\n",
        "\n",
        "```<table>``` - tables.\n",
        "\n",
        "```<ul>, <li>``` - lists.\n"
      ]
    },
    {
      "cell_type": "markdown",
      "metadata": {
        "id": "7SSt6Teoq8Wg"
      },
      "source": [
        "# 3.2. Creating a BeautifulSoup object"
      ]
    },
    {
      "cell_type": "markdown",
      "metadata": {
        "id": "5OIR_Q_6q8Wh"
      },
      "source": [
        "## https://www.crummy.com/software/BeautifulSoup/\n",
        "\n",
        "### About parser: https://www.crummy.com/software/BeautifulSoup/bs4/doc/#parser-installation"
      ]
    },
    {
      "cell_type": "code",
      "execution_count": 554,
      "metadata": {
        "id": "5Oxx_d0BCWGa",
        "scrolled": true
      },
      "outputs": [],
      "source": [
        "from bs4 import BeautifulSoup\n",
        "soup = BeautifulSoup(html, 'html.parser')\n"
      ]
    },
    {
      "cell_type": "code",
      "execution_count": 555,
      "metadata": {
        "scrolled": true,
        "id": "UC4ePrZHq8Wh",
        "outputId": "67957bd9-529c-4c52-ea87-4c6f1da08050",
        "colab": {
          "base_uri": "https://localhost:8080/"
        }
      },
      "outputs": [
        {
          "output_type": "stream",
          "name": "stdout",
          "text": [
            "<class 'bs4.BeautifulSoup'>\n",
            "<!DOCTYPE html>\n",
            "<html lang=\"pt-br\">\n",
            " <head>\n",
            "  <met\n"
          ]
        }
      ],
      "source": [
        "print(type(soup))\n",
        "\n",
        "print(soup.prettify()[:50])"
      ]
    },
    {
      "cell_type": "markdown",
      "metadata": {
        "id": "H51JPVifq8Wh"
      },
      "source": [
        "# 3.3. Accessing tags"
      ]
    },
    {
      "cell_type": "code",
      "execution_count": 556,
      "metadata": {
        "scrolled": true,
        "id": "w46ugwpzq8Wh",
        "outputId": "eb427403-4e92-423f-8069-dd5c2a0fb996",
        "colab": {
          "base_uri": "https://localhost:8080/"
        }
      },
      "outputs": [
        {
          "output_type": "execute_result",
          "data": {
            "text/plain": [
              "<title>Alura Motors</title>"
            ]
          },
          "metadata": {},
          "execution_count": 556
        }
      ],
      "source": [
        "# Read the tile - Solution 1\n",
        "soup.html.head.title\n"
      ]
    },
    {
      "cell_type": "code",
      "execution_count": 557,
      "metadata": {
        "scrolled": true,
        "id": "nLSI5uOaq8Wi",
        "outputId": "58ae9d80-3b42-4f9e-9e64-29f4101d2250",
        "colab": {
          "base_uri": "https://localhost:8080/"
        }
      },
      "outputs": [
        {
          "output_type": "execute_result",
          "data": {
            "text/plain": [
              "<title>Alura Motors</title>"
            ]
          },
          "metadata": {},
          "execution_count": 557
        }
      ],
      "source": [
        "# Read the tile - Solution 2\n",
        "soup.title"
      ]
    },
    {
      "cell_type": "markdown",
      "source": [
        "In solution 1 it is possible to follow the structure of the html that was read by BeatifulSoup. In solution 2, we can directly put the name of the tag we want to read, in this case it will show the value of the first one it finds in the html structure that was read."
      ],
      "metadata": {
        "id": "LnxFp0IEXkcn"
      }
    },
    {
      "cell_type": "code",
      "execution_count": 558,
      "metadata": {
        "id": "KbOYvL_Hq8Wi",
        "outputId": "74cb2f11-d31b-4885-f6d0-b519c5f23998",
        "colab": {
          "base_uri": "https://localhost:8080/"
        }
      },
      "outputs": [
        {
          "output_type": "execute_result",
          "data": {
            "text/plain": [
              "<div class=\"modal-header\"><h5 class=\"modal-title\" id=\"loadingModal_label\"><span class=\"glyphicon glyphicon-refresh\"></span>Aguarde... </h5></div>"
            ]
          },
          "metadata": {},
          "execution_count": 558
        }
      ],
      "source": [
        "#Read the div - Solutions 1\n",
        "\n",
        "soup.div.div.div.div"
      ]
    },
    {
      "cell_type": "code",
      "execution_count": 559,
      "metadata": {
        "id": "wJbzQUBVq8Wi",
        "outputId": "a2ab7ea1-ba5b-4d0b-dac3-6f4c1ca10d30",
        "colab": {
          "base_uri": "https://localhost:8080/"
        }
      },
      "outputs": [
        {
          "output_type": "execute_result",
          "data": {
            "text/plain": [
              "<div aria-labelledby=\"loadingModal_label\" class=\"modal fade\" data-backdrop=\"static\" id=\"loadingModal\" role=\"dialog\" tabindex=\"-1\"><div class=\"modal-dialog\" role=\"document\"><div class=\"modal-content\"><div class=\"modal-header\"><h5 class=\"modal-title\" id=\"loadingModal_label\"><span class=\"glyphicon glyphicon-refresh\"></span>Aguarde... </h5></div><div class=\"modal-body\"><div class=\"alert\" role=\"alert\"><center><div class=\"loader\" id=\"loader\"></div><br/><h4><b id=\"loadingModal_content\"></b></h4></center></div></div></div></div></div>"
            ]
          },
          "metadata": {},
          "execution_count": 559
        }
      ],
      "source": [
        "#Read the div - Solutions 2\n",
        "soup.div"
      ]
    },
    {
      "cell_type": "markdown",
      "source": [
        "In this case, the result was different, in solution 1 we want to read the content of the fourth div, but in solution 2, when placing only Div, it brought the entire content of the first div."
      ],
      "metadata": {
        "id": "wZI2huyCaRXm"
      }
    },
    {
      "cell_type": "markdown",
      "metadata": {
        "id": "QNEfBaX8q8Wi"
      },
      "source": [
        "# 3.4. Accessing tag content"
      ]
    },
    {
      "cell_type": "code",
      "execution_count": 560,
      "metadata": {
        "id": "WrFMUbquq8Wi",
        "outputId": "b204ee26-b1e3-4cbf-fb33-c9577ef2bd5a",
        "colab": {
          "base_uri": "https://localhost:8080/",
          "height": 0
        }
      },
      "outputs": [
        {
          "output_type": "execute_result",
          "data": {
            "text/plain": [
              "'Alura Motors'"
            ],
            "application/vnd.google.colaboratory.intrinsic+json": {
              "type": "string"
            }
          },
          "metadata": {},
          "execution_count": 560
        }
      ],
      "source": [
        "#extract text ou contenf of tag - Solution 1\n",
        "soup.html.head.title.get_text()\n"
      ]
    },
    {
      "cell_type": "code",
      "execution_count": 561,
      "metadata": {
        "id": "CB2w_O7Eq8Wi",
        "outputId": "ee9ea690-856b-4960-80aa-35343d9127ec",
        "colab": {
          "base_uri": "https://localhost:8080/",
          "height": 0
        }
      },
      "outputs": [
        {
          "output_type": "execute_result",
          "data": {
            "text/plain": [
              "'Alura Motors'"
            ],
            "application/vnd.google.colaboratory.intrinsic+json": {
              "type": "string"
            }
          },
          "metadata": {},
          "execution_count": 561
        }
      ],
      "source": [
        "#extract text ou contenf of tag - Solution 2\n",
        "soup.html.head.title.getText()"
      ]
    },
    {
      "cell_type": "code",
      "execution_count": 562,
      "metadata": {
        "id": "Af7anjIOq8Wj",
        "outputId": "14af1ee4-1dea-47ed-fbf9-6cd5e91cf743",
        "colab": {
          "base_uri": "https://localhost:8080/",
          "height": 0
        }
      },
      "outputs": [
        {
          "output_type": "execute_result",
          "data": {
            "text/plain": [
              "'Aguarde... '"
            ],
            "application/vnd.google.colaboratory.intrinsic+json": {
              "type": "string"
            }
          },
          "metadata": {},
          "execution_count": 562
        }
      ],
      "source": [
        "soup.div.div.div.div.get_text()"
      ]
    },
    {
      "cell_type": "code",
      "execution_count": 563,
      "metadata": {
        "id": "-6uMJpvcq8Wj",
        "outputId": "4354ed7c-2243-4dc5-8f63-03591b9da024",
        "colab": {
          "base_uri": "https://localhost:8080/",
          "height": 0
        }
      },
      "outputs": [
        {
          "output_type": "execute_result",
          "data": {
            "text/plain": [
              "'Alura Motors /*Regra para a animacao*/ @keyframes spin { 0% { transform: rotate(0deg); } 100% { transform: rotate(360deg); } } /*Mudando o tamanho do icone de resposta*/ div.glyphicon { color:#6B8E23; font-size: 38px; } /*Classe que mostra a animacao \\'spin\\'*/ .loader { border: 16px solid #f3f3f3; border-radius: 50%; border-top: 16px solid #3498db; width: 80px; height: 80px; -webkit-animation: spin 2s linear infinite; animation: spin 2s linear infinite; }  requisitar(\"https://alura-scraping.herokuapp.com/produtos?_page=\"+1+\"&_limit=10\") You need to enable JavaScript to run this app.Aguarde... Motors Hello WorldAnúnciosVeículos de Luxo Novos e Usados - Todas as Marcas246 veículos encontradosPágina 1 de 25LAMBORGHINI AVENTADORUSADOMotor 1.8 16vAno 1993 - 55.286 km► 4 X 4► Câmera de estacionamento► Controle de tração► Sensor de estacionamento...Belo Horizonte - MGR$ 338.000BMW M2USADOMotor 3.0 32vAno 2018 - 83.447 km► Câmera de estacionamento► Controle de estabilidade► Travas elétricas► Freios ABS...Belo Horizonte - MGR$ 346.000ALFAUSADOMotor 1.8 16vAno 2004 - 19.722 km► Central multimídia► Bancos de couro► Rodas de liga► Câmera de estacionamento...Rio de Janeiro - RJR$ 480.000PUECHUSADOMotor Diesel V8Ano 1992 - 34.335 km► Bancos de couro► Freios ABS► Rodas de liga► Câmbio automático...São Paulo - SPR$ 133.000LAMBORGHINI MURCIELAGOUSADOMotor 1.0 8vAno 1991 - 464 km► Central multimídia► Teto panorâmico► Sensor crepuscular► Piloto automático...Belo Horizonte - MGR$ 175.000ASTON MARTINUSADOOPORTUNIDADEMotor Diesel V6Ano 2004 - 50.189 km► Painel digital► Controle de tração► Teto panorâmico► Central multimídia...Belo Horizonte - MGR$ 239.000TVRUSADOMotor 4.0 TurboAno 2014 - 17.778 km► 4 X 4► Teto panorâmico► Central multimídia► Controle de estabilidade...Belo Horizonte - MGR$ 115.000EXCALIBURUSADOMotor 3.0 32vAno 2009 - 81.251 km► Painel digital► Câmbio automático► Sensor de chuva► Travas elétricas...Rio de Janeiro - RJR$ 114.000MCLARENNOVOMotor DieselAno 2019 - 0 km► Central multimídia► Câmera de estacionamento► Câmbio automático► Ar condicionado...São Paulo - SPR$ 75.000TOYOTAUSADOOPORTUNIDADEMotor 4.0 TurboAno 1999 - 12.536 km► Bancos de couro► Freios ABS► Piloto automático► Controle de estabilidade...São Paulo - SPR$ 117.000246 veículos encontradosPágina 1 de 25Motors Aplicação para treinamento de web scraping'"
            ],
            "application/vnd.google.colaboratory.intrinsic+json": {
              "type": "string"
            }
          },
          "metadata": {},
          "execution_count": 563
        }
      ],
      "source": [
        "#get all text\n",
        "soup.get_text()"
      ]
    },
    {
      "cell_type": "code",
      "execution_count": 564,
      "metadata": {
        "id": "uLR70RO4q8Wj",
        "outputId": "922cd502-3059-4c50-a686-94133c824c7c",
        "colab": {
          "base_uri": "https://localhost:8080/",
          "height": 0
        }
      },
      "outputs": [
        {
          "output_type": "execute_result",
          "data": {
            "text/plain": [
              "'Alura Motors|| /*Regra para a animacao*/ @keyframes spin { 0% { transform: rotate(0deg); } 100% { transform: rotate(360deg); } } /*Mudando o tamanho do icone de resposta*/ div.glyphicon { color:#6B8E23; font-size: 38px; } /*Classe que mostra a animacao \\'spin\\'*/ .loader { border: 16px solid #f3f3f3; border-radius: 50%; border-top: 16px solid #3498db; width: 80px; height: 80px; -webkit-animation: spin 2s linear infinite; animation: spin 2s linear infinite; } || requisitar(\"https://alura-scraping.herokuapp.com/produtos?_page=\"+1+\"&_limit=10\") ||You need to enable JavaScript to run this app.||Aguarde... ||Motors ||Hello World||Anúncios||Veículos de Luxo Novos e Usados - Todas as Marcas||246 veículos encontrados||Página 1 de 25||LAMBORGHINI AVENTADOR||USADO||Motor 1.8 16v||Ano 1993 - 55.286 km||► 4 X 4||► Câmera de estacionamento||► Controle de tração||► Sensor de estacionamento||...||Belo Horizonte - MG||R$ 338.000||BMW M2||USADO||Motor 3.0 32v||Ano 2018 - 83.447 km||► Câmera de estacionamento||► Controle de estabilidade||► Travas elétricas||► Freios ABS||...||Belo Horizonte - MG||R$ 346.000||ALFA||USADO||Motor 1.8 16v||Ano 2004 - 19.722 km||► Central multimídia||► Bancos de couro||► Rodas de liga||► Câmera de estacionamento||...||Rio de Janeiro - RJ||R$ 480.000||PUECH||USADO||Motor Diesel V8||Ano 1992 - 34.335 km||► Bancos de couro||► Freios ABS||► Rodas de liga||► Câmbio automático||...||São Paulo - SP||R$ 133.000||LAMBORGHINI MURCIELAGO||USADO||Motor 1.0 8v||Ano 1991 - 464 km||► Central multimídia||► Teto panorâmico||► Sensor crepuscular||► Piloto automático||...||Belo Horizonte - MG||R$ 175.000||ASTON MARTIN||USADO||OPORTUNIDADE||Motor Diesel V6||Ano 2004 - 50.189 km||► Painel digital||► Controle de tração||► Teto panorâmico||► Central multimídia||...||Belo Horizonte - MG||R$ 239.000||TVR||USADO||Motor 4.0 Turbo||Ano 2014 - 17.778 km||► 4 X 4||► Teto panorâmico||► Central multimídia||► Controle de estabilidade||...||Belo Horizonte - MG||R$ 115.000||EXCALIBUR||USADO||Motor 3.0 32v||Ano 2009 - 81.251 km||► Painel digital||► Câmbio automático||► Sensor de chuva||► Travas elétricas||...||Rio de Janeiro - RJ||R$ 114.000||MCLAREN||NOVO||Motor Diesel||Ano 2019 - 0 km||► Central multimídia||► Câmera de estacionamento||► Câmbio automático||► Ar condicionado||...||São Paulo - SP||R$ 75.000||TOYOTA||USADO||OPORTUNIDADE||Motor 4.0 Turbo||Ano 1999 - 12.536 km||► Bancos de couro||► Freios ABS||► Piloto automático||► Controle de estabilidade||...||São Paulo - SP||R$ 117.000||246 veículos encontrados||Página 1 de 25||Motors ||Aplicação para treinamento de web scraping'"
            ],
            "application/vnd.google.colaboratory.intrinsic+json": {
              "type": "string"
            }
          },
          "metadata": {},
          "execution_count": 564
        }
      ],
      "source": [
        "#get all text with a separator\n",
        "soup.get_text(separator = '||')"
      ]
    },
    {
      "cell_type": "markdown",
      "metadata": {
        "id": "HR1CLHalq8Wj"
      },
      "source": [
        "# 3.5. Accessing the attributes of a tag"
      ]
    },
    {
      "cell_type": "code",
      "execution_count": 565,
      "metadata": {
        "id": "0QTZP2I8q8Wj",
        "outputId": "a949794f-340d-4c78-9ac9-9ca818836627",
        "colab": {
          "base_uri": "https://localhost:8080/"
        }
      },
      "outputs": [
        {
          "output_type": "execute_result",
          "data": {
            "text/plain": [
              "<img alt=\"Alura\" class=\"d-inline-block align-top\" src=\"img/alura-logo.svg\"/>"
            ]
          },
          "metadata": {},
          "execution_count": 565
        }
      ],
      "source": [
        "soup.img\n"
      ]
    },
    {
      "cell_type": "code",
      "execution_count": 566,
      "metadata": {
        "id": "yMYKiO-yq8Wj",
        "outputId": "492e9d5a-d657-4d37-cd06-87f57272536c",
        "colab": {
          "base_uri": "https://localhost:8080/"
        }
      },
      "outputs": [
        {
          "output_type": "execute_result",
          "data": {
            "text/plain": [
              "{'alt': 'Alura',\n",
              " 'class': ['d-inline-block', 'align-top'],\n",
              " 'src': 'img/alura-logo.svg'}"
            ]
          },
          "metadata": {},
          "execution_count": 566
        }
      ],
      "source": [
        "#um dict of all attributes of a tag {name_attr: value_of_attr, ...}\n",
        "soup.img.attrs"
      ]
    },
    {
      "cell_type": "markdown",
      "source": [
        "When an attribute has more one value, the beatifulsoup return a list of values for this attributes, example the attribute class has two values, one list of values of this attribute."
      ],
      "metadata": {
        "id": "0XHrdYJHnolV"
      }
    },
    {
      "cell_type": "code",
      "execution_count": 567,
      "metadata": {
        "id": "4_Ft6eZHq8Wk",
        "outputId": "abe5b350-cc4f-4776-f095-bee8c94745b1",
        "colab": {
          "base_uri": "https://localhost:8080/"
        }
      },
      "outputs": [
        {
          "output_type": "execute_result",
          "data": {
            "text/plain": [
              "dict_keys(['src', 'class', 'alt'])"
            ]
          },
          "metadata": {},
          "execution_count": 567
        }
      ],
      "source": [
        "#is possible work this attributes like a dict\n",
        "soup.img.attrs.keys()"
      ]
    },
    {
      "cell_type": "code",
      "execution_count": 568,
      "metadata": {
        "id": "ymnJdNfbq8Wk",
        "outputId": "b7b1d886-7e0f-4d02-f794-055e42d9f83e",
        "colab": {
          "base_uri": "https://localhost:8080/"
        }
      },
      "outputs": [
        {
          "output_type": "execute_result",
          "data": {
            "text/plain": [
              "dict_values(['img/alura-logo.svg', ['d-inline-block', 'align-top'], 'Alura'])"
            ]
          },
          "metadata": {},
          "execution_count": 568
        }
      ],
      "source": [
        "soup.img.attrs.values()"
      ]
    },
    {
      "cell_type": "code",
      "execution_count": 569,
      "metadata": {
        "id": "USo3KEJ4q8Wk",
        "outputId": "e5fe4cdb-779d-4cda-ce17-ef6c2f6bf814",
        "colab": {
          "base_uri": "https://localhost:8080/"
        }
      },
      "outputs": [
        {
          "output_type": "execute_result",
          "data": {
            "text/plain": [
              "['d-inline-block', 'align-top']"
            ]
          },
          "metadata": {},
          "execution_count": 569
        }
      ],
      "source": [
        "#read one element of dict\n",
        "soup.img['class']"
      ]
    },
    {
      "cell_type": "code",
      "execution_count": 570,
      "metadata": {
        "id": "4AT2kVT_q8Wk",
        "outputId": "0b4d8d71-bdd7-425f-b05b-b780ea7ea212",
        "colab": {
          "base_uri": "https://localhost:8080/",
          "height": 0
        }
      },
      "outputs": [
        {
          "output_type": "execute_result",
          "data": {
            "text/plain": [
              "'img/alura-logo.svg'"
            ],
            "application/vnd.google.colaboratory.intrinsic+json": {
              "type": "string"
            }
          },
          "metadata": {},
          "execution_count": 570
        }
      ],
      "source": [
        "#get of value of the element of dict\n",
        "soup.img.get('src')"
      ]
    },
    {
      "cell_type": "markdown",
      "metadata": {
        "id": "8-9COaBFq8Wk"
      },
      "source": [
        "---\n",
        "# <font color=green>4. SEARCHING WITH BEAUTIFULSOUP"
      ]
    },
    {
      "cell_type": "markdown",
      "metadata": {
        "id": "8VO650tJq8Wk"
      },
      "source": [
        "# 4.1. The *find()* and *findAll()* methods"
      ]
    },
    {
      "cell_type": "markdown",
      "metadata": {
        "id": "-nbNfbN8q8Wl"
      },
      "source": [
        "- ### *find(tag, attributes, recursive, text, **kwargs)*\n",
        "\n",
        "- ### *findAll(tag, attributes, recursive, text, limit, **kwargs)*\n",
        "\n",
        "#### https://www.crummy.com/software/BeautifulSoup/bs4/doc/#find\n",
        "#### https://www.crummy.com/software/BeautifulSoup/bs4/doc/#find-all\n",
        "\n",
        "> **Note:**\n",
        "> - *findAll()* can also be used as *find_all()*"
      ]
    },
    {
      "cell_type": "markdown",
      "metadata": {
        "id": "yx30cNh1q8Wl"
      },
      "source": [
        "### *find()* method\n",
        "\n",
        "Return the first tag founded"
      ]
    },
    {
      "cell_type": "code",
      "execution_count": 571,
      "metadata": {
        "id": "6mPwHZYHq8Wl",
        "outputId": "1ce76815-df89-46ea-8673-487a6f4a5265",
        "colab": {
          "base_uri": "https://localhost:8080/"
        }
      },
      "outputs": [
        {
          "output_type": "execute_result",
          "data": {
            "text/plain": [
              "<img alt=\"Alura\" class=\"d-inline-block align-top\" src=\"img/alura-logo.svg\"/>"
            ]
          },
          "metadata": {},
          "execution_count": 571
        }
      ],
      "source": [
        "soup.find('img')"
      ]
    },
    {
      "cell_type": "code",
      "execution_count": 572,
      "metadata": {
        "id": "CTAcAiMBq8Wl",
        "outputId": "3752f072-6b5e-439a-e4bc-d851292f44ba",
        "colab": {
          "base_uri": "https://localhost:8080/"
        }
      },
      "outputs": [
        {
          "output_type": "execute_result",
          "data": {
            "text/plain": [
              "<img alt=\"Alura\" class=\"d-inline-block align-top\" src=\"img/alura-logo.svg\"/>"
            ]
          },
          "metadata": {},
          "execution_count": 572
        }
      ],
      "source": [
        "# is the same\n",
        "soup.img\n"
      ]
    },
    {
      "cell_type": "markdown",
      "metadata": {
        "id": "TftT849uq8Wl"
      },
      "source": [
        "### *findAll()* method\n",
        "Returns a list of found tags\n"
      ]
    },
    {
      "cell_type": "code",
      "execution_count": 573,
      "metadata": {
        "id": "1ludq_V7q8Wm",
        "outputId": "311c2edd-d419-42a5-ac9e-ccb63fb94b1f",
        "colab": {
          "base_uri": "https://localhost:8080/"
        }
      },
      "outputs": [
        {
          "output_type": "execute_result",
          "data": {
            "text/plain": [
              "[<img alt=\"Alura\" class=\"d-inline-block align-top\" src=\"img/alura-logo.svg\"/>,\n",
              " <img alt=\"Foto\" height=\"155\" src=\"https://caelum-online-public.s3.amazonaws.com/1381-scraping/01/img-cars/lamborghini-aventador/lamborghini-aventador-2932196__340.jpg\" width=\"220\"/>,\n",
              " <img alt=\"Foto\" height=\"155\" src=\"https://caelum-online-public.s3.amazonaws.com/1381-scraping/01/img-cars/bmw-m2/bmw-m2-2970882__340.jpg\" width=\"220\"/>,\n",
              " <img alt=\"Foto\" height=\"155\" src=\"https://caelum-online-public.s3.amazonaws.com/1381-scraping/01/img-cars/alfa/alfa-1823056__340.jpg\" width=\"220\"/>,\n",
              " <img alt=\"Foto\" height=\"155\" src=\"https://caelum-online-public.s3.amazonaws.com/1381-scraping/01/img-cars/puech/puech-4055386__340.jpg\" width=\"220\"/>,\n",
              " <img alt=\"Foto\" height=\"155\" src=\"https://caelum-online-public.s3.amazonaws.com/1381-scraping/01/img-cars/lamborghini-murcielago/lamborghini-murcielago-2872974__340.jpg\" width=\"220\"/>,\n",
              " <img alt=\"Foto\" height=\"155\" src=\"https://caelum-online-public.s3.amazonaws.com/1381-scraping/01/img-cars/aston-martin/aston-martin-2977916__340.jpg\" width=\"220\"/>,\n",
              " <img alt=\"Foto\" height=\"155\" src=\"https://caelum-online-public.s3.amazonaws.com/1381-scraping/01/img-cars/tvr/tvr-2943925__340.jpg\" width=\"220\"/>,\n",
              " <img alt=\"Foto\" height=\"155\" src=\"https://caelum-online-public.s3.amazonaws.com/1381-scraping/01/img-cars/excalibur/excalibur-2916730__340.jpg\" width=\"220\"/>,\n",
              " <img alt=\"Foto\" height=\"155\" src=\"https://caelum-online-public.s3.amazonaws.com/1381-scraping/01/img-cars/mclaren/mclaren-2855240__340.jpg\" width=\"220\"/>,\n",
              " <img alt=\"Foto\" height=\"155\" src=\"https://caelum-online-public.s3.amazonaws.com/1381-scraping/01/img-cars/toyota/toyota-3245397__340.jpg\" width=\"220\"/>,\n",
              " <img alt=\"Alura\" class=\"d-inline-block align-top\" src=\"img/alura-logo.svg\"/>]"
            ]
          },
          "metadata": {},
          "execution_count": 573
        }
      ],
      "source": [
        "soup.findAll('img')"
      ]
    },
    {
      "cell_type": "markdown",
      "metadata": {
        "id": "8Ulz0VVdq8Wm"
      },
      "source": [
        "### Command equivalent to the *find()* method"
      ]
    },
    {
      "cell_type": "code",
      "execution_count": 574,
      "metadata": {
        "id": "yR8UoBMJq8Wm",
        "outputId": "e1e9f8b9-fc36-43f6-ee09-0e6c40736a2a",
        "colab": {
          "base_uri": "https://localhost:8080/"
        }
      },
      "outputs": [
        {
          "output_type": "execute_result",
          "data": {
            "text/plain": [
              "<img alt=\"Alura\" class=\"d-inline-block align-top\" src=\"img/alura-logo.svg\"/>"
            ]
          },
          "metadata": {},
          "execution_count": 574
        }
      ],
      "source": [
        "soup.findAll('img', limit =1)[0]"
      ]
    },
    {
      "cell_type": "markdown",
      "metadata": {
        "id": "I2LOJRCoq8Wm"
      },
      "source": [
        "### Shortcut to *findAll()* method"
      ]
    },
    {
      "cell_type": "code",
      "execution_count": 575,
      "metadata": {
        "id": "QiUiQ3U3q8Wm",
        "outputId": "3894fc0d-a735-4118-f75e-9fa984035ae4",
        "colab": {
          "base_uri": "https://localhost:8080/"
        }
      },
      "outputs": [
        {
          "output_type": "execute_result",
          "data": {
            "text/plain": [
              "[<img alt=\"Alura\" class=\"d-inline-block align-top\" src=\"img/alura-logo.svg\"/>,\n",
              " <img alt=\"Foto\" height=\"155\" src=\"https://caelum-online-public.s3.amazonaws.com/1381-scraping/01/img-cars/lamborghini-aventador/lamborghini-aventador-2932196__340.jpg\" width=\"220\"/>,\n",
              " <img alt=\"Foto\" height=\"155\" src=\"https://caelum-online-public.s3.amazonaws.com/1381-scraping/01/img-cars/bmw-m2/bmw-m2-2970882__340.jpg\" width=\"220\"/>,\n",
              " <img alt=\"Foto\" height=\"155\" src=\"https://caelum-online-public.s3.amazonaws.com/1381-scraping/01/img-cars/alfa/alfa-1823056__340.jpg\" width=\"220\"/>,\n",
              " <img alt=\"Foto\" height=\"155\" src=\"https://caelum-online-public.s3.amazonaws.com/1381-scraping/01/img-cars/puech/puech-4055386__340.jpg\" width=\"220\"/>,\n",
              " <img alt=\"Foto\" height=\"155\" src=\"https://caelum-online-public.s3.amazonaws.com/1381-scraping/01/img-cars/lamborghini-murcielago/lamborghini-murcielago-2872974__340.jpg\" width=\"220\"/>,\n",
              " <img alt=\"Foto\" height=\"155\" src=\"https://caelum-online-public.s3.amazonaws.com/1381-scraping/01/img-cars/aston-martin/aston-martin-2977916__340.jpg\" width=\"220\"/>,\n",
              " <img alt=\"Foto\" height=\"155\" src=\"https://caelum-online-public.s3.amazonaws.com/1381-scraping/01/img-cars/tvr/tvr-2943925__340.jpg\" width=\"220\"/>,\n",
              " <img alt=\"Foto\" height=\"155\" src=\"https://caelum-online-public.s3.amazonaws.com/1381-scraping/01/img-cars/excalibur/excalibur-2916730__340.jpg\" width=\"220\"/>,\n",
              " <img alt=\"Foto\" height=\"155\" src=\"https://caelum-online-public.s3.amazonaws.com/1381-scraping/01/img-cars/mclaren/mclaren-2855240__340.jpg\" width=\"220\"/>,\n",
              " <img alt=\"Foto\" height=\"155\" src=\"https://caelum-online-public.s3.amazonaws.com/1381-scraping/01/img-cars/toyota/toyota-3245397__340.jpg\" width=\"220\"/>,\n",
              " <img alt=\"Alura\" class=\"d-inline-block align-top\" src=\"img/alura-logo.svg\"/>]"
            ]
          },
          "metadata": {},
          "execution_count": 575
        }
      ],
      "source": [
        "soup('img')"
      ]
    },
    {
      "cell_type": "markdown",
      "metadata": {
        "id": "7sbJoDS7q8Wm"
      },
      "source": [
        "### Passing tag lists"
      ]
    },
    {
      "cell_type": "code",
      "execution_count": 576,
      "metadata": {
        "id": "RwWtQtoQq8Wm",
        "outputId": "0e5f5e69-581f-442f-def3-e8cb4bd5cc48",
        "colab": {
          "base_uri": "https://localhost:8080/"
        }
      },
      "outputs": [
        {
          "output_type": "execute_result",
          "data": {
            "text/plain": [
              "[<h5 class=\"modal-title\" id=\"loadingModal_label\"><span class=\"glyphicon glyphicon-refresh\"></span>Aguarde... </h5>,\n",
              " <h4><b id=\"loadingModal_content\"></b></h4>,\n",
              " <h1 class=\"sub-header\">Veículos de Luxo Novos e Usados - Todas as Marcas</h1>]"
            ]
          },
          "metadata": {},
          "execution_count": 576
        }
      ],
      "source": [
        "soup.findAll(['h1', 'h2', 'h3', 'h4', 'h5', 'h6'])"
      ]
    },
    {
      "cell_type": "markdown",
      "metadata": {
        "id": "T-6k9hfbq8Wm"
      },
      "source": [
        "### Using the *attributes* argument"
      ]
    },
    {
      "cell_type": "code",
      "execution_count": 577,
      "metadata": {
        "scrolled": true,
        "id": "hOb21xrdq8Wn",
        "outputId": "3aa90e57-06c5-4fb6-95cf-7f6195a64f7e",
        "colab": {
          "base_uri": "https://localhost:8080/"
        }
      },
      "outputs": [
        {
          "output_type": "execute_result",
          "data": {
            "text/plain": [
              "[<p class=\"txt-name inline\">LAMBORGHINI AVENTADOR</p>,\n",
              " <p class=\"txt-category badge badge-secondary inline\">USADO</p>,\n",
              " <p class=\"txt-motor\">Motor 1.8 16v</p>,\n",
              " <p class=\"txt-description\">Ano 1993 - 55.286 km</p>,\n",
              " <p class=\"txt-location\">Belo Horizonte - MG</p>,\n",
              " <p class=\"txt-value\">R$ 338.000</p>,\n",
              " <p class=\"txt-name inline\">BMW M2</p>,\n",
              " <p class=\"txt-category badge badge-secondary inline\">USADO</p>,\n",
              " <p class=\"txt-motor\">Motor 3.0 32v</p>,\n",
              " <p class=\"txt-description\">Ano 2018 - 83.447 km</p>,\n",
              " <p class=\"txt-location\">Belo Horizonte - MG</p>,\n",
              " <p class=\"txt-value\">R$ 346.000</p>,\n",
              " <p class=\"txt-name inline\">ALFA</p>,\n",
              " <p class=\"txt-category badge badge-secondary inline\">USADO</p>,\n",
              " <p class=\"txt-motor\">Motor 1.8 16v</p>,\n",
              " <p class=\"txt-description\">Ano 2004 - 19.722 km</p>,\n",
              " <p class=\"txt-location\">Rio de Janeiro - RJ</p>,\n",
              " <p class=\"txt-value\">R$ 480.000</p>,\n",
              " <p class=\"txt-name inline\">PUECH</p>,\n",
              " <p class=\"txt-category badge badge-secondary inline\">USADO</p>,\n",
              " <p class=\"txt-motor\">Motor Diesel V8</p>,\n",
              " <p class=\"txt-description\">Ano 1992 - 34.335 km</p>,\n",
              " <p class=\"txt-location\">São Paulo - SP</p>,\n",
              " <p class=\"txt-value\">R$ 133.000</p>,\n",
              " <p class=\"txt-name inline\">LAMBORGHINI MURCIELAGO</p>,\n",
              " <p class=\"txt-category badge badge-secondary inline\">USADO</p>,\n",
              " <p class=\"txt-motor\">Motor 1.0 8v</p>,\n",
              " <p class=\"txt-description\">Ano 1991 - 464 km</p>,\n",
              " <p class=\"txt-location\">Belo Horizonte - MG</p>,\n",
              " <p class=\"txt-value\">R$ 175.000</p>,\n",
              " <p class=\"txt-name inline\">ASTON MARTIN</p>,\n",
              " <p class=\"txt-category badge badge-secondary inline\">USADO</p>,\n",
              " <p class=\"txt-opportunity badge badge-danger inline\">OPORTUNIDADE</p>,\n",
              " <p class=\"txt-motor\">Motor Diesel V6</p>,\n",
              " <p class=\"txt-description\">Ano 2004 - 50.189 km</p>,\n",
              " <p class=\"txt-location\">Belo Horizonte - MG</p>,\n",
              " <p class=\"txt-value\">R$ 239.000</p>,\n",
              " <p class=\"txt-name inline\">TVR</p>,\n",
              " <p class=\"txt-category badge badge-secondary inline\">USADO</p>,\n",
              " <p class=\"txt-motor\">Motor 4.0 Turbo</p>,\n",
              " <p class=\"txt-description\">Ano 2014 - 17.778 km</p>,\n",
              " <p class=\"txt-location\">Belo Horizonte - MG</p>,\n",
              " <p class=\"txt-value\">R$ 115.000</p>,\n",
              " <p class=\"txt-name inline\">EXCALIBUR</p>,\n",
              " <p class=\"txt-category badge badge-secondary inline\">USADO</p>,\n",
              " <p class=\"txt-motor\">Motor 3.0 32v</p>,\n",
              " <p class=\"txt-description\">Ano 2009 - 81.251 km</p>,\n",
              " <p class=\"txt-location\">Rio de Janeiro - RJ</p>,\n",
              " <p class=\"txt-value\">R$ 114.000</p>,\n",
              " <p class=\"txt-name inline\">MCLAREN</p>,\n",
              " <p class=\"txt-category badge badge-secondary inline\">NOVO</p>,\n",
              " <p class=\"txt-motor\">Motor Diesel</p>,\n",
              " <p class=\"txt-description\">Ano 2019 - 0 km</p>,\n",
              " <p class=\"txt-location\">São Paulo - SP</p>,\n",
              " <p class=\"txt-value\">R$ 75.000</p>,\n",
              " <p class=\"txt-name inline\">TOYOTA</p>,\n",
              " <p class=\"txt-category badge badge-secondary inline\">USADO</p>,\n",
              " <p class=\"txt-opportunity badge badge-danger inline\">OPORTUNIDADE</p>,\n",
              " <p class=\"txt-motor\">Motor 4.0 Turbo</p>,\n",
              " <p class=\"txt-description\">Ano 1999 - 12.536 km</p>,\n",
              " <p class=\"txt-location\">São Paulo - SP</p>,\n",
              " <p class=\"txt-value\">R$ 117.000</p>,\n",
              " <p style=\"color: #fff; text-align: center; margin-top: 40px;\">Aplicação para treinamento de web scraping</p>]"
            ]
          },
          "metadata": {},
          "execution_count": 577
        }
      ],
      "source": [
        "soup.findAll('p')"
      ]
    },
    {
      "cell_type": "markdown",
      "metadata": {
        "id": "bBreuSInq8Wn"
      },
      "source": [
        "### Searching for the content of a TAG"
      ]
    },
    {
      "cell_type": "code",
      "execution_count": 578,
      "metadata": {
        "id": "7u-iRZTfq8Wn",
        "outputId": "ff4c841b-a731-4f9a-c988-37ccb91719df",
        "colab": {
          "base_uri": "https://localhost:8080/"
        }
      },
      "outputs": [
        {
          "output_type": "execute_result",
          "data": {
            "text/plain": [
              "[<p class=\"txt-value\">R$ 338.000</p>,\n",
              " <p class=\"txt-value\">R$ 346.000</p>,\n",
              " <p class=\"txt-value\">R$ 480.000</p>,\n",
              " <p class=\"txt-value\">R$ 133.000</p>,\n",
              " <p class=\"txt-value\">R$ 175.000</p>,\n",
              " <p class=\"txt-value\">R$ 239.000</p>,\n",
              " <p class=\"txt-value\">R$ 115.000</p>,\n",
              " <p class=\"txt-value\">R$ 114.000</p>,\n",
              " <p class=\"txt-value\">R$ 75.000</p>,\n",
              " <p class=\"txt-value\">R$ 117.000</p>]"
            ]
          },
          "metadata": {},
          "execution_count": 578
        }
      ],
      "source": [
        "soup.findAll('p', {\"class\": \"txt-value\"})"
      ]
    },
    {
      "cell_type": "code",
      "source": [
        "soup.findAll('p', text = \"Belo Horizonte - MG\")"
      ],
      "metadata": {
        "id": "hH1F804fuzeE",
        "outputId": "0bbeb12f-ab27-4b19-f8c3-bbf12e9aa4c5",
        "colab": {
          "base_uri": "https://localhost:8080/"
        }
      },
      "execution_count": 579,
      "outputs": [
        {
          "output_type": "execute_result",
          "data": {
            "text/plain": [
              "[<p class=\"txt-location\">Belo Horizonte - MG</p>,\n",
              " <p class=\"txt-location\">Belo Horizonte - MG</p>,\n",
              " <p class=\"txt-location\">Belo Horizonte - MG</p>,\n",
              " <p class=\"txt-location\">Belo Horizonte - MG</p>,\n",
              " <p class=\"txt-location\">Belo Horizonte - MG</p>]"
            ]
          },
          "metadata": {},
          "execution_count": 579
        }
      ]
    },
    {
      "cell_type": "markdown",
      "metadata": {
        "id": "GNIwqYzcq8Wn"
      },
      "source": [
        "### Using attributes directly"
      ]
    },
    {
      "cell_type": "code",
      "execution_count": 580,
      "metadata": {
        "id": "FbkzIBvqq8Wn",
        "outputId": "c4ed0dcb-1c56-430f-aa3c-208a4ce69e59",
        "colab": {
          "base_uri": "https://localhost:8080/"
        }
      },
      "outputs": [
        {
          "output_type": "execute_result",
          "data": {
            "text/plain": [
              "[<img alt=\"Foto\" height=\"155\" src=\"https://caelum-online-public.s3.amazonaws.com/1381-scraping/01/img-cars/lamborghini-aventador/lamborghini-aventador-2932196__340.jpg\" width=\"220\"/>,\n",
              " <img alt=\"Foto\" height=\"155\" src=\"https://caelum-online-public.s3.amazonaws.com/1381-scraping/01/img-cars/bmw-m2/bmw-m2-2970882__340.jpg\" width=\"220\"/>,\n",
              " <img alt=\"Foto\" height=\"155\" src=\"https://caelum-online-public.s3.amazonaws.com/1381-scraping/01/img-cars/alfa/alfa-1823056__340.jpg\" width=\"220\"/>,\n",
              " <img alt=\"Foto\" height=\"155\" src=\"https://caelum-online-public.s3.amazonaws.com/1381-scraping/01/img-cars/puech/puech-4055386__340.jpg\" width=\"220\"/>,\n",
              " <img alt=\"Foto\" height=\"155\" src=\"https://caelum-online-public.s3.amazonaws.com/1381-scraping/01/img-cars/lamborghini-murcielago/lamborghini-murcielago-2872974__340.jpg\" width=\"220\"/>,\n",
              " <img alt=\"Foto\" height=\"155\" src=\"https://caelum-online-public.s3.amazonaws.com/1381-scraping/01/img-cars/aston-martin/aston-martin-2977916__340.jpg\" width=\"220\"/>,\n",
              " <img alt=\"Foto\" height=\"155\" src=\"https://caelum-online-public.s3.amazonaws.com/1381-scraping/01/img-cars/tvr/tvr-2943925__340.jpg\" width=\"220\"/>,\n",
              " <img alt=\"Foto\" height=\"155\" src=\"https://caelum-online-public.s3.amazonaws.com/1381-scraping/01/img-cars/excalibur/excalibur-2916730__340.jpg\" width=\"220\"/>,\n",
              " <img alt=\"Foto\" height=\"155\" src=\"https://caelum-online-public.s3.amazonaws.com/1381-scraping/01/img-cars/mclaren/mclaren-2855240__340.jpg\" width=\"220\"/>,\n",
              " <img alt=\"Foto\" height=\"155\" src=\"https://caelum-online-public.s3.amazonaws.com/1381-scraping/01/img-cars/toyota/toyota-3245397__340.jpg\" width=\"220\"/>]"
            ]
          },
          "metadata": {},
          "execution_count": 580
        }
      ],
      "source": [
        "soup.findAll('img', alt='Foto')"
      ]
    },
    {
      "cell_type": "code",
      "execution_count": 581,
      "metadata": {
        "id": "ZSsRm2Snq8Wn",
        "outputId": "211f7223-5f68-4c00-9863-8120601e3d31",
        "colab": {
          "base_uri": "https://localhost:8080/"
        }
      },
      "outputs": [
        {
          "output_type": "stream",
          "name": "stdout",
          "text": [
            "https://caelum-online-public.s3.amazonaws.com/1381-scraping/01/img-cars/lamborghini-aventador/lamborghini-aventador-2932196__340.jpg\n",
            "https://caelum-online-public.s3.amazonaws.com/1381-scraping/01/img-cars/bmw-m2/bmw-m2-2970882__340.jpg\n",
            "https://caelum-online-public.s3.amazonaws.com/1381-scraping/01/img-cars/alfa/alfa-1823056__340.jpg\n",
            "https://caelum-online-public.s3.amazonaws.com/1381-scraping/01/img-cars/puech/puech-4055386__340.jpg\n",
            "https://caelum-online-public.s3.amazonaws.com/1381-scraping/01/img-cars/lamborghini-murcielago/lamborghini-murcielago-2872974__340.jpg\n",
            "https://caelum-online-public.s3.amazonaws.com/1381-scraping/01/img-cars/aston-martin/aston-martin-2977916__340.jpg\n",
            "https://caelum-online-public.s3.amazonaws.com/1381-scraping/01/img-cars/tvr/tvr-2943925__340.jpg\n",
            "https://caelum-online-public.s3.amazonaws.com/1381-scraping/01/img-cars/excalibur/excalibur-2916730__340.jpg\n",
            "https://caelum-online-public.s3.amazonaws.com/1381-scraping/01/img-cars/mclaren/mclaren-2855240__340.jpg\n",
            "https://caelum-online-public.s3.amazonaws.com/1381-scraping/01/img-cars/toyota/toyota-3245397__340.jpg\n"
          ]
        }
      ],
      "source": [
        "for item in soup.findAll('img', alt='Foto'):\n",
        "  print(item['src'])"
      ]
    },
    {
      "cell_type": "markdown",
      "metadata": {
        "id": "1Cec1HiAq8Wn"
      },
      "source": [
        "### Beware of the \"class\" attribute"
      ]
    },
    {
      "cell_type": "code",
      "execution_count": 582,
      "metadata": {
        "id": "-zHMy2u7q8Wn",
        "outputId": "c6533bab-709a-491b-c34b-827672f7191c",
        "colab": {
          "base_uri": "https://localhost:8080/"
        }
      },
      "outputs": [
        {
          "output_type": "execute_result",
          "data": {
            "text/plain": [
              "[<p class=\"txt-value\">R$ 338.000</p>,\n",
              " <p class=\"txt-value\">R$ 346.000</p>,\n",
              " <p class=\"txt-value\">R$ 480.000</p>,\n",
              " <p class=\"txt-value\">R$ 133.000</p>,\n",
              " <p class=\"txt-value\">R$ 175.000</p>,\n",
              " <p class=\"txt-value\">R$ 239.000</p>,\n",
              " <p class=\"txt-value\">R$ 115.000</p>,\n",
              " <p class=\"txt-value\">R$ 114.000</p>,\n",
              " <p class=\"txt-value\">R$ 75.000</p>,\n",
              " <p class=\"txt-value\">R$ 117.000</p>]"
            ]
          },
          "metadata": {},
          "execution_count": 582
        }
      ],
      "source": [
        "soup.findAll('p', class_= \"txt-value\")"
      ]
    },
    {
      "cell_type": "markdown",
      "metadata": {
        "id": "NwY3BuWrq8Wo"
      },
      "source": [
        "### Getting all the text content of a page"
      ]
    },
    {
      "cell_type": "code",
      "execution_count": 583,
      "metadata": {
        "id": "eHvQ77f-q8Wo",
        "outputId": "df7e9524-0248-4715-fa94-612ee6a2508d",
        "colab": {
          "base_uri": "https://localhost:8080/"
        }
      },
      "outputs": [
        {
          "output_type": "execute_result",
          "data": {
            "text/plain": [
              "['html',\n",
              " 'Alura Motors',\n",
              " \" /*Regra para a animacao*/ @keyframes spin { 0% { transform: rotate(0deg); } 100% { transform: rotate(360deg); } } /*Mudando o tamanho do icone de resposta*/ div.glyphicon { color:#6B8E23; font-size: 38px; } /*Classe que mostra a animacao 'spin'*/ .loader { border: 16px solid #f3f3f3; border-radius: 50%; border-top: 16px solid #3498db; width: 80px; height: 80px; -webkit-animation: spin 2s linear infinite; animation: spin 2s linear infinite; } \",\n",
              " ' requisitar(\"https://alura-scraping.herokuapp.com/produtos?_page=\"+1+\"&_limit=10\") ',\n",
              " 'You need to enable JavaScript to run this app.',\n",
              " 'Aguarde... ',\n",
              " 'Motors ',\n",
              " 'Hello World',\n",
              " 'Anúncios',\n",
              " 'Veículos de Luxo Novos e Usados - Todas as Marcas',\n",
              " '246 veículos encontrados',\n",
              " 'Página 1 de 25',\n",
              " 'LAMBORGHINI AVENTADOR',\n",
              " 'USADO',\n",
              " 'Motor 1.8 16v',\n",
              " 'Ano 1993 - 55.286 km',\n",
              " '► 4 X 4',\n",
              " '► Câmera de estacionamento',\n",
              " '► Controle de tração',\n",
              " '► Sensor de estacionamento',\n",
              " '...',\n",
              " 'Belo Horizonte - MG',\n",
              " 'R$ 338.000',\n",
              " 'BMW M2',\n",
              " 'USADO',\n",
              " 'Motor 3.0 32v',\n",
              " 'Ano 2018 - 83.447 km',\n",
              " '► Câmera de estacionamento',\n",
              " '► Controle de estabilidade',\n",
              " '► Travas elétricas',\n",
              " '► Freios ABS',\n",
              " '...',\n",
              " 'Belo Horizonte - MG',\n",
              " 'R$ 346.000',\n",
              " 'ALFA',\n",
              " 'USADO',\n",
              " 'Motor 1.8 16v',\n",
              " 'Ano 2004 - 19.722 km',\n",
              " '► Central multimídia',\n",
              " '► Bancos de couro',\n",
              " '► Rodas de liga',\n",
              " '► Câmera de estacionamento',\n",
              " '...',\n",
              " 'Rio de Janeiro - RJ',\n",
              " 'R$ 480.000',\n",
              " 'PUECH',\n",
              " 'USADO',\n",
              " 'Motor Diesel V8',\n",
              " 'Ano 1992 - 34.335 km',\n",
              " '► Bancos de couro']"
            ]
          },
          "metadata": {},
          "execution_count": 583
        }
      ],
      "source": [
        "#return one list of all text in the page\n",
        "soup.findAll(text=True)[:50]"
      ]
    },
    {
      "cell_type": "markdown",
      "metadata": {
        "id": "1z_Ktm9Eq8Wo"
      },
      "source": [
        "# 4.2. Other research methods"
      ]
    },
    {
      "cell_type": "markdown",
      "metadata": {
        "id": "N_k_xN4eq8Wo"
      },
      "source": [
        "- ### *findParent(tag, attributes, text, **kwargs)*\n",
        "\n",
        "- ### *findParents(tag, attributes, text, limit, **kwargs)*\n",
        "\n",
        "#### https://www.crummy.com/software/BeautifulSoup/bs4/doc/#find-parents-and-find-parent\n",
        "\n",
        "> **Notes:**\n",
        "> - *findParent()* e *findParents()* também podem ser utilizados como *find_parent()* e *find_parents()*, respectivamente.\n",
        "---\n",
        "- ### *findNextSibling(tag, attributes, text, **kwargs)*\n",
        "\n",
        "- ### *findNextSiblings(tag, attributes, text, limit, **kwargs)*\n",
        "\n",
        "- ### *findPreviousSibling(tag, attributes, text, **kwargs)*\n",
        "\n",
        "- ### *findPreviousSiblings(tag, attributes, text, limit, **kwargs)*\n",
        "\n",
        "#### https://www.crummy.com/software/BeautifulSoup/bs4/doc/#find-next-siblings-and-find-next-sibling\n",
        "#### https://www.crummy.com/software/BeautifulSoup/bs4/doc/#find-previous-siblings-and-find-previous-sibling\n",
        "\n",
        "> **Notes:**\n",
        "> - *findNextSibling()*, *findNextSiblings()*, *findPreviousSibling()* and *findPreviousSiblings()* can also be used as *find_next_sibling()*, *find_next_siblings()*, *find_previous_sibling()* and *find_previous_siblings()*.\n",
        "---\n",
        "- ### *findNext(tag, attributes, text, **kwargs)*\n",
        "\n",
        "- ### *findAllNext(tag, attributes, text, limit, **kwargs)*\n",
        "\n",
        "- ### *findPrevious(tag, attributes, text, **kwargs)*\n",
        "\n",
        "- ### *findAllPrevious(tag, attributes, text, limit, **kwargs)*\n",
        "\n",
        "#### https://www.crummy.com/software/BeautifulSoup/bs4/doc/#find-all-next-and-find-next\n",
        "#### https://www.crummy.com/software/BeautifulSoup/bs4/doc/#find-all-previous-and-find-previous\n",
        "\n",
        "> **Notes:**\n",
        "> - *findNext()*, *findAllNext()*, *findPrevious* e *findAllPrevious* can also be used as *find_next()*, *find_all_next()*, *find_previous()* and *find_all_previous()*."
      ]
    },
    {
      "cell_type": "markdown",
      "metadata": {
        "id": "x9D97kiFq8Wp"
      },
      "source": [
        "## Sample HTML to illustrate the use of BeautifulSoup search methods"
      ]
    },
    {
      "cell_type": "markdown",
      "metadata": {
        "id": "vdwgmlpRq8Ws"
      },
      "source": [
        "<img src=\"https://caelum-online-public.s3.amazonaws.com/1381-scraping/01/BeautifulSoup-method.png\" width=80%>"
      ]
    },
    {
      "cell_type": "markdown",
      "metadata": {
        "id": "nARvWb-Jq8Wt"
      },
      "source": [
        "---\n",
        "## Result"
      ]
    },
    {
      "cell_type": "markdown",
      "metadata": {
        "id": "ACkx32C1q8Wt"
      },
      "source": [
        "<html>\n",
        "    <body>\n",
        "        <div id=“container-a”>\n",
        "            <h1>Título A</h1>\n",
        "            <h2 class=\"ref-a\">Sub título A</h2>\n",
        "            <p>Texto de conteúdo A</p>\n",
        "        </div>\n",
        "        <div id=“container-b”>\n",
        "            <h1>Título B</h1>\n",
        "            <h2 class=\"ref-b\">Sub título B</h2>\n",
        "            <p>Texto de conteúdo B</p>\n",
        "        </div>\n",
        "    </body>\n",
        "</html>"
      ]
    },
    {
      "cell_type": "code",
      "execution_count": 584,
      "metadata": {
        "id": "GxC6bRLUq8Wt"
      },
      "outputs": [],
      "source": [
        "test_html = \"\"\"\n",
        "<html>\n",
        "    <body>\n",
        "        <div id=“container-a”>\n",
        "            <h1>Título A</h1>\n",
        "            <h2 class=\"ref-a\">Sub título A</h2>\n",
        "            <p>Texto de conteúdo A</p>\n",
        "        </div>\n",
        "        <div id=“container-b”>\n",
        "            <h1>Título B</h1>\n",
        "            <h2 class=\"ref-b\">Sub título B</h2>\n",
        "            <p>Texto de conteúdo B</p>\n",
        "        </div>\n",
        "    </body>\n",
        "</html>\n",
        "\"\"\""
      ]
    },
    {
      "cell_type": "markdown",
      "metadata": {
        "id": "zQsOU63Qq8Wt"
      },
      "source": [
        "### HTML string treatments"
      ]
    },
    {
      "cell_type": "code",
      "execution_count": 584,
      "metadata": {
        "id": "HuQIg85Wq8Wt"
      },
      "outputs": [],
      "source": [
        ""
      ]
    },
    {
      "cell_type": "code",
      "execution_count": 584,
      "metadata": {
        "id": "juIpXiAZq8Wu"
      },
      "outputs": [],
      "source": [
        ""
      ]
    },
    {
      "cell_type": "markdown",
      "metadata": {
        "id": "Kp2n9nCIq8Wu"
      },
      "source": [
        "### Creating the BeautifulSoup object"
      ]
    },
    {
      "cell_type": "code",
      "execution_count": 585,
      "metadata": {
        "scrolled": true,
        "id": "JTf4LLStq8Wu",
        "outputId": "d5ecdcbd-3555-4f52-a4fe-491271eb599b",
        "colab": {
          "base_uri": "https://localhost:8080/"
        }
      },
      "outputs": [
        {
          "output_type": "execute_result",
          "data": {
            "text/plain": [
              "\n",
              "<html>\n",
              "<body>\n",
              "<div id=\"“container-a”\">\n",
              "<h1>Título A</h1>\n",
              "<h2 class=\"ref-a\">Sub título A</h2>\n",
              "<p>Texto de conteúdo A</p>\n",
              "</div>\n",
              "<div id=\"“container-b”\">\n",
              "<h1>Título B</h1>\n",
              "<h2 class=\"ref-b\">Sub título B</h2>\n",
              "<p>Texto de conteúdo B</p>\n",
              "</div>\n",
              "</body>\n",
              "</html>"
            ]
          },
          "metadata": {},
          "execution_count": 585
        }
      ],
      "source": [
        "soup = BeautifulSoup(test_html, 'html.parser')\n",
        "soup"
      ]
    },
    {
      "cell_type": "markdown",
      "metadata": {
        "id": "q-dg91pMq8Wu"
      },
      "source": [
        "### Parents"
      ]
    },
    {
      "cell_type": "code",
      "execution_count": 586,
      "metadata": {
        "id": "-_G69Qk1q8Wu",
        "outputId": "7bb11f26-b7af-4569-8d0a-e5103ee09c4f",
        "colab": {
          "base_uri": "https://localhost:8080/"
        }
      },
      "outputs": [
        {
          "output_type": "execute_result",
          "data": {
            "text/plain": [
              "<h2 class=\"ref-a\">Sub título A</h2>"
            ]
          },
          "metadata": {},
          "execution_count": 586
        }
      ],
      "source": [
        "soup.find('h2')"
      ]
    },
    {
      "cell_type": "code",
      "execution_count": 587,
      "metadata": {
        "id": "lytogfz0q8Wu",
        "outputId": "dc6044fe-3ca8-44dd-acfc-a5897036abd1",
        "colab": {
          "base_uri": "https://localhost:8080/"
        }
      },
      "outputs": [
        {
          "output_type": "execute_result",
          "data": {
            "text/plain": [
              "<div id=\"“container-a”\">\n",
              "<h1>Título A</h1>\n",
              "<h2 class=\"ref-a\">Sub título A</h2>\n",
              "<p>Texto de conteúdo A</p>\n",
              "</div>"
            ]
          },
          "metadata": {},
          "execution_count": 587
        }
      ],
      "source": [
        "soup.find('h2').find_parent('div')"
      ]
    },
    {
      "cell_type": "code",
      "execution_count": 588,
      "metadata": {
        "id": "UW5lghxwq8Wu",
        "outputId": "1de04874-4e87-4372-9c6f-f2d9a3af1909",
        "colab": {
          "base_uri": "https://localhost:8080/"
        }
      },
      "outputs": [
        {
          "output_type": "execute_result",
          "data": {
            "text/plain": [
              "[<div id=\"“container-a”\">\n",
              " <h1>Título A</h1>\n",
              " <h2 class=\"ref-a\">Sub título A</h2>\n",
              " <p>Texto de conteúdo A</p>\n",
              " </div>, <body>\n",
              " <div id=\"“container-a”\">\n",
              " <h1>Título A</h1>\n",
              " <h2 class=\"ref-a\">Sub título A</h2>\n",
              " <p>Texto de conteúdo A</p>\n",
              " </div>\n",
              " <div id=\"“container-b”\">\n",
              " <h1>Título B</h1>\n",
              " <h2 class=\"ref-b\">Sub título B</h2>\n",
              " <p>Texto de conteúdo B</p>\n",
              " </div>\n",
              " </body>, <html>\n",
              " <body>\n",
              " <div id=\"“container-a”\">\n",
              " <h1>Título A</h1>\n",
              " <h2 class=\"ref-a\">Sub título A</h2>\n",
              " <p>Texto de conteúdo A</p>\n",
              " </div>\n",
              " <div id=\"“container-b”\">\n",
              " <h1>Título B</h1>\n",
              " <h2 class=\"ref-b\">Sub título B</h2>\n",
              " <p>Texto de conteúdo B</p>\n",
              " </div>\n",
              " </body>\n",
              " </html>, \n",
              " <html>\n",
              " <body>\n",
              " <div id=\"“container-a”\">\n",
              " <h1>Título A</h1>\n",
              " <h2 class=\"ref-a\">Sub título A</h2>\n",
              " <p>Texto de conteúdo A</p>\n",
              " </div>\n",
              " <div id=\"“container-b”\">\n",
              " <h1>Título B</h1>\n",
              " <h2 class=\"ref-b\">Sub título B</h2>\n",
              " <p>Texto de conteúdo B</p>\n",
              " </div>\n",
              " </body>\n",
              " </html>]"
            ]
          },
          "metadata": {},
          "execution_count": 588
        }
      ],
      "source": [
        "soup.find('h2').find_parents()"
      ]
    },
    {
      "cell_type": "code",
      "execution_count": 589,
      "metadata": {
        "id": "RuuO9q8Oq8Wu",
        "outputId": "330ac815-f281-4c0b-a0f0-77bc7e5f9160",
        "colab": {
          "base_uri": "https://localhost:8080/"
        }
      },
      "outputs": [
        {
          "output_type": "execute_result",
          "data": {
            "text/plain": [
              "[<h2 class=\"ref-a\">Sub título A</h2>, <h2 class=\"ref-b\">Sub título B</h2>]"
            ]
          },
          "metadata": {},
          "execution_count": 589
        }
      ],
      "source": [
        "soup.findAll('h2')"
      ]
    },
    {
      "cell_type": "code",
      "execution_count": 590,
      "metadata": {
        "id": "cSWD1AJFq8Wv",
        "outputId": "7f8981dc-4335-40dd-dda2-5745e004ff44",
        "colab": {
          "base_uri": "https://localhost:8080/"
        }
      },
      "outputs": [
        {
          "output_type": "stream",
          "name": "stdout",
          "text": [
            "<div id=\"“container-a”\">\n",
            "<h1>Título A</h1>\n",
            "<h2 class=\"ref-a\">Sub título A</h2>\n",
            "<p>Texto de conteúdo A</p>\n",
            "</div>\n",
            "<div id=\"“container-b”\">\n",
            "<h1>Título B</h1>\n",
            "<h2 class=\"ref-b\">Sub título B</h2>\n",
            "<p>Texto de conteúdo B</p>\n",
            "</div>\n"
          ]
        }
      ],
      "source": [
        "for item in soup.findAll('h2'):\n",
        "  print(item.find_parent('div'))"
      ]
    },
    {
      "cell_type": "markdown",
      "metadata": {
        "id": "NxOjpObGq8Wv"
      },
      "source": [
        "## Siblings"
      ]
    },
    {
      "cell_type": "code",
      "execution_count": 591,
      "metadata": {
        "id": "9nE8FjS1q8Wv",
        "outputId": "4942237e-3fd5-4a44-f6c8-826845b24789",
        "colab": {
          "base_uri": "https://localhost:8080/"
        }
      },
      "outputs": [
        {
          "output_type": "execute_result",
          "data": {
            "text/plain": [
              "<p>Texto de conteúdo A</p>"
            ]
          },
          "metadata": {},
          "execution_count": 591
        }
      ],
      "source": [
        "soup.find('h2').findNextSibling()"
      ]
    },
    {
      "cell_type": "code",
      "execution_count": 592,
      "metadata": {
        "id": "Qkxqqufaq8Wv",
        "outputId": "d0532794-39db-40cb-ed97-da12f5657987",
        "colab": {
          "base_uri": "https://localhost:8080/"
        }
      },
      "outputs": [
        {
          "output_type": "execute_result",
          "data": {
            "text/plain": [
              "<h1>Título A</h1>"
            ]
          },
          "metadata": {},
          "execution_count": 592
        }
      ],
      "source": [
        "soup.find('h2').findPreviousSibling()"
      ]
    },
    {
      "cell_type": "code",
      "execution_count": 593,
      "metadata": {
        "id": "1R-uiT_6q8Wv",
        "outputId": "08f4852c-41ad-4b43-cac8-cc50284d5622",
        "colab": {
          "base_uri": "https://localhost:8080/"
        }
      },
      "outputs": [
        {
          "output_type": "execute_result",
          "data": {
            "text/plain": [
              "[<h2 class=\"ref-a\">Sub título A</h2>, <h1>Título A</h1>]"
            ]
          },
          "metadata": {},
          "execution_count": 593
        }
      ],
      "source": [
        "soup.find('p').findPreviousSiblings()"
      ]
    },
    {
      "cell_type": "markdown",
      "metadata": {
        "id": "jtvpVHapq8Wv"
      },
      "source": [
        "## Next and Previous"
      ]
    },
    {
      "cell_type": "code",
      "execution_count": 594,
      "metadata": {
        "id": "_iIXPpfpq8Wv",
        "outputId": "4570f166-0de0-456e-f2c9-70d01cd32081",
        "colab": {
          "base_uri": "https://localhost:8080/"
        }
      },
      "outputs": [
        {
          "output_type": "execute_result",
          "data": {
            "text/plain": [
              "<p>Texto de conteúdo A</p>"
            ]
          },
          "metadata": {},
          "execution_count": 594
        }
      ],
      "source": [
        "soup.find('h2').findNext()"
      ]
    },
    {
      "cell_type": "code",
      "execution_count": 595,
      "metadata": {
        "id": "NChVyizXq8Wv",
        "outputId": "751cc217-dad5-4653-9900-3eac20f795ce",
        "colab": {
          "base_uri": "https://localhost:8080/"
        }
      },
      "outputs": [
        {
          "output_type": "execute_result",
          "data": {
            "text/plain": [
              "<h1>Título A</h1>"
            ]
          },
          "metadata": {},
          "execution_count": 595
        }
      ],
      "source": [
        "soup.find('h2').findPrevious()"
      ]
    },
    {
      "cell_type": "code",
      "execution_count": 596,
      "metadata": {
        "id": "iTvjDcpgq8Wv",
        "outputId": "0adeda1c-baf7-44c8-faa4-92c087238139",
        "colab": {
          "base_uri": "https://localhost:8080/"
        }
      },
      "outputs": [
        {
          "output_type": "execute_result",
          "data": {
            "text/plain": [
              "[<p>Texto de conteúdo A</p>, <div id=\"“container-b”\">\n",
              " <h1>Título B</h1>\n",
              " <h2 class=\"ref-b\">Sub título B</h2>\n",
              " <p>Texto de conteúdo B</p>\n",
              " </div>, <h1>Título B</h1>, <h2 class=\"ref-b\">Sub título B</h2>, <p>Texto de conteúdo B</p>]"
            ]
          },
          "metadata": {},
          "execution_count": 596
        }
      ],
      "source": [
        "soup.find('h2').findAllNext()"
      ]
    },
    {
      "cell_type": "markdown",
      "metadata": {
        "id": "vir3WkBkq8Ww"
      },
      "source": [
        "# <font color=green>5. CAR SITE WEB SCRAPING - GETTING THE DATA OF AN ADVERTISING"
      ]
    },
    {
      "cell_type": "markdown",
      "metadata": {
        "id": "fJSu7PZ6q8Ww"
      },
      "source": [
        "# 5.1. Identifying and Selecting Data in HTML"
      ]
    },
    {
      "cell_type": "markdown",
      "metadata": {
        "id": "M5x-0IeRq8Ww"
      },
      "source": [
        "### Getting the HTML and creating the BeautifulSoup object"
      ]
    },
    {
      "cell_type": "code",
      "execution_count": 597,
      "metadata": {
        "id": "f2fVqt0Tq8Ww"
      },
      "outputs": [],
      "source": [
        "response = urlopen('https://alura-site-scraping.herokuapp.com/index.php')\n",
        "html = response.read().decode('utf-8')\n",
        "soup = BeautifulSoup(html, 'html.parser')\n"
      ]
    },
    {
      "cell_type": "markdown",
      "metadata": {
        "id": "SlG7CunWq8Ww"
      },
      "source": [
        "### Creating variable to store information"
      ]
    },
    {
      "cell_type": "code",
      "execution_count": 598,
      "metadata": {
        "id": "NCGwdzncq8Ww"
      },
      "outputs": [],
      "source": [
        "cards = [] # list of cars\n",
        "card = {}  #dic each car"
      ]
    },
    {
      "cell_type": "markdown",
      "metadata": {
        "id": "-U2b7_ieq8Ww"
      },
      "source": [
        "### Getting the data of the first CARD"
      ]
    },
    {
      "cell_type": "code",
      "execution_count": 599,
      "metadata": {
        "scrolled": false,
        "id": "xjLeuMcAq8Wx",
        "colab": {
          "base_uri": "https://localhost:8080/"
        },
        "outputId": "38293974-e0fe-4c8a-8cb4-2c15ebe784ba"
      },
      "outputs": [
        {
          "output_type": "execute_result",
          "data": {
            "text/plain": [
              "<div class=\"well card\">\n",
              "<div class=\"col-md-3 image-card\">\n",
              "<img alt=\"Foto\" height=\"155\" src=\"https://caelum-online-public.s3.amazonaws.com/1381-scraping/01/img-cars/lamborghini-aventador/lamborghini-aventador-2932196__340.jpg\" width=\"220\"/>\n",
              "</div>\n",
              "<div class=\"col-md-6 body-card\">\n",
              "<p class=\"txt-name inline\">LAMBORGHINI AVENTADOR</p>\n",
              "<p class=\"txt-category badge badge-secondary inline\">USADO</p>\n",
              "<p class=\"txt-motor\">Motor 1.8 16v</p>\n",
              "<p class=\"txt-description\">Ano 1993 - 55.286 km</p>\n",
              "<ul class=\"lst-items\">\n",
              "<li class=\"txt-items\">► 4 X 4</li>\n",
              "<li class=\"txt-items\">► Câmera de estacionamento</li>\n",
              "<li class=\"txt-items\">► Controle de tração</li>\n",
              "<li class=\"txt-items\">► Sensor de estacionamento</li>\n",
              "<li class=\"txt-items\">...</li>\n",
              "</ul>\n",
              "<p class=\"txt-location\">Belo Horizonte - MG</p>\n",
              "</div>\n",
              "<div class=\"col-md-3 value-card\">\n",
              "<div class=\"value\">\n",
              "<p class=\"txt-value\">R$ 338.000</p>\n",
              "</div>\n",
              "</div>\n",
              "</div>"
            ]
          },
          "metadata": {},
          "execution_count": 599
        }
      ],
      "source": [
        "announcement = soup.find('div', {'class': 'well card'})\n",
        "announcement"
      ]
    },
    {
      "cell_type": "markdown",
      "metadata": {
        "id": "Lu0fW4Z9q8Wx"
      },
      "source": [
        "# 5.2. Getting the VALUE of the advertised vehicle"
      ]
    },
    {
      "cell_type": "code",
      "execution_count": 600,
      "metadata": {
        "id": "m6z9jNrjq8Wx",
        "colab": {
          "base_uri": "https://localhost:8080/"
        },
        "outputId": "1cd59185-7d70-41bd-dffb-932bcb07a281"
      },
      "outputs": [
        {
          "output_type": "execute_result",
          "data": {
            "text/plain": [
              "<div class=\"col-md-3 value-card\">\n",
              "<div class=\"value\">\n",
              "<p class=\"txt-value\">R$ 338.000</p>\n",
              "</div>\n",
              "</div>"
            ]
          },
          "metadata": {},
          "execution_count": 600
        }
      ],
      "source": [
        "announcement.find('div', {'class': 'value-card'})"
      ]
    },
    {
      "cell_type": "code",
      "execution_count": 601,
      "metadata": {
        "id": "CO6O6U1mq8Wx",
        "colab": {
          "base_uri": "https://localhost:8080/",
          "height": 35
        },
        "outputId": "58b87e4e-2ca3-416e-ff87-24b515ac7f16"
      },
      "outputs": [
        {
          "output_type": "execute_result",
          "data": {
            "text/plain": [
              "'R$ 338.000'"
            ],
            "application/vnd.google.colaboratory.intrinsic+json": {
              "type": "string"
            }
          },
          "metadata": {},
          "execution_count": 601
        }
      ],
      "source": [
        "announcement.find('p', {'class': 'txt-value'}).getText()"
      ]
    },
    {
      "cell_type": "markdown",
      "metadata": {
        "id": "wi67IWwCq8Wx"
      },
      "source": [
        "### <font color=red>Summary"
      ]
    },
    {
      "cell_type": "code",
      "execution_count": 602,
      "metadata": {
        "id": "N43vACSwq8Wx"
      },
      "outputs": [],
      "source": [
        "# Value of car\n",
        "card['value'] = announcement.find('p', {'class': 'txt-value'}).getText()\n"
      ]
    },
    {
      "cell_type": "markdown",
      "metadata": {
        "id": "2uCxGtcJq8Wy"
      },
      "source": [
        "# 5.3. Obtaining information about the advertised vehicle"
      ]
    },
    {
      "cell_type": "code",
      "execution_count": 603,
      "metadata": {
        "id": "aQv5tdYEq8Wy",
        "colab": {
          "base_uri": "https://localhost:8080/"
        },
        "outputId": "04bb750e-fb1b-44a8-949c-3bd1a21afb83"
      },
      "outputs": [
        {
          "output_type": "execute_result",
          "data": {
            "text/plain": [
              "[<p class=\"txt-name inline\">LAMBORGHINI AVENTADOR</p>,\n",
              " <p class=\"txt-category badge badge-secondary inline\">USADO</p>,\n",
              " <p class=\"txt-motor\">Motor 1.8 16v</p>,\n",
              " <p class=\"txt-description\">Ano 1993 - 55.286 km</p>,\n",
              " <p class=\"txt-location\">Belo Horizonte - MG</p>]"
            ]
          },
          "metadata": {},
          "execution_count": 603
        }
      ],
      "source": [
        "announcement.find('div', {'class': 'body-card'}).findAll('p')"
      ]
    },
    {
      "cell_type": "code",
      "execution_count": 604,
      "metadata": {
        "id": "8wYaGp5dq8Wy"
      },
      "outputs": [],
      "source": [
        "infos = announcement.find('div', {'class': 'body-card'}).findAll('p')"
      ]
    },
    {
      "cell_type": "code",
      "execution_count": 605,
      "metadata": {
        "id": "cc5F3Blcq8Wy",
        "colab": {
          "base_uri": "https://localhost:8080/"
        },
        "outputId": "61dd16e1-1c0a-4d58-e3be-120fddf1a447"
      },
      "outputs": [
        {
          "output_type": "stream",
          "name": "stdout",
          "text": [
            "<p class=\"txt-name inline\">LAMBORGHINI AVENTADOR</p>\n",
            "<p class=\"txt-category badge badge-secondary inline\">USADO</p>\n",
            "<p class=\"txt-motor\">Motor 1.8 16v</p>\n",
            "<p class=\"txt-description\">Ano 1993 - 55.286 km</p>\n",
            "<p class=\"txt-location\">Belo Horizonte - MG</p>\n"
          ]
        }
      ],
      "source": [
        "for info in infos:\n",
        "    print(info)"
      ]
    },
    {
      "cell_type": "code",
      "execution_count": 606,
      "metadata": {
        "id": "vmjlccHzq8Wy",
        "colab": {
          "base_uri": "https://localhost:8080/"
        },
        "outputId": "b70e255f-85ce-489c-9920-d0b0533062af"
      },
      "outputs": [
        {
          "output_type": "stream",
          "name": "stdout",
          "text": [
            "['txt-name', 'inline']\n",
            "['txt-category', 'badge', 'badge-secondary', 'inline']\n",
            "['txt-motor']\n",
            "['txt-description']\n",
            "['txt-location']\n"
          ]
        }
      ],
      "source": [
        "for info in infos:\n",
        "    print(info.get('class'))"
      ]
    },
    {
      "cell_type": "code",
      "execution_count": 607,
      "metadata": {
        "id": "eOGmdadYq8Wy",
        "colab": {
          "base_uri": "https://localhost:8080/"
        },
        "outputId": "f54a0fe6-f1f2-45f4-bd94-dfde1f08599d"
      },
      "outputs": [
        {
          "output_type": "stream",
          "name": "stdout",
          "text": [
            "['txt-name', 'inline']  -  LAMBORGHINI AVENTADOR\n",
            "['txt-category', 'badge', 'badge-secondary', 'inline']  -  USADO\n",
            "['txt-motor']  -  Motor 1.8 16v\n",
            "['txt-description']  -  Ano 1993 - 55.286 km\n",
            "['txt-location']  -  Belo Horizonte - MG\n"
          ]
        }
      ],
      "source": [
        "for info in infos:\n",
        "    print(info.get('class'), ' - ', info.get_text())"
      ]
    },
    {
      "cell_type": "code",
      "execution_count": 608,
      "metadata": {
        "id": "lTd7cV3Nq8Wy",
        "colab": {
          "base_uri": "https://localhost:8080/"
        },
        "outputId": "1ab5b78f-b92b-4d07-aebc-14f462bb3ea1"
      },
      "outputs": [
        {
          "output_type": "stream",
          "name": "stdout",
          "text": [
            "txt-name  -  LAMBORGHINI AVENTADOR\n",
            "txt-category  -  USADO\n",
            "txt-motor  -  Motor 1.8 16v\n",
            "txt-description  -  Ano 1993 - 55.286 km\n",
            "txt-location  -  Belo Horizonte - MG\n"
          ]
        }
      ],
      "source": [
        "for info in infos:\n",
        "    print(info.get('class')[0], ' - ', info.get_text())"
      ]
    },
    {
      "cell_type": "code",
      "execution_count": 609,
      "metadata": {
        "id": "CjrNbR8kq8Wz",
        "colab": {
          "base_uri": "https://localhost:8080/"
        },
        "outputId": "821341d5-6f42-4030-99f0-935adc0d229e"
      },
      "outputs": [
        {
          "output_type": "stream",
          "name": "stdout",
          "text": [
            "['txt', 'name']  -  LAMBORGHINI AVENTADOR\n",
            "['txt', 'category']  -  USADO\n",
            "['txt', 'motor']  -  Motor 1.8 16v\n",
            "['txt', 'description']  -  Ano 1993 - 55.286 km\n",
            "['txt', 'location']  -  Belo Horizonte - MG\n"
          ]
        }
      ],
      "source": [
        "for info in infos:\n",
        "    print(info.get('class')[0].split('-'), ' - ', info.get_text())"
      ]
    },
    {
      "cell_type": "code",
      "execution_count": 610,
      "metadata": {
        "id": "5RB8VXy0q8Wz",
        "colab": {
          "base_uri": "https://localhost:8080/"
        },
        "outputId": "81ec1053-4fce-4d65-ad6f-6148d6f85f2c"
      },
      "outputs": [
        {
          "output_type": "execute_result",
          "data": {
            "text/plain": [
              "{'category': 'USADO',\n",
              " 'description': 'Ano 1993 - 55.286 km',\n",
              " 'location': 'Belo Horizonte - MG',\n",
              " 'motor': 'Motor 1.8 16v',\n",
              " 'name': 'LAMBORGHINI AVENTADOR',\n",
              " 'value': 'R$ 338.000'}"
            ]
          },
          "metadata": {},
          "execution_count": 610
        }
      ],
      "source": [
        "for info in infos:\n",
        "    card[info.get('class')[0].split('-')[-1]] = info.get_text()\n",
        "card"
      ]
    },
    {
      "cell_type": "markdown",
      "metadata": {
        "id": "F7w6HoB6q8Wz"
      },
      "source": [
        "### <font color=red>Summary"
      ]
    },
    {
      "cell_type": "code",
      "execution_count": 611,
      "metadata": {
        "id": "UP0j_qvQq8Wz"
      },
      "outputs": [],
      "source": [
        "# Informações\n",
        "infos = announcement.find('div', {'class': 'body-card'}).findAll('p')\n",
        "for info in infos:\n",
        "    card[info.get('class')[0].split('-')[-1]] = info.get_text()"
      ]
    },
    {
      "cell_type": "markdown",
      "metadata": {
        "id": "0wY6krHbq8Wz"
      },
      "source": [
        "# 5.4. Getting the ACCESSORIES of the advertised vehicle"
      ]
    },
    {
      "cell_type": "code",
      "execution_count": 612,
      "metadata": {
        "id": "aymPTu8-q8Wz",
        "colab": {
          "base_uri": "https://localhost:8080/"
        },
        "outputId": "e5bc61bc-0cbe-452e-dc4c-c466bc2a8824"
      },
      "outputs": [
        {
          "output_type": "execute_result",
          "data": {
            "text/plain": [
              "[<li class=\"txt-items\">► 4 X 4</li>,\n",
              " <li class=\"txt-items\">► Câmera de estacionamento</li>,\n",
              " <li class=\"txt-items\">► Controle de tração</li>,\n",
              " <li class=\"txt-items\">► Sensor de estacionamento</li>,\n",
              " <li class=\"txt-items\">...</li>]"
            ]
          },
          "metadata": {},
          "execution_count": 612
        }
      ],
      "source": [
        "announcement.find('div', {'class': 'body-card'}).ul.findAll('li')"
      ]
    },
    {
      "cell_type": "code",
      "execution_count": 613,
      "metadata": {
        "id": "d1ZtDn2cq8W0"
      },
      "outputs": [],
      "source": [
        "items = announcement.find('div', {'class': 'body-card'}).ul.findAll('li')"
      ]
    },
    {
      "cell_type": "code",
      "execution_count": 614,
      "metadata": {
        "id": "BTAvuo0eq8W0",
        "colab": {
          "base_uri": "https://localhost:8080/"
        },
        "outputId": "5493a377-37da-4be3-f4bb-a122e275b173"
      },
      "outputs": [
        {
          "output_type": "execute_result",
          "data": {
            "text/plain": [
              "<li class=\"txt-items\">...</li>"
            ]
          },
          "metadata": {},
          "execution_count": 614
        }
      ],
      "source": [
        "items.pop() #remove the last item"
      ]
    },
    {
      "cell_type": "code",
      "execution_count": 615,
      "metadata": {
        "id": "pOwgaNAbq8W0",
        "colab": {
          "base_uri": "https://localhost:8080/"
        },
        "outputId": "eccf3760-a545-4a59-d340-0bd1828fc8c9"
      },
      "outputs": [
        {
          "output_type": "stream",
          "name": "stdout",
          "text": [
            "4 X 4\n",
            "Câmera de estacionamento\n",
            "Controle de tração\n",
            "Sensor de estacionamento\n"
          ]
        }
      ],
      "source": [
        "for item in items:\n",
        "  print(item.get_text().replace('► ', ''))"
      ]
    },
    {
      "cell_type": "code",
      "execution_count": 616,
      "metadata": {
        "id": "jHBQDUqtq8W0"
      },
      "outputs": [],
      "source": [
        "accessories = []\n"
      ]
    },
    {
      "cell_type": "code",
      "execution_count": 617,
      "metadata": {
        "id": "TgfXrIDVq8W0"
      },
      "outputs": [],
      "source": [
        "for item in items:\n",
        "  accessories.append(item.get_text().replace('► ', ''))"
      ]
    },
    {
      "cell_type": "code",
      "execution_count": 618,
      "metadata": {
        "id": "66sxIeXcq8W0"
      },
      "outputs": [],
      "source": [
        "card['itens'] = accessories"
      ]
    },
    {
      "cell_type": "code",
      "execution_count": 619,
      "metadata": {
        "id": "OYWVT5kaq8W0",
        "colab": {
          "base_uri": "https://localhost:8080/"
        },
        "outputId": "60b3219d-b94a-4547-cb06-54771d00c00e"
      },
      "outputs": [
        {
          "output_type": "execute_result",
          "data": {
            "text/plain": [
              "{'category': 'USADO',\n",
              " 'description': 'Ano 1993 - 55.286 km',\n",
              " 'itens': ['4 X 4',\n",
              "  'Câmera de estacionamento',\n",
              "  'Controle de tração',\n",
              "  'Sensor de estacionamento'],\n",
              " 'location': 'Belo Horizonte - MG',\n",
              " 'motor': 'Motor 1.8 16v',\n",
              " 'name': 'LAMBORGHINI AVENTADOR',\n",
              " 'value': 'R$ 338.000'}"
            ]
          },
          "metadata": {},
          "execution_count": 619
        }
      ],
      "source": [
        "card"
      ]
    },
    {
      "cell_type": "markdown",
      "metadata": {
        "id": "OyD0G91aq8W0"
      },
      "source": [
        "### <font color=red>Summary"
      ]
    },
    {
      "cell_type": "code",
      "execution_count": 620,
      "metadata": {
        "id": "9KMuXPDMq8W0",
        "colab": {
          "base_uri": "https://localhost:8080/"
        },
        "outputId": "cdb46952-e2fb-4a5c-c529-c1b524ee46db"
      },
      "outputs": [
        {
          "output_type": "execute_result",
          "data": {
            "text/plain": [
              "{'category': 'USADO',\n",
              " 'description': 'Ano 1993 - 55.286 km',\n",
              " 'items': ['4 X 4',\n",
              "  'Câmera de estacionamento',\n",
              "  'Controle de tração',\n",
              "  'Sensor de estacionamento'],\n",
              " 'itens': ['4 X 4',\n",
              "  'Câmera de estacionamento',\n",
              "  'Controle de tração',\n",
              "  'Sensor de estacionamento'],\n",
              " 'location': 'Belo Horizonte - MG',\n",
              " 'motor': 'Motor 1.8 16v',\n",
              " 'name': 'LAMBORGHINI AVENTADOR',\n",
              " 'value': 'R$ 338.000'}"
            ]
          },
          "metadata": {},
          "execution_count": 620
        }
      ],
      "source": [
        "# Acessórios\n",
        "items = announcement.find('div', {'class': 'body-card'}).ul.findAll('li')\n",
        "items.pop() #remove the last item\n",
        "accessories = []\n",
        "for item in items:\n",
        "  accessories.append(item.get_text().replace('► ', ''))\n",
        "\n",
        "card['items'] = accessories\n",
        "card\n",
        "\n"
      ]
    },
    {
      "cell_type": "markdown",
      "metadata": {
        "id": "f1uVQupOq8W1"
      },
      "source": [
        "# 5.5 Creating a DataFrame with the data collected "
      ]
    },
    {
      "cell_type": "code",
      "execution_count": 621,
      "metadata": {
        "id": "YDPwdEdUq8W1"
      },
      "outputs": [],
      "source": [
        "import pandas as pd"
      ]
    },
    {
      "cell_type": "code",
      "execution_count": 622,
      "metadata": {
        "id": "GTGs2DOLq8W1",
        "colab": {
          "base_uri": "https://localhost:8080/",
          "height": 300
        },
        "outputId": "800186e6-15ef-49c8-a25d-a8ab150e31ae"
      },
      "outputs": [
        {
          "output_type": "execute_result",
          "data": {
            "text/plain": [
              "                                                             0\n",
              "value                                               R$ 338.000\n",
              "name                                     LAMBORGHINI AVENTADOR\n",
              "category                                                 USADO\n",
              "motor                                            Motor 1.8 16v\n",
              "description                               Ano 1993 - 55.286 km\n",
              "location                                   Belo Horizonte - MG\n",
              "itens        [4 X 4, Câmera de estacionamento, Controle de ...\n",
              "items        [4 X 4, Câmera de estacionamento, Controle de ..."
            ],
            "text/html": [
              "\n",
              "  <div id=\"df-1ec2899e-65e6-43d8-b570-e4e90ed2d7d4\">\n",
              "    <div class=\"colab-df-container\">\n",
              "      <div>\n",
              "<style scoped>\n",
              "    .dataframe tbody tr th:only-of-type {\n",
              "        vertical-align: middle;\n",
              "    }\n",
              "\n",
              "    .dataframe tbody tr th {\n",
              "        vertical-align: top;\n",
              "    }\n",
              "\n",
              "    .dataframe thead th {\n",
              "        text-align: right;\n",
              "    }\n",
              "</style>\n",
              "<table border=\"1\" class=\"dataframe\">\n",
              "  <thead>\n",
              "    <tr style=\"text-align: right;\">\n",
              "      <th></th>\n",
              "      <th>0</th>\n",
              "    </tr>\n",
              "  </thead>\n",
              "  <tbody>\n",
              "    <tr>\n",
              "      <th>value</th>\n",
              "      <td>R$ 338.000</td>\n",
              "    </tr>\n",
              "    <tr>\n",
              "      <th>name</th>\n",
              "      <td>LAMBORGHINI AVENTADOR</td>\n",
              "    </tr>\n",
              "    <tr>\n",
              "      <th>category</th>\n",
              "      <td>USADO</td>\n",
              "    </tr>\n",
              "    <tr>\n",
              "      <th>motor</th>\n",
              "      <td>Motor 1.8 16v</td>\n",
              "    </tr>\n",
              "    <tr>\n",
              "      <th>description</th>\n",
              "      <td>Ano 1993 - 55.286 km</td>\n",
              "    </tr>\n",
              "    <tr>\n",
              "      <th>location</th>\n",
              "      <td>Belo Horizonte - MG</td>\n",
              "    </tr>\n",
              "    <tr>\n",
              "      <th>itens</th>\n",
              "      <td>[4 X 4, Câmera de estacionamento, Controle de ...</td>\n",
              "    </tr>\n",
              "    <tr>\n",
              "      <th>items</th>\n",
              "      <td>[4 X 4, Câmera de estacionamento, Controle de ...</td>\n",
              "    </tr>\n",
              "  </tbody>\n",
              "</table>\n",
              "</div>\n",
              "      <button class=\"colab-df-convert\" onclick=\"convertToInteractive('df-1ec2899e-65e6-43d8-b570-e4e90ed2d7d4')\"\n",
              "              title=\"Convert this dataframe to an interactive table.\"\n",
              "              style=\"display:none;\">\n",
              "        \n",
              "  <svg xmlns=\"http://www.w3.org/2000/svg\" height=\"24px\"viewBox=\"0 0 24 24\"\n",
              "       width=\"24px\">\n",
              "    <path d=\"M0 0h24v24H0V0z\" fill=\"none\"/>\n",
              "    <path d=\"M18.56 5.44l.94 2.06.94-2.06 2.06-.94-2.06-.94-.94-2.06-.94 2.06-2.06.94zm-11 1L8.5 8.5l.94-2.06 2.06-.94-2.06-.94L8.5 2.5l-.94 2.06-2.06.94zm10 10l.94 2.06.94-2.06 2.06-.94-2.06-.94-.94-2.06-.94 2.06-2.06.94z\"/><path d=\"M17.41 7.96l-1.37-1.37c-.4-.4-.92-.59-1.43-.59-.52 0-1.04.2-1.43.59L10.3 9.45l-7.72 7.72c-.78.78-.78 2.05 0 2.83L4 21.41c.39.39.9.59 1.41.59.51 0 1.02-.2 1.41-.59l7.78-7.78 2.81-2.81c.8-.78.8-2.07 0-2.86zM5.41 20L4 18.59l7.72-7.72 1.47 1.35L5.41 20z\"/>\n",
              "  </svg>\n",
              "      </button>\n",
              "      \n",
              "  <style>\n",
              "    .colab-df-container {\n",
              "      display:flex;\n",
              "      flex-wrap:wrap;\n",
              "      gap: 12px;\n",
              "    }\n",
              "\n",
              "    .colab-df-convert {\n",
              "      background-color: #E8F0FE;\n",
              "      border: none;\n",
              "      border-radius: 50%;\n",
              "      cursor: pointer;\n",
              "      display: none;\n",
              "      fill: #1967D2;\n",
              "      height: 32px;\n",
              "      padding: 0 0 0 0;\n",
              "      width: 32px;\n",
              "    }\n",
              "\n",
              "    .colab-df-convert:hover {\n",
              "      background-color: #E2EBFA;\n",
              "      box-shadow: 0px 1px 2px rgba(60, 64, 67, 0.3), 0px 1px 3px 1px rgba(60, 64, 67, 0.15);\n",
              "      fill: #174EA6;\n",
              "    }\n",
              "\n",
              "    [theme=dark] .colab-df-convert {\n",
              "      background-color: #3B4455;\n",
              "      fill: #D2E3FC;\n",
              "    }\n",
              "\n",
              "    [theme=dark] .colab-df-convert:hover {\n",
              "      background-color: #434B5C;\n",
              "      box-shadow: 0px 1px 3px 1px rgba(0, 0, 0, 0.15);\n",
              "      filter: drop-shadow(0px 1px 2px rgba(0, 0, 0, 0.3));\n",
              "      fill: #FFFFFF;\n",
              "    }\n",
              "  </style>\n",
              "\n",
              "      <script>\n",
              "        const buttonEl =\n",
              "          document.querySelector('#df-1ec2899e-65e6-43d8-b570-e4e90ed2d7d4 button.colab-df-convert');\n",
              "        buttonEl.style.display =\n",
              "          google.colab.kernel.accessAllowed ? 'block' : 'none';\n",
              "\n",
              "        async function convertToInteractive(key) {\n",
              "          const element = document.querySelector('#df-1ec2899e-65e6-43d8-b570-e4e90ed2d7d4');\n",
              "          const dataTable =\n",
              "            await google.colab.kernel.invokeFunction('convertToInteractive',\n",
              "                                                     [key], {});\n",
              "          if (!dataTable) return;\n",
              "\n",
              "          const docLinkHtml = 'Like what you see? Visit the ' +\n",
              "            '<a target=\"_blank\" href=https://colab.research.google.com/notebooks/data_table.ipynb>data table notebook</a>'\n",
              "            + ' to learn more about interactive tables.';\n",
              "          element.innerHTML = '';\n",
              "          dataTable['output_type'] = 'display_data';\n",
              "          await google.colab.output.renderOutput(dataTable, element);\n",
              "          const docLink = document.createElement('div');\n",
              "          docLink.innerHTML = docLinkHtml;\n",
              "          element.appendChild(docLink);\n",
              "        }\n",
              "      </script>\n",
              "    </div>\n",
              "  </div>\n",
              "  "
            ]
          },
          "metadata": {},
          "execution_count": 622
        }
      ],
      "source": [
        "dataset = pd.DataFrame.from_dict(card, orient='index')\n",
        "dataset"
      ]
    },
    {
      "cell_type": "markdown",
      "source": [
        "The dataset is wrong, its necessary the dataset similar a row in a table, this happened because the content of key \"items\". Is possible solve this problem with .T \"transpose\" like below."
      ],
      "metadata": {
        "id": "hqeR-j4GL-hx"
      }
    },
    {
      "cell_type": "code",
      "execution_count": 623,
      "metadata": {
        "id": "zpIxab7Wq8W1",
        "colab": {
          "base_uri": "https://localhost:8080/",
          "height": 142
        },
        "outputId": "b2f9dc34-bb8b-4939-ac3d-6060d4b20822"
      },
      "outputs": [
        {
          "output_type": "execute_result",
          "data": {
            "text/plain": [
              "        value                   name category          motor  \\\n",
              "0  R$ 338.000  LAMBORGHINI AVENTADOR    USADO  Motor 1.8 16v   \n",
              "\n",
              "            description             location  \\\n",
              "0  Ano 1993 - 55.286 km  Belo Horizonte - MG   \n",
              "\n",
              "                                               itens  \\\n",
              "0  [4 X 4, Câmera de estacionamento, Controle de ...   \n",
              "\n",
              "                                               items  \n",
              "0  [4 X 4, Câmera de estacionamento, Controle de ...  "
            ],
            "text/html": [
              "\n",
              "  <div id=\"df-4f6b112b-db79-4767-915c-2ac2a406361d\">\n",
              "    <div class=\"colab-df-container\">\n",
              "      <div>\n",
              "<style scoped>\n",
              "    .dataframe tbody tr th:only-of-type {\n",
              "        vertical-align: middle;\n",
              "    }\n",
              "\n",
              "    .dataframe tbody tr th {\n",
              "        vertical-align: top;\n",
              "    }\n",
              "\n",
              "    .dataframe thead th {\n",
              "        text-align: right;\n",
              "    }\n",
              "</style>\n",
              "<table border=\"1\" class=\"dataframe\">\n",
              "  <thead>\n",
              "    <tr style=\"text-align: right;\">\n",
              "      <th></th>\n",
              "      <th>value</th>\n",
              "      <th>name</th>\n",
              "      <th>category</th>\n",
              "      <th>motor</th>\n",
              "      <th>description</th>\n",
              "      <th>location</th>\n",
              "      <th>itens</th>\n",
              "      <th>items</th>\n",
              "    </tr>\n",
              "  </thead>\n",
              "  <tbody>\n",
              "    <tr>\n",
              "      <th>0</th>\n",
              "      <td>R$ 338.000</td>\n",
              "      <td>LAMBORGHINI AVENTADOR</td>\n",
              "      <td>USADO</td>\n",
              "      <td>Motor 1.8 16v</td>\n",
              "      <td>Ano 1993 - 55.286 km</td>\n",
              "      <td>Belo Horizonte - MG</td>\n",
              "      <td>[4 X 4, Câmera de estacionamento, Controle de ...</td>\n",
              "      <td>[4 X 4, Câmera de estacionamento, Controle de ...</td>\n",
              "    </tr>\n",
              "  </tbody>\n",
              "</table>\n",
              "</div>\n",
              "      <button class=\"colab-df-convert\" onclick=\"convertToInteractive('df-4f6b112b-db79-4767-915c-2ac2a406361d')\"\n",
              "              title=\"Convert this dataframe to an interactive table.\"\n",
              "              style=\"display:none;\">\n",
              "        \n",
              "  <svg xmlns=\"http://www.w3.org/2000/svg\" height=\"24px\"viewBox=\"0 0 24 24\"\n",
              "       width=\"24px\">\n",
              "    <path d=\"M0 0h24v24H0V0z\" fill=\"none\"/>\n",
              "    <path d=\"M18.56 5.44l.94 2.06.94-2.06 2.06-.94-2.06-.94-.94-2.06-.94 2.06-2.06.94zm-11 1L8.5 8.5l.94-2.06 2.06-.94-2.06-.94L8.5 2.5l-.94 2.06-2.06.94zm10 10l.94 2.06.94-2.06 2.06-.94-2.06-.94-.94-2.06-.94 2.06-2.06.94z\"/><path d=\"M17.41 7.96l-1.37-1.37c-.4-.4-.92-.59-1.43-.59-.52 0-1.04.2-1.43.59L10.3 9.45l-7.72 7.72c-.78.78-.78 2.05 0 2.83L4 21.41c.39.39.9.59 1.41.59.51 0 1.02-.2 1.41-.59l7.78-7.78 2.81-2.81c.8-.78.8-2.07 0-2.86zM5.41 20L4 18.59l7.72-7.72 1.47 1.35L5.41 20z\"/>\n",
              "  </svg>\n",
              "      </button>\n",
              "      \n",
              "  <style>\n",
              "    .colab-df-container {\n",
              "      display:flex;\n",
              "      flex-wrap:wrap;\n",
              "      gap: 12px;\n",
              "    }\n",
              "\n",
              "    .colab-df-convert {\n",
              "      background-color: #E8F0FE;\n",
              "      border: none;\n",
              "      border-radius: 50%;\n",
              "      cursor: pointer;\n",
              "      display: none;\n",
              "      fill: #1967D2;\n",
              "      height: 32px;\n",
              "      padding: 0 0 0 0;\n",
              "      width: 32px;\n",
              "    }\n",
              "\n",
              "    .colab-df-convert:hover {\n",
              "      background-color: #E2EBFA;\n",
              "      box-shadow: 0px 1px 2px rgba(60, 64, 67, 0.3), 0px 1px 3px 1px rgba(60, 64, 67, 0.15);\n",
              "      fill: #174EA6;\n",
              "    }\n",
              "\n",
              "    [theme=dark] .colab-df-convert {\n",
              "      background-color: #3B4455;\n",
              "      fill: #D2E3FC;\n",
              "    }\n",
              "\n",
              "    [theme=dark] .colab-df-convert:hover {\n",
              "      background-color: #434B5C;\n",
              "      box-shadow: 0px 1px 3px 1px rgba(0, 0, 0, 0.15);\n",
              "      filter: drop-shadow(0px 1px 2px rgba(0, 0, 0, 0.3));\n",
              "      fill: #FFFFFF;\n",
              "    }\n",
              "  </style>\n",
              "\n",
              "      <script>\n",
              "        const buttonEl =\n",
              "          document.querySelector('#df-4f6b112b-db79-4767-915c-2ac2a406361d button.colab-df-convert');\n",
              "        buttonEl.style.display =\n",
              "          google.colab.kernel.accessAllowed ? 'block' : 'none';\n",
              "\n",
              "        async function convertToInteractive(key) {\n",
              "          const element = document.querySelector('#df-4f6b112b-db79-4767-915c-2ac2a406361d');\n",
              "          const dataTable =\n",
              "            await google.colab.kernel.invokeFunction('convertToInteractive',\n",
              "                                                     [key], {});\n",
              "          if (!dataTable) return;\n",
              "\n",
              "          const docLinkHtml = 'Like what you see? Visit the ' +\n",
              "            '<a target=\"_blank\" href=https://colab.research.google.com/notebooks/data_table.ipynb>data table notebook</a>'\n",
              "            + ' to learn more about interactive tables.';\n",
              "          element.innerHTML = '';\n",
              "          dataTable['output_type'] = 'display_data';\n",
              "          await google.colab.output.renderOutput(dataTable, element);\n",
              "          const docLink = document.createElement('div');\n",
              "          docLink.innerHTML = docLinkHtml;\n",
              "          element.appendChild(docLink);\n",
              "        }\n",
              "      </script>\n",
              "    </div>\n",
              "  </div>\n",
              "  "
            ]
          },
          "metadata": {},
          "execution_count": 623
        }
      ],
      "source": [
        "dataset = pd.DataFrame.from_dict(card, orient='index').T\n",
        "dataset"
      ]
    },
    {
      "cell_type": "code",
      "execution_count": 624,
      "metadata": {
        "id": "ITDujlHXq8W1"
      },
      "outputs": [],
      "source": [
        "dataset.to_csv('./sample_data/dataset.csv', sep=';', index = False, encoding = 'utf-8-sig')"
      ]
    },
    {
      "cell_type": "markdown",
      "metadata": {
        "id": "GhsJ8lofq8W2"
      },
      "source": [
        "# 5.6. Getting the ad PHOTO"
      ]
    },
    {
      "cell_type": "code",
      "execution_count": 625,
      "metadata": {
        "id": "_BQ9wUumq8W3",
        "colab": {
          "base_uri": "https://localhost:8080/"
        },
        "outputId": "ae3eeda0-9c5e-4817-8f9a-dc4a8947d374"
      },
      "outputs": [
        {
          "output_type": "execute_result",
          "data": {
            "text/plain": [
              "<div class=\"well card\">\n",
              "<div class=\"col-md-3 image-card\">\n",
              "<img alt=\"Foto\" height=\"155\" src=\"https://caelum-online-public.s3.amazonaws.com/1381-scraping/01/img-cars/lamborghini-aventador/lamborghini-aventador-2932196__340.jpg\" width=\"220\"/>\n",
              "</div>\n",
              "<div class=\"col-md-6 body-card\">\n",
              "<p class=\"txt-name inline\">LAMBORGHINI AVENTADOR</p>\n",
              "<p class=\"txt-category badge badge-secondary inline\">USADO</p>\n",
              "<p class=\"txt-motor\">Motor 1.8 16v</p>\n",
              "<p class=\"txt-description\">Ano 1993 - 55.286 km</p>\n",
              "<ul class=\"lst-items\">\n",
              "<li class=\"txt-items\">► 4 X 4</li>\n",
              "<li class=\"txt-items\">► Câmera de estacionamento</li>\n",
              "<li class=\"txt-items\">► Controle de tração</li>\n",
              "<li class=\"txt-items\">► Sensor de estacionamento</li>\n",
              "<li class=\"txt-items\">...</li>\n",
              "</ul>\n",
              "<p class=\"txt-location\">Belo Horizonte - MG</p>\n",
              "</div>\n",
              "<div class=\"col-md-3 value-card\">\n",
              "<div class=\"value\">\n",
              "<p class=\"txt-value\">R$ 338.000</p>\n",
              "</div>\n",
              "</div>\n",
              "</div>"
            ]
          },
          "metadata": {},
          "execution_count": 625
        }
      ],
      "source": [
        "announcement"
      ]
    },
    {
      "cell_type": "code",
      "execution_count": 626,
      "metadata": {
        "id": "2fKUBZo2q8W3"
      },
      "outputs": [],
      "source": [
        "image = announcement.find('div', {'class': 'image-card'}).img"
      ]
    },
    {
      "cell_type": "code",
      "execution_count": 627,
      "metadata": {
        "id": "EZ4QuAzmq8W3",
        "colab": {
          "base_uri": "https://localhost:8080/",
          "height": 35
        },
        "outputId": "51735180-30ea-4dc4-e076-485f76c4edfd"
      },
      "outputs": [
        {
          "output_type": "execute_result",
          "data": {
            "text/plain": [
              "'https://caelum-online-public.s3.amazonaws.com/1381-scraping/01/img-cars/lamborghini-aventador/lamborghini-aventador-2932196__340.jpg'"
            ],
            "application/vnd.google.colaboratory.intrinsic+json": {
              "type": "string"
            }
          },
          "metadata": {},
          "execution_count": 627
        }
      ],
      "source": [
        "image.get('src')"
      ]
    },
    {
      "cell_type": "markdown",
      "metadata": {
        "id": "QAiErXTFq8W4"
      },
      "source": [
        "### Viewing the PHOTO on the notebook"
      ]
    },
    {
      "cell_type": "code",
      "execution_count": 628,
      "metadata": {
        "id": "p7VTUaerq8W4",
        "colab": {
          "base_uri": "https://localhost:8080/",
          "height": 177
        },
        "outputId": "862e141c-bf90-4fb7-c213-3c770e6c35d5"
      },
      "outputs": [
        {
          "output_type": "display_data",
          "data": {
            "text/plain": [
              "<IPython.core.display.HTML object>"
            ],
            "text/html": [
              "<img alt=\"Foto\" height=\"155\" src=\"https://caelum-online-public.s3.amazonaws.com/1381-scraping/01/img-cars/lamborghini-aventador/lamborghini-aventador-2932196__340.jpg\" width=\"220\"/>"
            ]
          },
          "metadata": {}
        }
      ],
      "source": [
        "from IPython.core.display import display, HTML\n",
        "display(HTML(str(announcement.find('div', {'class': 'image-card'}).img)))"
      ]
    },
    {
      "cell_type": "code",
      "execution_count": 628,
      "metadata": {
        "id": "SOm6ESqLq8W4"
      },
      "outputs": [],
      "source": [
        ""
      ]
    },
    {
      "cell_type": "markdown",
      "metadata": {
        "id": "3hSu-krGq8W4"
      },
      "source": [
        "### Routine to access and save the ad PHOTO"
      ]
    },
    {
      "cell_type": "markdown",
      "metadata": {
        "id": "ggU6KlbSq8W4"
      },
      "source": [
        "## https://docs.python.org/3/library/urllib.request.html#urllib.request.urlretrieve"
      ]
    },
    {
      "cell_type": "code",
      "execution_count": 629,
      "metadata": {
        "id": "jImjIP2Kq8W4"
      },
      "outputs": [],
      "source": [
        "from urllib.request import urlretrieve"
      ]
    },
    {
      "cell_type": "code",
      "execution_count": 630,
      "metadata": {
        "id": "C03SCxMVq8W5",
        "colab": {
          "base_uri": "https://localhost:8080/",
          "height": 35
        },
        "outputId": "526106e4-35e6-4a16-c977-e8dbb83f6d28"
      },
      "outputs": [
        {
          "output_type": "execute_result",
          "data": {
            "text/plain": [
              "'lamborghini-aventador-2932196__340.jpg'"
            ],
            "application/vnd.google.colaboratory.intrinsic+json": {
              "type": "string"
            }
          },
          "metadata": {},
          "execution_count": 630
        }
      ],
      "source": [
        "image.get('src').split('/')[-1]"
      ]
    },
    {
      "cell_type": "markdown",
      "metadata": {
        "id": "Idf9JbvMq8W5"
      },
      "source": [
        "### <font color=red>Summary"
      ]
    },
    {
      "cell_type": "code",
      "execution_count": 631,
      "metadata": {
        "id": "etai6uRjq8W5",
        "colab": {
          "base_uri": "https://localhost:8080/"
        },
        "outputId": "a46979ed-f0b3-481b-d22b-065dc5947fee"
      },
      "outputs": [
        {
          "output_type": "execute_result",
          "data": {
            "text/plain": [
              "('./sample_data/lamborghini-aventador-2932196__340.jpg',\n",
              " <http.client.HTTPMessage at 0x7f7b6c1fa690>)"
            ]
          },
          "metadata": {},
          "execution_count": 631
        }
      ],
      "source": [
        "from urllib.request import urlretrieve\n",
        "\n",
        "urlretrieve(image.get('src'), './sample_data/' + image.get('src').split('/')[-1])"
      ]
    },
    {
      "cell_type": "markdown",
      "metadata": {
        "id": "8AYQylCpq8W5"
      },
      "source": [
        "# <font color=green>6. WEBSITE WEB SCRAPING - GETTING THE DATA OF ALL ADS FROM A PAGE"
      ]
    },
    {
      "cell_type": "markdown",
      "metadata": {
        "id": "y4Ie7WVLq8W6"
      },
      "source": [
        "# 6.1. Identifying information in HTML"
      ]
    },
    {
      "cell_type": "code",
      "execution_count": 632,
      "metadata": {
        "scrolled": true,
        "id": "YyLzjZUPq8W6",
        "colab": {
          "base_uri": "https://localhost:8080/"
        },
        "outputId": "e0c2812b-61df-4988-fe55-cad3c960d138"
      },
      "outputs": [
        {
          "output_type": "execute_result",
          "data": {
            "text/plain": [
              "10"
            ]
          },
          "metadata": {},
          "execution_count": 632
        }
      ],
      "source": [
        "# number of announcements\n",
        "len(soup.find('div', {'id' : 'container-cards'}).findAll('div', class_='card'))"
      ]
    },
    {
      "cell_type": "code",
      "execution_count": 633,
      "metadata": {
        "scrolled": true,
        "id": "mWsO25gmq8W6"
      },
      "outputs": [],
      "source": [
        "announcements = soup.find('div', {'id' : 'container-cards'}).findAll('div', class_='card')"
      ]
    },
    {
      "cell_type": "code",
      "execution_count": 634,
      "metadata": {
        "scrolled": true,
        "id": "OBSuZfL2q8W6",
        "colab": {
          "base_uri": "https://localhost:8080/"
        },
        "outputId": "edff1c3f-21fb-4048-8c96-ad95714f5372"
      },
      "outputs": [
        {
          "output_type": "stream",
          "name": "stdout",
          "text": [
            "<div class=\"well card\">\n",
            "<div class=\"col-md-3 image-card\">\n",
            "<img alt=\"Foto\" height=\"155\" src=\"https://caelum-online-public.s3.amazonaws.com/1381-scraping/01/img-cars/lamborghini-aventador/lamborghini-aventador-2932196__340.jpg\" width=\"220\"/>\n",
            "</div>\n",
            "<div class=\"col-md-6 body-card\">\n",
            "<p class=\"txt-name inline\">LAMBORGHINI AVENTADOR</p>\n",
            "<p class=\"txt-category badge badge-secondary inline\">USADO</p>\n",
            "<p class=\"txt-motor\">Motor 1.8 16v</p>\n",
            "<p class=\"txt-description\">Ano 1993 - 55.286 km</p>\n",
            "<ul class=\"lst-items\">\n",
            "<li class=\"txt-items\">► 4 X 4</li>\n",
            "<li class=\"txt-items\">► Câmera de estacionamento</li>\n",
            "<li class=\"txt-items\">► Controle de tração</li>\n",
            "<li class=\"txt-items\">► Sensor de estacionamento</li>\n",
            "<li class=\"txt-items\">...</li>\n",
            "</ul>\n",
            "<p class=\"txt-location\">Belo Horizonte - MG</p>\n",
            "</div>\n",
            "<div class=\"col-md-3 value-card\">\n",
            "<div class=\"value\">\n",
            "<p class=\"txt-value\">R$ 338.000</p>\n",
            "</div>\n",
            "</div>\n",
            "</div>\n",
            "\n",
            "\n",
            "<div class=\"well card\">\n",
            "<div class=\"col-md-3 image-card\">\n",
            "<img alt=\"Foto\" height=\"155\" src=\"https://caelum-online-public.s3.amazonaws.com/1381-scraping/01/img-cars/bmw-m2/bmw-m2-2970882__340.jpg\" width=\"220\"/>\n",
            "</div>\n",
            "<div class=\"col-md-6 body-card\">\n",
            "<p class=\"txt-name inline\">BMW M2</p>\n",
            "<p class=\"txt-category badge badge-secondary inline\">USADO</p>\n",
            "<p class=\"txt-motor\">Motor 3.0 32v</p>\n",
            "<p class=\"txt-description\">Ano 2018 - 83.447 km</p>\n",
            "<ul class=\"lst-items\">\n",
            "<li class=\"txt-items\">► Câmera de estacionamento</li>\n",
            "<li class=\"txt-items\">► Controle de estabilidade</li>\n",
            "<li class=\"txt-items\">► Travas elétricas</li>\n",
            "<li class=\"txt-items\">► Freios ABS</li>\n",
            "<li class=\"txt-items\">...</li>\n",
            "</ul>\n",
            "<p class=\"txt-location\">Belo Horizonte - MG</p>\n",
            "</div>\n",
            "<div class=\"col-md-3 value-card\">\n",
            "<div class=\"value\">\n",
            "<p class=\"txt-value\">R$ 346.000</p>\n",
            "</div>\n",
            "</div>\n",
            "</div>\n",
            "\n",
            "\n",
            "<div class=\"well card\">\n",
            "<div class=\"col-md-3 image-card\">\n",
            "<img alt=\"Foto\" height=\"155\" src=\"https://caelum-online-public.s3.amazonaws.com/1381-scraping/01/img-cars/alfa/alfa-1823056__340.jpg\" width=\"220\"/>\n",
            "</div>\n",
            "<div class=\"col-md-6 body-card\">\n",
            "<p class=\"txt-name inline\">ALFA</p>\n",
            "<p class=\"txt-category badge badge-secondary inline\">USADO</p>\n",
            "<p class=\"txt-motor\">Motor 1.8 16v</p>\n",
            "<p class=\"txt-description\">Ano 2004 - 19.722 km</p>\n",
            "<ul class=\"lst-items\">\n",
            "<li class=\"txt-items\">► Central multimídia</li>\n",
            "<li class=\"txt-items\">► Bancos de couro</li>\n",
            "<li class=\"txt-items\">► Rodas de liga</li>\n",
            "<li class=\"txt-items\">► Câmera de estacionamento</li>\n",
            "<li class=\"txt-items\">...</li>\n",
            "</ul>\n",
            "<p class=\"txt-location\">Rio de Janeiro - RJ</p>\n",
            "</div>\n",
            "<div class=\"col-md-3 value-card\">\n",
            "<div class=\"value\">\n",
            "<p class=\"txt-value\">R$ 480.000</p>\n",
            "</div>\n",
            "</div>\n",
            "</div>\n",
            "\n",
            "\n",
            "<div class=\"well card\">\n",
            "<div class=\"col-md-3 image-card\">\n",
            "<img alt=\"Foto\" height=\"155\" src=\"https://caelum-online-public.s3.amazonaws.com/1381-scraping/01/img-cars/puech/puech-4055386__340.jpg\" width=\"220\"/>\n",
            "</div>\n",
            "<div class=\"col-md-6 body-card\">\n",
            "<p class=\"txt-name inline\">PUECH</p>\n",
            "<p class=\"txt-category badge badge-secondary inline\">USADO</p>\n",
            "<p class=\"txt-motor\">Motor Diesel V8</p>\n",
            "<p class=\"txt-description\">Ano 1992 - 34.335 km</p>\n",
            "<ul class=\"lst-items\">\n",
            "<li class=\"txt-items\">► Bancos de couro</li>\n",
            "<li class=\"txt-items\">► Freios ABS</li>\n",
            "<li class=\"txt-items\">► Rodas de liga</li>\n",
            "<li class=\"txt-items\">► Câmbio automático</li>\n",
            "<li class=\"txt-items\">...</li>\n",
            "</ul>\n",
            "<p class=\"txt-location\">São Paulo - SP</p>\n",
            "</div>\n",
            "<div class=\"col-md-3 value-card\">\n",
            "<div class=\"value\">\n",
            "<p class=\"txt-value\">R$ 133.000</p>\n",
            "</div>\n",
            "</div>\n",
            "</div>\n",
            "\n",
            "\n",
            "<div class=\"well card\">\n",
            "<div class=\"col-md-3 image-card\">\n",
            "<img alt=\"Foto\" height=\"155\" src=\"https://caelum-online-public.s3.amazonaws.com/1381-scraping/01/img-cars/lamborghini-murcielago/lamborghini-murcielago-2872974__340.jpg\" width=\"220\"/>\n",
            "</div>\n",
            "<div class=\"col-md-6 body-card\">\n",
            "<p class=\"txt-name inline\">LAMBORGHINI MURCIELAGO</p>\n",
            "<p class=\"txt-category badge badge-secondary inline\">USADO</p>\n",
            "<p class=\"txt-motor\">Motor 1.0 8v</p>\n",
            "<p class=\"txt-description\">Ano 1991 - 464 km</p>\n",
            "<ul class=\"lst-items\">\n",
            "<li class=\"txt-items\">► Central multimídia</li>\n",
            "<li class=\"txt-items\">► Teto panorâmico</li>\n",
            "<li class=\"txt-items\">► Sensor crepuscular</li>\n",
            "<li class=\"txt-items\">► Piloto automático</li>\n",
            "<li class=\"txt-items\">...</li>\n",
            "</ul>\n",
            "<p class=\"txt-location\">Belo Horizonte - MG</p>\n",
            "</div>\n",
            "<div class=\"col-md-3 value-card\">\n",
            "<div class=\"value\">\n",
            "<p class=\"txt-value\">R$ 175.000</p>\n",
            "</div>\n",
            "</div>\n",
            "</div>\n",
            "\n",
            "\n",
            "<div class=\"well card\">\n",
            "<div class=\"col-md-3 image-card\">\n",
            "<img alt=\"Foto\" height=\"155\" src=\"https://caelum-online-public.s3.amazonaws.com/1381-scraping/01/img-cars/aston-martin/aston-martin-2977916__340.jpg\" width=\"220\"/>\n",
            "</div>\n",
            "<div class=\"col-md-6 body-card\">\n",
            "<p class=\"txt-name inline\">ASTON MARTIN</p>\n",
            "<p class=\"txt-category badge badge-secondary inline\">USADO</p>\n",
            "<p class=\"txt-opportunity badge badge-danger inline\">OPORTUNIDADE</p>\n",
            "<p class=\"txt-motor\">Motor Diesel V6</p>\n",
            "<p class=\"txt-description\">Ano 2004 - 50.189 km</p>\n",
            "<ul class=\"lst-items\">\n",
            "<li class=\"txt-items\">► Painel digital</li>\n",
            "<li class=\"txt-items\">► Controle de tração</li>\n",
            "<li class=\"txt-items\">► Teto panorâmico</li>\n",
            "<li class=\"txt-items\">► Central multimídia</li>\n",
            "<li class=\"txt-items\">...</li>\n",
            "</ul>\n",
            "<p class=\"txt-location\">Belo Horizonte - MG</p>\n",
            "</div>\n",
            "<div class=\"col-md-3 value-card\">\n",
            "<div class=\"value\">\n",
            "<p class=\"txt-value\">R$ 239.000</p>\n",
            "</div>\n",
            "</div>\n",
            "</div>\n",
            "\n",
            "\n",
            "<div class=\"well card\">\n",
            "<div class=\"col-md-3 image-card\">\n",
            "<img alt=\"Foto\" height=\"155\" src=\"https://caelum-online-public.s3.amazonaws.com/1381-scraping/01/img-cars/tvr/tvr-2943925__340.jpg\" width=\"220\"/>\n",
            "</div>\n",
            "<div class=\"col-md-6 body-card\">\n",
            "<p class=\"txt-name inline\">TVR</p>\n",
            "<p class=\"txt-category badge badge-secondary inline\">USADO</p>\n",
            "<p class=\"txt-motor\">Motor 4.0 Turbo</p>\n",
            "<p class=\"txt-description\">Ano 2014 - 17.778 km</p>\n",
            "<ul class=\"lst-items\">\n",
            "<li class=\"txt-items\">► 4 X 4</li>\n",
            "<li class=\"txt-items\">► Teto panorâmico</li>\n",
            "<li class=\"txt-items\">► Central multimídia</li>\n",
            "<li class=\"txt-items\">► Controle de estabilidade</li>\n",
            "<li class=\"txt-items\">...</li>\n",
            "</ul>\n",
            "<p class=\"txt-location\">Belo Horizonte - MG</p>\n",
            "</div>\n",
            "<div class=\"col-md-3 value-card\">\n",
            "<div class=\"value\">\n",
            "<p class=\"txt-value\">R$ 115.000</p>\n",
            "</div>\n",
            "</div>\n",
            "</div>\n",
            "\n",
            "\n",
            "<div class=\"well card\">\n",
            "<div class=\"col-md-3 image-card\">\n",
            "<img alt=\"Foto\" height=\"155\" src=\"https://caelum-online-public.s3.amazonaws.com/1381-scraping/01/img-cars/excalibur/excalibur-2916730__340.jpg\" width=\"220\"/>\n",
            "</div>\n",
            "<div class=\"col-md-6 body-card\">\n",
            "<p class=\"txt-name inline\">EXCALIBUR</p>\n",
            "<p class=\"txt-category badge badge-secondary inline\">USADO</p>\n",
            "<p class=\"txt-motor\">Motor 3.0 32v</p>\n",
            "<p class=\"txt-description\">Ano 2009 - 81.251 km</p>\n",
            "<ul class=\"lst-items\">\n",
            "<li class=\"txt-items\">► Painel digital</li>\n",
            "<li class=\"txt-items\">► Câmbio automático</li>\n",
            "<li class=\"txt-items\">► Sensor de chuva</li>\n",
            "<li class=\"txt-items\">► Travas elétricas</li>\n",
            "<li class=\"txt-items\">...</li>\n",
            "</ul>\n",
            "<p class=\"txt-location\">Rio de Janeiro - RJ</p>\n",
            "</div>\n",
            "<div class=\"col-md-3 value-card\">\n",
            "<div class=\"value\">\n",
            "<p class=\"txt-value\">R$ 114.000</p>\n",
            "</div>\n",
            "</div>\n",
            "</div>\n",
            "\n",
            "\n",
            "<div class=\"well card\">\n",
            "<div class=\"col-md-3 image-card\">\n",
            "<img alt=\"Foto\" height=\"155\" src=\"https://caelum-online-public.s3.amazonaws.com/1381-scraping/01/img-cars/mclaren/mclaren-2855240__340.jpg\" width=\"220\"/>\n",
            "</div>\n",
            "<div class=\"col-md-6 body-card\">\n",
            "<p class=\"txt-name inline\">MCLAREN</p>\n",
            "<p class=\"txt-category badge badge-secondary inline\">NOVO</p>\n",
            "<p class=\"txt-motor\">Motor Diesel</p>\n",
            "<p class=\"txt-description\">Ano 2019 - 0 km</p>\n",
            "<ul class=\"lst-items\">\n",
            "<li class=\"txt-items\">► Central multimídia</li>\n",
            "<li class=\"txt-items\">► Câmera de estacionamento</li>\n",
            "<li class=\"txt-items\">► Câmbio automático</li>\n",
            "<li class=\"txt-items\">► Ar condicionado</li>\n",
            "<li class=\"txt-items\">...</li>\n",
            "</ul>\n",
            "<p class=\"txt-location\">São Paulo - SP</p>\n",
            "</div>\n",
            "<div class=\"col-md-3 value-card\">\n",
            "<div class=\"value\">\n",
            "<p class=\"txt-value\">R$ 75.000</p>\n",
            "</div>\n",
            "</div>\n",
            "</div>\n",
            "\n",
            "\n",
            "<div class=\"well card\">\n",
            "<div class=\"col-md-3 image-card\">\n",
            "<img alt=\"Foto\" height=\"155\" src=\"https://caelum-online-public.s3.amazonaws.com/1381-scraping/01/img-cars/toyota/toyota-3245397__340.jpg\" width=\"220\"/>\n",
            "</div>\n",
            "<div class=\"col-md-6 body-card\">\n",
            "<p class=\"txt-name inline\">TOYOTA</p>\n",
            "<p class=\"txt-category badge badge-secondary inline\">USADO</p>\n",
            "<p class=\"txt-opportunity badge badge-danger inline\">OPORTUNIDADE</p>\n",
            "<p class=\"txt-motor\">Motor 4.0 Turbo</p>\n",
            "<p class=\"txt-description\">Ano 1999 - 12.536 km</p>\n",
            "<ul class=\"lst-items\">\n",
            "<li class=\"txt-items\">► Bancos de couro</li>\n",
            "<li class=\"txt-items\">► Freios ABS</li>\n",
            "<li class=\"txt-items\">► Piloto automático</li>\n",
            "<li class=\"txt-items\">► Controle de estabilidade</li>\n",
            "<li class=\"txt-items\">...</li>\n",
            "</ul>\n",
            "<p class=\"txt-location\">São Paulo - SP</p>\n",
            "</div>\n",
            "<div class=\"col-md-3 value-card\">\n",
            "<div class=\"value\">\n",
            "<p class=\"txt-value\">R$ 117.000</p>\n",
            "</div>\n",
            "</div>\n",
            "</div>\n",
            "\n",
            "\n"
          ]
        }
      ],
      "source": [
        "for item in announcements:\n",
        "  print(str(item) + '\\n\\n')"
      ]
    },
    {
      "cell_type": "markdown",
      "metadata": {
        "id": "5RKbsU1fq8W6"
      },
      "source": [
        "# 6.2. Creating a scraping routine"
      ]
    },
    {
      "cell_type": "code",
      "execution_count": 635,
      "metadata": {
        "id": "zhy-xDmCq8W6",
        "colab": {
          "base_uri": "https://localhost:8080/",
          "height": 580
        },
        "outputId": "3a491a2b-8f68-4c2c-9086-90956aeb631a"
      },
      "outputs": [
        {
          "output_type": "execute_result",
          "data": {
            "text/plain": [
              "        value                    name category            motor  \\\n",
              "0  R$ 338.000   LAMBORGHINI AVENTADOR    USADO    Motor 1.8 16v   \n",
              "1  R$ 346.000                  BMW M2    USADO    Motor 3.0 32v   \n",
              "2  R$ 480.000                    ALFA    USADO    Motor 1.8 16v   \n",
              "3  R$ 133.000                   PUECH    USADO  Motor Diesel V8   \n",
              "4  R$ 175.000  LAMBORGHINI MURCIELAGO    USADO     Motor 1.0 8v   \n",
              "5  R$ 239.000            ASTON MARTIN    USADO  Motor Diesel V6   \n",
              "6  R$ 115.000                     TVR    USADO  Motor 4.0 Turbo   \n",
              "7  R$ 114.000               EXCALIBUR    USADO    Motor 3.0 32v   \n",
              "8   R$ 75.000                 MCLAREN     NOVO     Motor Diesel   \n",
              "9  R$ 117.000                  TOYOTA    USADO  Motor 4.0 Turbo   \n",
              "\n",
              "            description             location  \\\n",
              "0  Ano 1993 - 55.286 km  Belo Horizonte - MG   \n",
              "1  Ano 2018 - 83.447 km  Belo Horizonte - MG   \n",
              "2  Ano 2004 - 19.722 km  Rio de Janeiro - RJ   \n",
              "3  Ano 1992 - 34.335 km       São Paulo - SP   \n",
              "4     Ano 1991 - 464 km  Belo Horizonte - MG   \n",
              "5  Ano 2004 - 50.189 km  Belo Horizonte - MG   \n",
              "6  Ano 2014 - 17.778 km  Belo Horizonte - MG   \n",
              "7  Ano 2009 - 81.251 km  Rio de Janeiro - RJ   \n",
              "8       Ano 2019 - 0 km       São Paulo - SP   \n",
              "9  Ano 1999 - 12.536 km       São Paulo - SP   \n",
              "\n",
              "                                               items   opportunity  \n",
              "0  [4 X 4, Câmera de estacionamento, Controle de ...           NaN  \n",
              "1  [Câmera de estacionamento, Controle de estabil...           NaN  \n",
              "2  [Central multimídia, Bancos de couro, Rodas de...           NaN  \n",
              "3  [Bancos de couro, Freios ABS, Rodas de liga, C...           NaN  \n",
              "4  [Central multimídia, Teto panorâmico, Sensor c...           NaN  \n",
              "5  [Painel digital, Controle de tração, Teto pano...  OPORTUNIDADE  \n",
              "6  [4 X 4, Teto panorâmico, Central multimídia, C...           NaN  \n",
              "7  [Painel digital, Câmbio automático, Sensor de ...           NaN  \n",
              "8  [Central multimídia, Câmera de estacionamento,...           NaN  \n",
              "9  [Bancos de couro, Freios ABS, Piloto automátic...  OPORTUNIDADE  "
            ],
            "text/html": [
              "\n",
              "  <div id=\"df-51d53eb4-68f4-4e6a-acee-820e52230a40\">\n",
              "    <div class=\"colab-df-container\">\n",
              "      <div>\n",
              "<style scoped>\n",
              "    .dataframe tbody tr th:only-of-type {\n",
              "        vertical-align: middle;\n",
              "    }\n",
              "\n",
              "    .dataframe tbody tr th {\n",
              "        vertical-align: top;\n",
              "    }\n",
              "\n",
              "    .dataframe thead th {\n",
              "        text-align: right;\n",
              "    }\n",
              "</style>\n",
              "<table border=\"1\" class=\"dataframe\">\n",
              "  <thead>\n",
              "    <tr style=\"text-align: right;\">\n",
              "      <th></th>\n",
              "      <th>value</th>\n",
              "      <th>name</th>\n",
              "      <th>category</th>\n",
              "      <th>motor</th>\n",
              "      <th>description</th>\n",
              "      <th>location</th>\n",
              "      <th>items</th>\n",
              "      <th>opportunity</th>\n",
              "    </tr>\n",
              "  </thead>\n",
              "  <tbody>\n",
              "    <tr>\n",
              "      <th>0</th>\n",
              "      <td>R$ 338.000</td>\n",
              "      <td>LAMBORGHINI AVENTADOR</td>\n",
              "      <td>USADO</td>\n",
              "      <td>Motor 1.8 16v</td>\n",
              "      <td>Ano 1993 - 55.286 km</td>\n",
              "      <td>Belo Horizonte - MG</td>\n",
              "      <td>[4 X 4, Câmera de estacionamento, Controle de ...</td>\n",
              "      <td>NaN</td>\n",
              "    </tr>\n",
              "    <tr>\n",
              "      <th>1</th>\n",
              "      <td>R$ 346.000</td>\n",
              "      <td>BMW M2</td>\n",
              "      <td>USADO</td>\n",
              "      <td>Motor 3.0 32v</td>\n",
              "      <td>Ano 2018 - 83.447 km</td>\n",
              "      <td>Belo Horizonte - MG</td>\n",
              "      <td>[Câmera de estacionamento, Controle de estabil...</td>\n",
              "      <td>NaN</td>\n",
              "    </tr>\n",
              "    <tr>\n",
              "      <th>2</th>\n",
              "      <td>R$ 480.000</td>\n",
              "      <td>ALFA</td>\n",
              "      <td>USADO</td>\n",
              "      <td>Motor 1.8 16v</td>\n",
              "      <td>Ano 2004 - 19.722 km</td>\n",
              "      <td>Rio de Janeiro - RJ</td>\n",
              "      <td>[Central multimídia, Bancos de couro, Rodas de...</td>\n",
              "      <td>NaN</td>\n",
              "    </tr>\n",
              "    <tr>\n",
              "      <th>3</th>\n",
              "      <td>R$ 133.000</td>\n",
              "      <td>PUECH</td>\n",
              "      <td>USADO</td>\n",
              "      <td>Motor Diesel V8</td>\n",
              "      <td>Ano 1992 - 34.335 km</td>\n",
              "      <td>São Paulo - SP</td>\n",
              "      <td>[Bancos de couro, Freios ABS, Rodas de liga, C...</td>\n",
              "      <td>NaN</td>\n",
              "    </tr>\n",
              "    <tr>\n",
              "      <th>4</th>\n",
              "      <td>R$ 175.000</td>\n",
              "      <td>LAMBORGHINI MURCIELAGO</td>\n",
              "      <td>USADO</td>\n",
              "      <td>Motor 1.0 8v</td>\n",
              "      <td>Ano 1991 - 464 km</td>\n",
              "      <td>Belo Horizonte - MG</td>\n",
              "      <td>[Central multimídia, Teto panorâmico, Sensor c...</td>\n",
              "      <td>NaN</td>\n",
              "    </tr>\n",
              "    <tr>\n",
              "      <th>5</th>\n",
              "      <td>R$ 239.000</td>\n",
              "      <td>ASTON MARTIN</td>\n",
              "      <td>USADO</td>\n",
              "      <td>Motor Diesel V6</td>\n",
              "      <td>Ano 2004 - 50.189 km</td>\n",
              "      <td>Belo Horizonte - MG</td>\n",
              "      <td>[Painel digital, Controle de tração, Teto pano...</td>\n",
              "      <td>OPORTUNIDADE</td>\n",
              "    </tr>\n",
              "    <tr>\n",
              "      <th>6</th>\n",
              "      <td>R$ 115.000</td>\n",
              "      <td>TVR</td>\n",
              "      <td>USADO</td>\n",
              "      <td>Motor 4.0 Turbo</td>\n",
              "      <td>Ano 2014 - 17.778 km</td>\n",
              "      <td>Belo Horizonte - MG</td>\n",
              "      <td>[4 X 4, Teto panorâmico, Central multimídia, C...</td>\n",
              "      <td>NaN</td>\n",
              "    </tr>\n",
              "    <tr>\n",
              "      <th>7</th>\n",
              "      <td>R$ 114.000</td>\n",
              "      <td>EXCALIBUR</td>\n",
              "      <td>USADO</td>\n",
              "      <td>Motor 3.0 32v</td>\n",
              "      <td>Ano 2009 - 81.251 km</td>\n",
              "      <td>Rio de Janeiro - RJ</td>\n",
              "      <td>[Painel digital, Câmbio automático, Sensor de ...</td>\n",
              "      <td>NaN</td>\n",
              "    </tr>\n",
              "    <tr>\n",
              "      <th>8</th>\n",
              "      <td>R$ 75.000</td>\n",
              "      <td>MCLAREN</td>\n",
              "      <td>NOVO</td>\n",
              "      <td>Motor Diesel</td>\n",
              "      <td>Ano 2019 - 0 km</td>\n",
              "      <td>São Paulo - SP</td>\n",
              "      <td>[Central multimídia, Câmera de estacionamento,...</td>\n",
              "      <td>NaN</td>\n",
              "    </tr>\n",
              "    <tr>\n",
              "      <th>9</th>\n",
              "      <td>R$ 117.000</td>\n",
              "      <td>TOYOTA</td>\n",
              "      <td>USADO</td>\n",
              "      <td>Motor 4.0 Turbo</td>\n",
              "      <td>Ano 1999 - 12.536 km</td>\n",
              "      <td>São Paulo - SP</td>\n",
              "      <td>[Bancos de couro, Freios ABS, Piloto automátic...</td>\n",
              "      <td>OPORTUNIDADE</td>\n",
              "    </tr>\n",
              "  </tbody>\n",
              "</table>\n",
              "</div>\n",
              "      <button class=\"colab-df-convert\" onclick=\"convertToInteractive('df-51d53eb4-68f4-4e6a-acee-820e52230a40')\"\n",
              "              title=\"Convert this dataframe to an interactive table.\"\n",
              "              style=\"display:none;\">\n",
              "        \n",
              "  <svg xmlns=\"http://www.w3.org/2000/svg\" height=\"24px\"viewBox=\"0 0 24 24\"\n",
              "       width=\"24px\">\n",
              "    <path d=\"M0 0h24v24H0V0z\" fill=\"none\"/>\n",
              "    <path d=\"M18.56 5.44l.94 2.06.94-2.06 2.06-.94-2.06-.94-.94-2.06-.94 2.06-2.06.94zm-11 1L8.5 8.5l.94-2.06 2.06-.94-2.06-.94L8.5 2.5l-.94 2.06-2.06.94zm10 10l.94 2.06.94-2.06 2.06-.94-2.06-.94-.94-2.06-.94 2.06-2.06.94z\"/><path d=\"M17.41 7.96l-1.37-1.37c-.4-.4-.92-.59-1.43-.59-.52 0-1.04.2-1.43.59L10.3 9.45l-7.72 7.72c-.78.78-.78 2.05 0 2.83L4 21.41c.39.39.9.59 1.41.59.51 0 1.02-.2 1.41-.59l7.78-7.78 2.81-2.81c.8-.78.8-2.07 0-2.86zM5.41 20L4 18.59l7.72-7.72 1.47 1.35L5.41 20z\"/>\n",
              "  </svg>\n",
              "      </button>\n",
              "      \n",
              "  <style>\n",
              "    .colab-df-container {\n",
              "      display:flex;\n",
              "      flex-wrap:wrap;\n",
              "      gap: 12px;\n",
              "    }\n",
              "\n",
              "    .colab-df-convert {\n",
              "      background-color: #E8F0FE;\n",
              "      border: none;\n",
              "      border-radius: 50%;\n",
              "      cursor: pointer;\n",
              "      display: none;\n",
              "      fill: #1967D2;\n",
              "      height: 32px;\n",
              "      padding: 0 0 0 0;\n",
              "      width: 32px;\n",
              "    }\n",
              "\n",
              "    .colab-df-convert:hover {\n",
              "      background-color: #E2EBFA;\n",
              "      box-shadow: 0px 1px 2px rgba(60, 64, 67, 0.3), 0px 1px 3px 1px rgba(60, 64, 67, 0.15);\n",
              "      fill: #174EA6;\n",
              "    }\n",
              "\n",
              "    [theme=dark] .colab-df-convert {\n",
              "      background-color: #3B4455;\n",
              "      fill: #D2E3FC;\n",
              "    }\n",
              "\n",
              "    [theme=dark] .colab-df-convert:hover {\n",
              "      background-color: #434B5C;\n",
              "      box-shadow: 0px 1px 3px 1px rgba(0, 0, 0, 0.15);\n",
              "      filter: drop-shadow(0px 1px 2px rgba(0, 0, 0, 0.3));\n",
              "      fill: #FFFFFF;\n",
              "    }\n",
              "  </style>\n",
              "\n",
              "      <script>\n",
              "        const buttonEl =\n",
              "          document.querySelector('#df-51d53eb4-68f4-4e6a-acee-820e52230a40 button.colab-df-convert');\n",
              "        buttonEl.style.display =\n",
              "          google.colab.kernel.accessAllowed ? 'block' : 'none';\n",
              "\n",
              "        async function convertToInteractive(key) {\n",
              "          const element = document.querySelector('#df-51d53eb4-68f4-4e6a-acee-820e52230a40');\n",
              "          const dataTable =\n",
              "            await google.colab.kernel.invokeFunction('convertToInteractive',\n",
              "                                                     [key], {});\n",
              "          if (!dataTable) return;\n",
              "\n",
              "          const docLinkHtml = 'Like what you see? Visit the ' +\n",
              "            '<a target=\"_blank\" href=https://colab.research.google.com/notebooks/data_table.ipynb>data table notebook</a>'\n",
              "            + ' to learn more about interactive tables.';\n",
              "          element.innerHTML = '';\n",
              "          dataTable['output_type'] = 'display_data';\n",
              "          await google.colab.output.renderOutput(dataTable, element);\n",
              "          const docLink = document.createElement('div');\n",
              "          docLink.innerHTML = docLinkHtml;\n",
              "          element.appendChild(docLink);\n",
              "        }\n",
              "      </script>\n",
              "    </div>\n",
              "  </div>\n",
              "  "
            ]
          },
          "metadata": {},
          "execution_count": 635
        }
      ],
      "source": [
        "# Importando bibliotecas\n",
        "from urllib.request import urlopen, urlretrieve\n",
        "from bs4 import BeautifulSoup\n",
        "import pandas as pd\n",
        "\n",
        "# Declarando variável cards\n",
        "cards = []\n",
        "\n",
        "# Obtendo o HTML\n",
        "response = urlopen('https://alura-site-scraping.herokuapp.com/index.php')\n",
        "html = response.read().decode('utf-8')\n",
        "soup = BeautifulSoup(html, 'html.parser')\n",
        "\n",
        "# Obtendo as TAGs de interesse\n",
        "announcement = soup.find('div', {\"id\": \"container-cards\"}).findAll('div', class_=\"card\")\n",
        "\n",
        "# Coletando as informações dos CARDS\n",
        "for announcement in announcements:\n",
        "    card = {}\n",
        "\n",
        "    # Valor\n",
        "    card['value'] = announcement.find('p', {'class': 'txt-value'}).getText()\n",
        "\n",
        "    # Informações\n",
        "    infos = announcement.find('div', {'class': 'body-card'}).findAll('p')\n",
        "    for info in infos:\n",
        "        card[info.get('class')[0].split('-')[-1]] = info.get_text()\n",
        "\n",
        "    # Acessórios\n",
        "    items = announcement.find('div', {'class': 'body-card'}).ul.findAll('li')\n",
        "    items.pop()\n",
        "    acessorios = []\n",
        "    for item in items:\n",
        "        acessorios.append(item.get_text().replace('► ', ''))\n",
        "    card['items'] = acessorios\n",
        "\n",
        "     # Adicionando resultado a lista cards\n",
        "    cards.append(card)\n",
        "\n",
        "    # Imagens\n",
        "    image = announcement.find('div', {'class': 'image-card'}).img\n",
        "    urlretrieve(image.get('src'), './sample_data/' + image.get('src').split('/')[-1])\n",
        "\n",
        "# Criando um DataFrame com os resultados\n",
        "dataset = pd.DataFrame(cards)\n",
        "dataset.to_csv('./sample_data/dataset.csv', sep=';', index = False, encoding = 'utf-8-sig')\n",
        "dataset"
      ]
    },
    {
      "cell_type": "code",
      "execution_count": 636,
      "metadata": {
        "id": "o5jU3by9q8W7",
        "colab": {
          "base_uri": "https://localhost:8080/"
        },
        "outputId": "519adcec-8c40-48c2-db10-681b2a093575"
      },
      "outputs": [
        {
          "output_type": "stream",
          "name": "stdout",
          "text": [
            "img/alura-logo.svg\n",
            "https://caelum-online-public.s3.amazonaws.com/1381-scraping/01/img-cars/lamborghini-aventador/lamborghini-aventador-2932196__340.jpg\n",
            "https://caelum-online-public.s3.amazonaws.com/1381-scraping/01/img-cars/bmw-m2/bmw-m2-2970882__340.jpg\n",
            "https://caelum-online-public.s3.amazonaws.com/1381-scraping/01/img-cars/alfa/alfa-1823056__340.jpg\n",
            "https://caelum-online-public.s3.amazonaws.com/1381-scraping/01/img-cars/puech/puech-4055386__340.jpg\n",
            "https://caelum-online-public.s3.amazonaws.com/1381-scraping/01/img-cars/lamborghini-murcielago/lamborghini-murcielago-2872974__340.jpg\n",
            "https://caelum-online-public.s3.amazonaws.com/1381-scraping/01/img-cars/aston-martin/aston-martin-2977916__340.jpg\n",
            "https://caelum-online-public.s3.amazonaws.com/1381-scraping/01/img-cars/tvr/tvr-2943925__340.jpg\n",
            "https://caelum-online-public.s3.amazonaws.com/1381-scraping/01/img-cars/excalibur/excalibur-2916730__340.jpg\n",
            "https://caelum-online-public.s3.amazonaws.com/1381-scraping/01/img-cars/mclaren/mclaren-2855240__340.jpg\n",
            "https://caelum-online-public.s3.amazonaws.com/1381-scraping/01/img-cars/toyota/toyota-3245397__340.jpg\n",
            "img/alura-logo.svg\n"
          ]
        }
      ],
      "source": [
        "for image in soup('img'):\n",
        "  print(image.get('src'))"
      ]
    },
    {
      "cell_type": "markdown",
      "metadata": {
        "id": "hNafcK3Sq8W7"
      },
      "source": [
        "# <font color=green>7. WEB SCRAPING THE SITE - GETTING THE DATA OF ALL ADVERTISING ON THE SITE"
      ]
    },
    {
      "cell_type": "markdown",
      "metadata": {
        "id": "HpaGI1lDq8W7"
      },
      "source": [
        "# 7.1. Identifying information about number of pages in HTML"
      ]
    },
    {
      "cell_type": "code",
      "execution_count": 637,
      "metadata": {
        "id": "lpN3hToVq8W7",
        "colab": {
          "base_uri": "https://localhost:8080/"
        },
        "outputId": "10a61d88-133b-4f2d-b607-74c21ae72c47"
      },
      "outputs": [
        {
          "output_type": "execute_result",
          "data": {
            "text/plain": [
              "<span class=\"info-pages\">Página 1 de 25</span>"
            ]
          },
          "metadata": {},
          "execution_count": 637
        }
      ],
      "source": [
        "soup.find('span', class_=\"info-pages\")"
      ]
    },
    {
      "cell_type": "code",
      "execution_count": 638,
      "metadata": {
        "scrolled": true,
        "id": "46FB7Dgrq8W7",
        "colab": {
          "base_uri": "https://localhost:8080/",
          "height": 35
        },
        "outputId": "723a2684-4cb1-4e77-8e06-5227c8001593"
      },
      "outputs": [
        {
          "output_type": "execute_result",
          "data": {
            "text/plain": [
              "'Página 1 de 25'"
            ],
            "application/vnd.google.colaboratory.intrinsic+json": {
              "type": "string"
            }
          },
          "metadata": {},
          "execution_count": 638
        }
      ],
      "source": [
        "soup.find('span', class_=\"info-pages\").get_text()"
      ]
    },
    {
      "cell_type": "code",
      "execution_count": 639,
      "metadata": {
        "id": "M-626GWYq8W7",
        "colab": {
          "base_uri": "https://localhost:8080/"
        },
        "outputId": "319010cc-af32-4323-b755-607190ed0d1b"
      },
      "outputs": [
        {
          "output_type": "execute_result",
          "data": {
            "text/plain": [
              "['Página', '1', 'de', '25']"
            ]
          },
          "metadata": {},
          "execution_count": 639
        }
      ],
      "source": [
        "soup.find('span', class_=\"info-pages\").get_text().split()"
      ]
    },
    {
      "cell_type": "code",
      "execution_count": 640,
      "metadata": {
        "id": "w4yQWMS1q8W7",
        "colab": {
          "base_uri": "https://localhost:8080/",
          "height": 35
        },
        "outputId": "a7e383da-2eb6-4605-cc84-3a1553e835f3"
      },
      "outputs": [
        {
          "output_type": "execute_result",
          "data": {
            "text/plain": [
              "'25'"
            ],
            "application/vnd.google.colaboratory.intrinsic+json": {
              "type": "string"
            }
          },
          "metadata": {},
          "execution_count": 640
        }
      ],
      "source": [
        "soup.find('span', class_=\"info-pages\").get_text().split()[-1]"
      ]
    },
    {
      "cell_type": "code",
      "execution_count": 641,
      "metadata": {
        "id": "fy9Llt-Qq8W8",
        "colab": {
          "base_uri": "https://localhost:8080/"
        },
        "outputId": "cef131f4-977c-4c91-9ffa-d3bca89b392a"
      },
      "outputs": [
        {
          "output_type": "execute_result",
          "data": {
            "text/plain": [
              "25"
            ]
          },
          "metadata": {},
          "execution_count": 641
        }
      ],
      "source": [
        "int(soup.find('span', class_=\"info-pages\").get_text().split()[-1])"
      ]
    },
    {
      "cell_type": "markdown",
      "metadata": {
        "id": "ILm9OPUwq8W8"
      },
      "source": [
        "# 7.2. Creating a scraping routine"
      ]
    },
    {
      "cell_type": "code",
      "execution_count": 642,
      "metadata": {
        "scrolled": true,
        "id": "EbP7Lfwdq8W8",
        "colab": {
          "base_uri": "https://localhost:8080/",
          "height": 641
        },
        "outputId": "5ca80e07-28eb-4df0-b771-c5f3cd1d9aff"
      },
      "outputs": [
        {
          "output_type": "execute_result",
          "data": {
            "text/plain": [
              "          value                    name category            motor  \\\n",
              "0    R$ 338.000   LAMBORGHINI AVENTADOR    USADO    Motor 1.8 16v   \n",
              "1    R$ 346.000                  BMW M2    USADO    Motor 3.0 32v   \n",
              "2    R$ 480.000                    ALFA    USADO    Motor 1.8 16v   \n",
              "3    R$ 133.000                   PUECH    USADO  Motor Diesel V8   \n",
              "4    R$ 175.000  LAMBORGHINI MURCIELAGO    USADO     Motor 1.0 8v   \n",
              "..          ...                     ...      ...              ...   \n",
              "241  R$ 489.000           SUV REAR TIRE    USADO    Motor 3.0 32v   \n",
              "242  R$ 427.000                 ANTIQUE     NOVO    Motor 2.0 16v   \n",
              "243  R$ 203.000                   SPORT    USADO    Motor 2.0 16v   \n",
              "244  R$ 474.000                IMPERIAL    USADO    Motor 1.8 16v   \n",
              "245  R$ 366.000          KIA SPORTS CAR    USADO    Motor 3.0 32v   \n",
              "\n",
              "               description             location  \\\n",
              "0     Ano 1993 - 55.286 km  Belo Horizonte - MG   \n",
              "1     Ano 2018 - 83.447 km  Belo Horizonte - MG   \n",
              "2     Ano 2004 - 19.722 km  Rio de Janeiro - RJ   \n",
              "3     Ano 1992 - 34.335 km       São Paulo - SP   \n",
              "4        Ano 1991 - 464 km  Belo Horizonte - MG   \n",
              "..                     ...                  ...   \n",
              "241   Ano 1998 - 74.292 km       São Paulo - SP   \n",
              "242        Ano 2019 - 0 km  Belo Horizonte - MG   \n",
              "243  Ano 2001 - 102.776 km  Belo Horizonte - MG   \n",
              "244  Ano 2011 - 101.787 km  Belo Horizonte - MG   \n",
              "245   Ano 2001 - 88.564 km  Belo Horizonte - MG   \n",
              "\n",
              "                                                 items   opportunity  \n",
              "0    [4 X 4, Câmera de estacionamento, Controle de ...           NaN  \n",
              "1    [Câmera de estacionamento, Controle de estabil...           NaN  \n",
              "2    [Central multimídia, Bancos de couro, Rodas de...           NaN  \n",
              "3    [Bancos de couro, Freios ABS, Rodas de liga, C...           NaN  \n",
              "4    [Central multimídia, Teto panorâmico, Sensor c...           NaN  \n",
              "..                                                 ...           ...  \n",
              "241  [Câmera de estacionamento, Rodas de liga, Sens...           NaN  \n",
              "242  [Bancos de couro, Freios ABS, Sensor de estaci...           NaN  \n",
              "243  [Sensor crepuscular, Sensor de chuva, Vidros e...           NaN  \n",
              "244  [Painel digital, Travas elétricas, Sensor de c...  OPORTUNIDADE  \n",
              "245  [Sensor crepuscular, Bancos de couro, Sensor d...           NaN  \n",
              "\n",
              "[246 rows x 8 columns]"
            ],
            "text/html": [
              "\n",
              "  <div id=\"df-b0b5a1ed-4dd2-440e-8513-b0c2cf6166ea\">\n",
              "    <div class=\"colab-df-container\">\n",
              "      <div>\n",
              "<style scoped>\n",
              "    .dataframe tbody tr th:only-of-type {\n",
              "        vertical-align: middle;\n",
              "    }\n",
              "\n",
              "    .dataframe tbody tr th {\n",
              "        vertical-align: top;\n",
              "    }\n",
              "\n",
              "    .dataframe thead th {\n",
              "        text-align: right;\n",
              "    }\n",
              "</style>\n",
              "<table border=\"1\" class=\"dataframe\">\n",
              "  <thead>\n",
              "    <tr style=\"text-align: right;\">\n",
              "      <th></th>\n",
              "      <th>value</th>\n",
              "      <th>name</th>\n",
              "      <th>category</th>\n",
              "      <th>motor</th>\n",
              "      <th>description</th>\n",
              "      <th>location</th>\n",
              "      <th>items</th>\n",
              "      <th>opportunity</th>\n",
              "    </tr>\n",
              "  </thead>\n",
              "  <tbody>\n",
              "    <tr>\n",
              "      <th>0</th>\n",
              "      <td>R$ 338.000</td>\n",
              "      <td>LAMBORGHINI AVENTADOR</td>\n",
              "      <td>USADO</td>\n",
              "      <td>Motor 1.8 16v</td>\n",
              "      <td>Ano 1993 - 55.286 km</td>\n",
              "      <td>Belo Horizonte - MG</td>\n",
              "      <td>[4 X 4, Câmera de estacionamento, Controle de ...</td>\n",
              "      <td>NaN</td>\n",
              "    </tr>\n",
              "    <tr>\n",
              "      <th>1</th>\n",
              "      <td>R$ 346.000</td>\n",
              "      <td>BMW M2</td>\n",
              "      <td>USADO</td>\n",
              "      <td>Motor 3.0 32v</td>\n",
              "      <td>Ano 2018 - 83.447 km</td>\n",
              "      <td>Belo Horizonte - MG</td>\n",
              "      <td>[Câmera de estacionamento, Controle de estabil...</td>\n",
              "      <td>NaN</td>\n",
              "    </tr>\n",
              "    <tr>\n",
              "      <th>2</th>\n",
              "      <td>R$ 480.000</td>\n",
              "      <td>ALFA</td>\n",
              "      <td>USADO</td>\n",
              "      <td>Motor 1.8 16v</td>\n",
              "      <td>Ano 2004 - 19.722 km</td>\n",
              "      <td>Rio de Janeiro - RJ</td>\n",
              "      <td>[Central multimídia, Bancos de couro, Rodas de...</td>\n",
              "      <td>NaN</td>\n",
              "    </tr>\n",
              "    <tr>\n",
              "      <th>3</th>\n",
              "      <td>R$ 133.000</td>\n",
              "      <td>PUECH</td>\n",
              "      <td>USADO</td>\n",
              "      <td>Motor Diesel V8</td>\n",
              "      <td>Ano 1992 - 34.335 km</td>\n",
              "      <td>São Paulo - SP</td>\n",
              "      <td>[Bancos de couro, Freios ABS, Rodas de liga, C...</td>\n",
              "      <td>NaN</td>\n",
              "    </tr>\n",
              "    <tr>\n",
              "      <th>4</th>\n",
              "      <td>R$ 175.000</td>\n",
              "      <td>LAMBORGHINI MURCIELAGO</td>\n",
              "      <td>USADO</td>\n",
              "      <td>Motor 1.0 8v</td>\n",
              "      <td>Ano 1991 - 464 km</td>\n",
              "      <td>Belo Horizonte - MG</td>\n",
              "      <td>[Central multimídia, Teto panorâmico, Sensor c...</td>\n",
              "      <td>NaN</td>\n",
              "    </tr>\n",
              "    <tr>\n",
              "      <th>...</th>\n",
              "      <td>...</td>\n",
              "      <td>...</td>\n",
              "      <td>...</td>\n",
              "      <td>...</td>\n",
              "      <td>...</td>\n",
              "      <td>...</td>\n",
              "      <td>...</td>\n",
              "      <td>...</td>\n",
              "    </tr>\n",
              "    <tr>\n",
              "      <th>241</th>\n",
              "      <td>R$ 489.000</td>\n",
              "      <td>SUV REAR TIRE</td>\n",
              "      <td>USADO</td>\n",
              "      <td>Motor 3.0 32v</td>\n",
              "      <td>Ano 1998 - 74.292 km</td>\n",
              "      <td>São Paulo - SP</td>\n",
              "      <td>[Câmera de estacionamento, Rodas de liga, Sens...</td>\n",
              "      <td>NaN</td>\n",
              "    </tr>\n",
              "    <tr>\n",
              "      <th>242</th>\n",
              "      <td>R$ 427.000</td>\n",
              "      <td>ANTIQUE</td>\n",
              "      <td>NOVO</td>\n",
              "      <td>Motor 2.0 16v</td>\n",
              "      <td>Ano 2019 - 0 km</td>\n",
              "      <td>Belo Horizonte - MG</td>\n",
              "      <td>[Bancos de couro, Freios ABS, Sensor de estaci...</td>\n",
              "      <td>NaN</td>\n",
              "    </tr>\n",
              "    <tr>\n",
              "      <th>243</th>\n",
              "      <td>R$ 203.000</td>\n",
              "      <td>SPORT</td>\n",
              "      <td>USADO</td>\n",
              "      <td>Motor 2.0 16v</td>\n",
              "      <td>Ano 2001 - 102.776 km</td>\n",
              "      <td>Belo Horizonte - MG</td>\n",
              "      <td>[Sensor crepuscular, Sensor de chuva, Vidros e...</td>\n",
              "      <td>NaN</td>\n",
              "    </tr>\n",
              "    <tr>\n",
              "      <th>244</th>\n",
              "      <td>R$ 474.000</td>\n",
              "      <td>IMPERIAL</td>\n",
              "      <td>USADO</td>\n",
              "      <td>Motor 1.8 16v</td>\n",
              "      <td>Ano 2011 - 101.787 km</td>\n",
              "      <td>Belo Horizonte - MG</td>\n",
              "      <td>[Painel digital, Travas elétricas, Sensor de c...</td>\n",
              "      <td>OPORTUNIDADE</td>\n",
              "    </tr>\n",
              "    <tr>\n",
              "      <th>245</th>\n",
              "      <td>R$ 366.000</td>\n",
              "      <td>KIA SPORTS CAR</td>\n",
              "      <td>USADO</td>\n",
              "      <td>Motor 3.0 32v</td>\n",
              "      <td>Ano 2001 - 88.564 km</td>\n",
              "      <td>Belo Horizonte - MG</td>\n",
              "      <td>[Sensor crepuscular, Bancos de couro, Sensor d...</td>\n",
              "      <td>NaN</td>\n",
              "    </tr>\n",
              "  </tbody>\n",
              "</table>\n",
              "<p>246 rows × 8 columns</p>\n",
              "</div>\n",
              "      <button class=\"colab-df-convert\" onclick=\"convertToInteractive('df-b0b5a1ed-4dd2-440e-8513-b0c2cf6166ea')\"\n",
              "              title=\"Convert this dataframe to an interactive table.\"\n",
              "              style=\"display:none;\">\n",
              "        \n",
              "  <svg xmlns=\"http://www.w3.org/2000/svg\" height=\"24px\"viewBox=\"0 0 24 24\"\n",
              "       width=\"24px\">\n",
              "    <path d=\"M0 0h24v24H0V0z\" fill=\"none\"/>\n",
              "    <path d=\"M18.56 5.44l.94 2.06.94-2.06 2.06-.94-2.06-.94-.94-2.06-.94 2.06-2.06.94zm-11 1L8.5 8.5l.94-2.06 2.06-.94-2.06-.94L8.5 2.5l-.94 2.06-2.06.94zm10 10l.94 2.06.94-2.06 2.06-.94-2.06-.94-.94-2.06-.94 2.06-2.06.94z\"/><path d=\"M17.41 7.96l-1.37-1.37c-.4-.4-.92-.59-1.43-.59-.52 0-1.04.2-1.43.59L10.3 9.45l-7.72 7.72c-.78.78-.78 2.05 0 2.83L4 21.41c.39.39.9.59 1.41.59.51 0 1.02-.2 1.41-.59l7.78-7.78 2.81-2.81c.8-.78.8-2.07 0-2.86zM5.41 20L4 18.59l7.72-7.72 1.47 1.35L5.41 20z\"/>\n",
              "  </svg>\n",
              "      </button>\n",
              "      \n",
              "  <style>\n",
              "    .colab-df-container {\n",
              "      display:flex;\n",
              "      flex-wrap:wrap;\n",
              "      gap: 12px;\n",
              "    }\n",
              "\n",
              "    .colab-df-convert {\n",
              "      background-color: #E8F0FE;\n",
              "      border: none;\n",
              "      border-radius: 50%;\n",
              "      cursor: pointer;\n",
              "      display: none;\n",
              "      fill: #1967D2;\n",
              "      height: 32px;\n",
              "      padding: 0 0 0 0;\n",
              "      width: 32px;\n",
              "    }\n",
              "\n",
              "    .colab-df-convert:hover {\n",
              "      background-color: #E2EBFA;\n",
              "      box-shadow: 0px 1px 2px rgba(60, 64, 67, 0.3), 0px 1px 3px 1px rgba(60, 64, 67, 0.15);\n",
              "      fill: #174EA6;\n",
              "    }\n",
              "\n",
              "    [theme=dark] .colab-df-convert {\n",
              "      background-color: #3B4455;\n",
              "      fill: #D2E3FC;\n",
              "    }\n",
              "\n",
              "    [theme=dark] .colab-df-convert:hover {\n",
              "      background-color: #434B5C;\n",
              "      box-shadow: 0px 1px 3px 1px rgba(0, 0, 0, 0.15);\n",
              "      filter: drop-shadow(0px 1px 2px rgba(0, 0, 0, 0.3));\n",
              "      fill: #FFFFFF;\n",
              "    }\n",
              "  </style>\n",
              "\n",
              "      <script>\n",
              "        const buttonEl =\n",
              "          document.querySelector('#df-b0b5a1ed-4dd2-440e-8513-b0c2cf6166ea button.colab-df-convert');\n",
              "        buttonEl.style.display =\n",
              "          google.colab.kernel.accessAllowed ? 'block' : 'none';\n",
              "\n",
              "        async function convertToInteractive(key) {\n",
              "          const element = document.querySelector('#df-b0b5a1ed-4dd2-440e-8513-b0c2cf6166ea');\n",
              "          const dataTable =\n",
              "            await google.colab.kernel.invokeFunction('convertToInteractive',\n",
              "                                                     [key], {});\n",
              "          if (!dataTable) return;\n",
              "\n",
              "          const docLinkHtml = 'Like what you see? Visit the ' +\n",
              "            '<a target=\"_blank\" href=https://colab.research.google.com/notebooks/data_table.ipynb>data table notebook</a>'\n",
              "            + ' to learn more about interactive tables.';\n",
              "          element.innerHTML = '';\n",
              "          dataTable['output_type'] = 'display_data';\n",
              "          await google.colab.output.renderOutput(dataTable, element);\n",
              "          const docLink = document.createElement('div');\n",
              "          docLink.innerHTML = docLinkHtml;\n",
              "          element.appendChild(docLink);\n",
              "        }\n",
              "      </script>\n",
              "    </div>\n",
              "  </div>\n",
              "  "
            ]
          },
          "metadata": {},
          "execution_count": 642
        }
      ],
      "source": [
        "# Importando bibliotecas\n",
        "from urllib.request import urlopen, urlretrieve\n",
        "from bs4 import BeautifulSoup\n",
        "import pandas as pd\n",
        "\n",
        "# Declarando variável cards\n",
        "cards = []\n",
        "\n",
        "# Obtendo o HTML\n",
        "response = urlopen('https://alura-site-scraping.herokuapp.com/index.php')\n",
        "html = response.read().decode('utf-8')\n",
        "soup = BeautifulSoup(html, 'html.parser')\n",
        "number_of_pages = int(soup.find('span', class_=\"info-pages\").get_text().split()[-1])\n",
        "\n",
        "for i in range(1,number_of_pages+1):\n",
        "  response = urlopen('https://alura-site-scraping.herokuapp.com/index.php?page={}'.format(i))\n",
        "  html = response.read().decode('utf-8')\n",
        "  soup = BeautifulSoup(html, 'html.parser')\n",
        "    \n",
        "\n",
        "  # Obtendo as TAGs de interesse\n",
        "  announcements = soup.find('div', {\"id\": \"container-cards\"}).findAll('div', class_=\"card\")\n",
        "\n",
        "  # Coletando as informações dos CARDS\n",
        "  for announcement in announcements:\n",
        "      card = {}\n",
        "\n",
        "      # Valor\n",
        "      card['value'] = announcement.find('p', {'class': 'txt-value'}).getText()\n",
        "\n",
        "      # Informações\n",
        "      infos = announcement.find('div', {'class': 'body-card'}).findAll('p')\n",
        "      for info in infos:\n",
        "          card[info.get('class')[0].split('-')[-1]] = info.get_text()\n",
        "\n",
        "      # Acessórios\n",
        "      items = announcement.find('div', {'class': 'body-card'}).ul.findAll('li')\n",
        "      items.pop()\n",
        "      acessorios = []\n",
        "      for item in items:\n",
        "          acessorios.append(item.get_text().replace('► ', ''))\n",
        "      card['items'] = acessorios\n",
        "\n",
        "      # Adicionando resultado a lista cards\n",
        "      cards.append(card)\n",
        "\n",
        "      # Imagens\n",
        "      image = announcement.find('div', {'class': 'image-card'}).img\n",
        "      urlretrieve(image.get('src'), './sample_data/' + image.get('src').split('/')[-1])\n",
        "\n",
        "# Criando um DataFrame com os resultados\n",
        "dataset = pd.DataFrame(cards)\n",
        "dataset.to_csv('./sample_data/dataset.csv', sep=';', index = False, encoding = 'utf-8-sig')\n",
        "dataset"
      ]
    }
  ],
  "metadata": {
    "colab": {
      "name": "download_info_about_cars_basic.ipynb",
      "provenance": [],
      "include_colab_link": true
    },
    "kernelspec": {
      "display_name": "Python 3 (ipykernel)",
      "language": "python",
      "name": "python3"
    },
    "language_info": {
      "codemirror_mode": {
        "name": "ipython",
        "version": 3
      },
      "file_extension": ".py",
      "mimetype": "text/x-python",
      "name": "python",
      "nbconvert_exporter": "python",
      "pygments_lexer": "ipython3",
      "version": "3.9.7"
    }
  },
  "nbformat": 4,
  "nbformat_minor": 0
}