{
  "cells": [
    {
      "cell_type": "markdown",
      "metadata": {
        "id": "view-in-github",
        "colab_type": "text"
      },
      "source": [
        "<a href=\"https://colab.research.google.com/github/natelson/python/blob/main/web_scraping/download_info_about_cars_basic.ipynb\" target=\"_parent\"><img src=\"https://colab.research.google.com/assets/colab-badge.svg\" alt=\"Open In Colab\"/></a>"
      ]
    },
    {
      "cell_type": "markdown",
      "metadata": {
        "id": "PgvWwVj1q8WN"
      },
      "source": [
        "# <font color=green>1. WEB SCRAPING FOR BEGINNERS"
      ]
    },
    {
      "cell_type": "markdown",
      "metadata": {
        "id": "ucIZtRuqq8WR"
      },
      "source": [
        "# 1.1. What is web scraping?"
      ]
    },
    {
      "cell_type": "markdown",
      "metadata": {
        "id": "D-csdoZEq8WS"
      },
      "source": [
        "> *Web scraping* is the term used to extract data from web sites, there are numerous reasons to do this.\n",
        "\n",
        "> For example, suppose you want to build a machine learning model that recognizes in a photo whether or not it has a car, to train your model you will need hundreds of photos of cars to train the model.\n",
        "\n",
        "> Then you can create a bot that accesses car sales websites and downloads these photos to train your model later.\n",
        "\n",
        "> The idea here is to show you how to do this in python using some libraries for this, BeatifulSoup to work with the html we are analyzing. Urlib to request and download the content of pages and images and Pandas to transform this information into structured data so that we can store and work with them."
      ]
    },
    {
      "cell_type": "markdown",
      "metadata": {
        "id": "sO6KZzcPq8WT"
      },
      "source": [
        "# 1.2. Importing the libraries\n",
        "\n",
        "> For this example of web scraping, I used one fake website about cars, and the goal is download images of cars and extract some information about them.\n",
        "\n",
        "> The first step is importing the libraries, like the code below.\n"
      ]
    },
    {
      "cell_type": "code",
      "execution_count": 91,
      "metadata": {
        "colab": {
          "base_uri": "https://localhost:8080/"
        },
        "id": "e9pXIMIWByAp",
        "outputId": "49319d47-c699-45f3-d1b0-f77f87e96817"
      },
      "outputs": [
        {
          "output_type": "stream",
          "name": "stdout",
          "text": [
            "BeautifulSoup -> 4.6.3\n",
            "urllib -> 3.7\n",
            "pandas -> 1.3.5\n"
          ]
        }
      ],
      "source": [
        "import bs4\n",
        "import urllib.request as urllib_request\n",
        "import pandas\n",
        "\n",
        "print(\"BeautifulSoup ->\", bs4.__version__)\n",
        "print(\"urllib ->\", urllib_request.__version__)\n",
        "print(\"pandas ->\", pandas.__version__)"
      ]
    },
    {
      "cell_type": "markdown",
      "metadata": {
        "id": "mFUmKGiYq8WW"
      },
      "source": [
        "---\n",
        "# <font color=green>2. Working with requests"
      ]
    },
    {
      "cell_type": "markdown",
      "metadata": {
        "id": "28GOJE-Qq8WX"
      },
      "source": [
        "## 2.1. Getting the HTML content of a website\n",
        "\n",
        "> For the download of code html of a page web, I used the library urlib.request, the link to documentation and the sample of use is below."
      ]
    },
    {
      "cell_type": "markdown",
      "metadata": {
        "id": "bYq5COesq8WY"
      },
      "source": [
        "# urllib.request\n",
        "## https://docs.python.org/3/library/urllib.html"
      ]
    },
    {
      "cell_type": "code",
      "source": [
        "from urllib.request import urlopen\n",
        "\n",
        "url = 'https://alura-site-scraping.herokuapp.com/hello-world.php'\n",
        "\n",
        "response = urlopen(url)\n",
        "html = response.read()\n",
        "print(html[:500])"
      ],
      "metadata": {
        "id": "VHjh-906svjK",
        "outputId": "0eee2905-4676-4450-c8ce-5c39b68d35fd",
        "colab": {
          "base_uri": "https://localhost:8080/"
        }
      },
      "execution_count": 92,
      "outputs": [
        {
          "output_type": "stream",
          "name": "stdout",
          "text": [
            "b'<!DOCTYPE html>\\r\\n<html lang=\"pt-br\">\\r\\n<head>\\r\\n    <meta charset=\"utf-8\">\\r\\n    <meta name=\"viewport\" content=\"width=device-width, initial-scale=1, shrink-to-fit=no\">\\r\\n\\r\\n    <title>Alura Motors</title>\\r\\n\\t<link rel=\"stylesheet\" href=\"https://maxcdn.bootstrapcdn.com/bootstrap/3.3.7/css/bootstrap.min.css\" integrity=\"sha384-BVYiiSIFeK1dGmJRAkycuHAHRg32OmUcww7on3RYdg4Va+PmSTsz/K68vbdEjh4u\" crossorigin=\"anonymous\">\\r\\n\\t<link rel=\"stylesheet\" href=\"css/styles.css\" media=\"all\">\\r\\n\\r\\n\\t<script src=\"https://code'\n"
          ]
        }
      ]
    },
    {
      "cell_type": "markdown",
      "source": [
        "## 2.2. Some sites not allow bots, what you do?\n",
        "\n",
        "> Some sites, not allow bots, in this case for “lie” to website is necessary to send information about the user-agent in header of request. The information about user-agent sends the server of website of type of browser is visiting.\n",
        "> When our working with bots the web scraping is important create a behavior similar a user browsing in a web browser like the chrome. The user-agent have an important role this case."
      ],
      "metadata": {
        "id": "6Vqsp0oEwamM"
      }
    },
    {
      "cell_type": "code",
      "source": [
        "from urllib.request import Request, urlopen\n",
        "url = 'https://alura-site-scraping.herokuapp.com'\n",
        "headers = {'User-Agent': 'Mozilla/5.0 (Windows NT 10.0; Win64; x64) AppleWebKit/537.36 (KHTML, like Gecko) Chrome/76.0.3809.100 Safari/537.36'}\n",
        "\n",
        "req = Request(url, headers = headers)"
      ],
      "metadata": {
        "id": "TRnbM10VyYA7"
      },
      "execution_count": 93,
      "outputs": []
    },
    {
      "cell_type": "markdown",
      "metadata": {
        "id": "Z5v_pBMkq8Wa"
      },
      "source": [
        "## 2.3. If it's possible to fail, it will fail\n",
        "> When us to working with request a website, a large number of possible of error is possible. The website is down, is slow, the domain change, the access was blocked and the other situations.\n",
        "\n",
        "> In this case it is important to deal with possible errors. The code below was created to deal with 3 different errors:"
      ]
    },
    {
      "cell_type": "markdown",
      "source": [
        "### 2.3.1 HTTP Status Code <> 2xxx\n",
        "\n",
        "> Some times one website is not allowing the direct access and return some status code that raise errors in your application.\n",
        "> For example, the website of a company of course is not allowed access without header, return the HTTP Code 403, the code below handle HTTPError type errors.\n",
        "Note: For more information about http code visit https://developer.mozilla.org/en-US/docs/Web/HTTP/Status\n"
      ],
      "metadata": {
        "id": "FuAfG0VAziq0"
      }
    },
    {
      "cell_type": "code",
      "source": [
        "from urllib.request import Request, urlopen\n",
        "from urllib.error import URLError, HTTPError\n",
        "url = 'https://alura.com.br/'\n",
        "try:\n",
        "    req = Request(url)\n",
        "    response = urlopen(req)\n",
        "    print(response.read())\n",
        "\n",
        "except HTTPError as e:\n",
        "    print(e.status, e.reason)\n"
      ],
      "metadata": {
        "id": "fhEXp90t2Xef",
        "outputId": "9daa4ce4-d4d3-4fdd-86b8-7c632675e8c8",
        "colab": {
          "base_uri": "https://localhost:8080/"
        }
      },
      "execution_count": 94,
      "outputs": [
        {
          "output_type": "stream",
          "name": "stdout",
          "text": [
            "403 Forbidden\n"
          ]
        }
      ]
    },
    {
      "cell_type": "markdown",
      "source": [
        "### 2.3.2 URL Errors\n",
        "\n",
        "Some times one website is down or the domain is changed, in this case your request returns one URLError.\n",
        "\n",
        "For this example, I change the url https://twitter.com for https://twitter.comx , such this domain not exist, the urlopen will return one urlerror"
      ],
      "metadata": {
        "id": "vy4znnr96EWO"
      }
    },
    {
      "cell_type": "code",
      "source": [
        "from urllib.request import Request, urlopen\n",
        "from urllib.error import URLError, HTTPError\n",
        "url = 'https://twitter.comx/'\n",
        "try:\n",
        "    req = Request(url)\n",
        "    response = urlopen(req)\n",
        "    html = response.read()\n",
        "\n",
        "except HTTPError as e:\n",
        "    print(e.status, e.reason)\n",
        "\n",
        "except URLError as e:\n",
        "  print(e.reason)"
      ],
      "metadata": {
        "id": "pkqAfabT6pdY",
        "outputId": "791b34fa-00f1-4584-924b-a389896a8dab",
        "colab": {
          "base_uri": "https://localhost:8080/"
        }
      },
      "execution_count": 95,
      "outputs": [
        {
          "output_type": "stream",
          "name": "stdout",
          "text": [
            "[Errno -2] Name or service not known\n"
          ]
        }
      ]
    },
    {
      "cell_type": "markdown",
      "metadata": {
        "id": "TJCvFVnNq8Wb"
      },
      "source": [
        "#### For more information about the library request visit https://docs.python.org/3/library/urllib.request.html#urllib.request.Request"
      ]
    },
    {
      "cell_type": "markdown",
      "metadata": {
        "id": "2OKsytCXq8Wc"
      },
      "source": [
        "## 2.4 String handling\n",
        "\n",
        "> When working with web scraping is important transform the code html in some text more friendly for work with him.\n",
        "> Below have some examples to convert the html code a text more friendly for work."
      ]
    },
    {
      "cell_type": "markdown",
      "metadata": {
        "id": "hxaHaoVoq8Wc"
      },
      "source": [
        "### Converting type bytes to string"
      ]
    },
    {
      "cell_type": "code",
      "execution_count": 96,
      "metadata": {
        "id": "iLmhqKTsq8Wc",
        "colab": {
          "base_uri": "https://localhost:8080/"
        },
        "outputId": "32e0f7f5-5743-4f62-eecf-c6df5f908193"
      },
      "outputs": [
        {
          "output_type": "execute_result",
          "data": {
            "text/plain": [
              "b'<!DOCTYPE html>\\r\\n<html lang=\"pt-br\">\\r\\n<head>\\r\\n    <meta charset=\"utf-8\">\\r\\n    <meta name=\"viewport\" content=\"width=device-width, initial-scale=1, shrink-to-fit=no\">\\r\\n\\r\\n    <title>Alura Motors</title>\\r\\n\\r\\n\\t<style>\\r\\n\\t\\t/*Regra para a animacao*/\\r\\n\\t\\t@keyframes spin {\\r\\n\\t\\t\\t0% { transform: rotate(0deg); }\\r\\n\\t\\t\\t100% { transform: rotate(360deg); }\\r\\n\\t\\t}\\r\\n\\t\\t/*Mudando o tamanho do icone de resposta*/\\r\\n\\t\\tdiv.glyphicon {\\r\\n\\t\\t\\tcolor:#6B8E23;\\r\\n\\t\\t\\tfont-size: 38px;\\r\\n\\t\\t}\\r\\n\\t\\t/*Classe que mostra a animacao \\'spin\\'*/\\r\\n\\t\\t.'"
            ]
          },
          "metadata": {},
          "execution_count": 96
        }
      ],
      "source": [
        "from urllib.request import urlopen\n",
        "\n",
        "url = 'https://alura-site-scraping.herokuapp.com/index.php'\n",
        "\n",
        "response = urlopen(url)\n",
        "html = response.read()\n",
        "html[:500]"
      ]
    },
    {
      "cell_type": "code",
      "execution_count": 97,
      "metadata": {
        "id": "q2wYWYKxq8Wd",
        "colab": {
          "base_uri": "https://localhost:8080/"
        },
        "outputId": "e24daf0c-0a1f-4984-82b1-7169d473f501"
      },
      "outputs": [
        {
          "output_type": "execute_result",
          "data": {
            "text/plain": [
              "bytes"
            ]
          },
          "metadata": {},
          "execution_count": 97
        }
      ],
      "source": [
        "type(html)"
      ]
    },
    {
      "cell_type": "code",
      "execution_count": 98,
      "metadata": {
        "id": "b7Hxb5Bgq8Wd"
      },
      "outputs": [],
      "source": [
        "html_text = html.decode('utf-8')"
      ]
    },
    {
      "cell_type": "code",
      "execution_count": 99,
      "metadata": {
        "id": "eEsUVVbGq8Wd",
        "colab": {
          "base_uri": "https://localhost:8080/"
        },
        "outputId": "3ba8de8d-d5a0-4e23-8e0c-8d7b12a4962a"
      },
      "outputs": [
        {
          "output_type": "execute_result",
          "data": {
            "text/plain": [
              "str"
            ]
          },
          "metadata": {},
          "execution_count": 99
        }
      ],
      "source": [
        "type(html_text)"
      ]
    },
    {
      "cell_type": "markdown",
      "metadata": {
        "id": "HLfeSVbGq8Wd"
      },
      "source": [
        "### Remove tab characters, line breaks, etc."
      ]
    },
    {
      "cell_type": "code",
      "execution_count": 100,
      "metadata": {
        "id": "sTIeMDQtq8We",
        "colab": {
          "base_uri": "https://localhost:8080/"
        },
        "outputId": "29752a6e-5df0-499b-8d86-dc23832ac439"
      },
      "outputs": [
        {
          "output_type": "execute_result",
          "data": {
            "text/plain": [
              "['<!DOCTYPE',\n",
              " 'html>',\n",
              " '<html',\n",
              " 'lang=\"pt-br\">',\n",
              " '<head>',\n",
              " '<meta',\n",
              " 'charset=\"utf-8\">',\n",
              " '<meta',\n",
              " 'name=\"viewport\"',\n",
              " 'content=\"width=device-width,',\n",
              " 'initial-scale=1,',\n",
              " 'shrink-to-fit=no\">',\n",
              " '<title>Alura',\n",
              " 'Motors</title>',\n",
              " '<style>',\n",
              " '/*Regra',\n",
              " 'para',\n",
              " 'a',\n",
              " 'animacao*/',\n",
              " '@keyframes',\n",
              " 'spin',\n",
              " '{',\n",
              " '0%',\n",
              " '{',\n",
              " 'transform:',\n",
              " 'rotate(0deg);',\n",
              " '}',\n",
              " '100%',\n",
              " '{',\n",
              " 'transform:',\n",
              " 'rotate(360deg);',\n",
              " '}',\n",
              " '}',\n",
              " '/*Mudando',\n",
              " 'o',\n",
              " 'tamanho',\n",
              " 'do',\n",
              " 'icone',\n",
              " 'de',\n",
              " 'resposta*/',\n",
              " 'div.glyphicon',\n",
              " '{',\n",
              " 'color:#6B8E23;',\n",
              " 'font-size:',\n",
              " '38px;',\n",
              " '}',\n",
              " '/*Classe',\n",
              " 'que',\n",
              " 'mostra',\n",
              " 'a']"
            ]
          },
          "metadata": {},
          "execution_count": 100
        }
      ],
      "source": [
        "html_text.split()[:50]"
      ]
    },
    {
      "cell_type": "code",
      "execution_count": 101,
      "metadata": {
        "scrolled": true,
        "id": "acDaZ3W6q8We",
        "colab": {
          "base_uri": "https://localhost:8080/",
          "height": 70
        },
        "outputId": "fbaf1faf-c653-4eb1-b970-4ef3abdc33b7"
      },
      "outputs": [
        {
          "output_type": "execute_result",
          "data": {
            "text/plain": [
              "'<!DOCTYPE html> <html lang=\"pt-br\"> <head> <meta charset=\"utf-8\"> <meta name=\"viewport\" content=\"width=device-width, initial-scale=1, shrink-to-fit=no\"> <title>Alura Motors</title> <style> /*Regra para a animacao*/ @keyframes spin { 0% { transform: rotate(0deg); } 100% { transform: rotate(360deg); } } /*Mudando o tamanho do icone de resposta*/ div.glyphicon { color:#6B8E23; font-size: 38px; } /*Classe que mostra a animacao \\'spin\\'*/ .loader { border: 16px solid #f3f3f3; border-radius: 50%; border'"
            ],
            "application/vnd.google.colaboratory.intrinsic+json": {
              "type": "string"
            }
          },
          "metadata": {},
          "execution_count": 101
        }
      ],
      "source": [
        "\" \".join(html_text.split())[:500]"
      ]
    },
    {
      "cell_type": "markdown",
      "metadata": {
        "id": "97i_wnYMq8We"
      },
      "source": [
        "### Eliminating white spaces between TAGS"
      ]
    },
    {
      "cell_type": "code",
      "execution_count": 102,
      "metadata": {
        "scrolled": true,
        "id": "GIsQP6qIq8We",
        "colab": {
          "base_uri": "https://localhost:8080/",
          "height": 70
        },
        "outputId": "1f7af2be-11c1-4eb4-e051-898f143eb170"
      },
      "outputs": [
        {
          "output_type": "execute_result",
          "data": {
            "text/plain": [
              "'<!DOCTYPE html><html lang=\"pt-br\"><head><meta charset=\"utf-8\"><meta name=\"viewport\" content=\"width=device-width, initial-scale=1, shrink-to-fit=no\"><title>Alura Motors</title><style> /*Regra para a animacao*/ @keyframes spin { 0% { transform: rotate(0deg); } 100% { transform: rotate(360deg); } } /*Mudando o tamanho do icone de resposta*/ div.glyphicon { color:#6B8E23; font-size: 38px; } /*Classe que mostra a animacao \\'spin\\'*/ .loader { border: 16px solid #f3f3f3; border-radius: 50%; border-top: '"
            ],
            "application/vnd.google.colaboratory.intrinsic+json": {
              "type": "string"
            }
          },
          "metadata": {},
          "execution_count": 102
        }
      ],
      "source": [
        "\" \".join(html_text.split()).replace('> <', '><')[:500]"
      ]
    },
    {
      "cell_type": "markdown",
      "metadata": {
        "id": "etf0E7HWq8We"
      },
      "source": [
        "### String handling function"
      ]
    },
    {
      "cell_type": "code",
      "execution_count": 103,
      "metadata": {
        "id": "lqNZ1mCJq8We"
      },
      "outputs": [],
      "source": [
        "def change_html_byte_to_text(html_byte):\n",
        "    html_text = html_byte.decode('utf-8')\n",
        "    html_text =  \" \".join(html_text.split()).replace('> <', '><')\n",
        "    return html_text"
      ]
    },
    {
      "cell_type": "code",
      "execution_count": 104,
      "metadata": {
        "id": "m0_ywrjQq8Wf"
      },
      "outputs": [],
      "source": [
        "html = change_html_byte_to_text(html)"
      ]
    },
    {
      "cell_type": "code",
      "execution_count": 105,
      "metadata": {
        "scrolled": true,
        "id": "3WukFkGsq8Wf",
        "colab": {
          "base_uri": "https://localhost:8080/",
          "height": 70
        },
        "outputId": "1146b428-d235-4ab4-e0d6-6b44d73fe1b7"
      },
      "outputs": [
        {
          "output_type": "execute_result",
          "data": {
            "text/plain": [
              "'<!DOCTYPE html><html lang=\"pt-br\"><head><meta charset=\"utf-8\"><meta name=\"viewport\" content=\"width=device-width, initial-scale=1, shrink-to-fit=no\"><title>Alura Motors</title><style> /*Regra para a animacao*/ @keyframes spin { 0% { transform: rotate(0deg); } 100% { transform: rotate(360deg); } } /*Mudando o tamanho do icone de resposta*/ div.glyphicon { color:#6B8E23; font-size: 38px; } /*Classe que mostra a animacao \\'spin\\'*/ .loader { border: 16px solid #f3f3f3; border-radius: 50%; border-top: '"
            ],
            "application/vnd.google.colaboratory.intrinsic+json": {
              "type": "string"
            }
          },
          "metadata": {},
          "execution_count": 105
        }
      ],
      "source": [
        "html[:500]"
      ]
    },
    {
      "cell_type": "markdown",
      "source": [
        "# <font color=green>3. Extracting information with BeautifulSoup"
      ],
      "metadata": {
        "id": "vRJBwSQIrM85"
      }
    },
    {
      "cell_type": "markdown",
      "source": [
        "# 3.1. Understand the format of an HTML code"
      ],
      "metadata": {
        "id": "d1-xwg7wrchp"
      }
    },
    {
      "cell_type": "markdown",
      "metadata": {
        "id": "ULcCZrmeq8Wf"
      },
      "source": [
        "**HTML** (*HyperText Markup Language*) is a markup language made up of **tags** that determine the role that each part of the document will assume. The **tags** are formed by your name and attributes. Attributes are used to configure and also modify the default characteristics of a **tag**.\n",
        "\n",
        "## Basic Structure\n",
        "\n",
        "```html\n",
        "<html>\n",
        "    <head>\n",
        "        <meta charset=\"utf-8\" />\n",
        "        <title>Alura Motors</title>\n",
        "    </head>\n",
        "    <body>\n",
        "        <div id=\"container\">\n",
        "            <h1>Alura</h1>\n",
        "            <h2 class=\"formato\">Cursos de Tecnologia</h2>\n",
        "            <p>Você vai estudar, praticar, discutir e aprender.</p>\n",
        "            <a href=\"https://www.alura.com.br/\">Clique aqui</a>\n",
        "        </div>\n",
        "    </body>\n",
        "</html>\n",
        "```\n",
        "\n",
        "```<html>``` - determines the beginning of the document.\n",
        "\n",
        "```<head>``` - header. Contains document information and settings.\n",
        "\n",
        "```<body>``` - is the body of the document, where all the content is placed. This is the part visible in a browser.\n",
        "\n",
        "## Most common tags\n",
        "\n",
        "```<div>``` - Defines a division of the page. Can be formatted in different ways.\n",
        "\n",
        "```<h1>, <h2>, <h3>, <h4>, <h5>, <h6>``` - Title markerss.\n",
        "\n",
        "```<p>``` - Paragraph marker.\n",
        "\n",
        "```<a>``` - hiperlink.\n",
        "\n",
        "```<img>``` - image display.\n",
        "\n",
        "```<table>``` - tables.\n",
        "\n",
        "```<ul>, <li>``` - lists.\n"
      ]
    },
    {
      "cell_type": "markdown",
      "metadata": {
        "id": "7SSt6Teoq8Wg"
      },
      "source": [
        "# 3.2. Creating a BeautifulSoup object"
      ]
    },
    {
      "cell_type": "markdown",
      "metadata": {
        "id": "5OIR_Q_6q8Wh"
      },
      "source": [
        "## https://www.crummy.com/software/BeautifulSoup/\n",
        "\n",
        "### About parser: https://www.crummy.com/software/BeautifulSoup/bs4/doc/#parser-installation"
      ]
    },
    {
      "cell_type": "code",
      "execution_count": 105,
      "metadata": {
        "id": "5Oxx_d0BCWGa",
        "scrolled": true
      },
      "outputs": [],
      "source": [
        ""
      ]
    },
    {
      "cell_type": "code",
      "execution_count": 105,
      "metadata": {
        "scrolled": true,
        "id": "UC4ePrZHq8Wh"
      },
      "outputs": [],
      "source": [
        ""
      ]
    },
    {
      "cell_type": "markdown",
      "metadata": {
        "id": "H51JPVifq8Wh"
      },
      "source": [
        "# 3.3. Accessing tags"
      ]
    },
    {
      "cell_type": "code",
      "execution_count": 105,
      "metadata": {
        "scrolled": true,
        "id": "w46ugwpzq8Wh"
      },
      "outputs": [],
      "source": [
        ""
      ]
    },
    {
      "cell_type": "code",
      "execution_count": 105,
      "metadata": {
        "scrolled": true,
        "id": "nLSI5uOaq8Wi"
      },
      "outputs": [],
      "source": [
        ""
      ]
    },
    {
      "cell_type": "code",
      "execution_count": 105,
      "metadata": {
        "id": "KbOYvL_Hq8Wi"
      },
      "outputs": [],
      "source": [
        ""
      ]
    },
    {
      "cell_type": "code",
      "execution_count": 105,
      "metadata": {
        "id": "wJbzQUBVq8Wi"
      },
      "outputs": [],
      "source": [
        ""
      ]
    },
    {
      "cell_type": "code",
      "execution_count": 105,
      "metadata": {
        "id": "YLvZ3c1Pq8Wi"
      },
      "outputs": [],
      "source": [
        ""
      ]
    },
    {
      "cell_type": "markdown",
      "metadata": {
        "id": "QNEfBaX8q8Wi"
      },
      "source": [
        "# 3.4. Accessing tag content"
      ]
    },
    {
      "cell_type": "code",
      "execution_count": 105,
      "metadata": {
        "id": "WrFMUbquq8Wi"
      },
      "outputs": [],
      "source": [
        ""
      ]
    },
    {
      "cell_type": "code",
      "execution_count": 105,
      "metadata": {
        "id": "CB2w_O7Eq8Wi"
      },
      "outputs": [],
      "source": [
        ""
      ]
    },
    {
      "cell_type": "code",
      "execution_count": 105,
      "metadata": {
        "id": "Af7anjIOq8Wj"
      },
      "outputs": [],
      "source": [
        ""
      ]
    },
    {
      "cell_type": "code",
      "execution_count": 105,
      "metadata": {
        "id": "-6uMJpvcq8Wj"
      },
      "outputs": [],
      "source": [
        ""
      ]
    },
    {
      "cell_type": "code",
      "execution_count": 105,
      "metadata": {
        "id": "uLR70RO4q8Wj"
      },
      "outputs": [],
      "source": [
        ""
      ]
    },
    {
      "cell_type": "markdown",
      "metadata": {
        "id": "HR1CLHalq8Wj"
      },
      "source": [
        "# 3.5. Accessing the attributes of a tag"
      ]
    },
    {
      "cell_type": "code",
      "execution_count": 105,
      "metadata": {
        "id": "0QTZP2I8q8Wj"
      },
      "outputs": [],
      "source": [
        ""
      ]
    },
    {
      "cell_type": "code",
      "execution_count": 105,
      "metadata": {
        "id": "yMYKiO-yq8Wj"
      },
      "outputs": [],
      "source": [
        ""
      ]
    },
    {
      "cell_type": "code",
      "execution_count": 105,
      "metadata": {
        "id": "4_Ft6eZHq8Wk"
      },
      "outputs": [],
      "source": [
        ""
      ]
    },
    {
      "cell_type": "code",
      "execution_count": 105,
      "metadata": {
        "id": "ymnJdNfbq8Wk"
      },
      "outputs": [],
      "source": [
        ""
      ]
    },
    {
      "cell_type": "code",
      "execution_count": 105,
      "metadata": {
        "id": "USo3KEJ4q8Wk"
      },
      "outputs": [],
      "source": [
        ""
      ]
    },
    {
      "cell_type": "code",
      "execution_count": 105,
      "metadata": {
        "id": "4AT2kVT_q8Wk"
      },
      "outputs": [],
      "source": [
        ""
      ]
    },
    {
      "cell_type": "markdown",
      "metadata": {
        "id": "8-9COaBFq8Wk"
      },
      "source": [
        "---\n",
        "# <font color=green>4. SEARCHING WITH BEAUTIFULSOUP"
      ]
    },
    {
      "cell_type": "markdown",
      "metadata": {
        "id": "8VO650tJq8Wk"
      },
      "source": [
        "# 4.1. The *find()* and *findAll()* methods"
      ]
    },
    {
      "cell_type": "markdown",
      "metadata": {
        "id": "-nbNfbN8q8Wl"
      },
      "source": [
        "- ### *find(tag, attributes, recursive, text, **kwargs)*\n",
        "\n",
        "- ### *findAll(tag, attributes, recursive, text, limit, **kwargs)*\n",
        "\n",
        "#### https://www.crummy.com/software/BeautifulSoup/bs4/doc/#find\n",
        "#### https://www.crummy.com/software/BeautifulSoup/bs4/doc/#find-all\n",
        "\n",
        "> **Note:**\n",
        "> - *findAll()* can also be used as *find_all()*"
      ]
    },
    {
      "cell_type": "markdown",
      "metadata": {
        "id": "yx30cNh1q8Wl"
      },
      "source": [
        "### *find()* method"
      ]
    },
    {
      "cell_type": "code",
      "execution_count": 105,
      "metadata": {
        "id": "6mPwHZYHq8Wl"
      },
      "outputs": [],
      "source": [
        ""
      ]
    },
    {
      "cell_type": "code",
      "execution_count": 105,
      "metadata": {
        "id": "CTAcAiMBq8Wl"
      },
      "outputs": [],
      "source": [
        ""
      ]
    },
    {
      "cell_type": "markdown",
      "metadata": {
        "id": "TftT849uq8Wl"
      },
      "source": [
        "### *findAll()* method"
      ]
    },
    {
      "cell_type": "code",
      "execution_count": 105,
      "metadata": {
        "id": "1ludq_V7q8Wm"
      },
      "outputs": [],
      "source": [
        ""
      ]
    },
    {
      "cell_type": "markdown",
      "metadata": {
        "id": "8Ulz0VVdq8Wm"
      },
      "source": [
        "### Command equivalent to the *find()* method"
      ]
    },
    {
      "cell_type": "code",
      "execution_count": 105,
      "metadata": {
        "id": "yR8UoBMJq8Wm"
      },
      "outputs": [],
      "source": [
        ""
      ]
    },
    {
      "cell_type": "markdown",
      "metadata": {
        "id": "I2LOJRCoq8Wm"
      },
      "source": [
        "### Shortcut to *findAll()* method"
      ]
    },
    {
      "cell_type": "code",
      "execution_count": 105,
      "metadata": {
        "id": "QiUiQ3U3q8Wm"
      },
      "outputs": [],
      "source": [
        ""
      ]
    },
    {
      "cell_type": "markdown",
      "metadata": {
        "id": "7sbJoDS7q8Wm"
      },
      "source": [
        "### Passing tag lists"
      ]
    },
    {
      "cell_type": "code",
      "execution_count": 105,
      "metadata": {
        "id": "RwWtQtoQq8Wm"
      },
      "outputs": [],
      "source": [
        ""
      ]
    },
    {
      "cell_type": "markdown",
      "metadata": {
        "id": "T-6k9hfbq8Wm"
      },
      "source": [
        "### Using the *attributes* argument"
      ]
    },
    {
      "cell_type": "code",
      "execution_count": 105,
      "metadata": {
        "scrolled": true,
        "id": "hOb21xrdq8Wn"
      },
      "outputs": [],
      "source": [
        ""
      ]
    },
    {
      "cell_type": "markdown",
      "metadata": {
        "id": "bBreuSInq8Wn"
      },
      "source": [
        "### Searching for the content of a TAG"
      ]
    },
    {
      "cell_type": "code",
      "execution_count": 105,
      "metadata": {
        "id": "7u-iRZTfq8Wn"
      },
      "outputs": [],
      "source": [
        ""
      ]
    },
    {
      "cell_type": "markdown",
      "metadata": {
        "id": "GNIwqYzcq8Wn"
      },
      "source": [
        "### Using attributes directly"
      ]
    },
    {
      "cell_type": "code",
      "execution_count": 105,
      "metadata": {
        "id": "FbkzIBvqq8Wn"
      },
      "outputs": [],
      "source": [
        ""
      ]
    },
    {
      "cell_type": "code",
      "execution_count": 105,
      "metadata": {
        "id": "ZSsRm2Snq8Wn"
      },
      "outputs": [],
      "source": [
        ""
      ]
    },
    {
      "cell_type": "markdown",
      "metadata": {
        "id": "1Cec1HiAq8Wn"
      },
      "source": [
        "### Beware of the \"class\" attribute"
      ]
    },
    {
      "cell_type": "code",
      "execution_count": 105,
      "metadata": {
        "id": "-zHMy2u7q8Wn"
      },
      "outputs": [],
      "source": [
        ""
      ]
    },
    {
      "cell_type": "markdown",
      "metadata": {
        "id": "NwY3BuWrq8Wo"
      },
      "source": [
        "### Getting all the text content of a page"
      ]
    },
    {
      "cell_type": "code",
      "execution_count": 105,
      "metadata": {
        "id": "eHvQ77f-q8Wo"
      },
      "outputs": [],
      "source": [
        ""
      ]
    },
    {
      "cell_type": "markdown",
      "metadata": {
        "id": "1z_Ktm9Eq8Wo"
      },
      "source": [
        "# 4.2. Other research methods"
      ]
    },
    {
      "cell_type": "markdown",
      "metadata": {
        "id": "N_k_xN4eq8Wo"
      },
      "source": [
        "- ### *findParent(tag, attributes, text, **kwargs)*\n",
        "\n",
        "- ### *findParents(tag, attributes, text, limit, **kwargs)*\n",
        "\n",
        "#### https://www.crummy.com/software/BeautifulSoup/bs4/doc/#find-parents-and-find-parent\n",
        "\n",
        "> **Notes:**\n",
        "> - *findParent()* e *findParents()* também podem ser utilizados como *find_parent()* e *find_parents()*, respectivamente.\n",
        "---\n",
        "- ### *findNextSibling(tag, attributes, text, **kwargs)*\n",
        "\n",
        "- ### *findNextSiblings(tag, attributes, text, limit, **kwargs)*\n",
        "\n",
        "- ### *findPreviousSibling(tag, attributes, text, **kwargs)*\n",
        "\n",
        "- ### *findPreviousSiblings(tag, attributes, text, limit, **kwargs)*\n",
        "\n",
        "#### https://www.crummy.com/software/BeautifulSoup/bs4/doc/#find-next-siblings-and-find-next-sibling\n",
        "#### https://www.crummy.com/software/BeautifulSoup/bs4/doc/#find-previous-siblings-and-find-previous-sibling\n",
        "\n",
        "> **Notes:**\n",
        "> - *findNextSibling()*, *findNextSiblings()*, *findPreviousSibling()* and *findPreviousSiblings()* can also be used as *find_next_sibling()*, *find_next_siblings()*, *find_previous_sibling()* and *find_previous_siblings()*.\n",
        "---\n",
        "- ### *findNext(tag, attributes, text, **kwargs)*\n",
        "\n",
        "- ### *findAllNext(tag, attributes, text, limit, **kwargs)*\n",
        "\n",
        "- ### *findPrevious(tag, attributes, text, **kwargs)*\n",
        "\n",
        "- ### *findAllPrevious(tag, attributes, text, limit, **kwargs)*\n",
        "\n",
        "#### https://www.crummy.com/software/BeautifulSoup/bs4/doc/#find-all-next-and-find-next\n",
        "#### https://www.crummy.com/software/BeautifulSoup/bs4/doc/#find-all-previous-and-find-previous\n",
        "\n",
        "> **Notes:**\n",
        "> - *findNext()*, *findAllNext()*, *findPrevious* e *findAllPrevious* can also be used as *find_next()*, *find_all_next()*, *find_previous()* and *find_all_previous()*."
      ]
    },
    {
      "cell_type": "markdown",
      "metadata": {
        "id": "x9D97kiFq8Wp"
      },
      "source": [
        "## Sample HTML to illustrate the use of BeautifulSoup search methods"
      ]
    },
    {
      "cell_type": "markdown",
      "metadata": {
        "id": "vdwgmlpRq8Ws"
      },
      "source": [
        "<img src=\"https://caelum-online-public.s3.amazonaws.com/1381-scraping/01/BeautifulSoup-method.png\" width=80%>"
      ]
    },
    {
      "cell_type": "markdown",
      "metadata": {
        "id": "nARvWb-Jq8Wt"
      },
      "source": [
        "---\n",
        "## Result"
      ]
    },
    {
      "cell_type": "markdown",
      "metadata": {
        "id": "ACkx32C1q8Wt"
      },
      "source": [
        "<html>\n",
        "    <body>\n",
        "        <div id=“container-a”>\n",
        "            <h1>Título A</h1>\n",
        "            <h2 class=\"ref-a\">Sub título A</h2>\n",
        "            <p>Texto de conteúdo A</p>\n",
        "        </div>\n",
        "        <div id=“container-b”>\n",
        "            <h1>Título B</h1>\n",
        "            <h2 class=\"ref-b\">Sub título B</h2>\n",
        "            <p>Texto de conteúdo B</p>\n",
        "        </div>\n",
        "    </body>\n",
        "</html>"
      ]
    },
    {
      "cell_type": "code",
      "execution_count": 105,
      "metadata": {
        "id": "GxC6bRLUq8Wt"
      },
      "outputs": [],
      "source": [
        ""
      ]
    },
    {
      "cell_type": "markdown",
      "metadata": {
        "id": "zQsOU63Qq8Wt"
      },
      "source": [
        "### HTML string treatments"
      ]
    },
    {
      "cell_type": "code",
      "execution_count": 105,
      "metadata": {
        "id": "HuQIg85Wq8Wt"
      },
      "outputs": [],
      "source": [
        ""
      ]
    },
    {
      "cell_type": "code",
      "execution_count": 105,
      "metadata": {
        "id": "juIpXiAZq8Wu"
      },
      "outputs": [],
      "source": [
        ""
      ]
    },
    {
      "cell_type": "markdown",
      "metadata": {
        "id": "Kp2n9nCIq8Wu"
      },
      "source": [
        "### Creating the BeautifulSoup object"
      ]
    },
    {
      "cell_type": "code",
      "execution_count": 105,
      "metadata": {
        "scrolled": true,
        "id": "JTf4LLStq8Wu"
      },
      "outputs": [],
      "source": [
        ""
      ]
    },
    {
      "cell_type": "markdown",
      "metadata": {
        "id": "q-dg91pMq8Wu"
      },
      "source": [
        "### Parents"
      ]
    },
    {
      "cell_type": "code",
      "execution_count": 105,
      "metadata": {
        "id": "-_G69Qk1q8Wu"
      },
      "outputs": [],
      "source": [
        ""
      ]
    },
    {
      "cell_type": "code",
      "execution_count": 105,
      "metadata": {
        "id": "lytogfz0q8Wu"
      },
      "outputs": [],
      "source": [
        ""
      ]
    },
    {
      "cell_type": "code",
      "execution_count": 105,
      "metadata": {
        "id": "UW5lghxwq8Wu"
      },
      "outputs": [],
      "source": [
        ""
      ]
    },
    {
      "cell_type": "code",
      "execution_count": 105,
      "metadata": {
        "id": "RuuO9q8Oq8Wu"
      },
      "outputs": [],
      "source": [
        ""
      ]
    },
    {
      "cell_type": "code",
      "execution_count": 105,
      "metadata": {
        "id": "cSWD1AJFq8Wv"
      },
      "outputs": [],
      "source": [
        ""
      ]
    },
    {
      "cell_type": "markdown",
      "metadata": {
        "id": "NxOjpObGq8Wv"
      },
      "source": [
        "## Siblings"
      ]
    },
    {
      "cell_type": "code",
      "execution_count": 105,
      "metadata": {
        "id": "9nE8FjS1q8Wv"
      },
      "outputs": [],
      "source": [
        ""
      ]
    },
    {
      "cell_type": "code",
      "execution_count": 105,
      "metadata": {
        "id": "Qkxqqufaq8Wv"
      },
      "outputs": [],
      "source": [
        ""
      ]
    },
    {
      "cell_type": "code",
      "execution_count": 105,
      "metadata": {
        "id": "1R-uiT_6q8Wv"
      },
      "outputs": [],
      "source": [
        ""
      ]
    },
    {
      "cell_type": "markdown",
      "metadata": {
        "id": "jtvpVHapq8Wv"
      },
      "source": [
        "## Next and Previous"
      ]
    },
    {
      "cell_type": "code",
      "execution_count": 105,
      "metadata": {
        "id": "_iIXPpfpq8Wv"
      },
      "outputs": [],
      "source": [
        ""
      ]
    },
    {
      "cell_type": "code",
      "execution_count": 105,
      "metadata": {
        "id": "NChVyizXq8Wv"
      },
      "outputs": [],
      "source": [
        ""
      ]
    },
    {
      "cell_type": "code",
      "execution_count": 105,
      "metadata": {
        "id": "iTvjDcpgq8Wv"
      },
      "outputs": [],
      "source": [
        ""
      ]
    },
    {
      "cell_type": "markdown",
      "metadata": {
        "id": "vir3WkBkq8Ww"
      },
      "source": [
        "# <font color=green>5. CAR SITE WEB SCRAPING - GETTING THE DATA OF AN ADVERTISING"
      ]
    },
    {
      "cell_type": "markdown",
      "metadata": {
        "id": "fJSu7PZ6q8Ww"
      },
      "source": [
        "# 5.1. Identifying and Selecting Data in HTML"
      ]
    },
    {
      "cell_type": "markdown",
      "metadata": {
        "id": "M5x-0IeRq8Ww"
      },
      "source": [
        "### Getting the HTML and creating the BeautifulSoup object"
      ]
    },
    {
      "cell_type": "code",
      "execution_count": 105,
      "metadata": {
        "id": "f2fVqt0Tq8Ww"
      },
      "outputs": [],
      "source": [
        ""
      ]
    },
    {
      "cell_type": "markdown",
      "metadata": {
        "id": "SlG7CunWq8Ww"
      },
      "source": [
        "### Creating variable to store information"
      ]
    },
    {
      "cell_type": "code",
      "execution_count": 105,
      "metadata": {
        "id": "NCGwdzncq8Ww"
      },
      "outputs": [],
      "source": [
        ""
      ]
    },
    {
      "cell_type": "markdown",
      "metadata": {
        "id": "-U2b7_ieq8Ww"
      },
      "source": [
        "### Getting the data of the first CARD"
      ]
    },
    {
      "cell_type": "code",
      "execution_count": 105,
      "metadata": {
        "scrolled": false,
        "id": "xjLeuMcAq8Wx"
      },
      "outputs": [],
      "source": [
        ""
      ]
    },
    {
      "cell_type": "markdown",
      "metadata": {
        "id": "Lu0fW4Z9q8Wx"
      },
      "source": [
        "# 5.2. Getting the VALUE of the advertised vehicle"
      ]
    },
    {
      "cell_type": "code",
      "execution_count": 105,
      "metadata": {
        "id": "m6z9jNrjq8Wx"
      },
      "outputs": [],
      "source": [
        ""
      ]
    },
    {
      "cell_type": "code",
      "execution_count": 105,
      "metadata": {
        "id": "CO6O6U1mq8Wx"
      },
      "outputs": [],
      "source": [
        ""
      ]
    },
    {
      "cell_type": "code",
      "execution_count": 105,
      "metadata": {
        "id": "z4UYHAKYq8Wx"
      },
      "outputs": [],
      "source": [
        ""
      ]
    },
    {
      "cell_type": "code",
      "execution_count": 105,
      "metadata": {
        "id": "r1T36Ks-q8Wx"
      },
      "outputs": [],
      "source": [
        ""
      ]
    },
    {
      "cell_type": "code",
      "execution_count": 105,
      "metadata": {
        "id": "oa8iwZmpq8Wx"
      },
      "outputs": [],
      "source": [
        ""
      ]
    },
    {
      "cell_type": "markdown",
      "metadata": {
        "id": "wi67IWwCq8Wx"
      },
      "source": [
        "### <font color=red>Summary"
      ]
    },
    {
      "cell_type": "code",
      "execution_count": 106,
      "metadata": {
        "id": "N43vACSwq8Wx"
      },
      "outputs": [],
      "source": [
        "# Valor\n"
      ]
    },
    {
      "cell_type": "markdown",
      "metadata": {
        "id": "2uCxGtcJq8Wy"
      },
      "source": [
        "# 5.3. Obtaining information about the advertised vehicle"
      ]
    },
    {
      "cell_type": "code",
      "execution_count": 106,
      "metadata": {
        "id": "aQv5tdYEq8Wy"
      },
      "outputs": [],
      "source": [
        ""
      ]
    },
    {
      "cell_type": "code",
      "execution_count": 106,
      "metadata": {
        "id": "8wYaGp5dq8Wy"
      },
      "outputs": [],
      "source": [
        ""
      ]
    },
    {
      "cell_type": "code",
      "execution_count": 106,
      "metadata": {
        "id": "cc5F3Blcq8Wy"
      },
      "outputs": [],
      "source": [
        ""
      ]
    },
    {
      "cell_type": "code",
      "execution_count": 106,
      "metadata": {
        "id": "vmjlccHzq8Wy"
      },
      "outputs": [],
      "source": [
        ""
      ]
    },
    {
      "cell_type": "code",
      "execution_count": 106,
      "metadata": {
        "id": "eOGmdadYq8Wy"
      },
      "outputs": [],
      "source": [
        ""
      ]
    },
    {
      "cell_type": "code",
      "execution_count": 106,
      "metadata": {
        "id": "lTd7cV3Nq8Wy"
      },
      "outputs": [],
      "source": [
        ""
      ]
    },
    {
      "cell_type": "code",
      "execution_count": 106,
      "metadata": {
        "id": "CjrNbR8kq8Wz"
      },
      "outputs": [],
      "source": [
        ""
      ]
    },
    {
      "cell_type": "code",
      "execution_count": 106,
      "metadata": {
        "id": "5RB8VXy0q8Wz"
      },
      "outputs": [],
      "source": [
        ""
      ]
    },
    {
      "cell_type": "markdown",
      "metadata": {
        "id": "F7w6HoB6q8Wz"
      },
      "source": [
        "### <font color=red>Summary"
      ]
    },
    {
      "cell_type": "code",
      "execution_count": 107,
      "metadata": {
        "id": "UP0j_qvQq8Wz"
      },
      "outputs": [],
      "source": [
        "# Informações\n"
      ]
    },
    {
      "cell_type": "markdown",
      "metadata": {
        "id": "0wY6krHbq8Wz"
      },
      "source": [
        "# 5.4. Getting the ACCESSORIES of the advertised vehicle"
      ]
    },
    {
      "cell_type": "code",
      "execution_count": 107,
      "metadata": {
        "id": "aymPTu8-q8Wz"
      },
      "outputs": [],
      "source": [
        ""
      ]
    },
    {
      "cell_type": "code",
      "execution_count": 107,
      "metadata": {
        "id": "d1ZtDn2cq8W0"
      },
      "outputs": [],
      "source": [
        ""
      ]
    },
    {
      "cell_type": "code",
      "execution_count": 107,
      "metadata": {
        "id": "BTAvuo0eq8W0"
      },
      "outputs": [],
      "source": [
        ""
      ]
    },
    {
      "cell_type": "code",
      "execution_count": 107,
      "metadata": {
        "id": "pOwgaNAbq8W0"
      },
      "outputs": [],
      "source": [
        ""
      ]
    },
    {
      "cell_type": "code",
      "execution_count": 107,
      "metadata": {
        "id": "jHBQDUqtq8W0"
      },
      "outputs": [],
      "source": [
        ""
      ]
    },
    {
      "cell_type": "code",
      "execution_count": 107,
      "metadata": {
        "id": "TgfXrIDVq8W0"
      },
      "outputs": [],
      "source": [
        ""
      ]
    },
    {
      "cell_type": "code",
      "execution_count": 107,
      "metadata": {
        "id": "66sxIeXcq8W0"
      },
      "outputs": [],
      "source": [
        ""
      ]
    },
    {
      "cell_type": "code",
      "execution_count": 107,
      "metadata": {
        "id": "OYWVT5kaq8W0"
      },
      "outputs": [],
      "source": [
        ""
      ]
    },
    {
      "cell_type": "markdown",
      "metadata": {
        "id": "OyD0G91aq8W0"
      },
      "source": [
        "### <font color=red>Summary"
      ]
    },
    {
      "cell_type": "code",
      "execution_count": 108,
      "metadata": {
        "id": "9KMuXPDMq8W0"
      },
      "outputs": [],
      "source": [
        "# Acessórios\n"
      ]
    },
    {
      "cell_type": "markdown",
      "metadata": {
        "id": "f1uVQupOq8W1"
      },
      "source": [
        "# 5.5 Creating a DataFrame with the data collected "
      ]
    },
    {
      "cell_type": "code",
      "execution_count": 108,
      "metadata": {
        "id": "YDPwdEdUq8W1"
      },
      "outputs": [],
      "source": [
        ""
      ]
    },
    {
      "cell_type": "code",
      "execution_count": 108,
      "metadata": {
        "id": "GTGs2DOLq8W1"
      },
      "outputs": [],
      "source": [
        ""
      ]
    },
    {
      "cell_type": "code",
      "execution_count": 108,
      "metadata": {
        "id": "zpIxab7Wq8W1"
      },
      "outputs": [],
      "source": [
        ""
      ]
    },
    {
      "cell_type": "code",
      "execution_count": 108,
      "metadata": {
        "id": "ITDujlHXq8W1"
      },
      "outputs": [],
      "source": [
        ""
      ]
    },
    {
      "cell_type": "code",
      "execution_count": 108,
      "metadata": {
        "id": "JW7oOYorq8W1"
      },
      "outputs": [],
      "source": [
        ""
      ]
    },
    {
      "cell_type": "code",
      "execution_count": 108,
      "metadata": {
        "id": "Z7ypEvReq8W2"
      },
      "outputs": [],
      "source": [
        ""
      ]
    },
    {
      "cell_type": "code",
      "execution_count": 108,
      "metadata": {
        "id": "aKQvKshmq8W2"
      },
      "outputs": [],
      "source": [
        ""
      ]
    },
    {
      "cell_type": "code",
      "execution_count": 108,
      "metadata": {
        "id": "AQE7dAHLq8W2"
      },
      "outputs": [],
      "source": [
        ""
      ]
    },
    {
      "cell_type": "markdown",
      "metadata": {
        "id": "GhsJ8lofq8W2"
      },
      "source": [
        "# 5.6. Getting the ad PHOTO"
      ]
    },
    {
      "cell_type": "code",
      "execution_count": 108,
      "metadata": {
        "id": "_BQ9wUumq8W3"
      },
      "outputs": [],
      "source": [
        ""
      ]
    },
    {
      "cell_type": "code",
      "execution_count": 108,
      "metadata": {
        "id": "2fKUBZo2q8W3"
      },
      "outputs": [],
      "source": [
        ""
      ]
    },
    {
      "cell_type": "code",
      "execution_count": 108,
      "metadata": {
        "id": "EZ4QuAzmq8W3"
      },
      "outputs": [],
      "source": [
        ""
      ]
    },
    {
      "cell_type": "markdown",
      "metadata": {
        "id": "QAiErXTFq8W4"
      },
      "source": [
        "### Viewing the PHOTO on the notebook (extra)"
      ]
    },
    {
      "cell_type": "code",
      "execution_count": 108,
      "metadata": {
        "id": "p7VTUaerq8W4"
      },
      "outputs": [],
      "source": [
        ""
      ]
    },
    {
      "cell_type": "code",
      "execution_count": 108,
      "metadata": {
        "id": "SOm6ESqLq8W4"
      },
      "outputs": [],
      "source": [
        ""
      ]
    },
    {
      "cell_type": "markdown",
      "metadata": {
        "id": "3hSu-krGq8W4"
      },
      "source": [
        "### Routine to access and save the ad PHOTO"
      ]
    },
    {
      "cell_type": "markdown",
      "metadata": {
        "id": "ggU6KlbSq8W4"
      },
      "source": [
        "## https://docs.python.org/3/library/urllib.request.html#urllib.request.urlretrieve"
      ]
    },
    {
      "cell_type": "code",
      "execution_count": 108,
      "metadata": {
        "id": "jImjIP2Kq8W4"
      },
      "outputs": [],
      "source": [
        ""
      ]
    },
    {
      "cell_type": "code",
      "execution_count": 108,
      "metadata": {
        "id": "C03SCxMVq8W5"
      },
      "outputs": [],
      "source": [
        ""
      ]
    },
    {
      "cell_type": "markdown",
      "metadata": {
        "id": "Idf9JbvMq8W5"
      },
      "source": [
        "### <font color=red>Summary"
      ]
    },
    {
      "cell_type": "code",
      "execution_count": 108,
      "metadata": {
        "id": "etai6uRjq8W5"
      },
      "outputs": [],
      "source": [
        ""
      ]
    },
    {
      "cell_type": "markdown",
      "metadata": {
        "id": "8AYQylCpq8W5"
      },
      "source": [
        "# <font color=green>6. WEBSITE WEB SCRAPING - GETTING THE DATA OF ALL ADS FROM A PAGE"
      ]
    },
    {
      "cell_type": "markdown",
      "metadata": {
        "id": "y4Ie7WVLq8W6"
      },
      "source": [
        "# 6.1. Identifying information in HTML"
      ]
    },
    {
      "cell_type": "code",
      "execution_count": 108,
      "metadata": {
        "scrolled": true,
        "id": "YyLzjZUPq8W6"
      },
      "outputs": [],
      "source": [
        ""
      ]
    },
    {
      "cell_type": "code",
      "execution_count": 108,
      "metadata": {
        "scrolled": true,
        "id": "mWsO25gmq8W6"
      },
      "outputs": [],
      "source": [
        ""
      ]
    },
    {
      "cell_type": "code",
      "execution_count": 108,
      "metadata": {
        "scrolled": true,
        "id": "OBSuZfL2q8W6"
      },
      "outputs": [],
      "source": [
        ""
      ]
    },
    {
      "cell_type": "markdown",
      "metadata": {
        "id": "5RKbsU1fq8W6"
      },
      "source": [
        "# 6.2. Creating a scraping routine"
      ]
    },
    {
      "cell_type": "code",
      "execution_count": 108,
      "metadata": {
        "id": "zhy-xDmCq8W6"
      },
      "outputs": [],
      "source": [
        ""
      ]
    },
    {
      "cell_type": "code",
      "execution_count": 108,
      "metadata": {
        "id": "o5jU3by9q8W7"
      },
      "outputs": [],
      "source": [
        ""
      ]
    },
    {
      "cell_type": "markdown",
      "metadata": {
        "id": "hNafcK3Sq8W7"
      },
      "source": [
        "# <font color=green>7. WEB SCRAPING THE SITE - GETTING THE DATA OF ALL ADVERTISING ON THE SITE"
      ]
    },
    {
      "cell_type": "markdown",
      "metadata": {
        "id": "HpaGI1lDq8W7"
      },
      "source": [
        "# 7.1. Identifying information in HTML"
      ]
    },
    {
      "cell_type": "code",
      "execution_count": 108,
      "metadata": {
        "id": "lpN3hToVq8W7"
      },
      "outputs": [],
      "source": [
        ""
      ]
    },
    {
      "cell_type": "code",
      "execution_count": 108,
      "metadata": {
        "scrolled": true,
        "id": "46FB7Dgrq8W7"
      },
      "outputs": [],
      "source": [
        ""
      ]
    },
    {
      "cell_type": "code",
      "execution_count": 108,
      "metadata": {
        "id": "M-626GWYq8W7"
      },
      "outputs": [],
      "source": [
        ""
      ]
    },
    {
      "cell_type": "code",
      "execution_count": 108,
      "metadata": {
        "id": "w4yQWMS1q8W7"
      },
      "outputs": [],
      "source": [
        ""
      ]
    },
    {
      "cell_type": "code",
      "execution_count": 108,
      "metadata": {
        "id": "fy9Llt-Qq8W8"
      },
      "outputs": [],
      "source": [
        ""
      ]
    },
    {
      "cell_type": "markdown",
      "metadata": {
        "id": "ILm9OPUwq8W8"
      },
      "source": [
        "# 7.2. Creating a scraping routine"
      ]
    },
    {
      "cell_type": "code",
      "execution_count": 108,
      "metadata": {
        "scrolled": true,
        "id": "EbP7Lfwdq8W8"
      },
      "outputs": [],
      "source": [
        ""
      ]
    },
    {
      "cell_type": "code",
      "execution_count": 108,
      "metadata": {
        "id": "QAq6he0Mq8W8"
      },
      "outputs": [],
      "source": [
        ""
      ]
    },
    {
      "cell_type": "code",
      "execution_count": 108,
      "metadata": {
        "id": "Khx2pKyYq8W8"
      },
      "outputs": [],
      "source": [
        ""
      ]
    },
    {
      "cell_type": "code",
      "execution_count": 108,
      "metadata": {
        "id": "090qT5y8q8W8"
      },
      "outputs": [],
      "source": [
        ""
      ]
    },
    {
      "cell_type": "code",
      "execution_count": 108,
      "metadata": {
        "id": "vesyVJyfq8W8"
      },
      "outputs": [],
      "source": [
        ""
      ]
    },
    {
      "cell_type": "code",
      "execution_count": 108,
      "metadata": {
        "id": "qv4ilhR2q8W8"
      },
      "outputs": [],
      "source": [
        ""
      ]
    }
  ],
  "metadata": {
    "colab": {
      "name": "download_info_about_cars_basic.ipynb",
      "provenance": [],
      "include_colab_link": true
    },
    "kernelspec": {
      "display_name": "Python 3 (ipykernel)",
      "language": "python",
      "name": "python3"
    },
    "language_info": {
      "codemirror_mode": {
        "name": "ipython",
        "version": 3
      },
      "file_extension": ".py",
      "mimetype": "text/x-python",
      "name": "python",
      "nbconvert_exporter": "python",
      "pygments_lexer": "ipython3",
      "version": "3.9.7"
    }
  },
  "nbformat": 4,
  "nbformat_minor": 0
}