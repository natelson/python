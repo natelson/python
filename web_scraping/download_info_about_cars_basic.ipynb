{
  "cells": [
    {
      "cell_type": "markdown",
      "metadata": {
        "id": "view-in-github",
        "colab_type": "text"
      },
      "source": [
        "<a href=\"https://colab.research.google.com/github/natelson/python/blob/main/web_scraping/download_info_about_cars_basic.ipynb\" target=\"_parent\"><img src=\"https://colab.research.google.com/assets/colab-badge.svg\" alt=\"Open In Colab\"/></a>"
      ]
    },
    {
      "cell_type": "markdown",
      "metadata": {
        "id": "PgvWwVj1q8WN"
      },
      "source": [
        "# <font color=green>1. WEB SCRAPING FOR BEGINNERS"
      ]
    },
    {
      "cell_type": "markdown",
      "metadata": {
        "id": "ucIZtRuqq8WR"
      },
      "source": [
        "# 1.1. What is web scraping?"
      ]
    },
    {
      "cell_type": "markdown",
      "metadata": {
        "id": "D-csdoZEq8WS"
      },
      "source": [
        "> *Web scraping* is the term used to extract data from web sites, there are numerous reasons to do this.\n",
        "\n",
        "> For example, suppose you want to build a machine learning model that recognizes in a photo whether or not it has a car, to train your model you will need hundreds of photos of cars to train the model.\n",
        "\n",
        "> Then you can create a bot that accesses car sales websites and downloads these photos to train your model later.\n",
        "\n",
        "> The idea here is to show you how to do this in python using some libraries for this, BeatifulSoup to work with the html we are analyzing. Urlib to request and download the content of pages and images and Pandas to transform this information into structured data so that we can store and work with them."
      ]
    },
    {
      "cell_type": "markdown",
      "metadata": {
        "id": "sO6KZzcPq8WT"
      },
      "source": [
        "# 1.2. Importing the libraries\n",
        "\n",
        "> For this example of web scraping, I used one fake website about cars, and the goal is download images of cars and extract some information about them.\n",
        "\n",
        "> The first step is importing the libraries, like the code below.\n"
      ]
    },
    {
      "cell_type": "code",
      "execution_count": 1,
      "metadata": {
        "colab": {
          "base_uri": "https://localhost:8080/"
        },
        "id": "e9pXIMIWByAp",
        "outputId": "4b15e840-8979-4136-9e53-4ba4cf575d81"
      },
      "outputs": [
        {
          "output_type": "stream",
          "name": "stdout",
          "text": [
            "BeautifulSoup -> 4.6.3\n",
            "urllib -> 3.7\n",
            "pandas -> 1.3.5\n"
          ]
        }
      ],
      "source": [
        "import bs4\n",
        "import urllib.request as urllib_request\n",
        "import pandas\n",
        "\n",
        "print(\"BeautifulSoup ->\", bs4.__version__)\n",
        "print(\"urllib ->\", urllib_request.__version__)\n",
        "print(\"pandas ->\", pandas.__version__)"
      ]
    },
    {
      "cell_type": "markdown",
      "metadata": {
        "id": "mFUmKGiYq8WW"
      },
      "source": [
        "---\n",
        "# <font color=green>2. Working with requests"
      ]
    },
    {
      "cell_type": "markdown",
      "metadata": {
        "id": "28GOJE-Qq8WX"
      },
      "source": [
        "## 2.1. Getting the HTML content of a website\n",
        "\n",
        "> For the download of code html of a page web, I used the library urlib.request, the link to documentation and the sample of use is below."
      ]
    },
    {
      "cell_type": "markdown",
      "metadata": {
        "id": "bYq5COesq8WY"
      },
      "source": [
        "# urllib.request\n",
        "## https://docs.python.org/3/library/urllib.html"
      ]
    },
    {
      "cell_type": "code",
      "source": [
        "from urllib.request import urlopen\n",
        "\n",
        "url = 'https://alura-site-scraping.herokuapp.com/hello-world.php'\n",
        "\n",
        "response = urlopen(url)\n",
        "html = response.read()\n",
        "print(html[:500])"
      ],
      "metadata": {
        "id": "VHjh-906svjK",
        "outputId": "40bf72bf-d440-4cd5-fdd4-f0488ee24c05",
        "colab": {
          "base_uri": "https://localhost:8080/"
        }
      },
      "execution_count": 2,
      "outputs": [
        {
          "output_type": "stream",
          "name": "stdout",
          "text": [
            "b'<!DOCTYPE html>\\r\\n<html lang=\"pt-br\">\\r\\n<head>\\r\\n    <meta charset=\"utf-8\">\\r\\n    <meta name=\"viewport\" content=\"width=device-width, initial-scale=1, shrink-to-fit=no\">\\r\\n\\r\\n    <title>Alura Motors</title>\\r\\n\\t<link rel=\"stylesheet\" href=\"https://maxcdn.bootstrapcdn.com/bootstrap/3.3.7/css/bootstrap.min.css\" integrity=\"sha384-BVYiiSIFeK1dGmJRAkycuHAHRg32OmUcww7on3RYdg4Va+PmSTsz/K68vbdEjh4u\" crossorigin=\"anonymous\">\\r\\n\\t<link rel=\"stylesheet\" href=\"css/styles.css\" media=\"all\">\\r\\n\\r\\n\\t<script src=\"https://code'\n"
          ]
        }
      ]
    },
    {
      "cell_type": "markdown",
      "source": [
        "## 2.2. Some sites not allow bots, what you do?\n",
        "\n",
        "> Some sites, not allow bots, in this case for “lie” to website is necessary to send information about the user-agent in header of request. The information about user-agent sends the server of website of type of browser is visiting.\n",
        "> When our working with bots the web scraping is important create a behavior similar a user browsing in a web browser like the chrome. The user-agent have an important role this case."
      ],
      "metadata": {
        "id": "6Vqsp0oEwamM"
      }
    },
    {
      "cell_type": "code",
      "source": [
        "from urllib.request import Request, urlopen\n",
        "url = 'https://alura-site-scraping.herokuapp.com'\n",
        "headers = {'User-Agent': 'Mozilla/5.0 (Windows NT 10.0; Win64; x64) AppleWebKit/537.36 (KHTML, like Gecko) Chrome/76.0.3809.100 Safari/537.36'}\n",
        "\n",
        "req = Request(url, headers = headers)"
      ],
      "metadata": {
        "id": "TRnbM10VyYA7"
      },
      "execution_count": 3,
      "outputs": []
    },
    {
      "cell_type": "markdown",
      "metadata": {
        "id": "Z5v_pBMkq8Wa"
      },
      "source": [
        "## 2.3. If it's possible to fail, it will fail\n",
        "> When us to working with request a website, a large number of possible of error is possible. The website is down, is slow, the domain change, the access was blocked and the other situations.\n",
        "\n",
        "> In this case it is important to deal with possible errors. The code below was created to deal with 3 different errors:"
      ]
    },
    {
      "cell_type": "markdown",
      "source": [
        "### 2.3.1 HTTP Status Code <> 2xxx\n",
        "\n",
        "> Some times one website is not allowing the direct access and return some status code that raise errors in your application.\n",
        "> For example, the website of a company of course is not allowed access without header, return the HTTP Code 403, the code below handle HTTPError type errors.\n",
        "Note: For more information about http code visit https://developer.mozilla.org/en-US/docs/Web/HTTP/Status\n"
      ],
      "metadata": {
        "id": "FuAfG0VAziq0"
      }
    },
    {
      "cell_type": "code",
      "source": [
        "from urllib.request import Request, urlopen\n",
        "from urllib.error import URLError, HTTPError\n",
        "url = 'https://alura.com.br/'\n",
        "try:\n",
        "    req = Request(url)\n",
        "    response = urlopen(req)\n",
        "    print(response.read())\n",
        "\n",
        "except HTTPError as e:\n",
        "    print(e.status, e.reason)\n"
      ],
      "metadata": {
        "id": "fhEXp90t2Xef",
        "outputId": "200f05cc-20a0-4e49-8f63-1ac7f62aebed",
        "colab": {
          "base_uri": "https://localhost:8080/"
        }
      },
      "execution_count": 4,
      "outputs": [
        {
          "output_type": "stream",
          "name": "stdout",
          "text": [
            "403 Forbidden\n"
          ]
        }
      ]
    },
    {
      "cell_type": "markdown",
      "source": [
        "### 2.3.2 URL Errors\n",
        "\n",
        "Some times one website is down or the domain is changed, in this case your request returns one URLError.\n",
        "\n",
        "For this example, I change the url https://twitter.com for https://twitter.comx , such this domain not exist, the urlopen will return one urlerror"
      ],
      "metadata": {
        "id": "vy4znnr96EWO"
      }
    },
    {
      "cell_type": "code",
      "source": [
        "from urllib.request import Request, urlopen\n",
        "from urllib.error import URLError, HTTPError\n",
        "url = 'https://twitter.comx/'\n",
        "try:\n",
        "    req = Request(url)\n",
        "    response = urlopen(req)\n",
        "    html = response.read()\n",
        "\n",
        "except HTTPError as e:\n",
        "    print(e.status, e.reason)\n",
        "\n",
        "except URLError as e:\n",
        "  print(e.reason)"
      ],
      "metadata": {
        "id": "pkqAfabT6pdY",
        "outputId": "c7f817a0-326f-4ebb-825c-318b57d145a6",
        "colab": {
          "base_uri": "https://localhost:8080/"
        }
      },
      "execution_count": 5,
      "outputs": [
        {
          "output_type": "stream",
          "name": "stdout",
          "text": [
            "[Errno -2] Name or service not known\n"
          ]
        }
      ]
    },
    {
      "cell_type": "markdown",
      "metadata": {
        "id": "TJCvFVnNq8Wb"
      },
      "source": [
        "#### For more information about the library request visit https://docs.python.org/3/library/urllib.request.html#urllib.request.Request"
      ]
    },
    {
      "cell_type": "markdown",
      "metadata": {
        "id": "2OKsytCXq8Wc"
      },
      "source": [
        "## 2.4 String handling\n",
        "\n",
        "> When working with web scraping is important transform the code html in some text more friendly for work with him.\n",
        "> Below have some examples to convert the html code a text more friendly for work. \n",
        "\n",
        "> **The BeatifulSoup library will be working without these treatments, but sometimes some errors is solved with this approach.**"
      ]
    },
    {
      "cell_type": "markdown",
      "metadata": {
        "id": "hxaHaoVoq8Wc"
      },
      "source": [
        "### Converting type bytes to string"
      ]
    },
    {
      "cell_type": "code",
      "execution_count": 6,
      "metadata": {
        "id": "iLmhqKTsq8Wc",
        "colab": {
          "base_uri": "https://localhost:8080/"
        },
        "outputId": "b17298ec-627b-404b-b79d-c9dc1467d4b6"
      },
      "outputs": [
        {
          "output_type": "execute_result",
          "data": {
            "text/plain": [
              "b'<!DOCTYPE html>\\r\\n<html lang=\"pt-br\">\\r\\n<head>\\r\\n    <meta charset=\"utf-8\">\\r\\n    <meta name=\"viewport\" content=\"width=device-width, initial-scale=1, shrink-to-fit=no\">\\r\\n\\r\\n    <title>Alura Motors</title>\\r\\n\\r\\n\\t<style>\\r\\n\\t\\t/*Regra para a animacao*/\\r\\n\\t\\t@keyframes spin {\\r\\n\\t\\t\\t0% { transform: rotate(0deg); }\\r\\n\\t\\t\\t100% { transform: rotate(360deg); }\\r\\n\\t\\t}\\r\\n\\t\\t/*Mudando o tamanho do icone de resposta*/\\r\\n\\t\\tdiv.glyphicon {\\r\\n\\t\\t\\tcolor:#6B8E23;\\r\\n\\t\\t\\tfont-size: 38px;\\r\\n\\t\\t}\\r\\n\\t\\t/*Classe que mostra a animacao \\'spin\\'*/\\r\\n\\t\\t.'"
            ]
          },
          "metadata": {},
          "execution_count": 6
        }
      ],
      "source": [
        "from urllib.request import urlopen\n",
        "\n",
        "url = 'https://alura-site-scraping.herokuapp.com/index.php'\n",
        "\n",
        "response = urlopen(url)\n",
        "html = response.read()\n",
        "html[:500]"
      ]
    },
    {
      "cell_type": "code",
      "execution_count": 7,
      "metadata": {
        "id": "q2wYWYKxq8Wd",
        "colab": {
          "base_uri": "https://localhost:8080/"
        },
        "outputId": "18aa3ccb-cdf3-49bc-a7ec-15f3f5eb43c2"
      },
      "outputs": [
        {
          "output_type": "execute_result",
          "data": {
            "text/plain": [
              "bytes"
            ]
          },
          "metadata": {},
          "execution_count": 7
        }
      ],
      "source": [
        "type(html)"
      ]
    },
    {
      "cell_type": "code",
      "execution_count": 8,
      "metadata": {
        "id": "b7Hxb5Bgq8Wd"
      },
      "outputs": [],
      "source": [
        "html_text = html.decode('utf-8')"
      ]
    },
    {
      "cell_type": "code",
      "execution_count": 9,
      "metadata": {
        "id": "eEsUVVbGq8Wd",
        "colab": {
          "base_uri": "https://localhost:8080/"
        },
        "outputId": "4925eac8-4035-4d19-e2bb-49af11ea9c5d"
      },
      "outputs": [
        {
          "output_type": "execute_result",
          "data": {
            "text/plain": [
              "str"
            ]
          },
          "metadata": {},
          "execution_count": 9
        }
      ],
      "source": [
        "type(html_text)"
      ]
    },
    {
      "cell_type": "markdown",
      "metadata": {
        "id": "HLfeSVbGq8Wd"
      },
      "source": [
        "### Remove tab characters, line breaks, etc."
      ]
    },
    {
      "cell_type": "code",
      "execution_count": 10,
      "metadata": {
        "id": "sTIeMDQtq8We",
        "colab": {
          "base_uri": "https://localhost:8080/"
        },
        "outputId": "9099388d-f352-42ea-a3ed-fa6cc6ab6e97"
      },
      "outputs": [
        {
          "output_type": "execute_result",
          "data": {
            "text/plain": [
              "['<!DOCTYPE',\n",
              " 'html>',\n",
              " '<html',\n",
              " 'lang=\"pt-br\">',\n",
              " '<head>',\n",
              " '<meta',\n",
              " 'charset=\"utf-8\">',\n",
              " '<meta',\n",
              " 'name=\"viewport\"',\n",
              " 'content=\"width=device-width,',\n",
              " 'initial-scale=1,',\n",
              " 'shrink-to-fit=no\">',\n",
              " '<title>Alura',\n",
              " 'Motors</title>',\n",
              " '<style>',\n",
              " '/*Regra',\n",
              " 'para',\n",
              " 'a',\n",
              " 'animacao*/',\n",
              " '@keyframes',\n",
              " 'spin',\n",
              " '{',\n",
              " '0%',\n",
              " '{',\n",
              " 'transform:',\n",
              " 'rotate(0deg);',\n",
              " '}',\n",
              " '100%',\n",
              " '{',\n",
              " 'transform:',\n",
              " 'rotate(360deg);',\n",
              " '}',\n",
              " '}',\n",
              " '/*Mudando',\n",
              " 'o',\n",
              " 'tamanho',\n",
              " 'do',\n",
              " 'icone',\n",
              " 'de',\n",
              " 'resposta*/',\n",
              " 'div.glyphicon',\n",
              " '{',\n",
              " 'color:#6B8E23;',\n",
              " 'font-size:',\n",
              " '38px;',\n",
              " '}',\n",
              " '/*Classe',\n",
              " 'que',\n",
              " 'mostra',\n",
              " 'a']"
            ]
          },
          "metadata": {},
          "execution_count": 10
        }
      ],
      "source": [
        "html_text.split()[:50]"
      ]
    },
    {
      "cell_type": "code",
      "execution_count": 11,
      "metadata": {
        "scrolled": true,
        "id": "acDaZ3W6q8We",
        "colab": {
          "base_uri": "https://localhost:8080/",
          "height": 70
        },
        "outputId": "a0e720be-6a83-4e8b-cb89-417a3fd7dd13"
      },
      "outputs": [
        {
          "output_type": "execute_result",
          "data": {
            "text/plain": [
              "'<!DOCTYPE html> <html lang=\"pt-br\"> <head> <meta charset=\"utf-8\"> <meta name=\"viewport\" content=\"width=device-width, initial-scale=1, shrink-to-fit=no\"> <title>Alura Motors</title> <style> /*Regra para a animacao*/ @keyframes spin { 0% { transform: rotate(0deg); } 100% { transform: rotate(360deg); } } /*Mudando o tamanho do icone de resposta*/ div.glyphicon { color:#6B8E23; font-size: 38px; } /*Classe que mostra a animacao \\'spin\\'*/ .loader { border: 16px solid #f3f3f3; border-radius: 50%; border'"
            ],
            "application/vnd.google.colaboratory.intrinsic+json": {
              "type": "string"
            }
          },
          "metadata": {},
          "execution_count": 11
        }
      ],
      "source": [
        "\" \".join(html_text.split())[:500]"
      ]
    },
    {
      "cell_type": "markdown",
      "metadata": {
        "id": "97i_wnYMq8We"
      },
      "source": [
        "### Eliminating white spaces between TAGS"
      ]
    },
    {
      "cell_type": "code",
      "execution_count": 12,
      "metadata": {
        "scrolled": true,
        "id": "GIsQP6qIq8We",
        "colab": {
          "base_uri": "https://localhost:8080/",
          "height": 70
        },
        "outputId": "7d4dc5b9-8705-460a-9e17-b7faf58324c4"
      },
      "outputs": [
        {
          "output_type": "execute_result",
          "data": {
            "text/plain": [
              "'<!DOCTYPE html><html lang=\"pt-br\"><head><meta charset=\"utf-8\"><meta name=\"viewport\" content=\"width=device-width, initial-scale=1, shrink-to-fit=no\"><title>Alura Motors</title><style> /*Regra para a animacao*/ @keyframes spin { 0% { transform: rotate(0deg); } 100% { transform: rotate(360deg); } } /*Mudando o tamanho do icone de resposta*/ div.glyphicon { color:#6B8E23; font-size: 38px; } /*Classe que mostra a animacao \\'spin\\'*/ .loader { border: 16px solid #f3f3f3; border-radius: 50%; border-top: '"
            ],
            "application/vnd.google.colaboratory.intrinsic+json": {
              "type": "string"
            }
          },
          "metadata": {},
          "execution_count": 12
        }
      ],
      "source": [
        "\" \".join(html_text.split()).replace('> <', '><')[:500]"
      ]
    },
    {
      "cell_type": "markdown",
      "metadata": {
        "id": "etf0E7HWq8We"
      },
      "source": [
        "### String handling function"
      ]
    },
    {
      "cell_type": "code",
      "execution_count": 13,
      "metadata": {
        "id": "lqNZ1mCJq8We"
      },
      "outputs": [],
      "source": [
        "def change_html_byte_to_text(html_byte):\n",
        "    html_text = html_byte.decode('utf-8')\n",
        "    html_text =  \" \".join(html_text.split()).replace('> <', '><')\n",
        "    return html_text"
      ]
    },
    {
      "cell_type": "code",
      "execution_count": 14,
      "metadata": {
        "id": "m0_ywrjQq8Wf"
      },
      "outputs": [],
      "source": [
        "html = change_html_byte_to_text(html)"
      ]
    },
    {
      "cell_type": "code",
      "execution_count": 15,
      "metadata": {
        "scrolled": true,
        "id": "3WukFkGsq8Wf",
        "colab": {
          "base_uri": "https://localhost:8080/",
          "height": 70
        },
        "outputId": "3e8f11bf-a609-4576-82cf-2dffc76f0bd1"
      },
      "outputs": [
        {
          "output_type": "execute_result",
          "data": {
            "text/plain": [
              "'<!DOCTYPE html><html lang=\"pt-br\"><head><meta charset=\"utf-8\"><meta name=\"viewport\" content=\"width=device-width, initial-scale=1, shrink-to-fit=no\"><title>Alura Motors</title><style> /*Regra para a animacao*/ @keyframes spin { 0% { transform: rotate(0deg); } 100% { transform: rotate(360deg); } } /*Mudando o tamanho do icone de resposta*/ div.glyphicon { color:#6B8E23; font-size: 38px; } /*Classe que mostra a animacao \\'spin\\'*/ .loader { border: 16px solid #f3f3f3; border-radius: 50%; border-top: '"
            ],
            "application/vnd.google.colaboratory.intrinsic+json": {
              "type": "string"
            }
          },
          "metadata": {},
          "execution_count": 15
        }
      ],
      "source": [
        "html[:500]"
      ]
    },
    {
      "cell_type": "markdown",
      "source": [
        "# <font color=green>3. Extracting information with BeautifulSoup"
      ],
      "metadata": {
        "id": "vRJBwSQIrM85"
      }
    },
    {
      "cell_type": "markdown",
      "source": [
        "# 3.1. Understand the format of an HTML code"
      ],
      "metadata": {
        "id": "d1-xwg7wrchp"
      }
    },
    {
      "cell_type": "markdown",
      "metadata": {
        "id": "ULcCZrmeq8Wf"
      },
      "source": [
        "**HTML** (*HyperText Markup Language*) is a markup language made up of **tags** that determine the role that each part of the document will assume. The **tags** are formed by your name and attributes. Attributes are used to configure and also modify the default characteristics of a **tag**.\n",
        "\n",
        "## Basic Structure\n",
        "\n",
        "```html\n",
        "<html>\n",
        "    <head>\n",
        "        <meta charset=\"utf-8\" />\n",
        "        <title>Alura Motors</title>\n",
        "    </head>\n",
        "    <body>\n",
        "        <div id=\"container\">\n",
        "            <h1>Alura</h1>\n",
        "            <h2 class=\"formato\">Cursos de Tecnologia</h2>\n",
        "            <p>Você vai estudar, praticar, discutir e aprender.</p>\n",
        "            <a href=\"https://www.alura.com.br/\">Clique aqui</a>\n",
        "        </div>\n",
        "    </body>\n",
        "</html>\n",
        "```\n",
        "\n",
        "```<html>``` - determines the beginning of the document.\n",
        "\n",
        "```<head>``` - header. Contains document information and settings.\n",
        "\n",
        "```<body>``` - is the body of the document, where all the content is placed. This is the part visible in a browser.\n",
        "\n",
        "## Most common tags\n",
        "\n",
        "```<div>``` - Defines a division of the page. Can be formatted in different ways.\n",
        "\n",
        "```<h1>, <h2>, <h3>, <h4>, <h5>, <h6>``` - Title markerss.\n",
        "\n",
        "```<p>``` - Paragraph marker.\n",
        "\n",
        "```<a>``` - hiperlink.\n",
        "\n",
        "```<img>``` - image display.\n",
        "\n",
        "```<table>``` - tables.\n",
        "\n",
        "```<ul>, <li>``` - lists.\n"
      ]
    },
    {
      "cell_type": "markdown",
      "metadata": {
        "id": "7SSt6Teoq8Wg"
      },
      "source": [
        "# 3.2. Creating a BeautifulSoup object"
      ]
    },
    {
      "cell_type": "markdown",
      "metadata": {
        "id": "5OIR_Q_6q8Wh"
      },
      "source": [
        "## https://www.crummy.com/software/BeautifulSoup/\n",
        "\n",
        "### About parser: https://www.crummy.com/software/BeautifulSoup/bs4/doc/#parser-installation"
      ]
    },
    {
      "cell_type": "code",
      "execution_count": 22,
      "metadata": {
        "id": "5Oxx_d0BCWGa",
        "scrolled": true,
        "outputId": "209d0e65-836d-4ac5-f526-bdf0b3e5aef5",
        "colab": {
          "base_uri": "https://localhost:8080/"
        }
      },
      "outputs": [
        {
          "output_type": "stream",
          "name": "stdout",
          "text": [
            "<class 'bs4.BeautifulSoup'>\n"
          ]
        }
      ],
      "source": [
        "from bs4 import BeautifulSoup\n",
        "soup = BeautifulSoup(html, 'html.parser')\n"
      ]
    },
    {
      "cell_type": "code",
      "execution_count": 27,
      "metadata": {
        "scrolled": true,
        "id": "UC4ePrZHq8Wh",
        "outputId": "78e4db44-268d-412a-ea42-8d7910e97b93",
        "colab": {
          "base_uri": "https://localhost:8080/"
        }
      },
      "outputs": [
        {
          "output_type": "stream",
          "name": "stdout",
          "text": [
            "<class 'bs4.BeautifulSoup'>\n",
            "<!DOCTYPE html>\n",
            "<html lang=\"pt-br\">\n",
            " <head>\n",
            "  <meta charset=\"utf-8\"/>\n",
            "  <meta content=\"width=device-width, initial-scale=1, shrink-to-fit=no\" name=\"viewport\"/>\n",
            "  <title>\n",
            "   Alura Motors\n",
            "  </title>\n",
            "  <style>\n",
            "   /*Regra para a animacao*/ @keyframes spin { 0% { transform: rotate(0deg); } 100% { transform: rotate(360deg); } } /*Mudando o tamanho do icone de resposta*/ div.glyphicon { color:#6B8E23; font-size: 38px; } /*Classe que mostra a animacao 'spin'*/ .loader { border: 16px solid #f3f3f3; border-radius: 50%; border-top: 16px solid #3498db; width: 80px; height: 80px; -webkit-animation: spin 2s linear infinite; animation: spin 2s linear infinite; }\n",
            "  </style>\n",
            "  <link crossorigin=\"anonymous\" href=\"https://maxcdn.bootstrapcdn.com/bootstrap/3.3.7/css/bootstrap.min.css\" integrity=\"sha384-BVYiiSIFeK1dGmJRAkycuHAHRg32OmUcww7on3RYdg4Va+PmSTsz/K68vbdEjh4u\" rel=\"stylesheet\"/>\n",
            "  <link href=\"css/styles.css\" media=\"all\" rel=\"stylesheet\"/>\n",
            "  <script src=\"https://code.jquery.com/jquery-1.12.4.js\">\n",
            "  </script>\n",
            "  <script crossorigin=\"anonymous\" integrity=\"sha384-Tc5IQib027qvyjSMfHjOMaLkfuWVxZxUPnCJA7l2mCWNIpG9mGCD8wGNIcPD7Txa\" src=\"https://maxcdn.bootstrapcdn.com/bootstrap/3.3.7/js/bootstrap.min.js\">\n",
            "  </script>\n",
            "  <script src=\"js/index.js\" type=\"text/javascript\">\n",
            "  </script>\n",
            "  <script>\n",
            "   requisitar(\"https://alura-scraping.herokuapp.com/produtos?_page=\"+1+\"&_limit=10\")\n",
            "  </script>\n",
            " </head>\n",
            " <body cz-shortcut-listen=\"true\">\n",
            "  <noscript>\n",
            "   You need to enable JavaScript to run this app.\n",
            "  </noscript>\n",
            "  <div aria-labelledby=\"loadingModal_label\" class=\"modal fade\" data-backdrop=\"static\" id=\"loadingModal\" role=\"dialog\" tabindex=\"-1\">\n",
            "   <div class=\"modal-dialog\" role=\"document\">\n",
            "    <div class=\"modal-content\">\n",
            "     <div class=\"modal-header\">\n",
            "      <h5 class=\"modal-title\" id=\"loadingModal_label\">\n",
            "       <span class=\"glyphicon glyphicon-refresh\">\n",
            "       </span>\n",
            "       Aguarde...\n",
            "      </h5>\n",
            "     </div>\n",
            "     <div class=\"modal-body\">\n",
            "      <div class=\"alert\" role=\"alert\">\n",
            "       <center>\n",
            "        <div class=\"loader\" id=\"loader\">\n",
            "        </div>\n",
            "        <br/>\n",
            "        <h4>\n",
            "         <b id=\"loadingModal_content\">\n",
            "         </b>\n",
            "        </h4>\n",
            "       </center>\n",
            "      </div>\n",
            "     </div>\n",
            "    </div>\n",
            "   </div>\n",
            "  </div>\n",
            "  <div id=\"root\">\n",
            "   <header>\n",
            "    <nav class=\"navbar navbar-inverse\" style=\"margin-bottom: 0;\">\n",
            "     <div class=\"container\" style=\"margin-bottom: -20px;\">\n",
            "      <div class=\"navbar\">\n",
            "       <a class=\"navbar-brand\" href=\"./index.php\" title=\"Alura Motors\">\n",
            "        <img alt=\"Alura\" class=\"d-inline-block align-top\" src=\"img/alura-logo.svg\"/>\n",
            "        Motors\n",
            "       </a>\n",
            "       <ul class=\"nav navbar-nav\" style=\"margin-top: 35px;\">\n",
            "        <li>\n",
            "         <a href=\"./hello-world.php\">\n",
            "          Hello World\n",
            "         </a>\n",
            "        </li>\n",
            "        <li>\n",
            "         <a href=\"./index.php\">\n",
            "          Anúncios\n",
            "         </a>\n",
            "        </li>\n",
            "       </ul>\n",
            "      </div>\n",
            "     </div>\n",
            "    </nav>\n",
            "   </header>\n",
            "   <div class=\"container\">\n",
            "    <h1 class=\"sub-header\">\n",
            "     Veículos de Luxo Novos e Usados - Todas as Marcas\n",
            "    </h1>\n",
            "    <div class=\"row\">\n",
            "     <div class=\"col-md-12\">\n",
            "      <div class=\"container\" style=\"width: 100%\">\n",
            "       <div class=\"type-select\">\n",
            "        246 veículos encontrados\n",
            "       </div>\n",
            "       <div class=\"container-pagination\" style=\"float: right\">\n",
            "        <span class=\"info-pages\">\n",
            "         Página 1 de 25\n",
            "        </span>\n",
            "       </div>\n",
            "      </div>\n",
            "      <div id=\"container-cards\" style=\"height: 100%\">\n",
            "       <div class=\"well card\">\n",
            "        <div class=\"col-md-3 image-card\">\n",
            "         <img alt=\"Foto\" height=\"155\" src=\"https://caelum-online-public.s3.amazonaws.com/1381-scraping/01/img-cars/lamborghini-aventador/lamborghini-aventador-2932196__340.jpg\" width=\"220\"/>\n",
            "        </div>\n",
            "        <div class=\"col-md-6 body-card\">\n",
            "         <p class=\"txt-name inline\">\n",
            "          LAMBORGHINI AVENTADOR\n",
            "         </p>\n",
            "         <p class=\"txt-category badge badge-secondary inline\">\n",
            "          USADO\n",
            "         </p>\n",
            "         <p class=\"txt-motor\">\n",
            "          Motor 1.8 16v\n",
            "         </p>\n",
            "         <p class=\"txt-description\">\n",
            "          Ano 1993 - 55.286 km\n",
            "         </p>\n",
            "         <ul class=\"lst-items\">\n",
            "          <li class=\"txt-items\">\n",
            "           ► 4 X 4\n",
            "          </li>\n",
            "          <li class=\"txt-items\">\n",
            "           ► Câmera de estacionamento\n",
            "          </li>\n",
            "          <li class=\"txt-items\">\n",
            "           ► Controle de tração\n",
            "          </li>\n",
            "          <li class=\"txt-items\">\n",
            "           ► Sensor de estacionamento\n",
            "          </li>\n",
            "          <li class=\"txt-items\">\n",
            "           ...\n",
            "          </li>\n",
            "         </ul>\n",
            "         <p class=\"txt-location\">\n",
            "          Belo Horizonte - MG\n",
            "         </p>\n",
            "        </div>\n",
            "        <div class=\"col-md-3 value-card\">\n",
            "         <div class=\"value\">\n",
            "          <p class=\"txt-value\">\n",
            "           R$ 338.000\n",
            "          </p>\n",
            "         </div>\n",
            "        </div>\n",
            "       </div>\n",
            "       <div class=\"well card\">\n",
            "        <div class=\"col-md-3 image-card\">\n",
            "         <img alt=\"Foto\" height=\"155\" src=\"https://caelum-online-public.s3.amazonaws.com/1381-scraping/01/img-cars/bmw-m2/bmw-m2-2970882__340.jpg\" width=\"220\"/>\n",
            "        </div>\n",
            "        <div class=\"col-md-6 body-card\">\n",
            "         <p class=\"txt-name inline\">\n",
            "          BMW M2\n",
            "         </p>\n",
            "         <p class=\"txt-category badge badge-secondary inline\">\n",
            "          USADO\n",
            "         </p>\n",
            "         <p class=\"txt-motor\">\n",
            "          Motor 3.0 32v\n",
            "         </p>\n",
            "         <p class=\"txt-description\">\n",
            "          Ano 2018 - 83.447 km\n",
            "         </p>\n",
            "         <ul class=\"lst-items\">\n",
            "          <li class=\"txt-items\">\n",
            "           ► Câmera de estacionamento\n",
            "          </li>\n",
            "          <li class=\"txt-items\">\n",
            "           ► Controle de estabilidade\n",
            "          </li>\n",
            "          <li class=\"txt-items\">\n",
            "           ► Travas elétricas\n",
            "          </li>\n",
            "          <li class=\"txt-items\">\n",
            "           ► Freios ABS\n",
            "          </li>\n",
            "          <li class=\"txt-items\">\n",
            "           ...\n",
            "          </li>\n",
            "         </ul>\n",
            "         <p class=\"txt-location\">\n",
            "          Belo Horizonte - MG\n",
            "         </p>\n",
            "        </div>\n",
            "        <div class=\"col-md-3 value-card\">\n",
            "         <div class=\"value\">\n",
            "          <p class=\"txt-value\">\n",
            "           R$ 346.000\n",
            "          </p>\n",
            "         </div>\n",
            "        </div>\n",
            "       </div>\n",
            "       <div class=\"well card\">\n",
            "        <div class=\"col-md-3 image-card\">\n",
            "         <img alt=\"Foto\" height=\"155\" src=\"https://caelum-online-public.s3.amazonaws.com/1381-scraping/01/img-cars/alfa/alfa-1823056__340.jpg\" width=\"220\"/>\n",
            "        </div>\n",
            "        <div class=\"col-md-6 body-card\">\n",
            "         <p class=\"txt-name inline\">\n",
            "          ALFA\n",
            "         </p>\n",
            "         <p class=\"txt-category badge badge-secondary inline\">\n",
            "          USADO\n",
            "         </p>\n",
            "         <p class=\"txt-motor\">\n",
            "          Motor 1.8 16v\n",
            "         </p>\n",
            "         <p class=\"txt-description\">\n",
            "          Ano 2004 - 19.722 km\n",
            "         </p>\n",
            "         <ul class=\"lst-items\">\n",
            "          <li class=\"txt-items\">\n",
            "           ► Central multimídia\n",
            "          </li>\n",
            "          <li class=\"txt-items\">\n",
            "           ► Bancos de couro\n",
            "          </li>\n",
            "          <li class=\"txt-items\">\n",
            "           ► Rodas de liga\n",
            "          </li>\n",
            "          <li class=\"txt-items\">\n",
            "           ► Câmera de estacionamento\n",
            "          </li>\n",
            "          <li class=\"txt-items\">\n",
            "           ...\n",
            "          </li>\n",
            "         </ul>\n",
            "         <p class=\"txt-location\">\n",
            "          Rio de Janeiro - RJ\n",
            "         </p>\n",
            "        </div>\n",
            "        <div class=\"col-md-3 value-card\">\n",
            "         <div class=\"value\">\n",
            "          <p class=\"txt-value\">\n",
            "           R$ 480.000\n",
            "          </p>\n",
            "         </div>\n",
            "        </div>\n",
            "       </div>\n",
            "       <div class=\"well card\">\n",
            "        <div class=\"col-md-3 image-card\">\n",
            "         <img alt=\"Foto\" height=\"155\" src=\"https://caelum-online-public.s3.amazonaws.com/1381-scraping/01/img-cars/puech/puech-4055386__340.jpg\" width=\"220\"/>\n",
            "        </div>\n",
            "        <div class=\"col-md-6 body-card\">\n",
            "         <p class=\"txt-name inline\">\n",
            "          PUECH\n",
            "         </p>\n",
            "         <p class=\"txt-category badge badge-secondary inline\">\n",
            "          USADO\n",
            "         </p>\n",
            "         <p class=\"txt-motor\">\n",
            "          Motor Diesel V8\n",
            "         </p>\n",
            "         <p class=\"txt-description\">\n",
            "          Ano 1992 - 34.335 km\n",
            "         </p>\n",
            "         <ul class=\"lst-items\">\n",
            "          <li class=\"txt-items\">\n",
            "           ► Bancos de couro\n",
            "          </li>\n",
            "          <li class=\"txt-items\">\n",
            "           ► Freios ABS\n",
            "          </li>\n",
            "          <li class=\"txt-items\">\n",
            "           ► Rodas de liga\n",
            "          </li>\n",
            "          <li class=\"txt-items\">\n",
            "           ► Câmbio automático\n",
            "          </li>\n",
            "          <li class=\"txt-items\">\n",
            "           ...\n",
            "          </li>\n",
            "         </ul>\n",
            "         <p class=\"txt-location\">\n",
            "          São Paulo - SP\n",
            "         </p>\n",
            "        </div>\n",
            "        <div class=\"col-md-3 value-card\">\n",
            "         <div class=\"value\">\n",
            "          <p class=\"txt-value\">\n",
            "           R$ 133.000\n",
            "          </p>\n",
            "         </div>\n",
            "        </div>\n",
            "       </div>\n",
            "       <div class=\"well card\">\n",
            "        <div class=\"col-md-3 image-card\">\n",
            "         <img alt=\"Foto\" height=\"155\" src=\"https://caelum-online-public.s3.amazonaws.com/1381-scraping/01/img-cars/lamborghini-murcielago/lamborghini-murcielago-2872974__340.jpg\" width=\"220\"/>\n",
            "        </div>\n",
            "        <div class=\"col-md-6 body-card\">\n",
            "         <p class=\"txt-name inline\">\n",
            "          LAMBORGHINI MURCIELAGO\n",
            "         </p>\n",
            "         <p class=\"txt-category badge badge-secondary inline\">\n",
            "          USADO\n",
            "         </p>\n",
            "         <p class=\"txt-motor\">\n",
            "          Motor 1.0 8v\n",
            "         </p>\n",
            "         <p class=\"txt-description\">\n",
            "          Ano 1991 - 464 km\n",
            "         </p>\n",
            "         <ul class=\"lst-items\">\n",
            "          <li class=\"txt-items\">\n",
            "           ► Central multimídia\n",
            "          </li>\n",
            "          <li class=\"txt-items\">\n",
            "           ► Teto panorâmico\n",
            "          </li>\n",
            "          <li class=\"txt-items\">\n",
            "           ► Sensor crepuscular\n",
            "          </li>\n",
            "          <li class=\"txt-items\">\n",
            "           ► Piloto automático\n",
            "          </li>\n",
            "          <li class=\"txt-items\">\n",
            "           ...\n",
            "          </li>\n",
            "         </ul>\n",
            "         <p class=\"txt-location\">\n",
            "          Belo Horizonte - MG\n",
            "         </p>\n",
            "        </div>\n",
            "        <div class=\"col-md-3 value-card\">\n",
            "         <div class=\"value\">\n",
            "          <p class=\"txt-value\">\n",
            "           R$ 175.000\n",
            "          </p>\n",
            "         </div>\n",
            "        </div>\n",
            "       </div>\n",
            "       <div class=\"well card\">\n",
            "        <div class=\"col-md-3 image-card\">\n",
            "         <img alt=\"Foto\" height=\"155\" src=\"https://caelum-online-public.s3.amazonaws.com/1381-scraping/01/img-cars/aston-martin/aston-martin-2977916__340.jpg\" width=\"220\"/>\n",
            "        </div>\n",
            "        <div class=\"col-md-6 body-card\">\n",
            "         <p class=\"txt-name inline\">\n",
            "          ASTON MARTIN\n",
            "         </p>\n",
            "         <p class=\"txt-category badge badge-secondary inline\">\n",
            "          USADO\n",
            "         </p>\n",
            "         <p class=\"txt-opportunity badge badge-danger inline\">\n",
            "          OPORTUNIDADE\n",
            "         </p>\n",
            "         <p class=\"txt-motor\">\n",
            "          Motor Diesel V6\n",
            "         </p>\n",
            "         <p class=\"txt-description\">\n",
            "          Ano 2004 - 50.189 km\n",
            "         </p>\n",
            "         <ul class=\"lst-items\">\n",
            "          <li class=\"txt-items\">\n",
            "           ► Painel digital\n",
            "          </li>\n",
            "          <li class=\"txt-items\">\n",
            "           ► Controle de tração\n",
            "          </li>\n",
            "          <li class=\"txt-items\">\n",
            "           ► Teto panorâmico\n",
            "          </li>\n",
            "          <li class=\"txt-items\">\n",
            "           ► Central multimídia\n",
            "          </li>\n",
            "          <li class=\"txt-items\">\n",
            "           ...\n",
            "          </li>\n",
            "         </ul>\n",
            "         <p class=\"txt-location\">\n",
            "          Belo Horizonte - MG\n",
            "         </p>\n",
            "        </div>\n",
            "        <div class=\"col-md-3 value-card\">\n",
            "         <div class=\"value\">\n",
            "          <p class=\"txt-value\">\n",
            "           R$ 239.000\n",
            "          </p>\n",
            "         </div>\n",
            "        </div>\n",
            "       </div>\n",
            "       <div class=\"well card\">\n",
            "        <div class=\"col-md-3 image-card\">\n",
            "         <img alt=\"Foto\" height=\"155\" src=\"https://caelum-online-public.s3.amazonaws.com/1381-scraping/01/img-cars/tvr/tvr-2943925__340.jpg\" width=\"220\"/>\n",
            "        </div>\n",
            "        <div class=\"col-md-6 body-card\">\n",
            "         <p class=\"txt-name inline\">\n",
            "          TVR\n",
            "         </p>\n",
            "         <p class=\"txt-category badge badge-secondary inline\">\n",
            "          USADO\n",
            "         </p>\n",
            "         <p class=\"txt-motor\">\n",
            "          Motor 4.0 Turbo\n",
            "         </p>\n",
            "         <p class=\"txt-description\">\n",
            "          Ano 2014 - 17.778 km\n",
            "         </p>\n",
            "         <ul class=\"lst-items\">\n",
            "          <li class=\"txt-items\">\n",
            "           ► 4 X 4\n",
            "          </li>\n",
            "          <li class=\"txt-items\">\n",
            "           ► Teto panorâmico\n",
            "          </li>\n",
            "          <li class=\"txt-items\">\n",
            "           ► Central multimídia\n",
            "          </li>\n",
            "          <li class=\"txt-items\">\n",
            "           ► Controle de estabilidade\n",
            "          </li>\n",
            "          <li class=\"txt-items\">\n",
            "           ...\n",
            "          </li>\n",
            "         </ul>\n",
            "         <p class=\"txt-location\">\n",
            "          Belo Horizonte - MG\n",
            "         </p>\n",
            "        </div>\n",
            "        <div class=\"col-md-3 value-card\">\n",
            "         <div class=\"value\">\n",
            "          <p class=\"txt-value\">\n",
            "           R$ 115.000\n",
            "          </p>\n",
            "         </div>\n",
            "        </div>\n",
            "       </div>\n",
            "       <div class=\"well card\">\n",
            "        <div class=\"col-md-3 image-card\">\n",
            "         <img alt=\"Foto\" height=\"155\" src=\"https://caelum-online-public.s3.amazonaws.com/1381-scraping/01/img-cars/excalibur/excalibur-2916730__340.jpg\" width=\"220\"/>\n",
            "        </div>\n",
            "        <div class=\"col-md-6 body-card\">\n",
            "         <p class=\"txt-name inline\">\n",
            "          EXCALIBUR\n",
            "         </p>\n",
            "         <p class=\"txt-category badge badge-secondary inline\">\n",
            "          USADO\n",
            "         </p>\n",
            "         <p class=\"txt-motor\">\n",
            "          Motor 3.0 32v\n",
            "         </p>\n",
            "         <p class=\"txt-description\">\n",
            "          Ano 2009 - 81.251 km\n",
            "         </p>\n",
            "         <ul class=\"lst-items\">\n",
            "          <li class=\"txt-items\">\n",
            "           ► Painel digital\n",
            "          </li>\n",
            "          <li class=\"txt-items\">\n",
            "           ► Câmbio automático\n",
            "          </li>\n",
            "          <li class=\"txt-items\">\n",
            "           ► Sensor de chuva\n",
            "          </li>\n",
            "          <li class=\"txt-items\">\n",
            "           ► Travas elétricas\n",
            "          </li>\n",
            "          <li class=\"txt-items\">\n",
            "           ...\n",
            "          </li>\n",
            "         </ul>\n",
            "         <p class=\"txt-location\">\n",
            "          Rio de Janeiro - RJ\n",
            "         </p>\n",
            "        </div>\n",
            "        <div class=\"col-md-3 value-card\">\n",
            "         <div class=\"value\">\n",
            "          <p class=\"txt-value\">\n",
            "           R$ 114.000\n",
            "          </p>\n",
            "         </div>\n",
            "        </div>\n",
            "       </div>\n",
            "       <div class=\"well card\">\n",
            "        <div class=\"col-md-3 image-card\">\n",
            "         <img alt=\"Foto\" height=\"155\" src=\"https://caelum-online-public.s3.amazonaws.com/1381-scraping/01/img-cars/mclaren/mclaren-2855240__340.jpg\" width=\"220\"/>\n",
            "        </div>\n",
            "        <div class=\"col-md-6 body-card\">\n",
            "         <p class=\"txt-name inline\">\n",
            "          MCLAREN\n",
            "         </p>\n",
            "         <p class=\"txt-category badge badge-secondary inline\">\n",
            "          NOVO\n",
            "         </p>\n",
            "         <p class=\"txt-motor\">\n",
            "          Motor Diesel\n",
            "         </p>\n",
            "         <p class=\"txt-description\">\n",
            "          Ano 2019 - 0 km\n",
            "         </p>\n",
            "         <ul class=\"lst-items\">\n",
            "          <li class=\"txt-items\">\n",
            "           ► Central multimídia\n",
            "          </li>\n",
            "          <li class=\"txt-items\">\n",
            "           ► Câmera de estacionamento\n",
            "          </li>\n",
            "          <li class=\"txt-items\">\n",
            "           ► Câmbio automático\n",
            "          </li>\n",
            "          <li class=\"txt-items\">\n",
            "           ► Ar condicionado\n",
            "          </li>\n",
            "          <li class=\"txt-items\">\n",
            "           ...\n",
            "          </li>\n",
            "         </ul>\n",
            "         <p class=\"txt-location\">\n",
            "          São Paulo - SP\n",
            "         </p>\n",
            "        </div>\n",
            "        <div class=\"col-md-3 value-card\">\n",
            "         <div class=\"value\">\n",
            "          <p class=\"txt-value\">\n",
            "           R$ 75.000\n",
            "          </p>\n",
            "         </div>\n",
            "        </div>\n",
            "       </div>\n",
            "       <div class=\"well card\">\n",
            "        <div class=\"col-md-3 image-card\">\n",
            "         <img alt=\"Foto\" height=\"155\" src=\"https://caelum-online-public.s3.amazonaws.com/1381-scraping/01/img-cars/toyota/toyota-3245397__340.jpg\" width=\"220\"/>\n",
            "        </div>\n",
            "        <div class=\"col-md-6 body-card\">\n",
            "         <p class=\"txt-name inline\">\n",
            "          TOYOTA\n",
            "         </p>\n",
            "         <p class=\"txt-category badge badge-secondary inline\">\n",
            "          USADO\n",
            "         </p>\n",
            "         <p class=\"txt-opportunity badge badge-danger inline\">\n",
            "          OPORTUNIDADE\n",
            "         </p>\n",
            "         <p class=\"txt-motor\">\n",
            "          Motor 4.0 Turbo\n",
            "         </p>\n",
            "         <p class=\"txt-description\">\n",
            "          Ano 1999 - 12.536 km\n",
            "         </p>\n",
            "         <ul class=\"lst-items\">\n",
            "          <li class=\"txt-items\">\n",
            "           ► Bancos de couro\n",
            "          </li>\n",
            "          <li class=\"txt-items\">\n",
            "           ► Freios ABS\n",
            "          </li>\n",
            "          <li class=\"txt-items\">\n",
            "           ► Piloto automático\n",
            "          </li>\n",
            "          <li class=\"txt-items\">\n",
            "           ► Controle de estabilidade\n",
            "          </li>\n",
            "          <li class=\"txt-items\">\n",
            "           ...\n",
            "          </li>\n",
            "         </ul>\n",
            "         <p class=\"txt-location\">\n",
            "          São Paulo - SP\n",
            "         </p>\n",
            "        </div>\n",
            "        <div class=\"col-md-3 value-card\">\n",
            "         <div class=\"value\">\n",
            "          <p class=\"txt-value\">\n",
            "           R$ 117.000\n",
            "          </p>\n",
            "         </div>\n",
            "        </div>\n",
            "       </div>\n",
            "      </div>\n",
            "      <div class=\"type-select\">\n",
            "       246 veículos encontrados\n",
            "      </div>\n",
            "      <div class=\"container-pagination\" style=\"float: right\">\n",
            "       <span class=\"info-pages\">\n",
            "        Página 1 de 25\n",
            "       </span>\n",
            "      </div>\n",
            "     </div>\n",
            "    </div>\n",
            "   </div>\n",
            "  </div>\n",
            " </body>\n",
            "</html>\n",
            "<footer>\n",
            " <nav class=\"navbar navbar-inverse\">\n",
            "  <div class=\"container\" style=\"margin-bottom: 10px;\">\n",
            "   <div class=\"navbar\">\n",
            "    <a class=\"navbar-brand\" href=\"./index.php\" title=\"Alura Motors\">\n",
            "     <img alt=\"Alura\" class=\"d-inline-block align-top\" src=\"img/alura-logo.svg\"/>\n",
            "     Motors\n",
            "    </a>\n",
            "    <p style=\"color: #fff; text-align: center; margin-top: 40px;\">\n",
            "     Aplicação para treinamento de web scraping\n",
            "    </p>\n",
            "   </div>\n",
            "  </div>\n",
            " </nav>\n",
            "</footer>\n"
          ]
        }
      ],
      "source": [
        "print(type(soup))\n",
        "\n",
        "print(soup.prettify())"
      ]
    },
    {
      "cell_type": "markdown",
      "metadata": {
        "id": "H51JPVifq8Wh"
      },
      "source": [
        "# 3.3. Accessing tags"
      ]
    },
    {
      "cell_type": "code",
      "execution_count": 25,
      "metadata": {
        "scrolled": true,
        "id": "w46ugwpzq8Wh",
        "outputId": "5785f864-b76d-46e6-9615-bff10c73a08c",
        "colab": {
          "base_uri": "https://localhost:8080/"
        }
      },
      "outputs": [
        {
          "output_type": "execute_result",
          "data": {
            "text/plain": [
              "<title>Alura Motors</title>"
            ]
          },
          "metadata": {},
          "execution_count": 25
        }
      ],
      "source": [
        "# Read the tile - Solution 1\n",
        "soup.html.head.title\n"
      ]
    },
    {
      "cell_type": "code",
      "execution_count": 26,
      "metadata": {
        "scrolled": true,
        "id": "nLSI5uOaq8Wi",
        "outputId": "67c6d38e-d4cf-4fe8-99a8-bc1e7bc4ce8d",
        "colab": {
          "base_uri": "https://localhost:8080/"
        }
      },
      "outputs": [
        {
          "output_type": "execute_result",
          "data": {
            "text/plain": [
              "<title>Alura Motors</title>"
            ]
          },
          "metadata": {},
          "execution_count": 26
        }
      ],
      "source": [
        "# Read the tile - Solution 2\n",
        "soup.title"
      ]
    },
    {
      "cell_type": "markdown",
      "source": [
        "In solution 1 it is possible to follow the structure of the html that was read by BeatifulSoup. In solution 2, we can directly put the name of the tag we want to read, in this case it will show the value of the first one it finds in the html structure that was read."
      ],
      "metadata": {
        "id": "LnxFp0IEXkcn"
      }
    },
    {
      "cell_type": "code",
      "execution_count": 28,
      "metadata": {
        "id": "KbOYvL_Hq8Wi",
        "outputId": "9d4539b3-064f-4f74-ae36-99d0dae576db",
        "colab": {
          "base_uri": "https://localhost:8080/"
        }
      },
      "outputs": [
        {
          "output_type": "execute_result",
          "data": {
            "text/plain": [
              "<div class=\"modal-header\"><h5 class=\"modal-title\" id=\"loadingModal_label\"><span class=\"glyphicon glyphicon-refresh\"></span>Aguarde... </h5></div>"
            ]
          },
          "metadata": {},
          "execution_count": 28
        }
      ],
      "source": [
        "#Read the div - Solutions 1\n",
        "\n",
        "soup.div.div.div.div"
      ]
    },
    {
      "cell_type": "code",
      "execution_count": 29,
      "metadata": {
        "id": "wJbzQUBVq8Wi",
        "outputId": "f31d5414-d449-45ad-9e47-436fe7687a46",
        "colab": {
          "base_uri": "https://localhost:8080/"
        }
      },
      "outputs": [
        {
          "output_type": "execute_result",
          "data": {
            "text/plain": [
              "<div aria-labelledby=\"loadingModal_label\" class=\"modal fade\" data-backdrop=\"static\" id=\"loadingModal\" role=\"dialog\" tabindex=\"-1\"><div class=\"modal-dialog\" role=\"document\"><div class=\"modal-content\"><div class=\"modal-header\"><h5 class=\"modal-title\" id=\"loadingModal_label\"><span class=\"glyphicon glyphicon-refresh\"></span>Aguarde... </h5></div><div class=\"modal-body\"><div class=\"alert\" role=\"alert\"><center><div class=\"loader\" id=\"loader\"></div><br/><h4><b id=\"loadingModal_content\"></b></h4></center></div></div></div></div></div>"
            ]
          },
          "metadata": {},
          "execution_count": 29
        }
      ],
      "source": [
        "#Read the div - Solutions 2\n",
        "soup.div"
      ]
    },
    {
      "cell_type": "markdown",
      "source": [
        "In this case, the result was different, in solution 1 we want to read the content of the fourth div, but in solution 2, when placing only Div, it brought the entire content of the first div."
      ],
      "metadata": {
        "id": "wZI2huyCaRXm"
      }
    },
    {
      "cell_type": "markdown",
      "metadata": {
        "id": "QNEfBaX8q8Wi"
      },
      "source": [
        "# 3.4. Accessing tag content"
      ]
    },
    {
      "cell_type": "code",
      "execution_count": 31,
      "metadata": {
        "id": "WrFMUbquq8Wi",
        "outputId": "9abc8071-d963-4a41-a7a7-f80400f9b9a6",
        "colab": {
          "base_uri": "https://localhost:8080/",
          "height": 35
        }
      },
      "outputs": [
        {
          "output_type": "execute_result",
          "data": {
            "text/plain": [
              "'Alura Motors'"
            ],
            "application/vnd.google.colaboratory.intrinsic+json": {
              "type": "string"
            }
          },
          "metadata": {},
          "execution_count": 31
        }
      ],
      "source": [
        "#extract text ou contenf of tag - Solution 1\n",
        "soup.html.head.title.get_text()\n"
      ]
    },
    {
      "cell_type": "code",
      "execution_count": 33,
      "metadata": {
        "id": "CB2w_O7Eq8Wi",
        "outputId": "04b02a33-f0cf-40f7-98d5-5e1c9b9d03d2",
        "colab": {
          "base_uri": "https://localhost:8080/",
          "height": 35
        }
      },
      "outputs": [
        {
          "output_type": "execute_result",
          "data": {
            "text/plain": [
              "'Alura Motors'"
            ],
            "application/vnd.google.colaboratory.intrinsic+json": {
              "type": "string"
            }
          },
          "metadata": {},
          "execution_count": 33
        }
      ],
      "source": [
        "#extract text ou contenf of tag - Solution 2\n",
        "soup.html.head.title.getText()"
      ]
    },
    {
      "cell_type": "code",
      "execution_count": 34,
      "metadata": {
        "id": "Af7anjIOq8Wj",
        "outputId": "338a4593-9fc9-42c4-c815-dff0122e2ad1",
        "colab": {
          "base_uri": "https://localhost:8080/",
          "height": 35
        }
      },
      "outputs": [
        {
          "output_type": "execute_result",
          "data": {
            "text/plain": [
              "'Aguarde... '"
            ],
            "application/vnd.google.colaboratory.intrinsic+json": {
              "type": "string"
            }
          },
          "metadata": {},
          "execution_count": 34
        }
      ],
      "source": [
        "soup.div.div.div.div.get_text()"
      ]
    },
    {
      "cell_type": "code",
      "execution_count": 40,
      "metadata": {
        "id": "-6uMJpvcq8Wj",
        "outputId": "b2ad1bda-6d56-4eda-a970-0ebca382d67d",
        "colab": {
          "base_uri": "https://localhost:8080/",
          "height": 122
        }
      },
      "outputs": [
        {
          "output_type": "execute_result",
          "data": {
            "text/plain": [
              "'Alura Motors /*Regra para a animacao*/ @keyframes spin { 0% { transform: rotate(0deg); } 100% { transform: rotate(360deg); } } /*Mudando o tamanho do icone de resposta*/ div.glyphicon { color:#6B8E23; font-size: 38px; } /*Classe que mostra a animacao \\'spin\\'*/ .loader { border: 16px solid #f3f3f3; border-radius: 50%; border-top: 16px solid #3498db; width: 80px; height: 80px; -webkit-animation: spin 2s linear infinite; animation: spin 2s linear infinite; }  requisitar(\"https://alura-scraping.herokuapp.com/produtos?_page=\"+1+\"&_limit=10\") You need to enable JavaScript to run this app.Aguarde... Motors Hello WorldAnúnciosVeículos de Luxo Novos e Usados - Todas as Marcas246 veículos encontradosPágina 1 de 25LAMBORGHINI AVENTADORUSADOMotor 1.8 16vAno 1993 - 55.286 km► 4 X 4► Câmera de estacionamento► Controle de tração► Sensor de estacionamento...Belo Horizonte - MGR$ 338.000BMW M2USADOMotor 3.0 32vAno 2018 - 83.447 km► Câmera de estacionamento► Controle de estabilidade► Travas elétricas► Freios ABS...Belo Horizonte - MGR$ 346.000ALFAUSADOMotor 1.8 16vAno 2004 - 19.722 km► Central multimídia► Bancos de couro► Rodas de liga► Câmera de estacionamento...Rio de Janeiro - RJR$ 480.000PUECHUSADOMotor Diesel V8Ano 1992 - 34.335 km► Bancos de couro► Freios ABS► Rodas de liga► Câmbio automático...São Paulo - SPR$ 133.000LAMBORGHINI MURCIELAGOUSADOMotor 1.0 8vAno 1991 - 464 km► Central multimídia► Teto panorâmico► Sensor crepuscular► Piloto automático...Belo Horizonte - MGR$ 175.000ASTON MARTINUSADOOPORTUNIDADEMotor Diesel V6Ano 2004 - 50.189 km► Painel digital► Controle de tração► Teto panorâmico► Central multimídia...Belo Horizonte - MGR$ 239.000TVRUSADOMotor 4.0 TurboAno 2014 - 17.778 km► 4 X 4► Teto panorâmico► Central multimídia► Controle de estabilidade...Belo Horizonte - MGR$ 115.000EXCALIBURUSADOMotor 3.0 32vAno 2009 - 81.251 km► Painel digital► Câmbio automático► Sensor de chuva► Travas elétricas...Rio de Janeiro - RJR$ 114.000MCLARENNOVOMotor DieselAno 2019 - 0 km► Central multimídia► Câmera de estacionamento► Câmbio automático► Ar condicionado...São Paulo - SPR$ 75.000TOYOTAUSADOOPORTUNIDADEMotor 4.0 TurboAno 1999 - 12.536 km► Bancos de couro► Freios ABS► Piloto automático► Controle de estabilidade...São Paulo - SPR$ 117.000246 veículos encontradosPágina 1 de 25Motors Aplicação para treinamento de web scraping'"
            ],
            "application/vnd.google.colaboratory.intrinsic+json": {
              "type": "string"
            }
          },
          "metadata": {},
          "execution_count": 40
        }
      ],
      "source": [
        "#get all text\n",
        "soup.get_text()"
      ]
    },
    {
      "cell_type": "code",
      "execution_count": 41,
      "metadata": {
        "id": "uLR70RO4q8Wj",
        "outputId": "58c3bd63-4288-472a-ad33-0c6db7be1711",
        "colab": {
          "base_uri": "https://localhost:8080/",
          "height": 122
        }
      },
      "outputs": [
        {
          "output_type": "execute_result",
          "data": {
            "text/plain": [
              "'Alura Motors|| /*Regra para a animacao*/ @keyframes spin { 0% { transform: rotate(0deg); } 100% { transform: rotate(360deg); } } /*Mudando o tamanho do icone de resposta*/ div.glyphicon { color:#6B8E23; font-size: 38px; } /*Classe que mostra a animacao \\'spin\\'*/ .loader { border: 16px solid #f3f3f3; border-radius: 50%; border-top: 16px solid #3498db; width: 80px; height: 80px; -webkit-animation: spin 2s linear infinite; animation: spin 2s linear infinite; } || requisitar(\"https://alura-scraping.herokuapp.com/produtos?_page=\"+1+\"&_limit=10\") ||You need to enable JavaScript to run this app.||Aguarde... ||Motors ||Hello World||Anúncios||Veículos de Luxo Novos e Usados - Todas as Marcas||246 veículos encontrados||Página 1 de 25||LAMBORGHINI AVENTADOR||USADO||Motor 1.8 16v||Ano 1993 - 55.286 km||► 4 X 4||► Câmera de estacionamento||► Controle de tração||► Sensor de estacionamento||...||Belo Horizonte - MG||R$ 338.000||BMW M2||USADO||Motor 3.0 32v||Ano 2018 - 83.447 km||► Câmera de estacionamento||► Controle de estabilidade||► Travas elétricas||► Freios ABS||...||Belo Horizonte - MG||R$ 346.000||ALFA||USADO||Motor 1.8 16v||Ano 2004 - 19.722 km||► Central multimídia||► Bancos de couro||► Rodas de liga||► Câmera de estacionamento||...||Rio de Janeiro - RJ||R$ 480.000||PUECH||USADO||Motor Diesel V8||Ano 1992 - 34.335 km||► Bancos de couro||► Freios ABS||► Rodas de liga||► Câmbio automático||...||São Paulo - SP||R$ 133.000||LAMBORGHINI MURCIELAGO||USADO||Motor 1.0 8v||Ano 1991 - 464 km||► Central multimídia||► Teto panorâmico||► Sensor crepuscular||► Piloto automático||...||Belo Horizonte - MG||R$ 175.000||ASTON MARTIN||USADO||OPORTUNIDADE||Motor Diesel V6||Ano 2004 - 50.189 km||► Painel digital||► Controle de tração||► Teto panorâmico||► Central multimídia||...||Belo Horizonte - MG||R$ 239.000||TVR||USADO||Motor 4.0 Turbo||Ano 2014 - 17.778 km||► 4 X 4||► Teto panorâmico||► Central multimídia||► Controle de estabilidade||...||Belo Horizonte - MG||R$ 115.000||EXCALIBUR||USADO||Motor 3.0 32v||Ano 2009 - 81.251 km||► Painel digital||► Câmbio automático||► Sensor de chuva||► Travas elétricas||...||Rio de Janeiro - RJ||R$ 114.000||MCLAREN||NOVO||Motor Diesel||Ano 2019 - 0 km||► Central multimídia||► Câmera de estacionamento||► Câmbio automático||► Ar condicionado||...||São Paulo - SP||R$ 75.000||TOYOTA||USADO||OPORTUNIDADE||Motor 4.0 Turbo||Ano 1999 - 12.536 km||► Bancos de couro||► Freios ABS||► Piloto automático||► Controle de estabilidade||...||São Paulo - SP||R$ 117.000||246 veículos encontrados||Página 1 de 25||Motors ||Aplicação para treinamento de web scraping'"
            ],
            "application/vnd.google.colaboratory.intrinsic+json": {
              "type": "string"
            }
          },
          "metadata": {},
          "execution_count": 41
        }
      ],
      "source": [
        "#get all text with a separator\n",
        "soup.get_text(separator = '||')"
      ]
    },
    {
      "cell_type": "markdown",
      "metadata": {
        "id": "HR1CLHalq8Wj"
      },
      "source": [
        "# 3.5. Accessing the attributes of a tag"
      ]
    },
    {
      "cell_type": "code",
      "execution_count": 42,
      "metadata": {
        "id": "0QTZP2I8q8Wj",
        "outputId": "f72f4822-b785-4cee-e39d-3d62f7007311",
        "colab": {
          "base_uri": "https://localhost:8080/"
        }
      },
      "outputs": [
        {
          "output_type": "execute_result",
          "data": {
            "text/plain": [
              "<img alt=\"Alura\" class=\"d-inline-block align-top\" src=\"img/alura-logo.svg\"/>"
            ]
          },
          "metadata": {},
          "execution_count": 42
        }
      ],
      "source": [
        "soup.img\n"
      ]
    },
    {
      "cell_type": "code",
      "execution_count": 43,
      "metadata": {
        "id": "yMYKiO-yq8Wj",
        "outputId": "0c47f2cf-254d-4f6f-dcdd-3709a53f3220",
        "colab": {
          "base_uri": "https://localhost:8080/"
        }
      },
      "outputs": [
        {
          "output_type": "execute_result",
          "data": {
            "text/plain": [
              "{'alt': 'Alura',\n",
              " 'class': ['d-inline-block', 'align-top'],\n",
              " 'src': 'img/alura-logo.svg'}"
            ]
          },
          "metadata": {},
          "execution_count": 43
        }
      ],
      "source": [
        "#um dict of all attributes of a tag {name_attr: value_of_attr, ...}\n",
        "soup.img.attrs"
      ]
    },
    {
      "cell_type": "markdown",
      "source": [
        "When an attribute has more one value, the beatifulsoup return a list of values for this attributes, example the attribute class has two values, one list of values of this attribute."
      ],
      "metadata": {
        "id": "0XHrdYJHnolV"
      }
    },
    {
      "cell_type": "code",
      "execution_count": 44,
      "metadata": {
        "id": "4_Ft6eZHq8Wk",
        "outputId": "cdc5099c-0182-4c26-a144-69a170aba667",
        "colab": {
          "base_uri": "https://localhost:8080/"
        }
      },
      "outputs": [
        {
          "output_type": "execute_result",
          "data": {
            "text/plain": [
              "dict_keys(['src', 'class', 'alt'])"
            ]
          },
          "metadata": {},
          "execution_count": 44
        }
      ],
      "source": [
        "#is possible work this attributes like a dict\n",
        "soup.img.attrs.keys()"
      ]
    },
    {
      "cell_type": "code",
      "execution_count": 45,
      "metadata": {
        "id": "ymnJdNfbq8Wk",
        "outputId": "eaf47284-6074-4e1a-e8ac-cb8bf0754f5e",
        "colab": {
          "base_uri": "https://localhost:8080/"
        }
      },
      "outputs": [
        {
          "output_type": "execute_result",
          "data": {
            "text/plain": [
              "dict_values(['img/alura-logo.svg', ['d-inline-block', 'align-top'], 'Alura'])"
            ]
          },
          "metadata": {},
          "execution_count": 45
        }
      ],
      "source": [
        "soup.img.attrs.values()"
      ]
    },
    {
      "cell_type": "code",
      "execution_count": 51,
      "metadata": {
        "id": "USo3KEJ4q8Wk",
        "outputId": "217fe513-e1eb-4f72-da0a-5cec3a109dc0",
        "colab": {
          "base_uri": "https://localhost:8080/"
        }
      },
      "outputs": [
        {
          "output_type": "execute_result",
          "data": {
            "text/plain": [
              "['d-inline-block', 'align-top']"
            ]
          },
          "metadata": {},
          "execution_count": 51
        }
      ],
      "source": [
        "#read one element of dict\n",
        "soup.img['class']"
      ]
    },
    {
      "cell_type": "code",
      "execution_count": 49,
      "metadata": {
        "id": "4AT2kVT_q8Wk",
        "outputId": "ec12bd91-e2b3-4947-8a75-9e4cc5d24683",
        "colab": {
          "base_uri": "https://localhost:8080/",
          "height": 35
        }
      },
      "outputs": [
        {
          "output_type": "execute_result",
          "data": {
            "text/plain": [
              "'img/alura-logo.svg'"
            ],
            "application/vnd.google.colaboratory.intrinsic+json": {
              "type": "string"
            }
          },
          "metadata": {},
          "execution_count": 49
        }
      ],
      "source": [
        "#get of value of the element of dict\n",
        "soup.img.get('src')"
      ]
    },
    {
      "cell_type": "markdown",
      "metadata": {
        "id": "8-9COaBFq8Wk"
      },
      "source": [
        "---\n",
        "# <font color=green>4. SEARCHING WITH BEAUTIFULSOUP"
      ]
    },
    {
      "cell_type": "markdown",
      "metadata": {
        "id": "8VO650tJq8Wk"
      },
      "source": [
        "# 4.1. The *find()* and *findAll()* methods"
      ]
    },
    {
      "cell_type": "markdown",
      "metadata": {
        "id": "-nbNfbN8q8Wl"
      },
      "source": [
        "- ### *find(tag, attributes, recursive, text, **kwargs)*\n",
        "\n",
        "- ### *findAll(tag, attributes, recursive, text, limit, **kwargs)*\n",
        "\n",
        "#### https://www.crummy.com/software/BeautifulSoup/bs4/doc/#find\n",
        "#### https://www.crummy.com/software/BeautifulSoup/bs4/doc/#find-all\n",
        "\n",
        "> **Note:**\n",
        "> - *findAll()* can also be used as *find_all()*"
      ]
    },
    {
      "cell_type": "markdown",
      "metadata": {
        "id": "yx30cNh1q8Wl"
      },
      "source": [
        "### *find()* method\n",
        "\n",
        "Return the first tag founded"
      ]
    },
    {
      "cell_type": "code",
      "execution_count": 53,
      "metadata": {
        "id": "6mPwHZYHq8Wl",
        "outputId": "cde2a27d-74ea-496f-890e-b78cf540bd0c",
        "colab": {
          "base_uri": "https://localhost:8080/"
        }
      },
      "outputs": [
        {
          "output_type": "execute_result",
          "data": {
            "text/plain": [
              "<img alt=\"Alura\" class=\"d-inline-block align-top\" src=\"img/alura-logo.svg\"/>"
            ]
          },
          "metadata": {},
          "execution_count": 53
        }
      ],
      "source": [
        "soup.find('img')"
      ]
    },
    {
      "cell_type": "code",
      "execution_count": 54,
      "metadata": {
        "id": "CTAcAiMBq8Wl",
        "outputId": "9d9b7ae6-42ed-4b1f-c510-a6c50b251a15",
        "colab": {
          "base_uri": "https://localhost:8080/"
        }
      },
      "outputs": [
        {
          "output_type": "execute_result",
          "data": {
            "text/plain": [
              "<img alt=\"Alura\" class=\"d-inline-block align-top\" src=\"img/alura-logo.svg\"/>"
            ]
          },
          "metadata": {},
          "execution_count": 54
        }
      ],
      "source": [
        "# is the same\n",
        "soup.img\n"
      ]
    },
    {
      "cell_type": "markdown",
      "metadata": {
        "id": "TftT849uq8Wl"
      },
      "source": [
        "### *findAll()* method\n",
        "Returns a list of found tags\n"
      ]
    },
    {
      "cell_type": "code",
      "execution_count": 55,
      "metadata": {
        "id": "1ludq_V7q8Wm",
        "outputId": "54fbf7eb-d0b6-48cc-d107-d86a7387cb96",
        "colab": {
          "base_uri": "https://localhost:8080/"
        }
      },
      "outputs": [
        {
          "output_type": "execute_result",
          "data": {
            "text/plain": [
              "[<img alt=\"Alura\" class=\"d-inline-block align-top\" src=\"img/alura-logo.svg\"/>,\n",
              " <img alt=\"Foto\" height=\"155\" src=\"https://caelum-online-public.s3.amazonaws.com/1381-scraping/01/img-cars/lamborghini-aventador/lamborghini-aventador-2932196__340.jpg\" width=\"220\"/>,\n",
              " <img alt=\"Foto\" height=\"155\" src=\"https://caelum-online-public.s3.amazonaws.com/1381-scraping/01/img-cars/bmw-m2/bmw-m2-2970882__340.jpg\" width=\"220\"/>,\n",
              " <img alt=\"Foto\" height=\"155\" src=\"https://caelum-online-public.s3.amazonaws.com/1381-scraping/01/img-cars/alfa/alfa-1823056__340.jpg\" width=\"220\"/>,\n",
              " <img alt=\"Foto\" height=\"155\" src=\"https://caelum-online-public.s3.amazonaws.com/1381-scraping/01/img-cars/puech/puech-4055386__340.jpg\" width=\"220\"/>,\n",
              " <img alt=\"Foto\" height=\"155\" src=\"https://caelum-online-public.s3.amazonaws.com/1381-scraping/01/img-cars/lamborghini-murcielago/lamborghini-murcielago-2872974__340.jpg\" width=\"220\"/>,\n",
              " <img alt=\"Foto\" height=\"155\" src=\"https://caelum-online-public.s3.amazonaws.com/1381-scraping/01/img-cars/aston-martin/aston-martin-2977916__340.jpg\" width=\"220\"/>,\n",
              " <img alt=\"Foto\" height=\"155\" src=\"https://caelum-online-public.s3.amazonaws.com/1381-scraping/01/img-cars/tvr/tvr-2943925__340.jpg\" width=\"220\"/>,\n",
              " <img alt=\"Foto\" height=\"155\" src=\"https://caelum-online-public.s3.amazonaws.com/1381-scraping/01/img-cars/excalibur/excalibur-2916730__340.jpg\" width=\"220\"/>,\n",
              " <img alt=\"Foto\" height=\"155\" src=\"https://caelum-online-public.s3.amazonaws.com/1381-scraping/01/img-cars/mclaren/mclaren-2855240__340.jpg\" width=\"220\"/>,\n",
              " <img alt=\"Foto\" height=\"155\" src=\"https://caelum-online-public.s3.amazonaws.com/1381-scraping/01/img-cars/toyota/toyota-3245397__340.jpg\" width=\"220\"/>,\n",
              " <img alt=\"Alura\" class=\"d-inline-block align-top\" src=\"img/alura-logo.svg\"/>]"
            ]
          },
          "metadata": {},
          "execution_count": 55
        }
      ],
      "source": [
        "soup.findAll('img')"
      ]
    },
    {
      "cell_type": "markdown",
      "metadata": {
        "id": "8Ulz0VVdq8Wm"
      },
      "source": [
        "### Command equivalent to the *find()* method"
      ]
    },
    {
      "cell_type": "code",
      "execution_count": 57,
      "metadata": {
        "id": "yR8UoBMJq8Wm",
        "outputId": "3b94f162-9ae6-4bf9-f517-bc6628ce3007",
        "colab": {
          "base_uri": "https://localhost:8080/"
        }
      },
      "outputs": [
        {
          "output_type": "execute_result",
          "data": {
            "text/plain": [
              "<img alt=\"Alura\" class=\"d-inline-block align-top\" src=\"img/alura-logo.svg\"/>"
            ]
          },
          "metadata": {},
          "execution_count": 57
        }
      ],
      "source": [
        "soup.findAll('img', limit =1)[0]"
      ]
    },
    {
      "cell_type": "markdown",
      "metadata": {
        "id": "I2LOJRCoq8Wm"
      },
      "source": [
        "### Shortcut to *findAll()* method"
      ]
    },
    {
      "cell_type": "code",
      "execution_count": 56,
      "metadata": {
        "id": "QiUiQ3U3q8Wm",
        "outputId": "d09a0b88-b24a-4023-a060-61d176b6f043",
        "colab": {
          "base_uri": "https://localhost:8080/"
        }
      },
      "outputs": [
        {
          "output_type": "execute_result",
          "data": {
            "text/plain": [
              "[<img alt=\"Alura\" class=\"d-inline-block align-top\" src=\"img/alura-logo.svg\"/>,\n",
              " <img alt=\"Foto\" height=\"155\" src=\"https://caelum-online-public.s3.amazonaws.com/1381-scraping/01/img-cars/lamborghini-aventador/lamborghini-aventador-2932196__340.jpg\" width=\"220\"/>,\n",
              " <img alt=\"Foto\" height=\"155\" src=\"https://caelum-online-public.s3.amazonaws.com/1381-scraping/01/img-cars/bmw-m2/bmw-m2-2970882__340.jpg\" width=\"220\"/>,\n",
              " <img alt=\"Foto\" height=\"155\" src=\"https://caelum-online-public.s3.amazonaws.com/1381-scraping/01/img-cars/alfa/alfa-1823056__340.jpg\" width=\"220\"/>,\n",
              " <img alt=\"Foto\" height=\"155\" src=\"https://caelum-online-public.s3.amazonaws.com/1381-scraping/01/img-cars/puech/puech-4055386__340.jpg\" width=\"220\"/>,\n",
              " <img alt=\"Foto\" height=\"155\" src=\"https://caelum-online-public.s3.amazonaws.com/1381-scraping/01/img-cars/lamborghini-murcielago/lamborghini-murcielago-2872974__340.jpg\" width=\"220\"/>,\n",
              " <img alt=\"Foto\" height=\"155\" src=\"https://caelum-online-public.s3.amazonaws.com/1381-scraping/01/img-cars/aston-martin/aston-martin-2977916__340.jpg\" width=\"220\"/>,\n",
              " <img alt=\"Foto\" height=\"155\" src=\"https://caelum-online-public.s3.amazonaws.com/1381-scraping/01/img-cars/tvr/tvr-2943925__340.jpg\" width=\"220\"/>,\n",
              " <img alt=\"Foto\" height=\"155\" src=\"https://caelum-online-public.s3.amazonaws.com/1381-scraping/01/img-cars/excalibur/excalibur-2916730__340.jpg\" width=\"220\"/>,\n",
              " <img alt=\"Foto\" height=\"155\" src=\"https://caelum-online-public.s3.amazonaws.com/1381-scraping/01/img-cars/mclaren/mclaren-2855240__340.jpg\" width=\"220\"/>,\n",
              " <img alt=\"Foto\" height=\"155\" src=\"https://caelum-online-public.s3.amazonaws.com/1381-scraping/01/img-cars/toyota/toyota-3245397__340.jpg\" width=\"220\"/>,\n",
              " <img alt=\"Alura\" class=\"d-inline-block align-top\" src=\"img/alura-logo.svg\"/>]"
            ]
          },
          "metadata": {},
          "execution_count": 56
        }
      ],
      "source": [
        "soup('img')"
      ]
    },
    {
      "cell_type": "markdown",
      "metadata": {
        "id": "7sbJoDS7q8Wm"
      },
      "source": [
        "### Passing tag lists"
      ]
    },
    {
      "cell_type": "code",
      "execution_count": 58,
      "metadata": {
        "id": "RwWtQtoQq8Wm",
        "outputId": "b2b76d28-2f4f-4b1d-d730-a7bf7bae4476",
        "colab": {
          "base_uri": "https://localhost:8080/"
        }
      },
      "outputs": [
        {
          "output_type": "execute_result",
          "data": {
            "text/plain": [
              "[<h5 class=\"modal-title\" id=\"loadingModal_label\"><span class=\"glyphicon glyphicon-refresh\"></span>Aguarde... </h5>,\n",
              " <h4><b id=\"loadingModal_content\"></b></h4>,\n",
              " <h1 class=\"sub-header\">Veículos de Luxo Novos e Usados - Todas as Marcas</h1>]"
            ]
          },
          "metadata": {},
          "execution_count": 58
        }
      ],
      "source": [
        "soup.findAll(['h1', 'h2', 'h3', 'h4', 'h5', 'h6'])"
      ]
    },
    {
      "cell_type": "markdown",
      "metadata": {
        "id": "T-6k9hfbq8Wm"
      },
      "source": [
        "### Using the *attributes* argument"
      ]
    },
    {
      "cell_type": "code",
      "execution_count": 59,
      "metadata": {
        "scrolled": true,
        "id": "hOb21xrdq8Wn",
        "outputId": "c9cec54d-d242-43ed-affc-b9a60b24076a",
        "colab": {
          "base_uri": "https://localhost:8080/"
        }
      },
      "outputs": [
        {
          "output_type": "execute_result",
          "data": {
            "text/plain": [
              "[<p class=\"txt-name inline\">LAMBORGHINI AVENTADOR</p>,\n",
              " <p class=\"txt-category badge badge-secondary inline\">USADO</p>,\n",
              " <p class=\"txt-motor\">Motor 1.8 16v</p>,\n",
              " <p class=\"txt-description\">Ano 1993 - 55.286 km</p>,\n",
              " <p class=\"txt-location\">Belo Horizonte - MG</p>,\n",
              " <p class=\"txt-value\">R$ 338.000</p>,\n",
              " <p class=\"txt-name inline\">BMW M2</p>,\n",
              " <p class=\"txt-category badge badge-secondary inline\">USADO</p>,\n",
              " <p class=\"txt-motor\">Motor 3.0 32v</p>,\n",
              " <p class=\"txt-description\">Ano 2018 - 83.447 km</p>,\n",
              " <p class=\"txt-location\">Belo Horizonte - MG</p>,\n",
              " <p class=\"txt-value\">R$ 346.000</p>,\n",
              " <p class=\"txt-name inline\">ALFA</p>,\n",
              " <p class=\"txt-category badge badge-secondary inline\">USADO</p>,\n",
              " <p class=\"txt-motor\">Motor 1.8 16v</p>,\n",
              " <p class=\"txt-description\">Ano 2004 - 19.722 km</p>,\n",
              " <p class=\"txt-location\">Rio de Janeiro - RJ</p>,\n",
              " <p class=\"txt-value\">R$ 480.000</p>,\n",
              " <p class=\"txt-name inline\">PUECH</p>,\n",
              " <p class=\"txt-category badge badge-secondary inline\">USADO</p>,\n",
              " <p class=\"txt-motor\">Motor Diesel V8</p>,\n",
              " <p class=\"txt-description\">Ano 1992 - 34.335 km</p>,\n",
              " <p class=\"txt-location\">São Paulo - SP</p>,\n",
              " <p class=\"txt-value\">R$ 133.000</p>,\n",
              " <p class=\"txt-name inline\">LAMBORGHINI MURCIELAGO</p>,\n",
              " <p class=\"txt-category badge badge-secondary inline\">USADO</p>,\n",
              " <p class=\"txt-motor\">Motor 1.0 8v</p>,\n",
              " <p class=\"txt-description\">Ano 1991 - 464 km</p>,\n",
              " <p class=\"txt-location\">Belo Horizonte - MG</p>,\n",
              " <p class=\"txt-value\">R$ 175.000</p>,\n",
              " <p class=\"txt-name inline\">ASTON MARTIN</p>,\n",
              " <p class=\"txt-category badge badge-secondary inline\">USADO</p>,\n",
              " <p class=\"txt-opportunity badge badge-danger inline\">OPORTUNIDADE</p>,\n",
              " <p class=\"txt-motor\">Motor Diesel V6</p>,\n",
              " <p class=\"txt-description\">Ano 2004 - 50.189 km</p>,\n",
              " <p class=\"txt-location\">Belo Horizonte - MG</p>,\n",
              " <p class=\"txt-value\">R$ 239.000</p>,\n",
              " <p class=\"txt-name inline\">TVR</p>,\n",
              " <p class=\"txt-category badge badge-secondary inline\">USADO</p>,\n",
              " <p class=\"txt-motor\">Motor 4.0 Turbo</p>,\n",
              " <p class=\"txt-description\">Ano 2014 - 17.778 km</p>,\n",
              " <p class=\"txt-location\">Belo Horizonte - MG</p>,\n",
              " <p class=\"txt-value\">R$ 115.000</p>,\n",
              " <p class=\"txt-name inline\">EXCALIBUR</p>,\n",
              " <p class=\"txt-category badge badge-secondary inline\">USADO</p>,\n",
              " <p class=\"txt-motor\">Motor 3.0 32v</p>,\n",
              " <p class=\"txt-description\">Ano 2009 - 81.251 km</p>,\n",
              " <p class=\"txt-location\">Rio de Janeiro - RJ</p>,\n",
              " <p class=\"txt-value\">R$ 114.000</p>,\n",
              " <p class=\"txt-name inline\">MCLAREN</p>,\n",
              " <p class=\"txt-category badge badge-secondary inline\">NOVO</p>,\n",
              " <p class=\"txt-motor\">Motor Diesel</p>,\n",
              " <p class=\"txt-description\">Ano 2019 - 0 km</p>,\n",
              " <p class=\"txt-location\">São Paulo - SP</p>,\n",
              " <p class=\"txt-value\">R$ 75.000</p>,\n",
              " <p class=\"txt-name inline\">TOYOTA</p>,\n",
              " <p class=\"txt-category badge badge-secondary inline\">USADO</p>,\n",
              " <p class=\"txt-opportunity badge badge-danger inline\">OPORTUNIDADE</p>,\n",
              " <p class=\"txt-motor\">Motor 4.0 Turbo</p>,\n",
              " <p class=\"txt-description\">Ano 1999 - 12.536 km</p>,\n",
              " <p class=\"txt-location\">São Paulo - SP</p>,\n",
              " <p class=\"txt-value\">R$ 117.000</p>,\n",
              " <p style=\"color: #fff; text-align: center; margin-top: 40px;\">Aplicação para treinamento de web scraping</p>]"
            ]
          },
          "metadata": {},
          "execution_count": 59
        }
      ],
      "source": [
        "soup.findAll('p')"
      ]
    },
    {
      "cell_type": "markdown",
      "metadata": {
        "id": "bBreuSInq8Wn"
      },
      "source": [
        "### Searching for the content of a TAG"
      ]
    },
    {
      "cell_type": "code",
      "execution_count": 60,
      "metadata": {
        "id": "7u-iRZTfq8Wn",
        "outputId": "e5e9a947-5df8-4f1b-981f-7974195764d3",
        "colab": {
          "base_uri": "https://localhost:8080/"
        }
      },
      "outputs": [
        {
          "output_type": "execute_result",
          "data": {
            "text/plain": [
              "[<p class=\"txt-value\">R$ 338.000</p>,\n",
              " <p class=\"txt-value\">R$ 346.000</p>,\n",
              " <p class=\"txt-value\">R$ 480.000</p>,\n",
              " <p class=\"txt-value\">R$ 133.000</p>,\n",
              " <p class=\"txt-value\">R$ 175.000</p>,\n",
              " <p class=\"txt-value\">R$ 239.000</p>,\n",
              " <p class=\"txt-value\">R$ 115.000</p>,\n",
              " <p class=\"txt-value\">R$ 114.000</p>,\n",
              " <p class=\"txt-value\">R$ 75.000</p>,\n",
              " <p class=\"txt-value\">R$ 117.000</p>]"
            ]
          },
          "metadata": {},
          "execution_count": 60
        }
      ],
      "source": [
        "soup.findAll('p', {\"class\": \"txt-value\"})"
      ]
    },
    {
      "cell_type": "code",
      "source": [
        "soup.findAll('p', text = \"Belo Horizonte - MG\")"
      ],
      "metadata": {
        "id": "hH1F804fuzeE",
        "outputId": "e1e87e99-ba8d-479e-ae4f-ce4a631ea1da",
        "colab": {
          "base_uri": "https://localhost:8080/"
        }
      },
      "execution_count": 63,
      "outputs": [
        {
          "output_type": "execute_result",
          "data": {
            "text/plain": [
              "[<p class=\"txt-location\">Belo Horizonte - MG</p>,\n",
              " <p class=\"txt-location\">Belo Horizonte - MG</p>,\n",
              " <p class=\"txt-location\">Belo Horizonte - MG</p>,\n",
              " <p class=\"txt-location\">Belo Horizonte - MG</p>,\n",
              " <p class=\"txt-location\">Belo Horizonte - MG</p>]"
            ]
          },
          "metadata": {},
          "execution_count": 63
        }
      ]
    },
    {
      "cell_type": "markdown",
      "metadata": {
        "id": "GNIwqYzcq8Wn"
      },
      "source": [
        "### Using attributes directly"
      ]
    },
    {
      "cell_type": "code",
      "execution_count": 64,
      "metadata": {
        "id": "FbkzIBvqq8Wn",
        "outputId": "93c99417-0e73-4719-a9bd-228066f70916",
        "colab": {
          "base_uri": "https://localhost:8080/"
        }
      },
      "outputs": [
        {
          "output_type": "execute_result",
          "data": {
            "text/plain": [
              "[<img alt=\"Foto\" height=\"155\" src=\"https://caelum-online-public.s3.amazonaws.com/1381-scraping/01/img-cars/lamborghini-aventador/lamborghini-aventador-2932196__340.jpg\" width=\"220\"/>,\n",
              " <img alt=\"Foto\" height=\"155\" src=\"https://caelum-online-public.s3.amazonaws.com/1381-scraping/01/img-cars/bmw-m2/bmw-m2-2970882__340.jpg\" width=\"220\"/>,\n",
              " <img alt=\"Foto\" height=\"155\" src=\"https://caelum-online-public.s3.amazonaws.com/1381-scraping/01/img-cars/alfa/alfa-1823056__340.jpg\" width=\"220\"/>,\n",
              " <img alt=\"Foto\" height=\"155\" src=\"https://caelum-online-public.s3.amazonaws.com/1381-scraping/01/img-cars/puech/puech-4055386__340.jpg\" width=\"220\"/>,\n",
              " <img alt=\"Foto\" height=\"155\" src=\"https://caelum-online-public.s3.amazonaws.com/1381-scraping/01/img-cars/lamborghini-murcielago/lamborghini-murcielago-2872974__340.jpg\" width=\"220\"/>,\n",
              " <img alt=\"Foto\" height=\"155\" src=\"https://caelum-online-public.s3.amazonaws.com/1381-scraping/01/img-cars/aston-martin/aston-martin-2977916__340.jpg\" width=\"220\"/>,\n",
              " <img alt=\"Foto\" height=\"155\" src=\"https://caelum-online-public.s3.amazonaws.com/1381-scraping/01/img-cars/tvr/tvr-2943925__340.jpg\" width=\"220\"/>,\n",
              " <img alt=\"Foto\" height=\"155\" src=\"https://caelum-online-public.s3.amazonaws.com/1381-scraping/01/img-cars/excalibur/excalibur-2916730__340.jpg\" width=\"220\"/>,\n",
              " <img alt=\"Foto\" height=\"155\" src=\"https://caelum-online-public.s3.amazonaws.com/1381-scraping/01/img-cars/mclaren/mclaren-2855240__340.jpg\" width=\"220\"/>,\n",
              " <img alt=\"Foto\" height=\"155\" src=\"https://caelum-online-public.s3.amazonaws.com/1381-scraping/01/img-cars/toyota/toyota-3245397__340.jpg\" width=\"220\"/>]"
            ]
          },
          "metadata": {},
          "execution_count": 64
        }
      ],
      "source": [
        "soup.findAll('img', alt='Foto')"
      ]
    },
    {
      "cell_type": "code",
      "execution_count": 65,
      "metadata": {
        "id": "ZSsRm2Snq8Wn",
        "outputId": "865f6a27-5875-4054-9054-d7f353f405fb",
        "colab": {
          "base_uri": "https://localhost:8080/"
        }
      },
      "outputs": [
        {
          "output_type": "stream",
          "name": "stdout",
          "text": [
            "https://caelum-online-public.s3.amazonaws.com/1381-scraping/01/img-cars/lamborghini-aventador/lamborghini-aventador-2932196__340.jpg\n",
            "https://caelum-online-public.s3.amazonaws.com/1381-scraping/01/img-cars/bmw-m2/bmw-m2-2970882__340.jpg\n",
            "https://caelum-online-public.s3.amazonaws.com/1381-scraping/01/img-cars/alfa/alfa-1823056__340.jpg\n",
            "https://caelum-online-public.s3.amazonaws.com/1381-scraping/01/img-cars/puech/puech-4055386__340.jpg\n",
            "https://caelum-online-public.s3.amazonaws.com/1381-scraping/01/img-cars/lamborghini-murcielago/lamborghini-murcielago-2872974__340.jpg\n",
            "https://caelum-online-public.s3.amazonaws.com/1381-scraping/01/img-cars/aston-martin/aston-martin-2977916__340.jpg\n",
            "https://caelum-online-public.s3.amazonaws.com/1381-scraping/01/img-cars/tvr/tvr-2943925__340.jpg\n",
            "https://caelum-online-public.s3.amazonaws.com/1381-scraping/01/img-cars/excalibur/excalibur-2916730__340.jpg\n",
            "https://caelum-online-public.s3.amazonaws.com/1381-scraping/01/img-cars/mclaren/mclaren-2855240__340.jpg\n",
            "https://caelum-online-public.s3.amazonaws.com/1381-scraping/01/img-cars/toyota/toyota-3245397__340.jpg\n"
          ]
        }
      ],
      "source": [
        "for item in soup.findAll('img', alt='Foto'):\n",
        "  print(item['src'])"
      ]
    },
    {
      "cell_type": "markdown",
      "metadata": {
        "id": "1Cec1HiAq8Wn"
      },
      "source": [
        "### Beware of the \"class\" attribute"
      ]
    },
    {
      "cell_type": "code",
      "execution_count": 67,
      "metadata": {
        "id": "-zHMy2u7q8Wn",
        "outputId": "c5f6bbd6-2c58-4278-b067-17a9df394a58",
        "colab": {
          "base_uri": "https://localhost:8080/"
        }
      },
      "outputs": [
        {
          "output_type": "execute_result",
          "data": {
            "text/plain": [
              "[<p class=\"txt-value\">R$ 338.000</p>,\n",
              " <p class=\"txt-value\">R$ 346.000</p>,\n",
              " <p class=\"txt-value\">R$ 480.000</p>,\n",
              " <p class=\"txt-value\">R$ 133.000</p>,\n",
              " <p class=\"txt-value\">R$ 175.000</p>,\n",
              " <p class=\"txt-value\">R$ 239.000</p>,\n",
              " <p class=\"txt-value\">R$ 115.000</p>,\n",
              " <p class=\"txt-value\">R$ 114.000</p>,\n",
              " <p class=\"txt-value\">R$ 75.000</p>,\n",
              " <p class=\"txt-value\">R$ 117.000</p>]"
            ]
          },
          "metadata": {},
          "execution_count": 67
        }
      ],
      "source": [
        "soup.findAll('p', class_= \"txt-value\")"
      ]
    },
    {
      "cell_type": "markdown",
      "metadata": {
        "id": "NwY3BuWrq8Wo"
      },
      "source": [
        "### Getting all the text content of a page"
      ]
    },
    {
      "cell_type": "code",
      "execution_count": 69,
      "metadata": {
        "id": "eHvQ77f-q8Wo",
        "outputId": "2ce00813-b919-4c5b-adc7-0e7b66debb66",
        "colab": {
          "base_uri": "https://localhost:8080/"
        }
      },
      "outputs": [
        {
          "output_type": "execute_result",
          "data": {
            "text/plain": [
              "['html',\n",
              " 'Alura Motors',\n",
              " \" /*Regra para a animacao*/ @keyframes spin { 0% { transform: rotate(0deg); } 100% { transform: rotate(360deg); } } /*Mudando o tamanho do icone de resposta*/ div.glyphicon { color:#6B8E23; font-size: 38px; } /*Classe que mostra a animacao 'spin'*/ .loader { border: 16px solid #f3f3f3; border-radius: 50%; border-top: 16px solid #3498db; width: 80px; height: 80px; -webkit-animation: spin 2s linear infinite; animation: spin 2s linear infinite; } \",\n",
              " ' requisitar(\"https://alura-scraping.herokuapp.com/produtos?_page=\"+1+\"&_limit=10\") ',\n",
              " 'You need to enable JavaScript to run this app.',\n",
              " 'Aguarde... ',\n",
              " 'Motors ',\n",
              " 'Hello World',\n",
              " 'Anúncios',\n",
              " 'Veículos de Luxo Novos e Usados - Todas as Marcas',\n",
              " '246 veículos encontrados',\n",
              " 'Página 1 de 25',\n",
              " 'LAMBORGHINI AVENTADOR',\n",
              " 'USADO',\n",
              " 'Motor 1.8 16v',\n",
              " 'Ano 1993 - 55.286 km',\n",
              " '► 4 X 4',\n",
              " '► Câmera de estacionamento',\n",
              " '► Controle de tração',\n",
              " '► Sensor de estacionamento',\n",
              " '...',\n",
              " 'Belo Horizonte - MG',\n",
              " 'R$ 338.000',\n",
              " 'BMW M2',\n",
              " 'USADO',\n",
              " 'Motor 3.0 32v',\n",
              " 'Ano 2018 - 83.447 km',\n",
              " '► Câmera de estacionamento',\n",
              " '► Controle de estabilidade',\n",
              " '► Travas elétricas',\n",
              " '► Freios ABS',\n",
              " '...',\n",
              " 'Belo Horizonte - MG',\n",
              " 'R$ 346.000',\n",
              " 'ALFA',\n",
              " 'USADO',\n",
              " 'Motor 1.8 16v',\n",
              " 'Ano 2004 - 19.722 km',\n",
              " '► Central multimídia',\n",
              " '► Bancos de couro',\n",
              " '► Rodas de liga',\n",
              " '► Câmera de estacionamento',\n",
              " '...',\n",
              " 'Rio de Janeiro - RJ',\n",
              " 'R$ 480.000',\n",
              " 'PUECH',\n",
              " 'USADO',\n",
              " 'Motor Diesel V8',\n",
              " 'Ano 1992 - 34.335 km',\n",
              " '► Bancos de couro']"
            ]
          },
          "metadata": {},
          "execution_count": 69
        }
      ],
      "source": [
        "#return one list of all text in the page\n",
        "soup.findAll(text=True)[:50]"
      ]
    },
    {
      "cell_type": "markdown",
      "metadata": {
        "id": "1z_Ktm9Eq8Wo"
      },
      "source": [
        "# 4.2. Other research methods"
      ]
    },
    {
      "cell_type": "markdown",
      "metadata": {
        "id": "N_k_xN4eq8Wo"
      },
      "source": [
        "- ### *findParent(tag, attributes, text, **kwargs)*\n",
        "\n",
        "- ### *findParents(tag, attributes, text, limit, **kwargs)*\n",
        "\n",
        "#### https://www.crummy.com/software/BeautifulSoup/bs4/doc/#find-parents-and-find-parent\n",
        "\n",
        "> **Notes:**\n",
        "> - *findParent()* e *findParents()* também podem ser utilizados como *find_parent()* e *find_parents()*, respectivamente.\n",
        "---\n",
        "- ### *findNextSibling(tag, attributes, text, **kwargs)*\n",
        "\n",
        "- ### *findNextSiblings(tag, attributes, text, limit, **kwargs)*\n",
        "\n",
        "- ### *findPreviousSibling(tag, attributes, text, **kwargs)*\n",
        "\n",
        "- ### *findPreviousSiblings(tag, attributes, text, limit, **kwargs)*\n",
        "\n",
        "#### https://www.crummy.com/software/BeautifulSoup/bs4/doc/#find-next-siblings-and-find-next-sibling\n",
        "#### https://www.crummy.com/software/BeautifulSoup/bs4/doc/#find-previous-siblings-and-find-previous-sibling\n",
        "\n",
        "> **Notes:**\n",
        "> - *findNextSibling()*, *findNextSiblings()*, *findPreviousSibling()* and *findPreviousSiblings()* can also be used as *find_next_sibling()*, *find_next_siblings()*, *find_previous_sibling()* and *find_previous_siblings()*.\n",
        "---\n",
        "- ### *findNext(tag, attributes, text, **kwargs)*\n",
        "\n",
        "- ### *findAllNext(tag, attributes, text, limit, **kwargs)*\n",
        "\n",
        "- ### *findPrevious(tag, attributes, text, **kwargs)*\n",
        "\n",
        "- ### *findAllPrevious(tag, attributes, text, limit, **kwargs)*\n",
        "\n",
        "#### https://www.crummy.com/software/BeautifulSoup/bs4/doc/#find-all-next-and-find-next\n",
        "#### https://www.crummy.com/software/BeautifulSoup/bs4/doc/#find-all-previous-and-find-previous\n",
        "\n",
        "> **Notes:**\n",
        "> - *findNext()*, *findAllNext()*, *findPrevious* e *findAllPrevious* can also be used as *find_next()*, *find_all_next()*, *find_previous()* and *find_all_previous()*."
      ]
    },
    {
      "cell_type": "markdown",
      "metadata": {
        "id": "x9D97kiFq8Wp"
      },
      "source": [
        "## Sample HTML to illustrate the use of BeautifulSoup search methods"
      ]
    },
    {
      "cell_type": "markdown",
      "metadata": {
        "id": "vdwgmlpRq8Ws"
      },
      "source": [
        "<img src=\"https://caelum-online-public.s3.amazonaws.com/1381-scraping/01/BeautifulSoup-method.png\" width=80%>"
      ]
    },
    {
      "cell_type": "markdown",
      "metadata": {
        "id": "nARvWb-Jq8Wt"
      },
      "source": [
        "---\n",
        "## Result"
      ]
    },
    {
      "cell_type": "markdown",
      "metadata": {
        "id": "ACkx32C1q8Wt"
      },
      "source": [
        "<html>\n",
        "    <body>\n",
        "        <div id=“container-a”>\n",
        "            <h1>Título A</h1>\n",
        "            <h2 class=\"ref-a\">Sub título A</h2>\n",
        "            <p>Texto de conteúdo A</p>\n",
        "        </div>\n",
        "        <div id=“container-b”>\n",
        "            <h1>Título B</h1>\n",
        "            <h2 class=\"ref-b\">Sub título B</h2>\n",
        "            <p>Texto de conteúdo B</p>\n",
        "        </div>\n",
        "    </body>\n",
        "</html>"
      ]
    },
    {
      "cell_type": "code",
      "execution_count": 72,
      "metadata": {
        "id": "GxC6bRLUq8Wt"
      },
      "outputs": [],
      "source": [
        "test_html = \"\"\"\n",
        "<html>\n",
        "    <body>\n",
        "        <div id=“container-a”>\n",
        "            <h1>Título A</h1>\n",
        "            <h2 class=\"ref-a\">Sub título A</h2>\n",
        "            <p>Texto de conteúdo A</p>\n",
        "        </div>\n",
        "        <div id=“container-b”>\n",
        "            <h1>Título B</h1>\n",
        "            <h2 class=\"ref-b\">Sub título B</h2>\n",
        "            <p>Texto de conteúdo B</p>\n",
        "        </div>\n",
        "    </body>\n",
        "</html>\n",
        "\"\"\""
      ]
    },
    {
      "cell_type": "markdown",
      "metadata": {
        "id": "zQsOU63Qq8Wt"
      },
      "source": [
        "### HTML string treatments"
      ]
    },
    {
      "cell_type": "code",
      "execution_count": 74,
      "metadata": {
        "id": "HuQIg85Wq8Wt"
      },
      "outputs": [],
      "source": [
        ""
      ]
    },
    {
      "cell_type": "code",
      "execution_count": 15,
      "metadata": {
        "id": "juIpXiAZq8Wu"
      },
      "outputs": [],
      "source": [
        ""
      ]
    },
    {
      "cell_type": "markdown",
      "metadata": {
        "id": "Kp2n9nCIq8Wu"
      },
      "source": [
        "### Creating the BeautifulSoup object"
      ]
    },
    {
      "cell_type": "code",
      "execution_count": 75,
      "metadata": {
        "scrolled": true,
        "id": "JTf4LLStq8Wu",
        "outputId": "1ae08e79-dfec-4529-dc14-728cb29b228f",
        "colab": {
          "base_uri": "https://localhost:8080/"
        }
      },
      "outputs": [
        {
          "output_type": "execute_result",
          "data": {
            "text/plain": [
              "\n",
              "<html>\n",
              "<body>\n",
              "<div id=\"“container-a”\">\n",
              "<h1>Título A</h1>\n",
              "<h2 class=\"ref-a\">Sub título A</h2>\n",
              "<p>Texto de conteúdo A</p>\n",
              "</div>\n",
              "<div id=\"“container-b”\">\n",
              "<h1>Título B</h1>\n",
              "<h2 class=\"ref-b\">Sub título B</h2>\n",
              "<p>Texto de conteúdo B</p>\n",
              "</div>\n",
              "</body>\n",
              "</html>"
            ]
          },
          "metadata": {},
          "execution_count": 75
        }
      ],
      "source": [
        "soup = BeautifulSoup(test_html, 'html.parser')\n",
        "soup"
      ]
    },
    {
      "cell_type": "markdown",
      "metadata": {
        "id": "q-dg91pMq8Wu"
      },
      "source": [
        "### Parents"
      ]
    },
    {
      "cell_type": "code",
      "execution_count": 76,
      "metadata": {
        "id": "-_G69Qk1q8Wu",
        "outputId": "b4583454-43ac-416c-e38c-1d5fb6a7e8e0",
        "colab": {
          "base_uri": "https://localhost:8080/"
        }
      },
      "outputs": [
        {
          "output_type": "execute_result",
          "data": {
            "text/plain": [
              "<h2 class=\"ref-a\">Sub título A</h2>"
            ]
          },
          "metadata": {},
          "execution_count": 76
        }
      ],
      "source": [
        "soup.find('h2')"
      ]
    },
    {
      "cell_type": "code",
      "execution_count": 77,
      "metadata": {
        "id": "lytogfz0q8Wu",
        "outputId": "cfef59e8-85be-405f-8517-bc6143549113",
        "colab": {
          "base_uri": "https://localhost:8080/"
        }
      },
      "outputs": [
        {
          "output_type": "execute_result",
          "data": {
            "text/plain": [
              "<div id=\"“container-a”\">\n",
              "<h1>Título A</h1>\n",
              "<h2 class=\"ref-a\">Sub título A</h2>\n",
              "<p>Texto de conteúdo A</p>\n",
              "</div>"
            ]
          },
          "metadata": {},
          "execution_count": 77
        }
      ],
      "source": [
        "soup.find('h2').find_parent('div')"
      ]
    },
    {
      "cell_type": "code",
      "execution_count": 78,
      "metadata": {
        "id": "UW5lghxwq8Wu",
        "outputId": "54d3c25c-7161-4b59-f7fe-ffaf12a6b10c",
        "colab": {
          "base_uri": "https://localhost:8080/"
        }
      },
      "outputs": [
        {
          "output_type": "execute_result",
          "data": {
            "text/plain": [
              "[<div id=\"“container-a”\">\n",
              " <h1>Título A</h1>\n",
              " <h2 class=\"ref-a\">Sub título A</h2>\n",
              " <p>Texto de conteúdo A</p>\n",
              " </div>, <body>\n",
              " <div id=\"“container-a”\">\n",
              " <h1>Título A</h1>\n",
              " <h2 class=\"ref-a\">Sub título A</h2>\n",
              " <p>Texto de conteúdo A</p>\n",
              " </div>\n",
              " <div id=\"“container-b”\">\n",
              " <h1>Título B</h1>\n",
              " <h2 class=\"ref-b\">Sub título B</h2>\n",
              " <p>Texto de conteúdo B</p>\n",
              " </div>\n",
              " </body>, <html>\n",
              " <body>\n",
              " <div id=\"“container-a”\">\n",
              " <h1>Título A</h1>\n",
              " <h2 class=\"ref-a\">Sub título A</h2>\n",
              " <p>Texto de conteúdo A</p>\n",
              " </div>\n",
              " <div id=\"“container-b”\">\n",
              " <h1>Título B</h1>\n",
              " <h2 class=\"ref-b\">Sub título B</h2>\n",
              " <p>Texto de conteúdo B</p>\n",
              " </div>\n",
              " </body>\n",
              " </html>, \n",
              " <html>\n",
              " <body>\n",
              " <div id=\"“container-a”\">\n",
              " <h1>Título A</h1>\n",
              " <h2 class=\"ref-a\">Sub título A</h2>\n",
              " <p>Texto de conteúdo A</p>\n",
              " </div>\n",
              " <div id=\"“container-b”\">\n",
              " <h1>Título B</h1>\n",
              " <h2 class=\"ref-b\">Sub título B</h2>\n",
              " <p>Texto de conteúdo B</p>\n",
              " </div>\n",
              " </body>\n",
              " </html>]"
            ]
          },
          "metadata": {},
          "execution_count": 78
        }
      ],
      "source": [
        "soup.find('h2').find_parents()"
      ]
    },
    {
      "cell_type": "code",
      "execution_count": 79,
      "metadata": {
        "id": "RuuO9q8Oq8Wu",
        "outputId": "184fc3c6-20ba-4704-a830-1060f0fbd202",
        "colab": {
          "base_uri": "https://localhost:8080/"
        }
      },
      "outputs": [
        {
          "output_type": "execute_result",
          "data": {
            "text/plain": [
              "[<h2 class=\"ref-a\">Sub título A</h2>, <h2 class=\"ref-b\">Sub título B</h2>]"
            ]
          },
          "metadata": {},
          "execution_count": 79
        }
      ],
      "source": [
        "soup.findAll('h2')"
      ]
    },
    {
      "cell_type": "code",
      "execution_count": 81,
      "metadata": {
        "id": "cSWD1AJFq8Wv",
        "outputId": "d4204b75-0d9f-41de-8ddd-4552768c5f9c",
        "colab": {
          "base_uri": "https://localhost:8080/"
        }
      },
      "outputs": [
        {
          "output_type": "stream",
          "name": "stdout",
          "text": [
            "<div id=\"“container-a”\">\n",
            "<h1>Título A</h1>\n",
            "<h2 class=\"ref-a\">Sub título A</h2>\n",
            "<p>Texto de conteúdo A</p>\n",
            "</div>\n",
            "<div id=\"“container-b”\">\n",
            "<h1>Título B</h1>\n",
            "<h2 class=\"ref-b\">Sub título B</h2>\n",
            "<p>Texto de conteúdo B</p>\n",
            "</div>\n"
          ]
        }
      ],
      "source": [
        "for item in soup.findAll('h2'):\n",
        "  print(item.find_parent('div'))"
      ]
    },
    {
      "cell_type": "markdown",
      "metadata": {
        "id": "NxOjpObGq8Wv"
      },
      "source": [
        "## Siblings"
      ]
    },
    {
      "cell_type": "code",
      "execution_count": 82,
      "metadata": {
        "id": "9nE8FjS1q8Wv",
        "outputId": "a6731ea8-b0da-4d96-c9e4-efd984044d57",
        "colab": {
          "base_uri": "https://localhost:8080/"
        }
      },
      "outputs": [
        {
          "output_type": "execute_result",
          "data": {
            "text/plain": [
              "<p>Texto de conteúdo A</p>"
            ]
          },
          "metadata": {},
          "execution_count": 82
        }
      ],
      "source": [
        "soup.find('h2').findNextSibling()"
      ]
    },
    {
      "cell_type": "code",
      "execution_count": 83,
      "metadata": {
        "id": "Qkxqqufaq8Wv",
        "outputId": "f19d3cc3-732e-49b7-dd44-76d4f6ca8fa4",
        "colab": {
          "base_uri": "https://localhost:8080/"
        }
      },
      "outputs": [
        {
          "output_type": "execute_result",
          "data": {
            "text/plain": [
              "<h1>Título A</h1>"
            ]
          },
          "metadata": {},
          "execution_count": 83
        }
      ],
      "source": [
        "soup.find('h2').findPreviousSibling()"
      ]
    },
    {
      "cell_type": "code",
      "execution_count": 85,
      "metadata": {
        "id": "1R-uiT_6q8Wv",
        "outputId": "a7ae7154-bf95-4d89-8ce7-bcfb2fe5aca1",
        "colab": {
          "base_uri": "https://localhost:8080/"
        }
      },
      "outputs": [
        {
          "output_type": "execute_result",
          "data": {
            "text/plain": [
              "[<h2 class=\"ref-a\">Sub título A</h2>, <h1>Título A</h1>]"
            ]
          },
          "metadata": {},
          "execution_count": 85
        }
      ],
      "source": [
        "soup.find('p').findPreviousSiblings()"
      ]
    },
    {
      "cell_type": "markdown",
      "metadata": {
        "id": "jtvpVHapq8Wv"
      },
      "source": [
        "## Next and Previous"
      ]
    },
    {
      "cell_type": "code",
      "execution_count": 86,
      "metadata": {
        "id": "_iIXPpfpq8Wv",
        "outputId": "b5308a48-682a-4157-95b3-35ece1dd2f79",
        "colab": {
          "base_uri": "https://localhost:8080/"
        }
      },
      "outputs": [
        {
          "output_type": "execute_result",
          "data": {
            "text/plain": [
              "<p>Texto de conteúdo A</p>"
            ]
          },
          "metadata": {},
          "execution_count": 86
        }
      ],
      "source": [
        "soup.find('h2').findNext()"
      ]
    },
    {
      "cell_type": "code",
      "execution_count": 88,
      "metadata": {
        "id": "NChVyizXq8Wv",
        "outputId": "9474794d-a81d-4edd-be67-5473047effb3",
        "colab": {
          "base_uri": "https://localhost:8080/"
        }
      },
      "outputs": [
        {
          "output_type": "execute_result",
          "data": {
            "text/plain": [
              "<h1>Título A</h1>"
            ]
          },
          "metadata": {},
          "execution_count": 88
        }
      ],
      "source": [
        "soup.find('h2').findPrevious()"
      ]
    },
    {
      "cell_type": "code",
      "execution_count": 89,
      "metadata": {
        "id": "iTvjDcpgq8Wv",
        "outputId": "3fc8f3a4-5c23-4a01-900b-7295d0027ffc",
        "colab": {
          "base_uri": "https://localhost:8080/"
        }
      },
      "outputs": [
        {
          "output_type": "execute_result",
          "data": {
            "text/plain": [
              "[<p>Texto de conteúdo A</p>, <div id=\"“container-b”\">\n",
              " <h1>Título B</h1>\n",
              " <h2 class=\"ref-b\">Sub título B</h2>\n",
              " <p>Texto de conteúdo B</p>\n",
              " </div>, <h1>Título B</h1>, <h2 class=\"ref-b\">Sub título B</h2>, <p>Texto de conteúdo B</p>]"
            ]
          },
          "metadata": {},
          "execution_count": 89
        }
      ],
      "source": [
        "soup.find('h2').findAllNext()"
      ]
    },
    {
      "cell_type": "markdown",
      "metadata": {
        "id": "vir3WkBkq8Ww"
      },
      "source": [
        "# <font color=green>5. CAR SITE WEB SCRAPING - GETTING THE DATA OF AN ADVERTISING"
      ]
    },
    {
      "cell_type": "markdown",
      "metadata": {
        "id": "fJSu7PZ6q8Ww"
      },
      "source": [
        "# 5.1. Identifying and Selecting Data in HTML"
      ]
    },
    {
      "cell_type": "markdown",
      "metadata": {
        "id": "M5x-0IeRq8Ww"
      },
      "source": [
        "### Getting the HTML and creating the BeautifulSoup object"
      ]
    },
    {
      "cell_type": "code",
      "execution_count": 15,
      "metadata": {
        "id": "f2fVqt0Tq8Ww"
      },
      "outputs": [],
      "source": [
        ""
      ]
    },
    {
      "cell_type": "markdown",
      "metadata": {
        "id": "SlG7CunWq8Ww"
      },
      "source": [
        "### Creating variable to store information"
      ]
    },
    {
      "cell_type": "code",
      "execution_count": 15,
      "metadata": {
        "id": "NCGwdzncq8Ww"
      },
      "outputs": [],
      "source": [
        ""
      ]
    },
    {
      "cell_type": "markdown",
      "metadata": {
        "id": "-U2b7_ieq8Ww"
      },
      "source": [
        "### Getting the data of the first CARD"
      ]
    },
    {
      "cell_type": "code",
      "execution_count": 15,
      "metadata": {
        "scrolled": false,
        "id": "xjLeuMcAq8Wx"
      },
      "outputs": [],
      "source": [
        ""
      ]
    },
    {
      "cell_type": "markdown",
      "metadata": {
        "id": "Lu0fW4Z9q8Wx"
      },
      "source": [
        "# 5.2. Getting the VALUE of the advertised vehicle"
      ]
    },
    {
      "cell_type": "code",
      "execution_count": 15,
      "metadata": {
        "id": "m6z9jNrjq8Wx"
      },
      "outputs": [],
      "source": [
        ""
      ]
    },
    {
      "cell_type": "code",
      "execution_count": 15,
      "metadata": {
        "id": "CO6O6U1mq8Wx"
      },
      "outputs": [],
      "source": [
        ""
      ]
    },
    {
      "cell_type": "code",
      "execution_count": 15,
      "metadata": {
        "id": "z4UYHAKYq8Wx"
      },
      "outputs": [],
      "source": [
        ""
      ]
    },
    {
      "cell_type": "code",
      "execution_count": 15,
      "metadata": {
        "id": "r1T36Ks-q8Wx"
      },
      "outputs": [],
      "source": [
        ""
      ]
    },
    {
      "cell_type": "code",
      "execution_count": 15,
      "metadata": {
        "id": "oa8iwZmpq8Wx"
      },
      "outputs": [],
      "source": [
        ""
      ]
    },
    {
      "cell_type": "markdown",
      "metadata": {
        "id": "wi67IWwCq8Wx"
      },
      "source": [
        "### <font color=red>Summary"
      ]
    },
    {
      "cell_type": "code",
      "execution_count": 16,
      "metadata": {
        "id": "N43vACSwq8Wx"
      },
      "outputs": [],
      "source": [
        "# Valor\n"
      ]
    },
    {
      "cell_type": "markdown",
      "metadata": {
        "id": "2uCxGtcJq8Wy"
      },
      "source": [
        "# 5.3. Obtaining information about the advertised vehicle"
      ]
    },
    {
      "cell_type": "code",
      "execution_count": 16,
      "metadata": {
        "id": "aQv5tdYEq8Wy"
      },
      "outputs": [],
      "source": [
        ""
      ]
    },
    {
      "cell_type": "code",
      "execution_count": 16,
      "metadata": {
        "id": "8wYaGp5dq8Wy"
      },
      "outputs": [],
      "source": [
        ""
      ]
    },
    {
      "cell_type": "code",
      "execution_count": 16,
      "metadata": {
        "id": "cc5F3Blcq8Wy"
      },
      "outputs": [],
      "source": [
        ""
      ]
    },
    {
      "cell_type": "code",
      "execution_count": 16,
      "metadata": {
        "id": "vmjlccHzq8Wy"
      },
      "outputs": [],
      "source": [
        ""
      ]
    },
    {
      "cell_type": "code",
      "execution_count": 16,
      "metadata": {
        "id": "eOGmdadYq8Wy"
      },
      "outputs": [],
      "source": [
        ""
      ]
    },
    {
      "cell_type": "code",
      "execution_count": 16,
      "metadata": {
        "id": "lTd7cV3Nq8Wy"
      },
      "outputs": [],
      "source": [
        ""
      ]
    },
    {
      "cell_type": "code",
      "execution_count": 16,
      "metadata": {
        "id": "CjrNbR8kq8Wz"
      },
      "outputs": [],
      "source": [
        ""
      ]
    },
    {
      "cell_type": "code",
      "execution_count": 16,
      "metadata": {
        "id": "5RB8VXy0q8Wz"
      },
      "outputs": [],
      "source": [
        ""
      ]
    },
    {
      "cell_type": "markdown",
      "metadata": {
        "id": "F7w6HoB6q8Wz"
      },
      "source": [
        "### <font color=red>Summary"
      ]
    },
    {
      "cell_type": "code",
      "execution_count": 17,
      "metadata": {
        "id": "UP0j_qvQq8Wz"
      },
      "outputs": [],
      "source": [
        "# Informações\n"
      ]
    },
    {
      "cell_type": "markdown",
      "metadata": {
        "id": "0wY6krHbq8Wz"
      },
      "source": [
        "# 5.4. Getting the ACCESSORIES of the advertised vehicle"
      ]
    },
    {
      "cell_type": "code",
      "execution_count": 17,
      "metadata": {
        "id": "aymPTu8-q8Wz"
      },
      "outputs": [],
      "source": [
        ""
      ]
    },
    {
      "cell_type": "code",
      "execution_count": 17,
      "metadata": {
        "id": "d1ZtDn2cq8W0"
      },
      "outputs": [],
      "source": [
        ""
      ]
    },
    {
      "cell_type": "code",
      "execution_count": 17,
      "metadata": {
        "id": "BTAvuo0eq8W0"
      },
      "outputs": [],
      "source": [
        ""
      ]
    },
    {
      "cell_type": "code",
      "execution_count": 17,
      "metadata": {
        "id": "pOwgaNAbq8W0"
      },
      "outputs": [],
      "source": [
        ""
      ]
    },
    {
      "cell_type": "code",
      "execution_count": 17,
      "metadata": {
        "id": "jHBQDUqtq8W0"
      },
      "outputs": [],
      "source": [
        ""
      ]
    },
    {
      "cell_type": "code",
      "execution_count": 17,
      "metadata": {
        "id": "TgfXrIDVq8W0"
      },
      "outputs": [],
      "source": [
        ""
      ]
    },
    {
      "cell_type": "code",
      "execution_count": 17,
      "metadata": {
        "id": "66sxIeXcq8W0"
      },
      "outputs": [],
      "source": [
        ""
      ]
    },
    {
      "cell_type": "code",
      "execution_count": 17,
      "metadata": {
        "id": "OYWVT5kaq8W0"
      },
      "outputs": [],
      "source": [
        ""
      ]
    },
    {
      "cell_type": "markdown",
      "metadata": {
        "id": "OyD0G91aq8W0"
      },
      "source": [
        "### <font color=red>Summary"
      ]
    },
    {
      "cell_type": "code",
      "execution_count": 18,
      "metadata": {
        "id": "9KMuXPDMq8W0"
      },
      "outputs": [],
      "source": [
        "# Acessórios\n"
      ]
    },
    {
      "cell_type": "markdown",
      "metadata": {
        "id": "f1uVQupOq8W1"
      },
      "source": [
        "# 5.5 Creating a DataFrame with the data collected "
      ]
    },
    {
      "cell_type": "code",
      "execution_count": 18,
      "metadata": {
        "id": "YDPwdEdUq8W1"
      },
      "outputs": [],
      "source": [
        ""
      ]
    },
    {
      "cell_type": "code",
      "execution_count": 18,
      "metadata": {
        "id": "GTGs2DOLq8W1"
      },
      "outputs": [],
      "source": [
        ""
      ]
    },
    {
      "cell_type": "code",
      "execution_count": 18,
      "metadata": {
        "id": "zpIxab7Wq8W1"
      },
      "outputs": [],
      "source": [
        ""
      ]
    },
    {
      "cell_type": "code",
      "execution_count": 18,
      "metadata": {
        "id": "ITDujlHXq8W1"
      },
      "outputs": [],
      "source": [
        ""
      ]
    },
    {
      "cell_type": "code",
      "execution_count": 18,
      "metadata": {
        "id": "JW7oOYorq8W1"
      },
      "outputs": [],
      "source": [
        ""
      ]
    },
    {
      "cell_type": "code",
      "execution_count": 18,
      "metadata": {
        "id": "Z7ypEvReq8W2"
      },
      "outputs": [],
      "source": [
        ""
      ]
    },
    {
      "cell_type": "code",
      "execution_count": 18,
      "metadata": {
        "id": "aKQvKshmq8W2"
      },
      "outputs": [],
      "source": [
        ""
      ]
    },
    {
      "cell_type": "code",
      "execution_count": 18,
      "metadata": {
        "id": "AQE7dAHLq8W2"
      },
      "outputs": [],
      "source": [
        ""
      ]
    },
    {
      "cell_type": "markdown",
      "metadata": {
        "id": "GhsJ8lofq8W2"
      },
      "source": [
        "# 5.6. Getting the ad PHOTO"
      ]
    },
    {
      "cell_type": "code",
      "execution_count": 18,
      "metadata": {
        "id": "_BQ9wUumq8W3"
      },
      "outputs": [],
      "source": [
        ""
      ]
    },
    {
      "cell_type": "code",
      "execution_count": 18,
      "metadata": {
        "id": "2fKUBZo2q8W3"
      },
      "outputs": [],
      "source": [
        ""
      ]
    },
    {
      "cell_type": "code",
      "execution_count": 18,
      "metadata": {
        "id": "EZ4QuAzmq8W3"
      },
      "outputs": [],
      "source": [
        ""
      ]
    },
    {
      "cell_type": "markdown",
      "metadata": {
        "id": "QAiErXTFq8W4"
      },
      "source": [
        "### Viewing the PHOTO on the notebook (extra)"
      ]
    },
    {
      "cell_type": "code",
      "execution_count": 18,
      "metadata": {
        "id": "p7VTUaerq8W4"
      },
      "outputs": [],
      "source": [
        ""
      ]
    },
    {
      "cell_type": "code",
      "execution_count": 18,
      "metadata": {
        "id": "SOm6ESqLq8W4"
      },
      "outputs": [],
      "source": [
        ""
      ]
    },
    {
      "cell_type": "markdown",
      "metadata": {
        "id": "3hSu-krGq8W4"
      },
      "source": [
        "### Routine to access and save the ad PHOTO"
      ]
    },
    {
      "cell_type": "markdown",
      "metadata": {
        "id": "ggU6KlbSq8W4"
      },
      "source": [
        "## https://docs.python.org/3/library/urllib.request.html#urllib.request.urlretrieve"
      ]
    },
    {
      "cell_type": "code",
      "execution_count": 18,
      "metadata": {
        "id": "jImjIP2Kq8W4"
      },
      "outputs": [],
      "source": [
        ""
      ]
    },
    {
      "cell_type": "code",
      "execution_count": 18,
      "metadata": {
        "id": "C03SCxMVq8W5"
      },
      "outputs": [],
      "source": [
        ""
      ]
    },
    {
      "cell_type": "markdown",
      "metadata": {
        "id": "Idf9JbvMq8W5"
      },
      "source": [
        "### <font color=red>Summary"
      ]
    },
    {
      "cell_type": "code",
      "execution_count": 18,
      "metadata": {
        "id": "etai6uRjq8W5"
      },
      "outputs": [],
      "source": [
        ""
      ]
    },
    {
      "cell_type": "markdown",
      "metadata": {
        "id": "8AYQylCpq8W5"
      },
      "source": [
        "# <font color=green>6. WEBSITE WEB SCRAPING - GETTING THE DATA OF ALL ADS FROM A PAGE"
      ]
    },
    {
      "cell_type": "markdown",
      "metadata": {
        "id": "y4Ie7WVLq8W6"
      },
      "source": [
        "# 6.1. Identifying information in HTML"
      ]
    },
    {
      "cell_type": "code",
      "execution_count": 18,
      "metadata": {
        "scrolled": true,
        "id": "YyLzjZUPq8W6"
      },
      "outputs": [],
      "source": [
        ""
      ]
    },
    {
      "cell_type": "code",
      "execution_count": 18,
      "metadata": {
        "scrolled": true,
        "id": "mWsO25gmq8W6"
      },
      "outputs": [],
      "source": [
        ""
      ]
    },
    {
      "cell_type": "code",
      "execution_count": 18,
      "metadata": {
        "scrolled": true,
        "id": "OBSuZfL2q8W6"
      },
      "outputs": [],
      "source": [
        ""
      ]
    },
    {
      "cell_type": "markdown",
      "metadata": {
        "id": "5RKbsU1fq8W6"
      },
      "source": [
        "# 6.2. Creating a scraping routine"
      ]
    },
    {
      "cell_type": "code",
      "execution_count": 18,
      "metadata": {
        "id": "zhy-xDmCq8W6"
      },
      "outputs": [],
      "source": [
        ""
      ]
    },
    {
      "cell_type": "code",
      "execution_count": 18,
      "metadata": {
        "id": "o5jU3by9q8W7"
      },
      "outputs": [],
      "source": [
        ""
      ]
    },
    {
      "cell_type": "markdown",
      "metadata": {
        "id": "hNafcK3Sq8W7"
      },
      "source": [
        "# <font color=green>7. WEB SCRAPING THE SITE - GETTING THE DATA OF ALL ADVERTISING ON THE SITE"
      ]
    },
    {
      "cell_type": "markdown",
      "metadata": {
        "id": "HpaGI1lDq8W7"
      },
      "source": [
        "# 7.1. Identifying information in HTML"
      ]
    },
    {
      "cell_type": "code",
      "execution_count": 18,
      "metadata": {
        "id": "lpN3hToVq8W7"
      },
      "outputs": [],
      "source": [
        ""
      ]
    },
    {
      "cell_type": "code",
      "execution_count": 18,
      "metadata": {
        "scrolled": true,
        "id": "46FB7Dgrq8W7"
      },
      "outputs": [],
      "source": [
        ""
      ]
    },
    {
      "cell_type": "code",
      "execution_count": 18,
      "metadata": {
        "id": "M-626GWYq8W7"
      },
      "outputs": [],
      "source": [
        ""
      ]
    },
    {
      "cell_type": "code",
      "execution_count": 18,
      "metadata": {
        "id": "w4yQWMS1q8W7"
      },
      "outputs": [],
      "source": [
        ""
      ]
    },
    {
      "cell_type": "code",
      "execution_count": 18,
      "metadata": {
        "id": "fy9Llt-Qq8W8"
      },
      "outputs": [],
      "source": [
        ""
      ]
    },
    {
      "cell_type": "markdown",
      "metadata": {
        "id": "ILm9OPUwq8W8"
      },
      "source": [
        "# 7.2. Creating a scraping routine"
      ]
    },
    {
      "cell_type": "code",
      "execution_count": 18,
      "metadata": {
        "scrolled": true,
        "id": "EbP7Lfwdq8W8"
      },
      "outputs": [],
      "source": [
        ""
      ]
    },
    {
      "cell_type": "code",
      "execution_count": 18,
      "metadata": {
        "id": "QAq6he0Mq8W8"
      },
      "outputs": [],
      "source": [
        ""
      ]
    },
    {
      "cell_type": "code",
      "execution_count": 18,
      "metadata": {
        "id": "Khx2pKyYq8W8"
      },
      "outputs": [],
      "source": [
        ""
      ]
    },
    {
      "cell_type": "code",
      "execution_count": 18,
      "metadata": {
        "id": "090qT5y8q8W8"
      },
      "outputs": [],
      "source": [
        ""
      ]
    },
    {
      "cell_type": "code",
      "execution_count": 18,
      "metadata": {
        "id": "vesyVJyfq8W8"
      },
      "outputs": [],
      "source": [
        ""
      ]
    },
    {
      "cell_type": "code",
      "execution_count": 18,
      "metadata": {
        "id": "qv4ilhR2q8W8"
      },
      "outputs": [],
      "source": [
        ""
      ]
    }
  ],
  "metadata": {
    "colab": {
      "name": "download_info_about_cars_basic.ipynb",
      "provenance": [],
      "include_colab_link": true
    },
    "kernelspec": {
      "display_name": "Python 3 (ipykernel)",
      "language": "python",
      "name": "python3"
    },
    "language_info": {
      "codemirror_mode": {
        "name": "ipython",
        "version": 3
      },
      "file_extension": ".py",
      "mimetype": "text/x-python",
      "name": "python",
      "nbconvert_exporter": "python",
      "pygments_lexer": "ipython3",
      "version": "3.9.7"
    }
  },
  "nbformat": 4,
  "nbformat_minor": 0
}